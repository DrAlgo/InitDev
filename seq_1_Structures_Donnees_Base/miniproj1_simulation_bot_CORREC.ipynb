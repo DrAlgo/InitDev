{
 "cells": [
  {
   "cell_type": "markdown",
   "metadata": {
    "id": "mkTW5ovR7aJN"
   },
   "source": [
    "#simulation d'un bot et analyse statistique"
   ]
  },
  {
   "cell_type": "markdown",
   "metadata": {
    "id": "wS6hmbTv7nSA"
   },
   "source": [
    "On considère un batiment constitué de 6 pièces agencées sous la forme  \n",
    "A B C  \n",
    "D E F  \n",
    "Il peut d'agir d'un bâtiment réel ou virtuel (par ex dans un jeu vidéo).  \n",
    "Un bot représentant un personnage non joueur mène la garde dans le bâtiment.  \n",
    "Au temps 0, il se trouve en A.\n",
    "A chaque nouveau pas de temps, le bot se déplace au hasard dans une pièce adjacente, avec la même probabilité pour chacune des directions possibles. Le bot ne se déplace pas en diagonale.\n",
    "Lorsque le bot revient *pour la troisième fois* dans la pièce F, alors son mouvement cesse et il reste\n",
    "définitivement en F."
   ]
  },
  {
   "cell_type": "markdown",
   "metadata": {
    "id": "m0zc5-lz85vn"
   },
   "source": [
    "On souhaiterait répondre aux questions suivantes :  \n",
    "1) Quel est le temps moyen que prend le processus pour que le bot termine son mouvement ?  \n",
    "2) Quand le mouvement du bot est terminé, combien de fois le bot est-il passé en D en moyenne ? (un joueur se cache en D alors cette quantité est importante)"
   ]
  },
  {
   "cell_type": "markdown",
   "metadata": {
    "id": "WcR9WdSQ9wQ9"
   },
   "source": [
    "## version hyper basique sans fonctions sans dict sans rien"
   ]
  },
  {
   "cell_type": "code",
   "execution_count": 1,
   "metadata": {
    "id": "RUDenHvJfnef"
   },
   "outputs": [],
   "source": [
    "import random"
   ]
  },
  {
   "cell_type": "code",
   "execution_count": 2,
   "metadata": {
    "colab": {
     "base_uri": "https://localhost:8080/"
    },
    "id": "ZDwPkzRj800S",
    "outputId": "57c6aaf4-28ad-4794-d090-0976923b0924"
   },
   "outputs": [
    {
     "name": "stdout",
     "output_type": "stream",
     "text": [
      "A D A D A D A D E D A B E F C F E B C B A D E B E D E B A B E F "
     ]
    }
   ],
   "source": [
    "\n",
    "t = 0\n",
    "en_cours = True\n",
    "nb_visites_F = 0\n",
    "position = 'A'\n",
    "while(en_cours):\n",
    "    print(position, end = ' ')\n",
    "    if position=='A':\n",
    "        r = random.randint(1,2)\n",
    "        if r==1:\n",
    "            position = 'B'\n",
    "        else:\n",
    "            position = 'D'\n",
    "    elif position=='B':\n",
    "        r = random.randint(1,3)\n",
    "        if r==1:\n",
    "            position = 'A'\n",
    "        elif r==2:\n",
    "            position = 'E'\n",
    "        else:\n",
    "            position = 'C'\n",
    "    elif position=='C':\n",
    "        r = random.randint(1,2)\n",
    "        if r==1:\n",
    "            position = 'B'\n",
    "        else:\n",
    "            position = 'F'\n",
    "    elif position=='D':\n",
    "        r = random.randint(1,2)\n",
    "        if r==1:\n",
    "            position = 'A'\n",
    "        else:\n",
    "            position = 'E'\n",
    "    elif position=='E':\n",
    "        r = random.randint(1,3)\n",
    "        if r==1:\n",
    "            position = 'D'\n",
    "        elif r==2:\n",
    "            position = 'B'\n",
    "        else:\n",
    "            position = 'F'\n",
    "    elif position=='F':\n",
    "        nb_visites_F += 1\n",
    "        if nb_visites_F < 3:\n",
    "            r = random.randint(1,2)\n",
    "            if r==1:\n",
    "                position = 'E'\n",
    "            else:\n",
    "                position = 'C'\n",
    "        else:\n",
    "            en_cours = False\n"
   ]
  },
  {
   "cell_type": "markdown",
   "metadata": {
    "id": "ifl6kOyOUR30"
   },
   "source": [
    "Le code précédent fait juste une simulation. Pour répondre aux deux questions précédentes on peut le répéter et collecter des infos statistiques."
   ]
  },
  {
   "cell_type": "code",
   "execution_count": 4,
   "metadata": {
    "colab": {
     "base_uri": "https://localhost:8080/"
    },
    "id": "1Fr_PKto7XPp",
    "outputId": "f1b44f45-ff2c-4a7b-9117-93526fbd6d67"
   },
   "outputs": [
    {
     "name": "stdout",
     "output_type": "stream",
     "text": [
      "duree moyenne d'un épisode : 24.18\n",
      "nb moyen de passages en D : 4.13\n"
     ]
    }
   ],
   "source": [
    "nb_repet = 100\n",
    "somme_durees_totale = 0\n",
    "somme_passages_en_D = 0\n",
    "for i in range(nb_repet):\n",
    "    t = 0\n",
    "    en_cours = True\n",
    "    nb_visites_F = 0\n",
    "    position = 'A'\n",
    "\n",
    "    duree_totale = 0\n",
    "    passages_en_D = 0\n",
    "    while(en_cours):\n",
    "        duree_totale += 1\n",
    "        if position=='A':\n",
    "            r = random.randint(1,2)\n",
    "            if r==1:\n",
    "                position = 'B'\n",
    "            else:\n",
    "                position = 'D'\n",
    "        elif position=='B':\n",
    "            r = random.randint(1,3)\n",
    "            if r==1:\n",
    "                position = 'A'\n",
    "            elif r==2:\n",
    "                position = 'E'\n",
    "            else:\n",
    "                position = 'C'\n",
    "        elif position=='C':\n",
    "            r = random.randint(1,2)\n",
    "            if r==1:\n",
    "                position = 'B'\n",
    "            else:\n",
    "                position = 'F'\n",
    "        elif position=='D':\n",
    "            passages_en_D += 1\n",
    "            r = random.randint(1,2)\n",
    "            if r==1:\n",
    "                position = 'A'\n",
    "            else:\n",
    "                position = 'E'\n",
    "        elif position=='E':\n",
    "            r = random.randint(1,3)\n",
    "            if r==1:\n",
    "                position = 'D'\n",
    "            elif r==2:\n",
    "                position = 'B'\n",
    "            else:\n",
    "                position = 'F'\n",
    "        elif position=='F':\n",
    "            nb_visites_F += 1\n",
    "            if nb_visites_F < 3:\n",
    "                r = random.randint(1,2)\n",
    "                if r==1:\n",
    "                    position = 'E'\n",
    "                else:\n",
    "                    position = 'C'\n",
    "            else:\n",
    "                en_cours = False\n",
    "    somme_durees_totale += duree_totale\n",
    "    somme_passages_en_D += passages_en_D\n",
    "print(\"duree moyenne d'un épisode :\", somme_durees_totale/nb_repet)\n",
    "print(\"nb moyen de passages en D :\", somme_passages_en_D/nb_repet)"
   ]
  },
  {
   "cell_type": "markdown",
   "metadata": {
    "id": "VUlEK9hWWI73"
   },
   "source": [
    "## Version plus avancee avec des dictionnaires pour les voisins et des fonctions"
   ]
  },
  {
   "cell_type": "code",
   "execution_count": 5,
   "metadata": {
    "id": "xkKpIRDOWIBu"
   },
   "outputs": [],
   "source": [
    "voisins = {'A' : ['B', 'D'], \n",
    "           'B' : ['A', 'E', 'C'], \n",
    "           'C': ['B','F'], \n",
    "           'D' : ['A', 'E'], \n",
    "           'E' : ['D', 'B', 'F'], \n",
    "           'F': ['E','C'],}"
   ]
  },
  {
   "cell_type": "code",
   "execution_count": 6,
   "metadata": {
    "id": "jHbpoHj8VArg"
   },
   "outputs": [],
   "source": [
    "def transition(piece):\n",
    "    r = random.randint(0,len(voisins[piece])-1)\n",
    "    return voisins[piece][r]"
   ]
  },
  {
   "cell_type": "code",
   "execution_count": 7,
   "metadata": {
    "id": "O_RMS73bXdzM"
   },
   "outputs": [],
   "source": [
    "def episode():\n",
    "    en_cours = True\n",
    "    position = 'A'\n",
    "    historique = ['A']\n",
    "    nb_visites_F = 0\n",
    "    while en_cours:\n",
    "        position = transition(position)\n",
    "        historique.append(position)\n",
    "        if position=='F':\n",
    "            nb_visites_F += 1\n",
    "            if nb_visites_F==3:\n",
    "                en_cours = False\n",
    "    return historique"
   ]
  },
  {
   "cell_type": "code",
   "execution_count": 8,
   "metadata": {
    "id": "v4Yhhoo7ftkn"
   },
   "outputs": [],
   "source": [
    "def moyenne(l):\n",
    "    return sum(l) / len(l)"
   ]
  },
  {
   "cell_type": "code",
   "execution_count": 9,
   "metadata": {
    "id": "E8usKiR8YOBS"
   },
   "outputs": [],
   "source": [
    "nb_repet = 1000\n",
    "simulations = [episode() for i in range(nb_repet)]"
   ]
  },
  {
   "cell_type": "code",
   "execution_count": 7,
   "metadata": {
    "id": "WJD2Jj9FfMDC"
   },
   "outputs": [],
   "source": [
    "duree_moyenne = moyenne([len(e) for e in simulations])\n",
    "nb_moyen_passage_D = moyenne([e.count('D') for e in simulations])"
   ]
  },
  {
   "cell_type": "code",
   "execution_count": 8,
   "metadata": {
    "colab": {
     "base_uri": "https://localhost:8080/"
    },
    "id": "d9clyWcbf_-b",
    "outputId": "6529782a-24b0-4278-928b-c4dfbab3c857"
   },
   "outputs": [
    {
     "name": "stdout",
     "output_type": "stream",
     "text": [
      "24.306 3.896\n"
     ]
    }
   ],
   "source": [
    "print(duree_moyenne, nb_moyen_passage_D)"
   ]
  },
  {
   "cell_type": "code",
   "execution_count": null,
   "metadata": {
    "id": "nEsc1OOpgGvV"
   },
   "outputs": [],
   "source": []
  }
 ],
 "metadata": {
  "colab": {
   "collapsed_sections": [],
   "name": "simul_bot.ipynb",
   "provenance": []
  },
  "kernelspec": {
   "display_name": "Python 3",
   "language": "python",
   "name": "python3"
  },
  "language_info": {
   "codemirror_mode": {
    "name": "ipython",
    "version": 3
   },
   "file_extension": ".py",
   "mimetype": "text/x-python",
   "name": "python",
   "nbconvert_exporter": "python",
   "pygments_lexer": "ipython3",
   "version": "3.8.10"
  }
 },
 "nbformat": 4,
 "nbformat_minor": 1
}
