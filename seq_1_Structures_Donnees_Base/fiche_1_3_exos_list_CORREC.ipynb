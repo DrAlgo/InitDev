{
 "cells": [
  {
   "cell_type": "markdown",
   "metadata": {},
   "source": [
    "# Boucles, Indices, Valeurs : exercices complémentaires"
   ]
  },
  {
   "cell_type": "markdown",
   "metadata": {},
   "source": [
    "## ex 1"
   ]
  },
  {
   "cell_type": "markdown",
   "metadata": {},
   "source": [
    "Créer une liste l1 qui contient les cubes des entiers pairs de 2 à 50 compris (avec une boucle `for` et `range`, par exemple)."
   ]
  },
  {
   "cell_type": "code",
   "execution_count": 3,
   "metadata": {},
   "outputs": [
    {
     "name": "stdout",
     "output_type": "stream",
     "text": [
      "[8, 64, 216, 512, 1000, 1728, 2744, 4096, 5832, 8000, 10648, 13824, 17576, 21952, 27000, 32768, 39304, 46656, 54872, 64000, 74088, 85184, 97336, 110592, 125000]\n",
      "[8, 64, 216, 512, 1000, 1728, 2744, 4096, 5832, 8000, 10648, 13824, 17576, 21952, 27000, 32768, 39304, 46656, 54872, 64000, 74088, 85184, 97336, 110592, 125000]\n"
     ]
    }
   ],
   "source": [
    "# réponse [8,64,216,...,125000]\n",
    "l1 = []\n",
    "for v in range(2,51):\n",
    "    if v%2==0:\n",
    "        l1.append(v**3)\n",
    "print(l1)\n",
    "\n",
    "# version compréhension\n",
    "l1 = [v**3 for v in range(2,51) if v%2==0]\n",
    "print(l1)"
   ]
  },
  {
   "cell_type": "markdown",
   "metadata": {},
   "source": [
    "Augmentez chaque valeur de la liste de 1."
   ]
  },
  {
   "cell_type": "code",
   "execution_count": 4,
   "metadata": {},
   "outputs": [
    {
     "name": "stdout",
     "output_type": "stream",
     "text": [
      "[9, 65, 217, 513, 1001, 1729, 2745, 4097, 5833, 8001, 10649, 13825, 17577, 21953, 27001, 32769, 39305, 46657, 54873, 64001, 74089, 85185, 97337, 110593, 125001]\n"
     ]
    }
   ],
   "source": [
    "#réponse  [9, 65, 217, ..., 125001]\n",
    "for i in range(len(l1)):\n",
    "    l1[i] += 1\n",
    "print(l1)"
   ]
  },
  {
   "cell_type": "markdown",
   "metadata": {},
   "source": [
    "Maintenant, remplacez les multiples de 3, dans cette liste, par des 0."
   ]
  },
  {
   "cell_type": "code",
   "execution_count": 5,
   "metadata": {},
   "outputs": [
    {
     "name": "stdout",
     "output_type": "stream",
     "text": [
      "[0, 65, 217, 0, 1001, 1729, 0, 4097, 5833, 0, 10649, 13825, 0, 21953, 27001, 0, 39305, 46657, 0, 64001, 74089, 0, 97337, 110593, 0]\n"
     ]
    }
   ],
   "source": [
    "# réponse [0, 65, 217, 0, 1001, ..., 110593, 0]\n",
    "for i in range(len(l1)):\n",
    "    if l1[i]%3==0:\n",
    "        l1[i]=0\n",
    "print(l1)"
   ]
  },
  {
   "cell_type": "markdown",
   "metadata": {},
   "source": [
    "## ex 2"
   ]
  },
  {
   "cell_type": "markdown",
   "metadata": {},
   "source": [
    "Créez une nouvelle liste `l2`qui contient les entiers 0,1,2,..,9,0,1,...,9, ...,0,1,...9 (10 fois de suites, longueur 100 en tout)."
   ]
  },
  {
   "cell_type": "code",
   "execution_count": 17,
   "metadata": {},
   "outputs": [
    {
     "name": "stdout",
     "output_type": "stream",
     "text": [
      "[0, 1, 2, 3, 4, 5, 6, 7, 8, 9, 0, 1, 2, 3, 4, 5, 6, 7, 8, 9, 0, 1, 2, 3, 4, 5, 6, 7, 8, 9, 0, 1, 2, 3, 4, 5, 6, 7, 8, 9, 0, 1, 2, 3, 4, 5, 6, 7, 8, 9, 0, 1, 2, 3, 4, 5, 6, 7, 8, 9, 0, 1, 2, 3, 4, 5, 6, 7, 8, 9, 0, 1, 2, 3, 4, 5, 6, 7, 8, 9, 0, 1, 2, 3, 4, 5, 6, 7, 8, 9, 0, 1, 2, 3, 4, 5, 6, 7, 8, 9]\n"
     ]
    }
   ],
   "source": [
    "l2 = []\n",
    "for i in range(10):\n",
    "    l2.extend(list(range(10)))\n",
    "print(l2)"
   ]
  },
  {
   "cell_type": "markdown",
   "metadata": {},
   "source": [
    "Augmentez chaque entrée de l2 du nombre de fois qu'elle est déjà apparue avant (ainsi, le premier 2 va rester 2, le deuxième 2 va passer à 3, ..., le dernier 2 va passer à 2+9=11). Faites au plus efficace."
   ]
  },
  {
   "cell_type": "code",
   "execution_count": 18,
   "metadata": {},
   "outputs": [
    {
     "name": "stdout",
     "output_type": "stream",
     "text": [
      "[0, 1, 2, 3, 4, 5, 6, 7, 8, 9, 1, 2, 3, 4, 5, 6, 7, 8, 9, 10, 2, 3, 4, 5, 6, 7, 8, 9, 10, 11, 3, 4, 5, 6, 7, 8, 9, 10, 11, 12, 4, 5, 6, 7, 8, 9, 10, 11, 12, 13, 5, 6, 7, 8, 9, 10, 11, 12, 13, 14, 6, 7, 8, 9, 10, 11, 12, 13, 14, 15, 7, 8, 9, 10, 11, 12, 13, 14, 15, 16, 8, 9, 10, 11, 12, 13, 14, 15, 16, 17, 9, 10, 11, 12, 13, 14, 15, 16, 17, 18]\n"
     ]
    }
   ],
   "source": [
    "apparitions = [0 for i in range(10)] # 0 apparitions pour tous les chiffres\n",
    "\n",
    "for i in range(len(l2)):\n",
    "    mem = l2[i]\n",
    "    l2[i] += apparitions[l2[i]]\n",
    "    apparitions[mem] += 1\n",
    "\n",
    "print(l2)\n",
    "# réponse [0, 1, 2, 3, 4, 5, 6, 7, 8, 9, 1, 2, ..., 17, 18]"
   ]
  },
  {
   "cell_type": "markdown",
   "metadata": {},
   "source": [
    "Maintenant, additionnez à chaque entrée sa valeur précédente (sauf le premier 0 qui reste 0)."
   ]
  },
  {
   "cell_type": "code",
   "execution_count": 19,
   "metadata": {},
   "outputs": [
    {
     "name": "stdout",
     "output_type": "stream",
     "text": [
      "[0, 1, 3, 6, 10, 15, 21, 28, 36, 45, 46, 48, 51, 55, 60, 66, 73, 81, 90, 100, 102, 105, 109, 114, 120, 127, 135, 144, 154, 165, 168, 172, 177, 183, 190, 198, 207, 217, 228, 240, 244, 249, 255, 262, 270, 279, 289, 300, 312, 325, 330, 336, 343, 351, 360, 370, 381, 393, 406, 420, 426, 433, 441, 450, 460, 471, 483, 496, 510, 525, 532, 540, 549, 559, 570, 582, 595, 609, 624, 640, 648, 657, 667, 678, 690, 703, 717, 732, 748, 765, 774, 784, 795, 807, 820, 834, 849, 865, 882, 900]\n"
     ]
    }
   ],
   "source": [
    "for i in range(1,len(l2)):\n",
    "    l2[i] += l2[i-1]\n",
    "print(l2)\n",
    "# reponse [0, 1, 3, 6, 10, ..., 865, 882, 900]"
   ]
  },
  {
   "cell_type": "markdown",
   "metadata": {},
   "source": [
    "## ex 3"
   ]
  },
  {
   "cell_type": "markdown",
   "metadata": {},
   "source": [
    "Construisez une liste l3 qui ne contient que les valeurs paires de l2."
   ]
  },
  {
   "cell_type": "code",
   "execution_count": 22,
   "metadata": {},
   "outputs": [
    {
     "name": "stdout",
     "output_type": "stream",
     "text": [
      "[0, 6, 10, 28, 36, 46, 48, 60, 66, 90, 100, 102, 114, 120, 144, 154, 168, 172, 190, 198, 228, 240, 244, 262, 270, 300, 312, 330, 336, 360, 370, 406, 420, 426, 450, 460, 496, 510, 532, 540, 570, 582, 624, 640, 648, 678, 690, 732, 748, 774, 784, 820, 834, 882, 900]\n",
      "[0, 6, 10, 28, 36, 46, 48, 60, 66, 90, 100, 102, 114, 120, 144, 154, 168, 172, 190, 198, 228, 240, 244, 262, 270, 300, 312, 330, 336, 360, 370, 406, 420, 426, 450, 460, 496, 510, 532, 540, 570, 582, 624, 640, 648, 678, 690, 732, 748, 774, 784, 820, 834, 882, 900]\n"
     ]
    }
   ],
   "source": [
    "l3 = []\n",
    "for v in l2:\n",
    "    if v%2==0:\n",
    "        l3.append(v)\n",
    "print(l3)\n",
    "\n",
    "#version compréhension\n",
    "l3 = [v for v in l2 if v%2==0]\n",
    "print(l3)\n",
    "# reponse [0, 6, 10, 28, 36, 46,...,900]"
   ]
  },
  {
   "cell_type": "markdown",
   "metadata": {},
   "source": [
    "Construisez une liste l4 qui contient les valeurs de l3 jusqu'au premier multiple non nul de 27, inclus."
   ]
  },
  {
   "cell_type": "code",
   "execution_count": 23,
   "metadata": {},
   "outputs": [
    {
     "name": "stdout",
     "output_type": "stream",
     "text": [
      "[0, 6, 10, 28, 36, 46, 48, 60, 66, 90, 100, 102, 114, 120, 144, 154, 168, 172, 190, 198, 228, 240, 244, 262, 270]\n"
     ]
    }
   ],
   "source": [
    "l4 = []\n",
    "for v in l3:\n",
    "    l4.append(v)\n",
    "    if v!=0 and v%27==0:\n",
    "        break\n",
    "print(l4)\n",
    "# reponse [0, 6, 10, 28, ..., 262, 270]"
   ]
  },
  {
   "cell_type": "markdown",
   "metadata": {},
   "source": [
    "## ex 4"
   ]
  },
  {
   "cell_type": "code",
   "execution_count": 28,
   "metadata": {},
   "outputs": [],
   "source": [
    "#en principe on a\n",
    "l4 = [0, 6, 10, 28, 36, 46, 48, 60, 66, 90, 100, 102, 114, 120, \n",
    "      144, 154, 168, 172, 190, 198, 228, 240, 244, 262, 270]"
   ]
  },
  {
   "cell_type": "markdown",
   "metadata": {},
   "source": [
    "Reprendre la liste l4 et décalez ses éléments circulairement en avant : le 6 écrase le 0, le 10 écrase le 6, etc, jusqu'au 270 qui écrase 262 et finalement remplacez 270 par 0."
   ]
  },
  {
   "cell_type": "code",
   "execution_count": 29,
   "metadata": {},
   "outputs": [
    {
     "name": "stdout",
     "output_type": "stream",
     "text": [
      "[6, 10, 28, 36, 46, 48, 60, 66, 90, 100, 102, 114, 120, 144, 154, 168, 172, 190, 198, 228, 240, 244, 262, 270, 0]\n"
     ]
    }
   ],
   "source": [
    "mem = l4[0]\n",
    "for i in range(len(l4)-1):\n",
    "    l4[i] = l4[i+1]\n",
    "l4[len(l4)-1] = mem\n",
    "print(l4)\n",
    "# reponse [6, 10, 28, 36, ..., 270, 0]"
   ]
  },
  {
   "cell_type": "markdown",
   "metadata": {},
   "source": [
    "Reprenez cette nouvelle liste et décalez la maintenant circulairement dans l'autre sens. On devrait retrouver la version précédente de l4."
   ]
  },
  {
   "cell_type": "code",
   "execution_count": 30,
   "metadata": {},
   "outputs": [
    {
     "name": "stdout",
     "output_type": "stream",
     "text": [
      "[0, 6, 10, 28, 36, 46, 48, 60, 66, 90, 100, 102, 114, 120, 144, 154, 168, 172, 190, 198, 228, 240, 244, 262, 270]\n"
     ]
    }
   ],
   "source": [
    "mem = l4[len(l4)-1]\n",
    "for i in range(len(l4)-1,0,-1):\n",
    "    l4[i] = l4[i-1]\n",
    "l4[0] = mem\n",
    "print(l4)\n",
    "# reponse [6, 10, 28, 36, ..., 270, 0]"
   ]
  },
  {
   "cell_type": "markdown",
   "metadata": {},
   "source": [
    "# ex 5"
   ]
  },
  {
   "cell_type": "markdown",
   "metadata": {},
   "source": [
    "La suite de Fibonacci est définie par :\n",
    "    - les deux premiers termes sont 1 et 1\n",
    "    - chaque terme est ensuite la somme des deux précédents"
   ]
  },
  {
   "cell_type": "markdown",
   "metadata": {},
   "source": [
    "Créer une liste qui contient les 30 premiers termes de la suite de Fibonacci."
   ]
  },
  {
   "cell_type": "code",
   "execution_count": 32,
   "metadata": {},
   "outputs": [
    {
     "name": "stdout",
     "output_type": "stream",
     "text": [
      "[1, 1, 2, 3, 5, 8, 13, 21, 34, 55, 89, 144, 233, 377, 610, 987, 1597, 2584, 4181, 6765, 10946, 17711, 28657, 46368, 75025, 121393, 196418, 317811, 514229, 832040]\n",
      "[1, 1, 2, 3, 5, 8, 13, 21, 34, 55, 89, 144, 233, 377, 610, 987, 1597, 2584, 4181, 6765, 10946, 17711, 28657, 46368, 75025, 121393, 196418, 317811, 514229, 832040]\n"
     ]
    }
   ],
   "source": [
    "fibo = [1,1]\n",
    "for i in range(2,30):\n",
    "    fibo.append(fibo[i-1]+fibo[i-2])\n",
    "print(fibo)\n",
    "\n",
    "#version classe\n",
    "fibo = [1,1]\n",
    "for i in range(28):\n",
    "    fibo.append(fibo[-1]+fibo[-2])\n",
    "print(fibo)\n",
    "#reponse f = [1, 1, 2, 3, 5, 8, 13, 21, 34, 55, 89, 144, 233, 377, 610, 987, 1597, 2584, 4181, 6765, 10946, 17711, 28657, 46368, 75025, 121393, 196418, 317811, 514229, 832040]"
   ]
  },
  {
   "cell_type": "markdown",
   "metadata": {},
   "source": [
    "Voici deux propriétés de la suite de Fibonacci. Essayez de les comprendre et de les vérifier sur les 30 termes calculés."
   ]
  },
  {
   "cell_type": "markdown",
   "metadata": {},
   "source": [
    "**propriété 1**\n",
    "\n",
    "Le carré d'un terme est le produit des termes qui l'entourent, plus ou moins 1.  \n",
    "Par exemple ̀5\\*\\*2 = 25 et 3\\*8 = 24  \n",
    "Par exemple 55\\*\\*2 = 3025 et 34\\*89 = 3026"
   ]
  },
  {
   "cell_type": "markdown",
   "metadata": {},
   "source": [
    "**propriété 2**  \n",
    "Le quotient d'un terme par le précédent se rapproche du nombre d'or, qui est solution de l'équation x\\**2 = x +1 ."
   ]
  },
  {
   "cell_type": "code",
   "execution_count": 33,
   "metadata": {},
   "outputs": [
    {
     "name": "stdout",
     "output_type": "stream",
     "text": [
      "proposition1: True\n"
     ]
    }
   ],
   "source": [
    "p1 = True\n",
    "for i in range(1,len(fibo)-2):\n",
    "    if fibo[i]**2!=fibo[i-1]*fibo[i+1]+1 and fibo[i]**2!=fibo[i-1]*fibo[i+1]-1:\n",
    "        p1 = False\n",
    "        break\n",
    "print(\"propriété1:\",p1)"
   ]
  },
  {
   "cell_type": "code",
   "execution_count": 42,
   "metadata": {},
   "outputs": [
    {
     "name": "stdout",
     "output_type": "stream",
     "text": [
      "1.0\n",
      "2.0\n",
      "1.5\n",
      "1.6666666666666667\n",
      "1.6\n",
      "1.625\n",
      "1.6153846153846154\n",
      "1.619047619047619\n",
      "1.6176470588235294\n",
      "1.6181818181818182\n",
      "1.6179775280898876\n",
      "1.6180555555555556\n",
      "1.6180257510729614\n",
      "1.6180371352785146\n",
      "1.618032786885246\n",
      "1.618034447821682\n",
      "1.6180338134001253\n",
      "1.618034055727554\n",
      "1.6180339631667064\n",
      "1.6180339985218033\n",
      "1.618033985017358\n",
      "1.6180339901755971\n",
      "1.618033988205325\n",
      "1.618033988957902\n",
      "1.6180339886704431\n",
      "1.6180339887802426\n",
      "1.618033988738303\n",
      "1.6180339887543225\n",
      "1.6180339887482036\n",
      "sol2= 1.618033988749895\n"
     ]
    }
   ],
   "source": [
    "for i in range(1,len(fibo)):\n",
    "    print(fibo[i]/fibo[i-1])\n",
    "\n",
    "from math import sqrt\n",
    "delta = (-1)**2-4*1*-1 #discriminant b²-4*a*c\n",
    "sol2 = (-(-1)+sqrt(delta))/(2*1) # solution 2: (-b+racine(delta))/(2*a)\n",
    "print(\"sol2=\",sol2)"
   ]
  },
  {
   "cell_type": "code",
   "execution_count": null,
   "metadata": {},
   "outputs": [],
   "source": []
  }
 ],
 "metadata": {
  "kernelspec": {
   "display_name": "Python 3",
   "language": "python",
   "name": "python3"
  },
  "language_info": {
   "codemirror_mode": {
    "name": "ipython",
    "version": 3
   },
   "file_extension": ".py",
   "mimetype": "text/x-python",
   "name": "python",
   "nbconvert_exporter": "python",
   "pygments_lexer": "ipython3",
   "version": "3.8.10"
  }
 },
 "nbformat": 4,
 "nbformat_minor": 2
}
