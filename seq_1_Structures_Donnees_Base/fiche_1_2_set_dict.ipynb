{
  "nbformat": 4,
  "nbformat_minor": 0,
  "metadata": {
    "colab": {
      "name": "Untitled0.ipynb",
      "provenance": []
    },
    "kernelspec": {
      "name": "python3",
      "display_name": "Python 3"
    },
    "language_info": {
      "name": "python"
    }
  },
  "cells": [
    {
      "cell_type": "markdown",
      "metadata": {
        "id": "cjDU4EhlsPk6"
      },
      "source": [
        "# Les types `dict` et `set`"
      ]
    },
    {
      "cell_type": "markdown",
      "metadata": {
        "id": "SfsYYjdPsa5y"
      },
      "source": [
        "Les types `dict`et `set` sont des **types conteneurs** au même titre que le type `list` mais ce ne sont pas des **types séquentiels**.  \n",
        "On peut imaginer ces types comme un grand sac dans lequel des éléments sont rangés, mais il sont rangés sans ordre précis contrairement au cas de la liste."
      ]
    },
    {
      "cell_type": "markdown",
      "metadata": {
        "id": "_X9mT53cs_5b"
      },
      "source": [
        "## le type `set` : les ensembles\n",
        "Le type `set` ou ensemble  est utilisé pour stocker des éléments de la même façon qu'un ensemble en mathématiques. Il est conçu pour pouvoir rapidement vérifier si un élément est dans l'ensemble ou pas, et pour appliquer des opérations ensemblistes : union, intersection, etc."
      ]
    },
    {
      "cell_type": "code",
      "metadata": {
        "colab": {
          "base_uri": "https://localhost:8080/"
        },
        "id": "SgWiQXEIsZPh",
        "outputId": "88df7b8e-5632-46a4-adb7-50b587e68fa5"
      },
      "source": [
        "# création d'un ensemble\n",
        "ensb0 = {2, -5.0, \"banane\", \"fraise\"}\n",
        "print(ensb0)"
      ],
      "execution_count": 6,
      "outputs": [
        {
          "output_type": "stream",
          "text": [
            "{'banane', 2, -5.0, 'fraise'}\n"
          ],
          "name": "stdout"
        }
      ]
    },
    {
      "cell_type": "markdown",
      "metadata": {
        "id": "vHPIPFTpvKLB"
      },
      "source": [
        "Remarquez que l'ordre des éléments a (probablement) changé. Vous n'avez aucun contrôle sur la façon dont les éléments sont stockés dans l'ensemble, et donc ils peuvent s'afficher dans un ordre différent.  \n",
        "On peut mettre dans un ensemble toutes sortes d'éléments de type différent. La seule contrainte est que ces éléments appartiennent à un **type hashable**. C'est une notion un peu avancée mais pour l'instant on peut retenir que :  \n",
        "* les **types mutables** comme `list` ne peuvent pas être mis dans un ensemble -- comme les objets peuvent muter, les ranger définitivement quelque part poser problème\n",
        "* les **types non mutables** comme `int, float, bool, str` sont hashables et peuvent être mis dans un ensemble (une fois rangés, ils ne bougent pas !)"
      ]
    },
    {
      "cell_type": "code",
      "metadata": {
        "id": "AbprG3TwvB5D"
      },
      "source": [
        "#essayez de créer un ensemble contenant une liste. Vous devriez obtenir l'erreur ̀ TypeError: unhashable type: 'list'`\n",
        "\n"
      ],
      "execution_count": 10,
      "outputs": []
    },
    {
      "cell_type": "code",
      "metadata": {
        "id": "URMEI9rLxfWg"
      },
      "source": [
        "#un ensemble ne contient qu'une seule fois chaque élément\n",
        "#créez un ensemble contenant plusieurs fois certains éléments et affichez-le\n",
        "\n"
      ],
      "execution_count": 12,
      "outputs": []
    },
    {
      "cell_type": "markdown",
      "metadata": {
        "id": "064M4LMP17KP"
      },
      "source": [
        "Regardez [ici](https://docs.python.org/fr/3/library/stdtypes.html#set) la liste des méthodes sur les ensembles avant de faire les exercices qui suivent.  \n",
        "### exercices sur les `set`"
      ]
    },
    {
      "cell_type": "code",
      "metadata": {
        "id": "id6i7Juhxg_Y"
      },
      "source": [
        "# "
      ],
      "execution_count": null,
      "outputs": []
    }
  ]
}