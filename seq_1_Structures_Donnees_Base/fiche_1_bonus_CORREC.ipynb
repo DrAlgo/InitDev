{
 "cells": [
  {
   "cell_type": "markdown",
   "metadata": {
    "id": "cjDU4EhlsPk6"
   },
   "source": [
    " <img src=\"https://cdn.pixabay.com/photo/2017/05/11/13/15/slot-machine-2304135_960_720.png\" align=right width=\"250\">   \n",
    "# Bonus \n",
    "**A faire si et seulement si toute la séquence 1 est terminée.**"
   ]
  },
  {
   "cell_type": "markdown",
   "metadata": {},
   "source": [
    "<img src=\"https://cdn.pixabay.com/photo/2018/01/04/16/53/building-3061124_960_720.png\" width=30 align=left><div class=\"alert alert-block alert-danger\">**Exo B.0 - Plus longue suite de zéros**  \n",
    "    Ecrire un programme qui, pour une liste d'entiers, calcule la longueur de la plus longue suite de zéros consécutifs."
   ]
  },
  {
   "cell_type": "code",
   "execution_count": null,
   "metadata": {
    "id": "AbprG3TwvB5D"
   },
   "outputs": [],
   "source": [
    "l = [0, 2, 4, 0, 0, 0, 3, 0, 0]\n",
    "\n",
    "maxZeros = 0\n",
    "nbZeros  = 0\n",
    "for v in l:\n",
    "    if v==0:\n",
    "        nbZeros += 1\n",
    "    else:\n",
    "        if nbZeros>maxZeros:\n",
    "            maxZeros = nbZeros\n",
    "        nbZeros = 0\n",
    "\n",
    "print(maxZeros)"
   ]
  },
  {
   "cell_type": "markdown",
   "metadata": {},
   "source": [
    "<img src=\"https://cdn.pixabay.com/photo/2018/01/04/16/53/building-3061124_960_720.png\" width=30 align=left><div class=\"alert alert-block alert-danger\">**Exo B.1 - Plus long sous-tableau croissant**  \n",
    "    Ecrire un programme qui, pour une liste d'entiers, calcule la longueur de la plus longue suite croissante d'entiers de la liste."
   ]
  },
  {
   "cell_type": "code",
   "execution_count": null,
   "metadata": {
    "id": "AbprG3TwvB5D"
   },
   "outputs": [],
   "source": [
    "l = [2, 1, 3, 4, 3, 5, 7, 8, 2, 3]\n",
    "\n",
    "# cette fonction est assez similaire à la précédente\n",
    "\n",
    "maxLenSuiteCroiss = 1  # ça c'est du nom explicite, hein?\n",
    "curLenSuiteCroiss  = 1 # le premier élément (si liste non vide) est une liste croissante de longueur 1\n",
    "for i in range(1,len(l)): # on peut partir de l'élément 1\n",
    "    if l[i]>l[i-1]: # croissance stricte, c'est un choix\n",
    "        curLenSuiteCroiss += 1\n",
    "    else:\n",
    "        if curLenSuiteCroiss>maxLenSuiteCroiss:\n",
    "            maxLenSuiteCroiss = curLenSuiteCroiss\n",
    "        curLenSuiteCroiss = 0\n",
    "\n",
    "print(maxLenSuiteCroiss)"
   ]
  },
  {
   "cell_type": "markdown",
   "metadata": {},
   "source": [
    "<img src=\"https://cdn.pixabay.com/photo/2018/01/04/16/53/building-3061124_960_720.png\" width=30 align=left><div class=\"alert alert-block alert-danger\">**Exo B.2 - Del repeat**  \n",
    "    Ecrire un programme  qui, pour une liste d'entiers, supprime les répétitions consécutives **dans cette même liste** (sans créer de nouvelle liste). On n'utilisera pas de méthode des listes, trop coûteuses, mais on procèdera en décalant efficacement les valeurs. La fin de la liste sera complétée avec des `None`.  \n",
    "    *Exemple:* `[1,1,7,3,3,3,4]` devient `[1,7,3,4,None,None,None]`"
   ]
  },
  {
   "cell_type": "code",
   "execution_count": null,
   "metadata": {
    "id": "AbprG3TwvB5D"
   },
   "outputs": [],
   "source": [
    "#Le principe: maintenir deux indices simultanément, l'un sur la position de lecture qui progresse à chaque tour\n",
    "#l'autre sur la position d'écriture\n",
    "#au terme de la boucle, la position d'écriture indique où écrire les None restants\n",
    "#CET ALGORITHME EST DIFFICILE, FAITES LE TOURNER SUR PYTHON TUTOR AFIN DE BIEN COMPRENDRE SON FONCTIONNEMENT\n",
    "\n",
    "m = [2, 2, 3, 4, 4, 4, 4, 8, 6, 6, 6]\n",
    "\n",
    "e = 1 # la pos 0 ne changera jamais, on peut commencer à 1 (si la liste est assez grande!)\n",
    "mem = m[0] #mémoire de la dernière valeur lue\n",
    "for l in range(1, len(m)):\n",
    "    if m[l]==mem: #si la valeur lue est la même que la valeur mémorisée\n",
    "        continue #on laisse l avancer seul dans la boucle\n",
    "    else: #sinon, on vient de lire une nouvelle valeur...\n",
    "        m[e] = m[l] #...qu'on doit écrire à la position d'écriture\n",
    "        e += 1 #...qui ensuite avance\n",
    "        mem = m[l] #on n'oublie pas de mémoriser cette nouvelle valeur\n",
    "        \n",
    "#en sortie de boucle, il ne reste plus qu'à tartiner des None sur les positions restantes\n",
    "while e!=len(m):\n",
    "    m[e] = None\n",
    "    e += 1\n",
    "\n",
    "print(m)\n",
    "    "
   ]
  },
  {
   "cell_type": "markdown",
   "metadata": {},
   "source": [
    "<img src=\"https://cdn.pixabay.com/photo/2018/01/04/16/53/building-3061124_960_720.png\" width=30 align=left><div class=\"alert alert-block alert-danger\">**Exo B.3 - Tri bicolore**  \n",
    "    Considérons une liste de 10 éléments ayant  deux valeurs possibles: `'h'` ou `'f'`.  \n",
    "    *Exemple:* `['h','h','f','h','h','f','f','f','f','h']`  \n",
    "    On souhaite ordonner cette liste de façon à placer tous les `'h'` en début de liste et tous les `'f'` à la fin.  \n",
    "    Vous devez trouver un algorithme efficace qui réalise ce tri en un seul passage."
   ]
  },
  {
   "cell_type": "code",
   "execution_count": null,
   "metadata": {
    "id": "AbprG3TwvB5D"
   },
   "outputs": [],
   "source": [
    "l = ['h', 'h', 'f', 'h', 'f', 'f', 'h', 'f', 'h', 'h']\n",
    "#le principe...\n",
    "h = 0 # h est la position de la frontière avant laquelle il n'y a que de 'h'\n",
    "f = len(l)-1 # f est la position de la frontière après laquelle il n'y a que des 'f'\n",
    "while h<f: # tant que les deux frontières ne se sont pas rejointes (si égales, tour inutile car valeur bien positionnée de toute façon)\n",
    "        if l[h]=='h': #si on lit un 'h' en position h...\n",
    "            h += 1 #alors il suffit d'avancer h\n",
    "        else: #si on lit un 'f'...\n",
    "            l[h],l[f] = l[f],l[h] #on intervertit les valeurs se trouvant aux positions h et f\n",
    "            f -= 1 #ainsi, on est sûrs d'avoir un 'f' de plus à la fin de la liste, et on peut reculer la frontière f\n",
    "    \n",
    "#CET ALGORITHME EST DIFFICILE, FAITES LE TOURNER SUR PYTHON TUTOR AFIN DE BIEN COMPRENDRE SON FONCTIONNEMENT\n",
    "print(l)"
   ]
  },
  {
   "cell_type": "markdown",
   "metadata": {},
   "source": [
    "<img src=\"https://cdn.pixabay.com/photo/2018/01/04/16/53/building-3061124_960_720.png\" width=30 align=left><div class=\"alert alert-block alert-danger\">**Exo B.4 - Tri tricolore**  \n",
    "    Même exercice...avec trois valeurs possibles: `'h'`, `'f'` ou `'n'`.  "
   ]
  },
  {
   "cell_type": "code",
   "execution_count": null,
   "metadata": {
    "id": "AbprG3TwvB5D"
   },
   "outputs": [],
   "source": [
    "l = ['h', 'h', 'f', 'n', 'f', 'f', 'n', 'f', 'h', 'n']\n",
    "#le principe: on va placer les 'h' et 'n' en début de liste, et les 'f' à la fin\n",
    "h = 0 # h est la position de la frontière avant laquelle il n'y a que de 'h'\n",
    "n = 0 # n est la position de la frontière avant laquelle il n'y a que des 'n'...jusqu'à la position h exclue (donc aucun 'n' pour commencer, évidemment)\n",
    "f = len(l)-1 # f est la position de la frontière après laquelle il n'y a que des 'f'\n",
    "while n<=f: # tant que les deux frontières n et f ne se sont pas rejointes (si égales, il faut quand même tester: ça peut être un 'h')\n",
    "        if l[n]=='n': #la plus facile d'abord: si on lit un 'n' en position n...\n",
    "            n += 1 #alors il suffit d'avancer n\n",
    "        elif l[n]=='f': #la deuxième plus facile ensuite: si on lit un 'f'...\n",
    "            l[n],l[f] = l[f],l[n] #on intervertit les valeurs se trouvant aux positions n et f\n",
    "            f -= 1 #ainsi, on est sûrs d'avoir un 'f' de plus à la fin de la liste, et on peut reculer la frontière f\n",
    "        else: #la plus dure pour finir: si on lit un 'h'\n",
    "            l[n] = l[h] #on écrit en n ce qui se trouve en h: si h==n alors rien ne se passe, sinon on écrit un 'n'\n",
    "            n += 1 # puis n avance\n",
    "            l[h] = 'h' #en h on écrit le 'h' qu'on a lu initialement\n",
    "            h += 1 # puis h avance, en effet il faut alors avancer les deux frontières\n",
    "       \n",
    "#CET ALGORITHME EST DIFFICILE, FAITES LE TOURNER SUR PYTHON TUTOR AFIN DE BIEN COMPRENDRE SON FONCTIONNEMENT\n",
    "#Pour bien tester cet algo, il convient de l'essayer avec les lsites les plus tordues possibles!\n",
    "print(l)"
   ]
  },
  {
   "cell_type": "markdown",
   "metadata": {},
   "source": [
    "<img src=\"https://cdn.pixabay.com/photo/2018/01/04/16/53/building-3061124_960_720.png\" width=30 align=left><div class=\"alert alert-block alert-danger\">**Exo B.5 - Dichotomie**  \n",
    "    On dispose d'une liste `l` de 20 entiers triés. On souhaite rechercher un élément `n` dans cette liste. La méthode dichotomique permet de rechercher bien plus efficacement que la méthode classique.  \n",
    "**Principe**: comparer la valeur `n` recherchée avec la valeur `m` se trouvant au milieu de la liste.  \n",
    " * si `n==m`, c'est gagné \n",
    " * si la valeur recherchée est plus petite que `m`, c'est qu'il faut chercher `n` dans la moitié gauche du tableau\n",
    " * sinon, dans la partie droite\n",
    " * puis réitérer la recherche dans la sous-partie sélectionnée\n",
    " "
   ]
  },
  {
   "cell_type": "code",
   "execution_count": null,
   "metadata": {
    "id": "AbprG3TwvB5D"
   },
   "outputs": [],
   "source": [
    "l = list(range(1,21))\n",
    "val = 9\n",
    "#val = 5.4 #testez!\n",
    "#val = 54 #testez!\n",
    "#val = -4 #testez!\n",
    "\n",
    "#le principe: toujours maintenir les bornes d et f de début et fin de l'intervalle de recherche\n",
    "d = 0\n",
    "f = len(l)-1\n",
    "nbtours = 1 #pour la mesure de performance\n",
    "while d<=f: #tant que ces bornes ne se sont pas croisées...\n",
    "    m = (d+f)//2 #on tape au milieu de l'intervalle...\n",
    "    if l[m]==val: #si la valeur qu'on y trouve est celle qu'on recherche...\n",
    "        break #c'est gagné\n",
    "    elif l[m]<val: #sinon si la valeur recherchée est plus grande que la valeur trouvée au milieu\n",
    "        d = m+1 #l'intervalle est décalé à la seconde moitié de l'intervalle initial\n",
    "    else: # sinon si la valeur recherchés est plus petite \n",
    "        f = m-1 #l'intervalle est décalé à la première moitié de l'intervalle initial\n",
    "    #et c'est reparti\n",
    "    nbtours += 1\n",
    "\n",
    "if d>f: #si je suis sorti parce que les bornes se sont croisées\n",
    "    print(\"pas trouvé (en\",nbtours,\"tours)\")\n",
    "else:\n",
    "    print(l[m],\"se trouve en position\",m,\"et je l'ai trouvé en\",nbtours,\"tours\")\n",
    "\n",
    "#CONSTATEZ PAR VOUS-MÊMES LA TRES GRANDE PERFORMANCE DE CET ALGO: \n",
    "#DANS UNE LISTE DE LONGUEUR 20, ON FAIT BEAUCOUP MOINS DE 20 COMPARAISONS POUR OBTENIR UNE REPONSE"
   ]
  },
  {
   "cell_type": "markdown",
   "metadata": {},
   "source": [
    "<img src=\"https://cdn.pixabay.com/photo/2018/01/04/16/53/building-3061124_960_720.png\" width=30 align=left><div class=\"alert alert-block alert-danger\">**Exo B.6 - Combi**  \n",
    "    On dispose d'une liste `l` de 10 entiers quelconques.  \n",
    "    Construire et afficher toutes les listes possibles de 3 entiers issus de cette liste `l`.\n",
    " "
   ]
  },
  {
   "cell_type": "code",
   "execution_count": null,
   "metadata": {
    "id": "AbprG3TwvB5D"
   },
   "outputs": [],
   "source": [
    "#ce type d'algorithme se prête beaucoup mieux à une solution récursive (que nous verrons bientôt) qu'itérative\n",
    "#on peut toutefois l'écrire de façon assez violente en itératif...mais si l'on étend le problème à 4, 5, 6 nombres...\n",
    "#il faut imbriquer 4, 5, 6 boucles!\n",
    "l = [4,7,8,3,5,4]\n",
    "for i in range(len(l)-2): #la première valeur possible est à choisir entre la première et l'avant-avant dernière position\n",
    "    for j in range(i+1,len(l)-1): #la seconde après la première et avant la dernière\n",
    "        for k in range(j+1,len(l)): #la troisième après la seconde\n",
    "            print([l[i],l[j],l[k]])"
   ]
  },
  {
   "cell_type": "code",
   "execution_count": null,
   "metadata": {},
   "outputs": [],
   "source": []
  }
 ],
 "metadata": {
  "colab": {
   "name": "Untitled0.ipynb",
   "provenance": []
  },
  "kernelspec": {
   "display_name": "Python 3",
   "language": "python",
   "name": "python3"
  },
  "language_info": {
   "codemirror_mode": {
    "name": "ipython",
    "version": 3
   },
   "file_extension": ".py",
   "mimetype": "text/x-python",
   "name": "python",
   "nbconvert_exporter": "python",
   "pygments_lexer": "ipython3",
   "version": "3.8.10"
  }
 },
 "nbformat": 4,
 "nbformat_minor": 1
}
