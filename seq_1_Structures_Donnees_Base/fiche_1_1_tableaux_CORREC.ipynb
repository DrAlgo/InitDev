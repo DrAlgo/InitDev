{
 "cells": [
  {
   "cell_type": "markdown",
   "metadata": {},
   "source": [
    "<img src=\"https://cdn.pixabay.com/photo/2017/10/13/05/26/silk-tie-2846862_960_720.jpg\" width=40% >\n",
    "\n",
    "# Séquence 1- Fiche 1 : algorithmique des tableaux"
   ]
  },
  {
   "cell_type": "markdown",
   "metadata": {},
   "source": [
    "Le type `list`est la version python d'une structure de données assez générale dans les langages de programmation et qui s'appelle un **tableau**.   \n",
    "\n",
    "Dans les exercices ci-dessous, **le but est d'effectuer ce qui est demandé uniquement en utilisant des boucles, des variables, et les indices des listes. Il est interdit d'utiliser une méthode**.  \n",
    "\n",
    "-> Le but est de comprendre *comment* sont implémentées les méthodes.\n",
    "\n",
    "Dans la mesure du possible, on évite ainsi également de trop modifier la structure des tableaux : ne pas insérer ou supprimer des \"cases\", qui sont des opérations coûteuses en temps de calcul.\n",
    "\n",
    "Bien entendu, la plupart des exercices sont fournis avec un exemple à traiter, mais votre programme devrait fonctionner pour tous les exemples du même type, quelle que soit leur taille."
   ]
  },
  {
   "cell_type": "markdown",
   "metadata": {},
   "source": [
    "<img src=\"https://cdn.pixabay.com/photo/2018/01/04/16/53/building-3061124_960_720.png\" width=30 align=left><div class=\"alert alert-block alert-danger\">  \n",
    "**Exo 1.0 -- première sommation** Calculez la somme S des éléments du tableau avec une boucle. Vérifiez avec la fonction native `sum`."
   ]
  },
  {
   "cell_type": "code",
   "execution_count": 1,
   "metadata": {},
   "outputs": [
    {
     "name": "stdout",
     "output_type": "stream",
     "text": [
      "29\n"
     ]
    }
   ],
   "source": [
    "l = [3,5,3,-1,6,4,9]\n",
    "som = 0\n",
    "for v in l:\n",
    "    som += v\n",
    "\n",
    "if sum(l)!=som:\n",
    "    print(\"oups\")\n",
    "else:\n",
    "    print(som)"
   ]
  },
  {
   "cell_type": "markdown",
   "metadata": {},
   "source": [
    "<img src=\"https://cdn.pixabay.com/photo/2018/01/04/16/53/building-3061124_960_720.png\" width=30 align=left><div class=\"alert alert-block alert-danger\">  \n",
    "**Exo 1.1 -- who's the best ?** Calculez le maximum `maxi` des éléments du tableau avec une boucle. Vérifiez avec la fonction native `max`."
   ]
  },
  {
   "cell_type": "code",
   "execution_count": 2,
   "metadata": {},
   "outputs": [
    {
     "name": "stdout",
     "output_type": "stream",
     "text": [
      "9\n"
     ]
    }
   ],
   "source": [
    "l = [3,5,3,-1,6,4,9] #exercice déjà fait dans les feuilles précédentes, c'est un rappel!\n",
    "maxi = l[0]\n",
    "for v in l:\n",
    "    if v>maxi:\n",
    "        maxi = v\n",
    "\n",
    "print(maxi)"
   ]
  },
  {
   "cell_type": "markdown",
   "metadata": {},
   "source": [
    "<img src=\"https://cdn.pixabay.com/photo/2018/01/04/16/53/building-3061124_960_720.png\" width=30 align=left><div class=\"alert alert-block alert-danger\">  \n",
    "**Exo 1.2 -- donnez-moi un indice.** Maintenant, vous devez calculer l'indice où se trouve le maximum du tableau ! Testez avec les différents exemples. Si le maximum apparaît plusieurs fois, donnez le premier indice possible. Vérifiez en utilisant les bonnes méthodes ;)  \n",
    "N'hésitez pas à tester d'autres exemples plus longs ou plus courts !"
   ]
  },
  {
   "cell_type": "code",
   "execution_count": 3,
   "metadata": {},
   "outputs": [
    {
     "name": "stdout",
     "output_type": "stream",
     "text": [
      "4\n"
     ]
    }
   ],
   "source": [
    "l = [3,4,5,3,6,4,3,4]\n",
    "# l = [3,6,5,3,6,4,3,4]\n",
    "imaxi = 0\n",
    "for i in range(len(l)):\n",
    "    if l[i]>l[imaxi]:\n",
    "        imaxi = i\n",
    "\n",
    "print(imaxi)"
   ]
  },
  {
   "cell_type": "markdown",
   "metadata": {},
   "source": [
    "<img src=\"https://cdn.pixabay.com/photo/2018/01/04/16/53/building-3061124_960_720.png\" width=30 align=left><div class=\"alert alert-block alert-danger\">  \n",
    "**Exo 1.3 -- nan finalement, tous les indices.** Même exercice mais vous devez construire une nouvelle liste qui contient tous les indices des maximums.  \n",
    "Et ceci en un seul passage dans le tableau !! Vous avez le droit à la méthode `append` pour construire la liste des indices cherchés."
   ]
  },
  {
   "cell_type": "code",
   "execution_count": 4,
   "metadata": {},
   "outputs": [
    {
     "name": "stdout",
     "output_type": "stream",
     "text": [
      "[1, 4]\n"
     ]
    }
   ],
   "source": [
    "#l = [3,4,5,3,6,4,3,4]  # réponse attendue [4]\n",
    "l = [3,6,5,3,6,4,3,4] # réponse attendue [1,4]\n",
    "# l = [1,1,0,1,1] # réponse attendue [0,1,3,4]\n",
    "limaxi = [0] # pour commencer, le max est en pos 0\n",
    "imaxi = 0 # position du premier des maximums actuels\n",
    "for i in range(len(l)):\n",
    "    if l[i]==l[imaxi]: # on a rencontré en i un autre maximum de même valeur que l'actuel\n",
    "        limaxi.append(i) # on ajoute i à la liste des maximums\n",
    "    elif l[i]>l[imaxi]: # on a rencontré en i un meilleur maximum\n",
    "        limaxi = [i] # on réinitialise la liste des maximums\n",
    "        imaxi = i\n",
    "        \n",
    "print(limaxi)"
   ]
  },
  {
   "cell_type": "markdown",
   "metadata": {},
   "source": [
    "<img src=\"https://cdn.pixabay.com/photo/2018/01/04/16/53/building-3061124_960_720.png\" width=30 align=left><div class=\"alert alert-block alert-danger\">  \n",
    "**Exo 1.4 -- miroir mon beau miroir.**\n",
    "Testez en calculant un booléen si une chaîne de caractère est un palindrome, comme par exemple\n",
    "”elu par cette crapule”, c’est-à-dire une chaı̂ne de caractères qui peut se lire de la même manière\n",
    "dans les deux sens, si on ne tient pas compte des espaces. On pourra supposer dans un premier\n",
    "temps que la chaı̂ne ne contient pas d’espaces (par exemple ”eluparcettecrapule”).\n",
    "    \n",
    "Dans un deuxième temps, vous pouvez faire la version qui vérifie si la chaîne est bien un palindrome en faisant abstraction des espaces."
   ]
  },
  {
   "cell_type": "code",
   "execution_count": 5,
   "metadata": {},
   "outputs": [
    {
     "name": "stdout",
     "output_type": "stream",
     "text": [
      "True\n"
     ]
    }
   ],
   "source": [
    "s = \"eluparcettecrapule\"  #reponse attendue True\n",
    "# s = \"bonjour\" # reponse attendue False\n",
    "# s = ... à vous d'en tester d'autres !!\n",
    "palindrome = True\n",
    "i = 0\n",
    "while i<= len(s)//2: # i va du début au milieu de la chaîne\n",
    "    if s[i]!=s[len(s)-1-i]: # on compare la lettre se trouvant en pos i avec sa symétrique\n",
    "        palindrome = False\n",
    "        break\n",
    "    i += 1\n",
    "\n",
    "\n",
    "print(palindrome)"
   ]
  },
  {
   "cell_type": "markdown",
   "metadata": {},
   "source": [
    "<img src=\"https://cdn.pixabay.com/photo/2018/01/04/16/53/building-3061124_960_720.png\" width=30 align=left><div class=\"alert alert-block alert-danger\">  \n",
    "**Exo 1.5 -- faire l'inverse.** On donne une liste et on demande de l'inverser. Par exemple [1,2,3,4] devient [4,3,2,1]. Et ceci toujours **sans utiliser** de méthode qui fait tout le boulot (quelle méthode, d'ailleurs ?).  \n",
    "Testez avec des tableaux de longueur paire, impaire, un tableau vide ou de longueur 1 !"
   ]
  },
  {
   "cell_type": "code",
   "execution_count": 6,
   "metadata": {},
   "outputs": [
    {
     "name": "stdout",
     "output_type": "stream",
     "text": [
      "[19, 18, 17, 16, 15, 14, 13, 12, 11, 10, 9, 8, 7, 6, 5, 4, 3, 2, 1, 0]\n"
     ]
    }
   ],
   "source": [
    "l = list(range(20))\n",
    "deb = 0\n",
    "fin = len(l)-1\n",
    "while deb<fin: # tant que les indices ne se sont pas croisés\n",
    "    l[deb], l[fin] = l[fin], l[deb]\n",
    "    deb += 1\n",
    "    fin -= 1\n",
    "\n",
    "print(l) #devrait avoir été inversée.."
   ]
  },
  {
   "cell_type": "markdown",
   "metadata": {},
   "source": [
    "<img src=\"https://cdn.pixabay.com/photo/2018/01/04/16/53/building-3061124_960_720.png\" width=30 align=left><div class=\"alert alert-block alert-danger\">  \n",
    "**Exo 1.6 -- le péhelpécé.** Maintenant on donne deux chaînes de caractères et on veut calculer leur *plus long préfixe commun*. Mais qu'est-ce que le plus long préfixe commun me direz vous ? Bah justement j'allais vous le dire.  \n",
    "C'est la plus longue chaîne de caractères qu'on puisse écrire et qui soit le début de chaque mot. Par exemple, le PLPC de \"banane\" et \"banjo\" est \"ban\". Celui de \"banane\" et \"fraise\" est \"\"."
   ]
  },
  {
   "cell_type": "code",
   "execution_count": 7,
   "metadata": {},
   "outputs": [
    {
     "name": "stdout",
     "output_type": "stream",
     "text": [
      "ban\n"
     ]
    }
   ],
   "source": [
    "s1 = \"banane\"\n",
    "s2 = \"banjo\"\n",
    "i = 0 # indice commun aux deux chaînes\n",
    "plpc = \"\" # plus long préfixe commun\n",
    "lmin = min(len(s1),len(s2)) # taille de la plus petite des deux chaînes\n",
    "while i<lmin and s1[i]==s2[i]: # tant que fin pas atteinte et que lettres identiques\n",
    "    plpc += s1[i] # on ajoute la lettre commune qu'on vient de trouver au plpc\n",
    "    i += 1 # on avance\n",
    "\n",
    "print(plpc)"
   ]
  },
  {
   "cell_type": "markdown",
   "metadata": {},
   "source": [
    "<img src=\"https://cdn.pixabay.com/photo/2018/01/04/16/53/building-3061124_960_720.png\" width=30 align=left><div class=\"alert alert-block alert-danger\">  \n",
    "**Exo 1.7 -- pour rester positif.** On donne une liste d'entiers. Il faut calculer un booléen qui indique si tous les éléments de la liste sont bien positifs. Testez sur différents exemples. Si vous êtes fort on peut vérifier ça avec des méthodes ou fonctions natives aussi ensuite."
   ]
  },
  {
   "cell_type": "code",
   "execution_count": 8,
   "metadata": {},
   "outputs": [
    {
     "name": "stdout",
     "output_type": "stream",
     "text": [
      "True\n"
     ]
    }
   ],
   "source": [
    "l1 = list(range(20)) #reponse attendue True\n",
    "l2 = [0,1,-2,4,3,-5]   #reponse attendue False\n",
    "positif = True\n",
    "i = 0\n",
    "while i!=len(l1) and positif: # tant qu'on est pas au bout et que qu'on n'a pas trouvé de négatif\n",
    "    if l1[i]<0:\n",
    "        positif = False\n",
    "    i += 1\n",
    "    \n",
    "print(positif)"
   ]
  },
  {
   "cell_type": "markdown",
   "metadata": {},
   "source": [
    "<img src=\"https://cdn.pixabay.com/photo/2018/01/04/16/53/building-3061124_960_720.png\" width=30 align=left><div class=\"alert alert-block alert-danger\">  \n",
    "**Exo 1.8 liste croissante ou liste chocolatine ?** On donne une liste d'entiers. Il faut calculer un booléen qui indique si la liste est en ordre croissant (au sens large) ou non. Testez sur différents exemples !"
   ]
  },
  {
   "cell_type": "code",
   "execution_count": null,
   "metadata": {},
   "outputs": [],
   "source": [
    "l2 = list(range(20)) #reponse attendue True\n",
    "l1 = [0,1,2,4,3,5]   #reponse attendue False\n",
    "\n",
    "i = 1 # on part de 1\n",
    "croissante = True\n",
    "while i!=len(l1) and croissante:\n",
    "    if l1[i]<l1[i-1]:\n",
    "        croissante = False\n",
    "    i += 1 # et i aussi\n",
    "\n",
    "print(croissante)"
   ]
  },
  {
   "cell_type": "markdown",
   "metadata": {},
   "source": [
    "<img src=\"https://cdn.pixabay.com/photo/2018/01/04/16/53/building-3061124_960_720.png\" width=30 align=left><div class=\"alert alert-block alert-danger\">  \n",
    "**Exo 1.9 -- la fusion, c'est chaud.** On donne maintenant deux listes croissantes et on veut créer la fusion croissante des deux listes (une nouvelle liste). Voir l'exemple. Testez aussi sur d'autres exemples où les listes ont des longueurs différentes."
   ]
  },
  {
   "cell_type": "code",
   "execution_count": 1,
   "metadata": {},
   "outputs": [
    {
     "name": "stdout",
     "output_type": "stream",
     "text": [
      "[0, 1, 1, 2, 2, 3, 4, 4, 5, 6, 7, 10]\n"
     ]
    }
   ],
   "source": [
    "l1 = [0,2,4,5]\n",
    "l2 = [1,1,2,3,4,6,7,10]\n",
    "\n",
    "fusion = []\n",
    "i1 = 0 # indice pour l1\n",
    "i2 = 0 # indice pour l2\n",
    "while i1!=len(l1) or i2!=len(l2): # tant qu'une des deux listes n'est pas terminée\n",
    "    if i2==len(l2) or (i1!=len(l1) and l1[i1]<l2[i2]): # si l2 finie ou l1 pas finie et l1<l2\n",
    "        fusion.append(l1[i1]) # on ajoute l1\n",
    "        i1 += 1\n",
    "    else: # dans tous les autres cas\n",
    "        fusion.append(l2[i2]) # on ajoute l2\n",
    "        i2 += 1\n",
    "\n",
    "print(fusion) # reponse attendue [0,1,1,2,2,3,4,4,5,6,7,10]"
   ]
  },
  {
   "cell_type": "code",
   "execution_count": null,
   "metadata": {},
   "outputs": [],
   "source": []
  }
 ],
 "metadata": {
  "kernelspec": {
   "display_name": "Python 3",
   "language": "python",
   "name": "python3"
  },
  "language_info": {
   "codemirror_mode": {
    "name": "ipython",
    "version": 3
   },
   "file_extension": ".py",
   "mimetype": "text/x-python",
   "name": "python",
   "nbconvert_exporter": "python",
   "pygments_lexer": "ipython3",
   "version": "3.8.10"
  },
  "toc": {
   "base_numbering": 1,
   "nav_menu": {},
   "number_sections": false,
   "sideBar": true,
   "skip_h1_title": false,
   "title_cell": "Table of Contents",
   "title_sidebar": "Contents",
   "toc_cell": false,
   "toc_position": {},
   "toc_section_display": true,
   "toc_window_display": false
  }
 },
 "nbformat": 4,
 "nbformat_minor": 4
}
