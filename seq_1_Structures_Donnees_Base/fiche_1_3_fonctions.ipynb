{
 "cells": [
  {
   "cell_type": "markdown",
   "metadata": {
    "id": "cjDU4EhlsPk6"
   },
   "source": [
    " <img src=\"https://cdn.pixabay.com/photo/2017/09/25/11/55/fittings-2784902_960_720.jpg\" align=right width=\"400\">  \n",
    " \n",
    "# Les fonctions\n",
    "La majorité d'entre-vous a déjà manipulé les fonctions en python. Elles permettent de factoriser son code, de créer de petite entités de code capables de fournir un résultat précis.  \n",
    "\n",
    "**TRES IMPORTANT**\n",
    "Les fonctions sont caractérisées par :\n",
    "  * des données qui leur sont fournies en entrée et \"nourrissent\" la fonction: **les paramètres**\n",
    "  * des données qu'elles retournent en sortie: **les valeurs de retour**\n",
    "\n",
    "*Imaginons par exemple une fonction qui calcule la somme des éléments d'une liste:*  \n",
    "  * *elle recevra en paramètre une liste*\n",
    "  * *elle renverra une valeur numérique*"
   ]
  },
  {
   "cell_type": "markdown",
   "metadata": {
    "id": "_X9mT53cs_5b"
   },
   "source": [
    "## Définition d'une fonction\n",
    "Le mot clé permettant de créer une fonction est `def`. Il indique le début d'une fonction, dont le code devra ensuite être indenté.  \n",
    "Voyons une fonction `plusUn` qui reçoit un entier `n` et renvoie `n+1`:"
   ]
  },
  {
   "cell_type": "code",
   "execution_count": null,
   "metadata": {
    "colab": {
     "base_uri": "https://localhost:8080/"
    },
    "id": "SgWiQXEIsZPh",
    "outputId": "88df7b8e-5632-46a4-adb7-50b587e68fa5"
   },
   "outputs": [],
   "source": [
    "def plusUn(n):\n",
    "    n += 1\n",
    "    return n"
   ]
  },
  {
   "cell_type": "markdown",
   "metadata": {},
   "source": [
    "A partir de maintenant, la fonction `plusUn` existe et peut être appelée depuis n'importe où dans votre programme. Mais elle ne sera exécutée que quand vous l'aurez appelée. Pour le moment, elle se contente d'exister, elle est **définie**."
   ]
  },
  {
   "cell_type": "markdown",
   "metadata": {},
   "source": [
    "<img src=\"https://cdn.pixabay.com/photo/2016/10/18/19/40/anatomy-1751201_960_720.png\" width=\"30\" align=left><div class=\"alert alert-block alert-info\">**Qu3.0**  \n",
    "L'en-tête (la première ligne) d'une fonction est composé de :  \n",
    " * `def`  \n",
    " * suivi de ...  \n",
    " * puis, entre parenthèses...  \n",
    "\n",
    "Dans une fonction, le mot-clé `return` permet de...\n",
    "</div>"
   ]
  },
  {
   "cell_type": "markdown",
   "metadata": {
    "id": "_X9mT53cs_5b"
   },
   "source": [
    "## Appel d'une fonction\n",
    "Dans l'exemple précédent, nous avons défini la fonction `plusUn`. Mais celle-ci ne sera exécutée que si elle est **appelée**.  \n",
    "Pour réaliser cet appel, on procède de la façon suivante:"
   ]
  },
  {
   "cell_type": "code",
   "execution_count": null,
   "metadata": {},
   "outputs": [],
   "source": [
    "plusUn(12)"
   ]
  },
  {
   "cell_type": "markdown",
   "metadata": {},
   "source": [
    "**Pourquoi rien ne s'affiche?** Explications fondamentales...  \n",
    " * la fonction `plusUn` a été appelée avec `12`\n",
    " * ce `12` a été **recopié** dans le paramètre `n` de la fonction\n",
    " * puis ce `n` a été augmenté en `13` et renvoyé vers la ligne d'appel avec `return`\n",
    " * ...mais il n'a pas été récupéré. Il est donc parti \"dans la nature\"."
   ]
  },
  {
   "cell_type": "markdown",
   "metadata": {},
   "source": [
    "<img src=\"https://cdn.pixabay.com/photo/2018/01/04/16/53/building-3061124_960_720.png\" width=30 align=left><div class=\"alert alert-block alert-danger\">**Exo 3.0 - Récupération de la valeur de retour**  \n",
    "    Appelez à nouveau la fonction avec 12, mais récupérez le résultat renvoyé dans une variable `m` et affichez-le. "
   ]
  },
  {
   "cell_type": "code",
   "execution_count": null,
   "metadata": {
    "id": "AbprG3TwvB5D"
   },
   "outputs": [],
   "source": []
  },
  {
   "cell_type": "markdown",
   "metadata": {},
   "source": [
    "## Mes premières fonctions\n",
    "Essayons d'écrire et d'appeler nos premières fonctions simples..."
   ]
  },
  {
   "cell_type": "markdown",
   "metadata": {},
   "source": [
    "<img src=\"https://cdn.pixabay.com/photo/2018/01/04/16/53/building-3061124_960_720.png\" width=30 align=left><div class=\"alert alert-block alert-danger\">**Exo 3.0bis - Plus un au cube**  \n",
    "    On souhaite incrémenter (ajouter 1 à) une variable puis la mettre au cube en utilisant la fonction précédente.  \n",
    "    Appelez la fonction `plusUn` avec `x`, puis mettez le résultat obtenu au cube et affectez le nouveau résultat à `x`.  \n",
    "    **Maintenant, effectuez cette opération en une ligne.**"
   ]
  },
  {
   "cell_type": "code",
   "execution_count": null,
   "metadata": {},
   "outputs": [],
   "source": [
    "x = 8"
   ]
  },
  {
   "cell_type": "markdown",
   "metadata": {},
   "source": [
    "<img src=\"https://cdn.pixabay.com/photo/2018/01/04/16/53/building-3061124_960_720.png\" width=30 align=left><div class=\"alert alert-block alert-danger\">**Exo 3.1 - Double string**  \n",
    "    On souhaite écrire une fonction `dblstr` qui reçoit une chaîne `s`, et renvoie une chaîne contenant la chaîne `s` suivie d'un saut de ligne, répétée une seconde fois avec encore un saut de ligne.  \n",
    "    Exemple: `dblstr(\"où est-ce?\")` renverra :  \n",
    "    `où est-ce?`  \n",
    "    `où est-ce?`"
   ]
  },
  {
   "cell_type": "code",
   "execution_count": null,
   "metadata": {},
   "outputs": [],
   "source": [
    "x = 8"
   ]
  },
  {
   "cell_type": "markdown",
   "metadata": {},
   "source": [
    "<img src=\"https://cdn.pixabay.com/photo/2018/01/04/16/53/building-3061124_960_720.png\" width=30 align=left><div class=\"alert alert-block alert-danger\">**Exo 3.2 - Blablabla**  \n",
    "    Créez une fonction `blabla` qui reçoit un entier `n` et renvoie une chaîne `\"blablabla...\"` où `bla` est répété `n` fois.  \n",
    "    **Attention, cette fonction ne fait pas d'affichage!**  \n",
    "    Appelez cette fonction avec `5` et affichez le résutat. Essayez avec `0`."
   ]
  },
  {
   "cell_type": "code",
   "execution_count": null,
   "metadata": {},
   "outputs": [],
   "source": []
  },
  {
   "cell_type": "markdown",
   "metadata": {},
   "source": [
    "<img src=\"https://cdn.pixabay.com/photo/2018/01/04/16/53/building-3061124_960_720.png\" width=30 align=left><div class=\"alert alert-block alert-danger\">**Exo 3.2 - Repeat**  \n",
    "    On souhaite cette fois créez une fonction `repeat` qui reçoit un entier `n` **et** une chaîne `s`, et qui renvoie la chaîne `s` répétée `n` fois.  \n",
    "    Appelez cette fonction avec `1` et `\"bla\"`, puis avec `8` et `\"gouzi\"`."
   ]
  },
  {
   "cell_type": "code",
   "execution_count": null,
   "metadata": {},
   "outputs": [],
   "source": []
  },
  {
   "cell_type": "markdown",
   "metadata": {},
   "source": [
    "<img src=\"https://cdn.pixabay.com/photo/2018/01/04/16/53/building-3061124_960_720.png\" width=30 align=left><div class=\"alert alert-block alert-danger\">**Exo 3.2bis - Composition**  \n",
    "    Pourriez-vous essayer d'appeler `repeat` avec `3` et `\"tarata\"`, et de récupérer le résultat obtenu dans une variable `s`, puis de rappeler `repeat` avec `5` et le `s` obtenu précédemment? (vous devez logiquement obtenir 15 fois `\"tarata\"`)  \n",
    "    **Maintenant, effectuez la même opération en une seule ligne.**"
   ]
  },
  {
   "cell_type": "code",
   "execution_count": null,
   "metadata": {},
   "outputs": [],
   "source": []
  },
  {
   "cell_type": "markdown",
   "metadata": {},
   "source": [
    "<img src=\"https://cdn.pixabay.com/photo/2018/01/04/16/53/building-3061124_960_720.png\" width=30 align=left><div class=\"alert alert-block alert-danger\">**Exo 3.3 - Composition**  \n",
    "    Pourriez-vous essayer d'appeler `repeat` avec `3` et `\"tarata\"`, et de récupérer le résultat obtenu dans une variable `s`, puis de rappeler `repeat` avec `5` et le `s` obtenu précédemment? (vous devez logiquement obtenir 15 fois `\"tarata\"`)  \n",
    "    **Maintenant, effectuez la même opération en une seule ligne.**"
   ]
  },
  {
   "cell_type": "code",
   "execution_count": null,
   "metadata": {},
   "outputs": [],
   "source": []
  },
  {
   "cell_type": "markdown",
   "metadata": {},
   "source": [
    "## Portée des variables\n",
    "Les variables ont des portées: elles existent dans certains contextes (dans telle ou telle fonction, en dehors des fonctions) et pas dans d'autres.  \n",
    "Voici une première expérience:"
   ]
  },
  {
   "cell_type": "code",
   "execution_count": null,
   "metadata": {},
   "outputs": [],
   "source": [
    "n = 10\n",
    "print(bidule(n))\n",
    "print(n)"
   ]
  },
  {
   "cell_type": "markdown",
   "metadata": {},
   "source": [
    "On constate que `n` vaut toujours `10`, alors que, dans la fonction `bidule`, nous avons écrit `n = n+1`.  \n",
    "En effet, le `n` défini en dehors de la fonction est une **variable globale**.  \n",
    "Mais le `n` défini (en paramètre) dans la fonction est une **variable locale à la fonction**, qui porte le même nom mais n'a aucun lien avec le `n` global."
   ]
  },
  {
   "cell_type": "markdown",
   "metadata": {},
   "source": [
    "Voici une seconde expérience avec une fonction bidule modifiée :"
   ]
  },
  {
   "cell_type": "code",
   "execution_count": 6,
   "metadata": {},
   "outputs": [
    {
     "name": "stdout",
     "output_type": "stream",
     "text": [
      "0\n"
     ]
    }
   ],
   "source": [
    "def bidule(n):\n",
    "    print(m)\n",
    "    n = n+1\n",
    "    return n\n",
    "\n",
    "m = 99\n",
    "m = bidule(10)"
   ]
  },
  {
   "cell_type": "markdown",
   "metadata": {},
   "source": [
    "On constate que le `m` affiché dans la fonction est bien le `m` global défini en dehors.  \n",
    "Dans une fonction, on a donc accès aux variables globales...à condition qu'une variable locale de même nom de recouvre pas la définition globale, comme c'était le cas dans l'exemple précédent."
   ]
  },
  {
   "cell_type": "markdown",
   "metadata": {},
   "source": [
    "Voici une **troisième expériencefondamentale**  avec une fonction bidule modifiée :"
   ]
  },
  {
   "cell_type": "code",
   "execution_count": 6,
   "metadata": {},
   "outputs": [
    {
     "name": "stdout",
     "output_type": "stream",
     "text": [
      "0\n"
     ]
    }
   ],
   "source": [
    "def bidule(n):\n",
    "    print(m)\n",
    "    n = n+1\n",
    "    return n\n",
    "\n",
    "m = 99\n",
    "m = bidule(10)"
   ]
  },
  {
   "cell_type": "markdown",
   "metadata": {},
   "source": [
    "On constate que le `m` affiché dans la fonction est bien le `m` global défini en dehors.  \n",
    "Dans une fonction, on a donc accès aux variables globales...à condition qu'une variable locale de même nom de recouvre pas la définition globale, comme c'était le cas dans l'exemple précédent."
   ]
  },
  {
   "cell_type": "code",
   "execution_count": null,
   "metadata": {},
   "outputs": [],
   "source": []
  },
  {
   "cell_type": "markdown",
   "metadata": {},
   "source": [
    "<img src=\"https://cdn.pixabay.com/photo/2016/10/18/19/40/anatomy-1751201_960_720.png\" width=\"30\" align=left><div class=\"alert alert-block alert-info\">**Qu3.1 Réponses**  \n",
    "Les paramètres des fonctions sont passés par... .  \n",
    "    Pour les types primaires, les paramètres sont en fait des.... des variables originales passées lors de l'appel."
   ]
  },
  {
   "cell_type": "markdown",
   "metadata": {},
   "source": [
    "## Mutabilité"
   ]
  },
  {
   "cell_type": "code",
   "execution_count": null,
   "metadata": {},
   "outputs": [],
   "source": []
  }
 ],
 "metadata": {
  "colab": {
   "name": "Untitled0.ipynb",
   "provenance": []
  },
  "kernelspec": {
   "display_name": "Python 3",
   "language": "python",
   "name": "python3"
  },
  "language_info": {
   "codemirror_mode": {
    "name": "ipython",
    "version": 3
   },
   "file_extension": ".py",
   "mimetype": "text/x-python",
   "name": "python",
   "nbconvert_exporter": "python",
   "pygments_lexer": "ipython3",
   "version": "3.8.10"
  }
 },
 "nbformat": 4,
 "nbformat_minor": 1
}
