{
 "cells": [
  {
   "cell_type": "markdown",
   "metadata": {
    "id": "cjDU4EhlsPk6"
   },
   "source": [
    " <img src=\"https://cdn.pixabay.com/photo/2017/09/25/11/55/fittings-2784902_960_720.jpg\" align=right width=\"400\">  \n",
    " \n",
    "# Les fonctions"
   ]
  },
  {
   "cell_type": "markdown",
   "metadata": {
    "id": "SfsYYjdPsa5y"
   },
   "source": [
    "La majorité d'entre-vous a déjà manipulé les fonctions en python. Elles permettent de factoriser son code, de créer de petite entités de code capables de fournir un résultat précis.  \n",
    "\n",
    "**TRES IMPORTANT**\n",
    "Les fonctions sont caractérisées par :\n",
    "  * des données qui leur sont fournies en entrée et \"nourrissent\" la fonction: **les paramètres**\n",
    "  * des données qu'elles retournent en sortie: **les valeurs de retour**\n",
    "\n",
    "Imaginons par exemple une fonction qui calcule la somme des éléments d'une liste:  \n",
    "  * elle recevra en paramètre une liste\n",
    "  * elle renverra une valeur numérique "
   ]
  },
  {
   "cell_type": "markdown",
   "metadata": {
    "id": "_X9mT53cs_5b"
   },
   "source": [
    "## Définition de fonction\n",
    "Le mot clé des fonctions est `def`. Il indique le début d'une fonction, dont le code devra être indenté.  \n",
    "Exemple avec une fonction `bidule` qui reçoit un entier et renvoie cet entier+1:"
   ]
  },
  {
   "cell_type": "code",
   "execution_count": null,
   "metadata": {
    "colab": {
     "base_uri": "https://localhost:8080/"
    },
    "id": "SgWiQXEIsZPh",
    "outputId": "88df7b8e-5632-46a4-adb7-50b587e68fa5"
   },
   "outputs": [],
   "source": [
    "def bidule(n):\n",
    "    n += 1\n",
    "    return n"
   ]
  },
  {
   "cell_type": "markdown",
   "metadata": {},
   "source": [
    "<img src=\"https://cdn.pixabay.com/photo/2016/10/18/19/40/anatomy-1751201_960_720.png\" width=\"30\" align=left><div class=\"alert alert-block alert-info\">**Qu3.0**  \n",
    "L'en-tête (la première ligne) d'une fonction est composé de :  \n",
    " * `def`  \n",
    " * suivi de ...  \n",
    " * puis, entre parenthèses...  \n",
    "\n",
    "Dans une fonction, le mot-clé `return` permet de...\n",
    "</div>"
   ]
  },
  {
   "cell_type": "markdown",
   "metadata": {
    "id": "_X9mT53cs_5b"
   },
   "source": [
    "## Appel de fonction\n",
    "Dans l'exemple précédent, nous avons défini la fonction `bidule`. Mais celle-ci ne sera exécutée que si elle est **appelée**.  \n",
    "Pour réaliser cet appel, on procède de la façon suivante:"
   ]
  },
  {
   "cell_type": "code",
   "execution_count": null,
   "metadata": {},
   "outputs": [],
   "source": [
    "bidule(12)"
   ]
  },
  {
   "cell_type": "markdown",
   "metadata": {},
   "source": [
    "**Pourquoi rien ne s'affiche?** Explications...  \n",
    " * la fonction `bidule` a été appelée avec `12`\n",
    " * ce `12` a été recopié dans le paramètre `n` de la fonction\n",
    " * puis augmenté en `12` et renvoyé avec `return`\n",
    " * ...mais il n'a pas été récupéré. Il est donc parti \"dans la nature\"."
   ]
  },
  {
   "cell_type": "markdown",
   "metadata": {},
   "source": [
    "<img src=\"https://cdn.pixabay.com/photo/2018/01/04/16/53/building-3061124_960_720.png\" width=30 align=left><div class=\"alert alert-block alert-danger\">**Exo 3.0 - Récupération de la valeur de retour**  \n",
    "    Appelez à nouveau la fonction avec 12, mais récupérez le résultat renvoyé dans une variable `m` et affichez-le. "
   ]
  },
  {
   "cell_type": "code",
   "execution_count": null,
   "metadata": {
    "id": "AbprG3TwvB5D"
   },
   "outputs": [],
   "source": []
  },
  {
   "cell_type": "markdown",
   "metadata": {},
   "source": [
    "Voici une première expérience:"
   ]
  },
  {
   "cell_type": "code",
   "execution_count": null,
   "metadata": {},
   "outputs": [],
   "source": [
    "n = 10\n",
    "print(bidule(n))\n",
    "print(n)"
   ]
  },
  {
   "cell_type": "markdown",
   "metadata": {},
   "source": [
    "On constate que `n` vaut toujours `10`, alors que, dans la fonction `bidule`, nous avons écrit `n = n+1`.  \n",
    "En effet, le `n` défini en dehors de la fonction est une **variable globale**.  \n",
    "Mais le `n` défini (en paramètre) dans la fonction est une **variable locale à la fonction**, qui porte le même nom mais n'a aucun lien avec le `n` global."
   ]
  },
  {
   "cell_type": "markdown",
   "metadata": {},
   "source": [
    "Voici une seconde expérience avec une fonction bidule modifiée :"
   ]
  },
  {
   "cell_type": "code",
   "execution_count": 6,
   "metadata": {},
   "outputs": [
    {
     "name": "stdout",
     "output_type": "stream",
     "text": [
      "0\n"
     ]
    }
   ],
   "source": [
    "def bidule(n):\n",
    "    print(m)\n",
    "    n = n+1\n",
    "    return n\n",
    "\n",
    "m = 99\n",
    "m = bidule(10)"
   ]
  },
  {
   "cell_type": "markdown",
   "metadata": {},
   "source": [
    "On constate que le `m` affiché dans la fonction est bien le `m` global défini en dehors.  \n",
    "Dans une fonction, on a donc accès aux variables globales...à condition qu'une variable locale de même nom de recouvre pas la définition globale, comme c'était le cas dans l'exemple précédent."
   ]
  },
  {
   "cell_type": "markdown",
   "metadata": {},
   "source": [
    "Voici une **troisième expériencefondamentale**  avec une fonction bidule modifiée :"
   ]
  },
  {
   "cell_type": "code",
   "execution_count": 6,
   "metadata": {},
   "outputs": [
    {
     "name": "stdout",
     "output_type": "stream",
     "text": [
      "0\n"
     ]
    }
   ],
   "source": [
    "def bidule(n):\n",
    "    print(m)\n",
    "    n = n+1\n",
    "    return n\n",
    "\n",
    "m = 99\n",
    "m = bidule(10)"
   ]
  },
  {
   "cell_type": "markdown",
   "metadata": {},
   "source": [
    "On constate que le `m` affiché dans la fonction est bien le `m` global défini en dehors.  \n",
    "Dans une fonction, on a donc accès aux variables globales...à condition qu'une variable locale de même nom de recouvre pas la définition globale, comme c'était le cas dans l'exemple précédent."
   ]
  },
  {
   "cell_type": "code",
   "execution_count": null,
   "metadata": {},
   "outputs": [],
   "source": []
  },
  {
   "cell_type": "markdown",
   "metadata": {},
   "source": [
    "<img src=\"https://cdn.pixabay.com/photo/2016/10/18/19/40/anatomy-1751201_960_720.png\" width=\"30\" align=left><div class=\"alert alert-block alert-info\">**Qu3.1 Réponses**  \n",
    "Les paramètres des fonctions sont passés par... .  \n",
    "    Pour les types primaires, les paramètres sont en fait des.... des variables originales passées lors de l'appel."
   ]
  },
  {
   "cell_type": "markdown",
   "metadata": {
    "id": "064M4LMP17KP"
   },
   "source": [
    "### Exercices sur les `set`\n",
    "Lisez bien la documentation sur les ensembles [ici](https://docs.python.org/fr/3/library/stdtypes.html#set) avant de faire les exercices qui suivent.  \n"
   ]
  },
  {
   "cell_type": "markdown",
   "metadata": {},
   "source": [
    "<img src=\"https://cdn.pixabay.com/photo/2018/01/04/16/53/building-3061124_960_720.png\" width=30 align=left><div class=\"alert alert-block alert-danger\">**Exo 2.3 - Union**  \n",
    "    Créez l'ensemble `s`contenant tous les entiers de 0 à 14 inclus, l'ensemble `t` contenant tous les entiers pairs de 6 à 20 inclus.  \n",
    "    Fusionnez `s` et `t` dans un nouvel ensemble `u` .  \n",
    "    (cette opération s'appelle une *union* dans le langage mathématique)"
   ]
  },
  {
   "cell_type": "code",
   "execution_count": null,
   "metadata": {
    "id": "AbprG3TwvB5D"
   },
   "outputs": [],
   "source": []
  },
  {
   "cell_type": "markdown",
   "metadata": {},
   "source": [
    "<img src=\"https://cdn.pixabay.com/photo/2018/01/04/16/53/building-3061124_960_720.png\" width=30 align=left><div class=\"alert alert-block alert-danger\">**Exo 2.3 - Intersection**  \n",
    "    Créez un ensemble `v` qui contiennent les éléments présents dans `s` et `t` .  \n",
    "    (cette opération s'appelle une *intersection* dans le langage mathématique)\n",
    " "
   ]
  },
  {
   "cell_type": "code",
   "execution_count": null,
   "metadata": {
    "id": "AbprG3TwvB5D"
   },
   "outputs": [],
   "source": []
  },
  {
   "cell_type": "markdown",
   "metadata": {},
   "source": [
    "<img src=\"https://cdn.pixabay.com/photo/2018/01/04/16/53/building-3061124_960_720.png\" width=30 align=left><div class=\"alert alert-block alert-danger\">**Exo 2.4 - Différence**  \n",
    "    Créez un ensemble `w` qui contiennent les éléments de `s` qui ne sont pas présents dans `t` .  \n",
    "    (cette opération s'appelle une *différence* dans le langage mathématique)\n",
    " "
   ]
  },
  {
   "cell_type": "code",
   "execution_count": null,
   "metadata": {
    "id": "AbprG3TwvB5D"
   },
   "outputs": [],
   "source": []
  },
  {
   "cell_type": "markdown",
   "metadata": {},
   "source": [
    "<img src=\"https://cdn.pixabay.com/photo/2018/01/04/16/53/building-3061124_960_720.png\" width=30 align=left><div class=\"alert alert-block alert-danger\">**Exo 2.5 - On retire**  \n",
    "    Retirez `12` et `14` de `t` .  \n",
    "    Trouvez ensuite la méthode permettant de calculer si `t` est un sous-ensemble de `s` (c'est à dire que tous les éléments de `t` sont aussi dans `s`)."
   ]
  },
  {
   "cell_type": "code",
   "execution_count": null,
   "metadata": {},
   "outputs": [],
   "source": []
  },
  {
   "cell_type": "markdown",
   "metadata": {},
   "source": [
    "<img src=\"https://cdn.pixabay.com/photo/2018/01/04/16/53/building-3061124_960_720.png\" width=30 align=left><div class=\"alert alert-block alert-danger\">**Exo 2.6 - Pop**  \n",
    "    Que fait `pop` sur l'ensemble `w`?"
   ]
  },
  {
   "cell_type": "code",
   "execution_count": null,
   "metadata": {},
   "outputs": [],
   "source": []
  },
  {
   "cell_type": "markdown",
   "metadata": {},
   "source": [
    "<img src=\"https://cdn.pixabay.com/photo/2018/01/04/16/53/building-3061124_960_720.png\" width=30 align=left><div class=\"alert alert-block alert-danger\">**Exo 2.7 - Parcours**  \n",
    "    Créez une boucle qui parcourt `w` et affiche les carrés de ses éléments."
   ]
  },
  {
   "cell_type": "code",
   "execution_count": null,
   "metadata": {},
   "outputs": [],
   "source": []
  },
  {
   "cell_type": "markdown",
   "metadata": {},
   "source": [
    "<img src=\"https://cdn.pixabay.com/photo/2018/01/04/16/53/building-3061124_960_720.png\" width=30 align=left><div class=\"alert alert-block alert-danger\">**Exo 2.8 - Ma diffèrence à moi**  \n",
    "    Vous allez reconstruire la méthode `difference` vue au 2.4:  créez une boucle qui parcourt `s`, et qui ajoute dans un nouvel ensemble `x` chaque élément de `s` qui n'appartient pas à `t` .  \n",
    "    (vous devez  utiliser les opérateurs `in` et `not in`) "
   ]
  },
  {
   "cell_type": "code",
   "execution_count": null,
   "metadata": {},
   "outputs": [],
   "source": []
  },
  {
   "cell_type": "markdown",
   "metadata": {},
   "source": [
    "## Le type `dict`\n",
    "Le type `dict` est un type conteneur, non séquentiel, basé (comme `set`) sur le principe très efficace du [hachage](https://fr.wikipedia.org%2Fwiki%2FFonction_de_hachage) que vous découvrirez l'année prochaine. Son principe est le suivant: **il stocke des associations de clés uniques et de valeurs**.  \n",
    "*(Une liste stocke des associations d'indices et de valeurs)*  \n",
    "Les clés et les valeurs peuvent être de types quelconques mais doivent être hashables donc non mutables, comme c'est le cas pour les ensembles.  \n",
    "Leur construction est similaire à celle des ensembles, à la différence qu'on stocke donc des associations:"
   ]
  },
  {
   "cell_type": "code",
   "execution_count": null,
   "metadata": {},
   "outputs": [],
   "source": [
    "# dictionnaire des 4 plus grandes villes françaises et de leur population\n",
    "topPop = {\"Paris\":2175601,  \"Marseille\":868277, \"Lyon\":518635 , \"Toulouse\":486828}\n",
    "print(type(topPop))\n",
    "print(topPop)"
   ]
  },
  {
   "cell_type": "markdown",
   "metadata": {},
   "source": [
    "Nous verrons quand vous serez devenus très forts que la recherche d'une clé dans un dictionnaire est beaucoup plus rapide qu'une simple recherche dans une liste. A ce titre, l'utilisation de l'opérateur `in` est beaucoup moins coûteuse dans les ensembles ou les dictionnaires que dans les listes (mais on ne peut pas s'en rendre compte pour le moment)."
   ]
  },
  {
   "cell_type": "code",
   "execution_count": null,
   "metadata": {},
   "outputs": [],
   "source": [
    "print(\"Paris\" in topPop)\n",
    "print(\"Maubeuge\" in topPop)\n",
    "print(518635 in topPop)"
   ]
  },
  {
   "cell_type": "markdown",
   "metadata": {},
   "source": [
    "<img src=\"https://cdn.pixabay.com/photo/2016/10/18/19/40/anatomy-1751201_960_720.png\" width=\"30\" align=left><div class=\"alert alert-block alert-info\">**Qu2.3** Dans un dictionnaire, on peut effectuer une recherche sur les .... mais pas sur les ...\n",
    "</div>"
   ]
  },
  {
   "cell_type": "markdown",
   "metadata": {},
   "source": [
    "<img src=\"https://cdn.pixabay.com/photo/2018/01/04/16/53/building-3061124_960_720.png\" width=30 align=left><div class=\"alert alert-block alert-danger\">**Exo 2.9 - Listes de clés et valeurs**  \n",
    "    Les méthodes `keys` et `values` permettent de construire les listes des clés et des valeurs d'un dictionnaire. Testez les."
   ]
  },
  {
   "cell_type": "code",
   "execution_count": null,
   "metadata": {},
   "outputs": [],
   "source": []
  },
  {
   "cell_type": "markdown",
   "metadata": {},
   "source": [
    "Pour ajouter des couples clé/valeur à un dictionnaire, il suffit de définir ce couple à l'aide d'une syntaxe similaire à celle des listes: `topPop[\"Maubeuge\"]=30100`. "
   ]
  },
  {
   "cell_type": "markdown",
   "metadata": {},
   "source": [
    "<img src=\"https://cdn.pixabay.com/photo/2018/01/04/16/53/building-3061124_960_720.png\" width=30 align=left><div class=\"alert alert-block alert-danger\">**Exo 2.10 - Maubeuge rulz**  \n",
    "    Ajoutez Maubeuge au dictionnaire, puis tentez de supprimer Toulouse.  \n",
    "    Si vous n'y parvenez pas, la documentation est [ici](https://docs.python.org/fr/3/library/stdtypes.html#mapping-types-dict)."
   ]
  },
  {
   "cell_type": "code",
   "execution_count": null,
   "metadata": {},
   "outputs": [],
   "source": []
  },
  {
   "cell_type": "markdown",
   "metadata": {},
   "source": [
    "<img src=\"https://cdn.pixabay.com/photo/2018/01/04/16/53/building-3061124_960_720.png\" width=30 align=left><div class=\"alert alert-block alert-danger\">**Exo 2.11 - Présentation du dictionnaire**  \n",
    "    Ecrivez un programme qui liste le contenu du dictionnaire sous la forme  \n",
    "    `Paris a une population de...`,  \n",
    "    `Marseille a une population de...`  \n",
    "    ..."
   ]
  },
  {
   "cell_type": "code",
   "execution_count": null,
   "metadata": {},
   "outputs": [],
   "source": []
  },
  {
   "cell_type": "markdown",
   "metadata": {},
   "source": [
    "<img src=\"https://cdn.pixabay.com/photo/2018/01/04/16/53/building-3061124_960_720.png\" width=30 align=left><div class=\"alert alert-block alert-danger\">**Exo 2.12 - PII: Programme Intelligent Interactif**  \n",
    "* Ecrivez un programme qui demande à l'utilisateur un nom de ville, le recherche dans le dictionnaire et affiche sa population si il est présent.  \n",
    "* Augmentez ce programme de façon à ce que, si un nom de ville inconnue est entré, votre programme demande sa population et l'ajoute dans le dictionnaire."
   ]
  },
  {
   "cell_type": "code",
   "execution_count": null,
   "metadata": {},
   "outputs": [],
   "source": []
  }
 ],
 "metadata": {
  "colab": {
   "name": "Untitled0.ipynb",
   "provenance": []
  },
  "kernelspec": {
   "display_name": "Python 3",
   "language": "python",
   "name": "python3"
  },
  "language_info": {
   "codemirror_mode": {
    "name": "ipython",
    "version": 3
   },
   "file_extension": ".py",
   "mimetype": "text/x-python",
   "name": "python",
   "nbconvert_exporter": "python",
   "pygments_lexer": "ipython3",
   "version": "3.8.10"
  }
 },
 "nbformat": 4,
 "nbformat_minor": 1
}
