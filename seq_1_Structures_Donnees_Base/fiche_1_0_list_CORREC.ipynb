{
 "cells": [
  {
   "cell_type": "markdown",
   "metadata": {
    "id": "vA_WUxl6JQpq"
   },
   "source": [
    "<img src=\"https://cdn.pixabay.com/photo/2017/07/12/06/05/danbo-2495978_960_720.jpg\" width=40% >\n",
    "\n",
    "# Séquence 1- Fiche 0 : `list` et ses méthodes"
   ]
  },
  {
   "cell_type": "markdown",
   "metadata": {
    "id": "zyj2Nl7_Khb4"
   },
   "source": [
    "## Les types conteneurs"
   ]
  },
  {
   "cell_type": "markdown",
   "metadata": {
    "id": "_HqVSAZHKhb6"
   },
   "source": [
    "Le type `list` est un **type conteneur**, c'est-à-dire que les objets de type `list` contiennent d'autres objets.\n",
    "En fait, ils ne \"contiennent\" pas vraiment ces objets mais contiennent des **références** à ces objets.\n",
    "Les objets contenus dans une liste peuvent être de tout type."
   ]
  },
  {
   "cell_type": "code",
   "execution_count": null,
   "metadata": {
    "id": "id-A-eJlKhb7"
   },
   "outputs": [],
   "source": [
    "l1 = [3,-2.1, 'hello']"
   ]
  },
  {
   "cell_type": "markdown",
   "metadata": {
    "id": "BtzKVotwKhb8"
   },
   "source": [
    "Le type `str` ou chaîne de caractère est également un type conteneur."
   ]
  },
  {
   "cell_type": "code",
   "execution_count": null,
   "metadata": {
    "id": "MXhoGmkQKhb8"
   },
   "outputs": [],
   "source": [
    "s1 = \"carambar\""
   ]
  },
  {
   "cell_type": "markdown",
   "metadata": {
    "id": "zURTOqEQKhb9"
   },
   "source": [
    "D'autres types conteneurs qui seront vus plus en détails plus tard sont:"
   ]
  },
  {
   "cell_type": "code",
   "execution_count": null,
   "metadata": {
    "id": "s8UgeOUXKhb9",
    "outputId": "a045d176-c22a-4e2d-a6d8-5e054f98073c"
   },
   "outputs": [],
   "source": [
    "#les n-uplets ou tuple, notez les parenthèses et que c'est le même type répété\n",
    "t1 = (3,4,3)\n",
    "print(type(t1))\n",
    "t2 = ('aa', 'bb', 'ccc')\n",
    "print(type(t1))"
   ]
  },
  {
   "cell_type": "code",
   "execution_count": null,
   "metadata": {
    "id": "x_7-FbrDKhb-",
    "outputId": "272567ab-50f7-4a69-8303-e7649d9deb0a"
   },
   "outputs": [],
   "source": [
    "#les ensembles ou sets, entre accolades\n",
    "e1 = {3,4,\"hello\"}\n",
    "print(type(e1))"
   ]
  },
  {
   "cell_type": "code",
   "execution_count": null,
   "metadata": {
    "id": "4Wn9cZZSKhb_",
    "outputId": "f0c8c7ad-54a0-47e2-8ff0-703bf1de0539"
   },
   "outputs": [],
   "source": [
    "#les dictionnaires, entre accolades on place des paires de clé:valeur\n",
    "d1 = {'attaque':3, 'défense':7, 'mouvement':12}\n",
    "print(type(d1))"
   ]
  },
  {
   "cell_type": "markdown",
   "metadata": {},
   "source": [
    "<img src=\"https://cdn.pixabay.com/photo/2016/10/18/19/40/anatomy-1751201_960_720.png\" width=\"30\" align=left><div class=\"alert alert-block alert-info\">\n",
    "**Qu1.0** Les types conteneurs sont. `list`, `tuple`, `str`, `set`, `dict`. \n",
    "    Y en a-t-il d'autres ? Non.\n",
    "</div>"
   ]
  },
  {
   "cell_type": "markdown",
   "metadata": {
    "id": "gwqVV5gDKhcA"
   },
   "source": [
    "## Opérateur \"est élément de\" : *in*\n",
    "Les types conteneurs ont en commun que l'opérateur **in** peut être utilisé pour savoir si un objet conteneur contient une certaine *valeur*."
   ]
  },
  {
   "cell_type": "code",
   "execution_count": null,
   "metadata": {
    "id": "sJxE1320KhcA",
    "outputId": "5d305801-3d66-4546-c1e9-5299ba5b120e"
   },
   "outputs": [],
   "source": [
    "'hello' in [1,2,'hello','bye']"
   ]
  },
  {
   "cell_type": "code",
   "execution_count": null,
   "metadata": {
    "id": "40xi59IcKhcB",
    "outputId": "67e1e051-727b-4de4-f317-05098f114736"
   },
   "outputs": [],
   "source": [
    "5 in [3,4,8,-1]"
   ]
  },
  {
   "cell_type": "code",
   "execution_count": null,
   "metadata": {
    "id": "kt66IzpNKhcB",
    "outputId": "bf034168-755a-4f53-b2bf-51b284e475ae"
   },
   "outputs": [],
   "source": [
    "'b' in 'aaaabcc'"
   ]
  },
  {
   "cell_type": "code",
   "execution_count": null,
   "metadata": {
    "id": "tpBEJEVyKhcC",
    "outputId": "c4209479-9bd2-4b0d-ddee-8f85001de1fe"
   },
   "outputs": [],
   "source": [
    "'bb' in ('aa','bb')"
   ]
  },
  {
   "cell_type": "code",
   "execution_count": null,
   "metadata": {
    "id": "09Cj8NxKKhcC",
    "outputId": "c14ec463-d798-4089-ae19-ae0b9ab797f8"
   },
   "outputs": [],
   "source": [
    "'lundi' in {'lundi':3,'mardi':4}"
   ]
  },
  {
   "cell_type": "code",
   "execution_count": null,
   "metadata": {
    "id": "vWP2re6YKhcC",
    "outputId": "3bc9c0f5-ed39-400e-c524-6af146792263"
   },
   "outputs": [],
   "source": [
    "3 in {'lundi':3,'mardi':4}  # seules les clés peuvent être cherchées dans un dictionnaire, pas les valeurs"
   ]
  },
  {
   "cell_type": "markdown",
   "metadata": {
    "id": "zf489gCNKhcD"
   },
   "source": [
    "**Avancé** : un type conteneur doit implémenter la méthode `__contains__` et l'opérateur `in` ne fait qu'appeler cette méthode. La ligne ci-dessus peut être aussi écrite"
   ]
  },
  {
   "cell_type": "code",
   "execution_count": null,
   "metadata": {
    "id": "1Nagzfb0KhcD",
    "outputId": "0f0d8322-20cf-4ae4-d1b7-5cfcf6542825"
   },
   "outputs": [],
   "source": [
    "d = {'lundi':3,'mardi':4}\n",
    "d.__contains__('mercredi')"
   ]
  },
  {
   "cell_type": "markdown",
   "metadata": {},
   "source": [
    "<img src=\"https://cdn.pixabay.com/photo/2016/10/18/19/40/anatomy-1751201_960_720.png\" width=\"30\" align=left><div class=\"alert alert-block alert-info\">\n",
    "**Qu1.1** Vraiment, euh, `in` est un opérateur ? Comment ça ?  \n",
    "    `in` est un opérateur à intercaler entre un objet et un type conteneur.\n",
    "</div>"
   ]
  },
  {
   "cell_type": "markdown",
   "metadata": {
    "id": "0U9jOWzoKhcE"
   },
   "source": [
    "## Les types séquentiels"
   ]
  },
  {
   "cell_type": "markdown",
   "metadata": {
    "id": "bxuish1GKhcE"
   },
   "source": [
    "Les **séquences** ou types séquentiels sont des types que l'on peut **énumérer** : les éléments sont les uns à la suite des autres, suivant un **ordre** déterminé, il existe un premier élément, un second...etc  \n",
    "Les types séquentiels natifs principaux sont le type `list` (qui est aussi un type conteneur), les `tuple` et le type `str` ."
   ]
  },
  {
   "cell_type": "markdown",
   "metadata": {
    "id": "6aBqmw60KhcE"
   },
   "source": [
    "Sur un type séquentiel, on peut utiliser la fonction native **len** (longueur) :"
   ]
  },
  {
   "cell_type": "code",
   "execution_count": null,
   "metadata": {
    "id": "UfgCZmTPKhcF",
    "outputId": "c8ca079e-4a15-4442-95c1-9db1b6a84bc4"
   },
   "outputs": [],
   "source": [
    "len( [3,5,4,7, 'toto'])"
   ]
  },
  {
   "cell_type": "code",
   "execution_count": null,
   "metadata": {
    "id": "BPFDpelhKhcF",
    "outputId": "e9fc0f67-b74d-41b6-9262-00ab5c33d9a6"
   },
   "outputs": [],
   "source": [
    "len('mljqsdoghmdfog')"
   ]
  },
  {
   "cell_type": "code",
   "execution_count": null,
   "metadata": {
    "id": "9FTJlHklKhcF",
    "outputId": "c4b1cafc-aba4-4358-b967-b0d9c6a0d419"
   },
   "outputs": [],
   "source": [
    "len((3,3,-1))"
   ]
  },
  {
   "cell_type": "markdown",
   "metadata": {},
   "source": [
    "<img src=\"https://cdn.pixabay.com/photo/2016/10/18/19/40/anatomy-1751201_960_720.png\" width=\"30\" align=left><div class=\"alert alert-block alert-info\">\n",
    "**Qu1.2** Peut-on dire que tous les types conteneurs sont des types séquentiels ? (exemple/contre-exemple, faites des tests)  \n",
    "    Non, voir les `set` et `dict` plus bas.\n",
    "    Les types séquentiels sont-ils forcément des types conteneurs ?  \n",
    "    Oui, pour gérer un ordre, il faut nécessairement qu'ils stockent des éléments externes.  \n",
    "    Quel est le rapport entre ces deux notions ? \n",
    "</div>"
   ]
  },
  {
   "cell_type": "markdown",
   "metadata": {
    "id": "zLJbc4-MQ0ei"
   },
   "source": [
    "\n",
    "## Les méthodes du type `list`"
   ]
  },
  {
   "cell_type": "markdown",
   "metadata": {
    "id": "FQdzGKOodf4K"
   },
   "source": [
    "Les **méthodes** sont des instructions qu'un objet peut exécuter. Chaque type d'objet possède ses propres méthodes. La syntaxe pour appeler les méthodes d'un objet est  \n",
    "`nomdelobjet.nomdelamethode(paramètres)`  \n",
    "(les paramètres à fournir dépendent de la méthode choisie)  \n",
    "Par exemple, la méthode **append** permet d'ajouter un élément à la fin d'une liste. Sa syntaxe est  \n",
    "`nomdelaliste.append(element)`"
   ]
  },
  {
   "cell_type": "code",
   "execution_count": null,
   "metadata": {
    "id": "SceBrtJRPurj"
   },
   "outputs": [],
   "source": [
    "maliste = ['hibou', 'caillou']\n",
    "print(maliste.append('chou'))"
   ]
  },
  {
   "cell_type": "markdown",
   "metadata": {
    "id": "zuq2O3m1gSFp"
   },
   "source": [
    "La méthode `append` a ajouté `'chou'` en fin de liste mais ne *renvoie* rien, donc il n'y a pas de sortie affichée."
   ]
  },
  {
   "cell_type": "code",
   "execution_count": null,
   "metadata": {
    "colab": {
     "base_uri": "https://localhost:8080/"
    },
    "id": "tM84KxPAgFMc",
    "outputId": "ef4297e2-1d7c-458f-de69-cc288d9d402c"
   },
   "outputs": [],
   "source": [
    "print(maliste)"
   ]
  },
  {
   "cell_type": "markdown",
   "metadata": {},
   "source": [
    "<img src=\"https://cdn.pixabay.com/photo/2016/10/18/19/40/anatomy-1751201_960_720.png\" width=\"30\" align=left><div class=\"alert alert-block alert-info\">\n",
    "**Qu1.3** Attends tu peux me réexpliquer  là, ça veut dire quoi que ça **renvoie** rien donc ça affiche pas ? Un exemple qui renvoie ce serait quoi ?\n",
    "    `maliste.append(val)` est exécuté et ensuite remplacé dans le code par `None`.  \n",
    "    Quand on utilise `max(l)`, la fonction `max` est remplacée par la valeur maximum de `l`. On dit que `max` retourne le maximum de `l`.\n",
    "</div>"
   ]
  },
  {
   "cell_type": "markdown",
   "metadata": {},
   "source": [
    "## Exercices sur les méthodes"
   ]
  },
  {
   "cell_type": "markdown",
   "metadata": {
    "id": "BkrdV0Jkgw7_"
   },
   "source": [
    "<img src=\"https://cdn.pixabay.com/photo/2018/01/04/16/53/building-3061124_960_720.png\" width=30 align=left><div class=\"alert alert-block alert-danger\">  \n",
    "**Exo 1.4**\n",
    "**A vous** de lire les méthodes du type `list` [sur ce lien](https://docs.python.org/fr/3/tutorial/datastructures.html#more-on-lists) et de les utiliser pour répondre aux exercices ci-dessous.  \n",
    "\n",
    "    \n"
   ]
  },
  {
   "cell_type": "code",
   "execution_count": null,
   "metadata": {},
   "outputs": [],
   "source": [
    "#     Créez une liste de longueur 8 et affichez sa longueur avec `len`\n",
    "l = list(range(2,11))\n",
    "print(len(l))"
   ]
  },
  {
   "cell_type": "code",
   "execution_count": 32,
   "metadata": {
    "id": "Skl2h078gtIP"
   },
   "outputs": [],
   "source": [
    "cheptel = ['vache', 'cochon', 'cheval', 'vache', 'cochon', 'cochon', 'vache', 'cochon', 'cochon', 'cochon', 'vache', 'cochon', 'cochon', 'vache', 'cochon', 'cheval', 'chèvre', 'cochon', 'cochon']"
   ]
  },
  {
   "cell_type": "code",
   "execution_count": 33,
   "metadata": {
    "id": "KbO7wF7rgU8N"
   },
   "outputs": [],
   "source": [
    "#ajoutez une vache à la liste avec une méthode\n",
    "cheptel.append(\"vache\")"
   ]
  },
  {
   "cell_type": "code",
   "execution_count": 34,
   "metadata": {
    "id": "JFtwcZ6jiHH0"
   },
   "outputs": [
    {
     "name": "stdout",
     "output_type": "stream",
     "text": [
      "['vache', 'cochon', 'cheval', 'vache', 'cochon', 'cochon', 'vache', 'cochon', 'cochon', 'cochon', 'vache', 'cochon', 'cochon', 'vache', 'cochon', 'cheval', 'chèvre', 'cochon', 'cochon', 'vache', 'mouton', 'mouton', 'mouton']\n"
     ]
    }
   ],
   "source": [
    "#ajoutez maintenant trois moutons, en une seule instruction\n",
    "cheptel.extend(list(3*[\"mouton\"]))\n",
    "print(cheptel)"
   ]
  },
  {
   "cell_type": "code",
   "execution_count": 35,
   "metadata": {
    "id": "eGYC1JPLiuf0"
   },
   "outputs": [
    {
     "data": {
      "text/plain": [
       "6"
      ]
     },
     "execution_count": 35,
     "metadata": {},
     "output_type": "execute_result"
    }
   ],
   "source": [
    "#affichez le nombre de vaches que contient la liste\n",
    "cheptel.count(\"vache\")\n"
   ]
  },
  {
   "cell_type": "code",
   "execution_count": 36,
   "metadata": {
    "id": "ErUJR6-JizFI"
   },
   "outputs": [
    {
     "name": "stdout",
     "output_type": "stream",
     "text": [
      "16\n"
     ]
    }
   ],
   "source": [
    "#affichez l'indice auquel se trouve la chèvre\n",
    "print(cheptel.index(\"chèvre\"))\n"
   ]
  },
  {
   "cell_type": "code",
   "execution_count": 37,
   "metadata": {
    "id": "WT45si7Mi7ij"
   },
   "outputs": [
    {
     "name": "stdout",
     "output_type": "stream",
     "text": [
      "['vache', 'cochon', 'cheval', 'vache', 'cochon', 'cochon', 'vache', 'cochon', 'cochon', 'cochon', 'vache', 'cochon', 'cochon', 'vache', 'cochon', 'cheval', 'cochon', 'cochon', 'vache', 'mouton', 'mouton', 'mouton']\n"
     ]
    }
   ],
   "source": [
    "#utilisez cet indice pour supprimer la chèvre (sans la blesser svp) ; vérifiez\n",
    "cheptel.pop(cheptel.index(\"chèvre\"))\n",
    "print(cheptel)"
   ]
  },
  {
   "cell_type": "code",
   "execution_count": 38,
   "metadata": {
    "id": "imHM5IINl95J"
   },
   "outputs": [],
   "source": [
    "#supprimez le premier cheval de la liste, sans vous soucier de son indice\n",
    "cheptel.remove(\"cheval\")\n"
   ]
  },
  {
   "cell_type": "code",
   "execution_count": 39,
   "metadata": {
    "id": "vsmcmtlVjAIi"
   },
   "outputs": [],
   "source": [
    "#inversez l'ordre de la liste puis affichez-la pour vérifier\n",
    "cheptel.reverse()\n",
    "print(cheptel)"
   ]
  },
  {
   "cell_type": "code",
   "execution_count": 40,
   "metadata": {
    "id": "X9VkdIEijicS"
   },
   "outputs": [],
   "source": [
    "#insérez un chat à l'indice 5 et affichez juste l'élément d'indice 5 pour vérifier\n",
    "cheptel.insert(5,\"chat\")\n"
   ]
  },
  {
   "cell_type": "code",
   "execution_count": 43,
   "metadata": {
    "id": "L1UKtcRIjs1z"
   },
   "outputs": [
    {
     "name": "stdout",
     "output_type": "stream",
     "text": [
      "['chat', 'cheval', 'cochon', 'cochon', 'cochon', 'cochon', 'cochon', 'cochon', 'cochon', 'cochon', 'cochon', 'cochon', 'cochon', 'mouton', 'mouton', 'mouton', 'vache', 'vache', 'vache', 'vache', 'vache', 'vache']\n"
     ]
    }
   ],
   "source": [
    "# enfin, triez la liste et vérifiez\n",
    "cheptel.sort()\n",
    "print(cheptel)"
   ]
  },
  {
   "cell_type": "markdown",
   "metadata": {
    "id": "4FLxBThEjuuT"
   },
   "source": [
    "<img src=\"https://cdn.pixabay.com/photo/2016/10/18/19/40/anatomy-1751201_960_720.png\" width=\"30\" align=left><div class=\"alert alert-block alert-info\">\n",
    "**Qu1.5** Faites la liste des méthodes de `list` qui ont été vues ci-dessus avec quelques notes sur leurs fonctionnalités:  \n",
    " * `pop()` retire et renvoie le dernier élément; si on précise `pop(i)` la position `i` est retirée  \n",
    " * `remove(v)` retire la première occurrence de `v`\n",
    " * `append(v)` ajoute `v` en fin de liste\n",
    " * `extend(l)` étend la liste avec une autre liste `l`\n",
    " * `sort()` trie la liste\n",
    " * `reverse()` retourne la liste\n",
    " * `index(v)` renvoie la première position de `v`\n",
    " * `count(v)` renvoie le nombre d'occurrences de `v`\n",
    "</div>"
   ]
  },
  {
   "cell_type": "code",
   "execution_count": null,
   "metadata": {},
   "outputs": [],
   "source": []
  }
 ],
 "metadata": {
  "colab": {
   "collapsed_sections": [],
   "name": "fiche_0_0_list.ipynb",
   "provenance": []
  },
  "kernelspec": {
   "display_name": "Python 3",
   "language": "python",
   "name": "python3"
  },
  "language_info": {
   "codemirror_mode": {
    "name": "ipython",
    "version": 3
   },
   "file_extension": ".py",
   "mimetype": "text/x-python",
   "name": "python",
   "nbconvert_exporter": "python",
   "pygments_lexer": "ipython3",
   "version": "3.8.10"
  },
  "toc": {
   "base_numbering": 1,
   "nav_menu": {},
   "number_sections": false,
   "sideBar": true,
   "skip_h1_title": false,
   "title_cell": "Table of Contents",
   "title_sidebar": "Contents",
   "toc_cell": false,
   "toc_position": {},
   "toc_section_display": true,
   "toc_window_display": false
  }
 },
 "nbformat": 4,
 "nbformat_minor": 1
}
