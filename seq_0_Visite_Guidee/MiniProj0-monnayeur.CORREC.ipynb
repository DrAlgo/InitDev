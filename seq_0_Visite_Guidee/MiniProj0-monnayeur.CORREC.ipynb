{
 "cells": [
  {
   "cell_type": "markdown",
   "metadata": {},
   "source": [
    "# Séquence 0 - Le monnayeur <img src=\"https://cdn.pixabay.com/photo/2015/06/15/20/21/register-810546_960_720.jpg\" width=350 align=right>\n",
    "L'objectif de cette séquence de travail est d'aboutir à la création d'un monnayeur, capable de connaître l'état d'une caisse (dans un magasin, par exemple) et de rendre la monnaie lors d'un paiement.\n",
    "Pour ce faire, nous allons suivre un cheminement progressif qui nous permettra d'aboutir à un programme efficace et propre.  \n",
    "## Exercice 1 - Remplir la caisse et afficher son contenu\n",
    "Créez une liste `unites`qui contient la liste de toutes les unités de monnaie (euros seulement, pas les centimes d'euro) : 500, 200, 100,..., 2, 1.\n",
    "\n",
    "**AIDE** : pour cette étape, vous devez savoir manipuler les listes. Si vous n'êtes pas à l'aise avec les listes, prenez le temps de lire la **fiche 2 - listes**.  "
   ]
  },
  {
   "cell_type": "code",
   "execution_count": null,
   "metadata": {},
   "outputs": [],
   "source": [
    "unites = [500,200,100,50,20,10,5,2,1]"
   ]
  },
  {
   "cell_type": "markdown",
   "metadata": {},
   "source": [
    "Nous souhaitons maintenant afficher touts les unités. Vous allez utiliser `for`. \n",
    "\n",
    "**AIDE** : si vous n'êtes pas à l'aise avec cette instruction, allez consulter la **\"fiche 3 - for range\"**."
   ]
  },
  {
   "cell_type": "code",
   "execution_count": null,
   "metadata": {},
   "outputs": [],
   "source": [
    "for u in unites:\n",
    "    print(u, end=\" - \")"
   ]
  },
  {
   "cell_type": "markdown",
   "metadata": {},
   "source": [
    "Créez maintenant une liste `caisse`qui, pour chacune de ces unités, indique leur effectif dans la caisse: 0 billets de 500€, 3 billets de 200€, ...  \n",
    "\n",
    "Saisissez les effectifs de votre choix, ça n'est pas tous les jours qu'on remplit son compte en banque à sa guise."
   ]
  },
  {
   "cell_type": "code",
   "execution_count": null,
   "metadata": {},
   "outputs": [],
   "source": [
    "caisse = [0,1,3,6,7,4,4,14,21]"
   ]
  },
  {
   "cell_type": "markdown",
   "metadata": {},
   "source": [
    "Plus compliqué, vous devez maintenant afficher le contenu de la caisse en indiquant le nombre de chaque unité. \n",
    "\n",
    "__*Exemple*__  \n",
    "`0 billets de 500€`  \n",
    "`3 billets de 200€`  \n",
    "...\n",
    "\n",
    "**AIDE** : pour ce faire, vous aurez besoin d'utiliser `range` (consultez la **\"fiche 3 for range\"** si nécessaire)."
   ]
  },
  {
   "cell_type": "code",
   "execution_count": null,
   "metadata": {},
   "outputs": [],
   "source": [
    "for i in range(len(unites)):\n",
    "    print(f\"{caisse[i]} billets de {unites[i]}€\")"
   ]
  },
  {
   "cell_type": "markdown",
   "metadata": {},
   "source": [
    "Peut-on améliorer notre algorithme et n'afficher que les unités qui sont vraiment dans la caisse?  \n",
    "S'il n'y a pas de billets de 500€, il est inutile d'afficher `0 billets de 500€`, non?  \n",
    "Pour réaliser cela, vous aurez besoin du `if`, dont le fonctionnement est expliqué dans la **\"fiche 1 - if elif else\"**.  \n",
    "\n",
    "Ce serait également joli de gérer le singulier et le pluriel ainsi que la distinction entre pièces et billets: `1 billet de 500€`, `2 billets de 500€`, `12 pièces de 0.50€`."
   ]
  },
  {
   "cell_type": "code",
   "execution_count": null,
   "metadata": {},
   "outputs": [],
   "source": [
    "for i in range(len(unites)):\n",
    "    if unites[i] >= 5:\n",
    "        typem = \"billet\"\n",
    "    else:\n",
    "        typem = \"pièce\"\n",
    "        \n",
    "    if caisse[i] == 0:\n",
    "        continue\n",
    "    elif caisse[i] > 1:\n",
    "        typem += \"s\"\n",
    "    \n",
    "    print(f\"{caisse[i]} {typem} de {unites[i]}€\")"
   ]
  },
  {
   "cell_type": "markdown",
   "metadata": {},
   "source": [
    "Il serait utile d'afficher également, après cette liste des unités, le montant total contenu dans la caisse..."
   ]
  },
  {
   "cell_type": "code",
   "execution_count": null,
   "metadata": {},
   "outputs": [],
   "source": [
    "total = 0\n",
    "\n",
    "for i in range(len(unites)):\n",
    "    if unites[i] >= 5:\n",
    "        typem = \"billet\"\n",
    "    else:\n",
    "        typem = \"pièce\"\n",
    "        \n",
    "    if caisse[i] == 0:\n",
    "        continue\n",
    "    elif caisse[i] > 1:\n",
    "        typem += \"s\"\n",
    "    \n",
    "    print(f\"{caisse[i]} {typem} de {unites[i]}€\")\n",
    "    total += caisse[i]*unites[i]\n",
    "\n",
    "print(f\"\\nTotal: {total}€\")"
   ]
  },
  {
   "cell_type": "code",
   "execution_count": null,
   "metadata": {},
   "outputs": [],
   "source": []
  },
  {
   "cell_type": "markdown",
   "metadata": {},
   "source": [
    "## Exercice 2 - Augmenter le contenu de la caisse\n",
    "Vous allez demander à l'utilisateur de taper une des unités de monnaie possible (500? 200? 100? ...0.02? 0.01?) et augmenter le montant de la caisse de cette unité. Affichez avant et après le contenu et le total de la caisse afin de vérifier.\n",
    "\n",
    "__*Exemple*__  \n",
    "*Avant: la caisse contient 502.46€*  \n",
    "`Quelle unité souhaitez-vous ajouter?`  \n",
    "`20`  \n",
    "*Après: la caisse contient 522.46€*"
   ]
  },
  {
   "cell_type": "code",
   "execution_count": null,
   "metadata": {},
   "outputs": [],
   "source": [
    "ajout = int(input(\"Quelle unité ajouter?\"))"
   ]
  },
  {
   "cell_type": "markdown",
   "metadata": {},
   "source": [
    "Êtes-vous capable de modifier votre programme afin que, dans le cas d'une saisie d'unité incorrecte :\n",
    " * un affichage adéquat soit produit\n",
    " * on se rende compte du problème avant la fin du tableau, et on interrompe la boucle immédiatement plutôt que de visiter inutilement tout le tableau\n",
    "\n",
    "**AIDE**: il y a plusieurs façon de faire, mais vous pourriez avoir besoin des booléens (voir **\"fiche 0 - visite guidée\"**) et du `break`(voir **\"fiche 3 - range for\"**)."
   ]
  },
  {
   "cell_type": "code",
   "execution_count": null,
   "metadata": {},
   "outputs": [],
   "source": [
    "ajout = int(input(\"Quelle unité ajouter?\"))\n",
    "trouve = False\n",
    "for i in range(len(unites)):\n",
    "    if ajout == unites[i]:\n",
    "        trouve = True\n",
    "        caisse[i] += 1\n",
    "        break\n",
    "\n",
    "if not trouve:\n",
    "    print(\"Saisie incorrecte\")\n",
    "caisse\n"
   ]
  },
  {
   "cell_type": "markdown",
   "metadata": {},
   "source": [
    "Nous souhaitons maintenant que l'utilisateur tape un montant, plutôt qu'une simple unité.\n",
    "\n",
    "__*Exemple*__  \n",
    "*Avant: la caisse contient 502.46€*  \n",
    "`Quel montant souhaitez-vous ajouter?`  \n",
    "`12.85€`  \n",
    "*Après: la caisse contient 515.31€*\n",
    "\n",
    "**AIDE** : ici, vous aurez certainement besoin du `while` (allez consulter la **\"fiche 1 - io if while\"**) et/ou du modulo (**\"fiche 0 - visite guidée\"**)"
   ]
  },
  {
   "cell_type": "code",
   "execution_count": null,
   "metadata": {},
   "outputs": [],
   "source": [
    "#version while\n",
    "print(caisse)\n",
    "ajout = int(input(\"Quelle montant ajouter?\"))\n",
    "for i in range(len(unites)):\n",
    "    while ajout >= unites[i]:\n",
    "        caisse[i] += 1\n",
    "        ajout -= unites[i]\n",
    "print(caisse)"
   ]
  },
  {
   "cell_type": "code",
   "execution_count": null,
   "metadata": {},
   "outputs": [],
   "source": [
    "#version modulo\n",
    "print(caisse)\n",
    "ajout = int(input(\"Quelle montant ajouter?\"))\n",
    "for i in range(len(unites)):\n",
    "    caisse[i] += ajout//unites[i]\n",
    "    ajout %= unites[i]\n",
    "print(caisse)"
   ]
  },
  {
   "cell_type": "markdown",
   "metadata": {},
   "source": [
    "## Exercice 3 - Diminuer le contenu de la caisse\n",
    "On va maintenant demander à l'utilisateur de taper un montant à **retirer** de la caisse.  \n",
    "**ATTENTION**, il est possible que retirer un montant donné soit impossible:\n",
    " * la caisse ne contient pas suffisamment de liquidités\n",
    " * la caisse ne contient pas les unités permettant le retrait. Exemple avec une caisse contenant uniquement un billet de 100€ dans laquelle on doit retirer 10€.\n",
    "\n",
    "Vous devez donc vous assurer que le retrait est possible et afficher un refus motivé dans le cas contraire. Vous devez surtout veiller à ne pas modifier le contenu de la caisse par erreur."
   ]
  },
  {
   "cell_type": "code",
   "execution_count": null,
   "metadata": {},
   "outputs": [],
   "source": [
    "print(caisse)\n",
    "retrait = int(input(\"Quelle montant retirer?\"))\n",
    "retirer = [0 for i in range(len(unites))]\n",
    "\n",
    "for i in range(len(unites)):\n",
    "    while retirer[i] < caisse[i] and unites[i] <= retrait :\n",
    "        retirer[i] += 1\n",
    "        retrait -= unites[i]\n",
    "\n",
    "if retrait > 0: # si retrait impossible\n",
    "    print(f\"reste {retrait}: impossible\")\n",
    "else : # sinon on effectue le retrait\n",
    "    for i in range(len(unites)):\n",
    "        caisse[i] -= retirer[i]\n",
    "print(caisse)"
   ]
  },
  {
   "cell_type": "markdown",
   "metadata": {},
   "source": [
    "## Exercice 4 - Un beau menu\n",
    "Ce serait chouette de reprendre tout les algorithmes écrits précédemment, et de les proposer dans un menu. Un vrai programme, quoi...   \n",
    "Quelque chose comme:```.  \n",
    " 1 - voir le total de la caisse\n",
    " 2 - voir le contenu de la caisse\n",
    " 3 - ajouter un montant\n",
    " 4 - retirer un montant\n",
    " 5 - quitter```"
   ]
  },
  {
   "cell_type": "code",
   "execution_count": null,
   "metadata": {},
   "outputs": [],
   "source": [
    "unites = [500,200,100,50,20,10,5,2,1]\n",
    "caisse = [0,1,3,6,7,4,4,14,21] #opif\n",
    "\n",
    "while True: # boucle infinie\n",
    "    rep = input(\"\\n1 - voir le total de la caisse\\n2 - voir le contenu de la caisse\\n3 - ajouter un montant\\n4 - retirer un montant\\n5 - quitter\\n\")\n",
    "    if rep==\"1\": # TOTAL\n",
    "        total = 0\n",
    "        for i in range(len(unites)):\n",
    "            total += caisse[i]*unites[i]\n",
    "        print(\"Total:\", total)\n",
    "    elif rep==\"2\": # CONTENU\n",
    "        for i in range(len(unites)):\n",
    "            if unites[i] >= 5:\n",
    "                typem = \"billet\"\n",
    "            else:\n",
    "                typem = \"pièce\"\n",
    "        \n",
    "            if caisse[i] == 0:\n",
    "                continue\n",
    "            elif caisse[i] > 1:\n",
    "                typem += \"s\"\n",
    "    \n",
    "            print(f\"{caisse[i]} {typem} de {unites[i]}€\")\n",
    "    elif rep==\"3\": # AJOUT\n",
    "        ajout = int(input(\"Quelle montant ajouter?\"))\n",
    "        for i in range(len(unites)):\n",
    "            caisse[i] += ajout//unites[i]\n",
    "            ajout %= unites[i]\n",
    "    elif rep==\"4\": # RETRAIT\n",
    "        retrait = int(input(\"Quelle montant retirer?\"))\n",
    "        retirer = [0 for i in range(len(unites))]\n",
    "\n",
    "        for i in range(len(unites)):\n",
    "            while retirer[i] < caisse[i] and unites[i] <= retrait :\n",
    "                retirer[i] += 1\n",
    "                retrait -= unites[i]\n",
    "\n",
    "        if retrait > 0: # si retrait impossible\n",
    "            print(f\"reste {retrait}: impossible\")\n",
    "        else : # sinon on effectue le retrait\n",
    "            for i in range(len(unites)):\n",
    "                caisse[i] -= retirer[i]\n",
    "    elif rep==\"5\":\n",
    "        break\n",
    "    else:\n",
    "        print(\"Pas compris\")"
   ]
  },
  {
   "cell_type": "code",
   "execution_count": null,
   "metadata": {},
   "outputs": [],
   "source": []
  }
 ],
 "metadata": {
  "kernelspec": {
   "display_name": "Python 3",
   "language": "python",
   "name": "python3"
  },
  "language_info": {
   "codemirror_mode": {
    "name": "ipython",
    "version": 3
   },
   "file_extension": ".py",
   "mimetype": "text/x-python",
   "name": "python",
   "nbconvert_exporter": "python",
   "pygments_lexer": "ipython3",
   "version": "3.8.10"
  }
 },
 "nbformat": 4,
 "nbformat_minor": 5
}
