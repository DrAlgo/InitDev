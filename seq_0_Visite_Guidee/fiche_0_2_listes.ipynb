{
 "cells": [
  {
   "cell_type": "markdown",
   "metadata": {
    "slideshow": {
     "slide_type": "slide"
    }
   },
   "source": [
    "<img src=\"https://cdn.pixabay.com/photo/2016/02/04/18/28/flight-1179587_960_720.jpg\" width=100% >\n",
    "\n",
    "# Séquence 0 - Fiche 2 : Listes, Indices, Valeurs"
   ]
  },
  {
   "cell_type": "markdown",
   "metadata": {
    "slideshow": {
     "slide_type": "fragment"
    }
   },
   "source": [
    "Cette fiche est consacrée au type `list` de python."
   ]
  },
  {
   "cell_type": "markdown",
   "metadata": {
    "slideshow": {
     "slide_type": "fragment"
    }
   },
   "source": [
    "## Définition\n",
    "Une liste, ou `list`, est un **type conteneur**."
   ]
  },
  {
   "cell_type": "markdown",
   "metadata": {
    "slideshow": {
     "slide_type": "slide"
    }
   },
   "source": [
    "<img src=\"https://cdn.pixabay.com/photo/2016/10/18/19/40/anatomy-1751201_960_720.png\" width=\"30\" align=left><div class=\"alert alert-block alert-info\"> **Qu2.1** Un **type conteneur**, c'est...</div>"
   ]
  },
  {
   "cell_type": "markdown",
   "metadata": {},
   "source": [
    "Un objet du type `list` se définit comme une liste d'éléments séparés par des virgules, entre crochets."
   ]
  },
  {
   "cell_type": "code",
   "execution_count": 6,
   "metadata": {},
   "outputs": [],
   "source": [
    "maliste1 = [3, 5.2, \"hop\"]\n",
    "type(maliste1)"
   ]
  },
  {
   "cell_type": "markdown",
   "metadata": {},
   "source": [
    "Une liste peut contenir tous types d'objets comme dans l'exemple ci-dessus où `maliste1` contient trois éléments, dans l'ordre un `int` (entier), un `float` (flottant) et un `str` (chaîne de caractères)."
   ]
  },
  {
   "cell_type": "markdown",
   "metadata": {},
   "source": [
    "<img src=\"https://cdn.pixabay.com/photo/2018/01/04/16/53/building-3061124_960_720.png\" width=30 align=left><div class=\"alert alert-block alert-danger\">  **Ex2.2 - une petite liste**  \n",
    "Créez un objet nommé `maliste2` contenant 5 éléménts du type `int`, `int`, `float`, `bool`, `str`, puis affichez-le</div>"
   ]
  },
  {
   "cell_type": "code",
   "execution_count": 2,
   "metadata": {},
   "outputs": [],
   "source": [
    "#reponse\n",
    "\n"
   ]
  },
  {
   "cell_type": "markdown",
   "metadata": {},
   "source": [
    "## Longueur d'une liste"
   ]
  },
  {
   "cell_type": "markdown",
   "metadata": {},
   "source": [
    "<img src=\"https://cdn.pixabay.com/photo/2016/10/18/19/40/anatomy-1751201_960_720.png\" width=\"30\" align=left><div class=\"alert alert-block alert-info\">**Qu2.3**  \n",
    "La **longueur d'une liste** est...  \n",
    "La plus petite longueur possible pour une liste est..."
   ]
  },
  {
   "cell_type": "markdown",
   "metadata": {},
   "source": [
    "La longueur d'une liste est obtenue par la fonction native `len`.    \n",
    "\n",
    "<img src=\"https://cdn.pixabay.com/photo/2016/10/18/19/40/anatomy-1751201_960_720.png\" width=\"30\" align=left><div class=\"alert alert-block alert-info\"> \n",
    "**Qu2.4 :** `len` est l'abbréviation du mot anglais..."
   ]
  },
  {
   "cell_type": "markdown",
   "metadata": {},
   "source": [
    "<img src=\"https://cdn.pixabay.com/photo/2018/01/04/16/53/building-3061124_960_720.png\" width=30 align=left><div class=\"alert alert-block alert-danger\">  **Ex2.5 - Range ta chambre**   \n",
    "    Affichez la longueur de `maliste1`.  \n",
    "Puis faites le nécessaire pour que `maliste1` devienne une liste vide, et affichez à nouveau sa longueur."
   ]
  },
  {
   "cell_type": "code",
   "execution_count": 13,
   "metadata": {},
   "outputs": [
    {
     "data": {},
     "execution_count": 13,
     "metadata": {},
     "output_type": "execute_result"
    }
   ],
   "source": []
  },
  {
   "cell_type": "markdown",
   "metadata": {},
   "source": [
    "<img src=\"https://cdn.pixabay.com/photo/2016/10/18/19/40/anatomy-1751201_960_720.png\" width=\"30\" align=left><div class=\"alert alert-block alert-info\"> \n",
    "**Qu2.6**: le mot-clé ??? décrit un objet un peu particulier: **l'objet vide**.  \n",
    "   "
   ]
  },
  {
   "cell_type": "markdown",
   "metadata": {},
   "source": [
    "<img src=\"https://cdn.pixabay.com/photo/2018/01/04/16/53/building-3061124_960_720.png\" width=30 align=left><div class=\"alert alert-block alert-danger\">  **Ex2.7 - Les objets particuliers**   \n",
    "Question importante: on se demande quelle est la différence entre `None`, `[]`, `False` et `0`.  \n",
    "En particulier, on se demande comment réagit `if` quand on lui soumet ces objets.  \n",
    "*(Nous avons vu précédement que, pour les entiers, un entier nul était considéré comme Faux, et tous les autres entiers comme Vrai.)*  \n",
    "Procédez à quelques tests à l'aide du `if` afin de déterminer comment `None`, `[]` et `False` sont évalués. Affichez également leur type.  \n",
    "Enfin, expliquez quelle est la différence, pour une liste `l`, entre écrire `l=[]` et `l=None`."
   ]
  },
  {
   "cell_type": "code",
   "execution_count": 13,
   "metadata": {},
   "outputs": [
    {
     "data": {},
     "execution_count": 13,
     "metadata": {},
     "output_type": "execute_result"
    }
   ],
   "source": []
  },
  {
   "cell_type": "markdown",
   "metadata": {},
   "source": [
    "<img src=\"https://cdn.pixabay.com/photo/2016/10/18/19/40/anatomy-1751201_960_720.png\" width=\"30\" align=left><div class=\"alert alert-block alert-info\"> \n",
    "**Qu2.8**:\n",
    "    `False` est de type.....et est évidemment évalué comme étant Faux.   \n",
    "    `None` est de type.....et est évalué comme étant.....   \n",
    "    `[]` est de type.....et est évalué comme étant...  \n",
    "   "
   ]
  },
  {
   "cell_type": "markdown",
   "metadata": {},
   "source": [
    "<img src=\"https://cdn.pixabay.com/photo/2018/01/04/16/53/building-3061124_960_720.png\" width=30 align=left><div class=\"alert alert-block alert-danger\">  **Ex2.6 - liste au choix**   \n",
    "Créez une liste de longueur 8 et affichez sa longueur."
   ]
  },
  {
   "cell_type": "code",
   "execution_count": null,
   "metadata": {},
   "outputs": [],
   "source": []
  },
  {
   "cell_type": "markdown",
   "metadata": {},
   "source": [
    "<img src=\"https://cdn.pixabay.com/photo/2018/09/26/09/13/pixel-cells-3704046_960_720.png\" width=15% align=left> \n",
    "\n",
    "## Indices dans une liste"
   ]
  },
  {
   "cell_type": "markdown",
   "metadata": {},
   "source": [
    "Les éléments d'une liste sont toujours numérotés dans l'ordre de la liste **en débutant à 0** et de 1 en 1. On appelle ce numéro **indice**. Les indices sont donc, dans l'ordre **0, 1, 2, 3, 4, 5, 6, 7...**"
   ]
  },
  {
   "cell_type": "code",
   "execution_count": 16,
   "metadata": {},
   "outputs": [
    {
     "data": {},
     "execution_count": 16,
     "metadata": {},
     "output_type": "execute_result"
    }
   ],
   "source": [
    "maliste1 = [3, 5.2, \"hop\"]"
   ]
  },
  {
   "cell_type": "markdown",
   "metadata": {},
   "source": [
    "L'élément 3 est à l'indice 0, l'élément 5.2 à l'indice 1 et l'élément 'hop' à l'indice 2.\n",
    "On peut afficher la valeur d'un élément à un indice avec la syntaxe  \n",
    "\n",
    "`nomdelaliste[indice]`"
   ]
  },
  {
   "cell_type": "code",
   "execution_count": 17,
   "metadata": {},
   "outputs": [
    {
     "data": {},
     "execution_count": 17,
     "metadata": {},
     "output_type": "execute_result"
    }
   ],
   "source": [
    "maliste1[0]"
   ]
  },
  {
   "cell_type": "code",
   "execution_count": 20,
   "metadata": {},
   "outputs": [
    {
     "data": {},
     "execution_count": 20,
     "metadata": {},
     "output_type": "execute_result"
    }
   ],
   "source": [
    "maliste1[1]"
   ]
  },
  {
   "cell_type": "code",
   "execution_count": 22,
   "metadata": {},
   "outputs": [
    {
     "data": {},
     "execution_count": 22,
     "metadata": {},
     "output_type": "execute_result"
    }
   ],
   "source": [
    "maliste1[2]"
   ]
  },
  {
   "cell_type": "code",
   "execution_count": 23,
   "metadata": {},
   "outputs": [
    {
     "name": "stderr",
     "output_type": "stream",
     "text": [
      "Traceback (most recent call last):\n",
      "  File \"<input>\", line 1, in <module>\n",
      "IndexError: list index out of range\n"
     ]
    }
   ],
   "source": [
    "maliste1[3]"
   ]
  },
  {
   "cell_type": "markdown",
   "metadata": {},
   "source": [
    "<img src=\"https://cdn.pixabay.com/photo/2016/10/18/19/40/anatomy-1751201_960_720.png\" width=\"30\" align=left><div class=\"alert alert-block alert-info\">\n",
    "**Qu2.5** Ce message d'erreur `list index out of range` signifie que..."
   ]
  },
  {
   "cell_type": "markdown",
   "metadata": {},
   "source": [
    "<img src=\"https://cdn.pixabay.com/photo/2016/10/18/19/40/anatomy-1751201_960_720.png\" width=\"30\" align=left><div class=\"alert alert-block alert-info\">\n",
    "**Qu2.6** Le plus grand indice possible pour une liste qui aurait une longueur 200 est...\n",
    "Est-ce que ça fait bien 200 possibilités pour les indices ?"
   ]
  },
  {
   "cell_type": "markdown",
   "metadata": {},
   "source": [
    "Les listes sont **mutables** ce qui signifie qu'on peut les transformer et changer leurs valeurs sans modifier l'identité (obtenue avec `id`) de la liste concernée. On peut changer un élément qui se trouve dans une liste simplement par une affectation."
   ]
  },
  {
   "cell_type": "code",
   "execution_count": 26,
   "metadata": {},
   "outputs": [],
   "source": [
    "maliste1[1] = \"nouveau\""
   ]
  },
  {
   "cell_type": "code",
   "execution_count": 27,
   "metadata": {},
   "outputs": [
    {
     "data": {},
     "execution_count": 27,
     "metadata": {},
     "output_type": "execute_result"
    }
   ],
   "source": [
    "maliste1"
   ]
  },
  {
   "cell_type": "markdown",
   "metadata": {},
   "source": [
    "<img src=\"https://cdn.pixabay.com/photo/2018/01/04/16/53/building-3061124_960_720.png\" width=30 align=left><div class=\"alert alert-block alert-danger\">**Exo 2.7** Créez une liste `maliste3` contenant les entiers de 3 à 8. Puis, un par un changez ces éléments en 10, 11, ..., 15"
   ]
  },
  {
   "cell_type": "code",
   "execution_count": 27,
   "metadata": {},
   "outputs": [
    {
     "data": {},
     "execution_count": 27,
     "metadata": {},
     "output_type": "execute_result"
    }
   ],
   "source": []
  },
  {
   "cell_type": "markdown",
   "metadata": {},
   "source": [
    "## Ajouter des éléments dans une liste"
   ]
  },
  {
   "cell_type": "markdown",
   "metadata": {},
   "source": [
    "On peut ajouter de nouveaux éléments à la suite d'une liste déjà existante\n",
    "C'est une *modification* de la liste (les listes sont mutables).  \n",
    "La syntaxe pour ajouter à la fin est  \n",
    "`nomdelaliste.append(element_a_ajouter)`"
   ]
  },
  {
   "cell_type": "code",
   "execution_count": 30,
   "metadata": {},
   "outputs": [
    {
     "data": {},
     "execution_count": 30,
     "metadata": {},
     "output_type": "execute_result"
    }
   ],
   "source": [
    "maliste1"
   ]
  },
  {
   "cell_type": "code",
   "execution_count": 31,
   "metadata": {},
   "outputs": [],
   "source": [
    "maliste1.append('42')"
   ]
  },
  {
   "cell_type": "markdown",
   "metadata": {},
   "source": [
    "notez que rien ne s'affiche car la méthode `append` ne **renvoie** rien"
   ]
  },
  {
   "cell_type": "code",
   "execution_count": 32,
   "metadata": {},
   "outputs": [
    {
     "data": {},
     "execution_count": 32,
     "metadata": {},
     "output_type": "execute_result"
    }
   ],
   "source": [
    "maliste1"
   ]
  },
  {
   "cell_type": "markdown",
   "metadata": {},
   "source": [
    "<img src=\"https://cdn.pixabay.com/photo/2016/10/18/19/40/anatomy-1751201_960_720.png\" width=\"30\" align=left><div class=\"alert alert-block alert-info\">\n",
    "**Qu2.8** que signifie \"append\" ?"
   ]
  },
  {
   "cell_type": "code",
   "execution_count": null,
   "metadata": {},
   "outputs": [],
   "source": []
  },
  {
   "cell_type": "code",
   "execution_count": 34,
   "metadata": {},
   "outputs": [],
   "source": [
    "maliste1.append('popopo')"
   ]
  },
  {
   "cell_type": "code",
   "execution_count": 35,
   "metadata": {},
   "outputs": [
    {
     "data": {},
     "execution_count": 35,
     "metadata": {},
     "output_type": "execute_result"
    }
   ],
   "source": [
    "maliste1"
   ]
  },
  {
   "cell_type": "code",
   "execution_count": 36,
   "metadata": {},
   "outputs": [
    {
     "data": {},
     "execution_count": 36,
     "metadata": {},
     "output_type": "execute_result"
    }
   ],
   "source": [
    "len(maliste1)"
   ]
  },
  {
   "cell_type": "markdown",
   "metadata": {},
   "source": [
    "## Exercices"
   ]
  },
  {
   "cell_type": "markdown",
   "metadata": {},
   "source": [
    "## la fonction native max"
   ]
  },
  {
   "cell_type": "markdown",
   "metadata": {},
   "source": [
    "<img src=\"https://cdn.pixabay.com/photo/2018/01/04/16/53/building-3061124_960_720.png\" width=30 align=left><div class=\"alert alert-block alert-danger\">**Exo 2.9** \n",
    "Il existe une fonction native `max` qui donne la valeur maximum dans une liste (quand cela a un sens). Essayez de bricoler avec ci-dessous."
   ]
  },
  {
   "cell_type": "code",
   "execution_count": null,
   "metadata": {},
   "outputs": [],
   "source": []
  },
  {
   "cell_type": "markdown",
   "metadata": {},
   "source": [
    "Pour les exercices suivants le but est de ne PAS utiliser la fonction `max` !  \n",
    "Ecris compris si tu as compris :"
   ]
  },
  {
   "cell_type": "markdown",
   "metadata": {},
   "source": [
    "### maximum dans une liste de longueur 2 (exemple)\n",
    "Le code ci-dessous fonctionne quels que soient les deux nombres dans une liste de longueur 2. Vérifiez en changeant les valeurs !"
   ]
  },
  {
   "cell_type": "code",
   "execution_count": 1,
   "metadata": {},
   "outputs": [
    {
     "name": "stdout",
     "output_type": "stream",
     "text": [
      "Le maximum de la liste vaut 7\n"
     ]
    }
   ],
   "source": [
    "l = [7,4]\n",
    "if l[0] > l[1]:\n",
    "    maxi = l[0]\n",
    "else:\n",
    "    maxi = l[1]\n",
    "print(\"Le maximum de la liste vaut\", maxi)"
   ]
  },
  {
   "cell_type": "markdown",
   "metadata": {},
   "source": [
    "### maximum dans une liste de longueur 4\n",
    "<img src=\"https://cdn.pixabay.com/photo/2018/01/04/16/53/building-3061124_960_720.png\" width=30 align=left><div class=\"alert alert-block alert-danger\">**Exo 2.10** \n",
    "Complétez le code ci-dessous. A la fin de son exécution, la variable maxi doit contenir le maximum des 4 valeurs de la liste.\n",
    "**Attention :** le code doit fonctionner quelles que soient les valeurs de la liste !"
   ]
  },
  {
   "cell_type": "code",
   "execution_count": null,
   "metadata": {},
   "outputs": [],
   "source": [
    "l = [7, 4, 12, 5]\n",
    "# à compléter\n",
    "\n",
    "\n",
    "print(\"Le maximum de la liste vaut\", maxi)"
   ]
  },
  {
   "cell_type": "markdown",
   "metadata": {},
   "source": [
    "### indice du maximum dans une liste de longueur 4"
   ]
  },
  {
   "cell_type": "markdown",
   "metadata": {},
   "source": [
    "<img src=\"https://cdn.pixabay.com/photo/2018/01/04/16/53/building-3061124_960_720.png\" width=30 align=left><div class=\"alert alert-block alert-danger\">**Exo 2.11** \n",
    "Cette fois-ci, votre code doit donner l'indice qui correspond au maximum de la liste de longueur 4. Si le maximum apparaît plusieurs fois, vous devez afficher à la fin le  premier indice possible.\n",
    "Par exemple, si la liste est `[3,5,1,5]` l'indice affiché devra être 1.\n",
    "Bien entendu, le code doit fonctionner si l'on change les 4 valeurs !"
   ]
  },
  {
   "cell_type": "code",
   "execution_count": null,
   "metadata": {},
   "outputs": [],
   "source": [
    "l = [3, 5, 1, 5]\n",
    "# à compléter\n",
    "\n",
    "\n",
    "print(\"L'indice du maximum de la liste est\", imaxi)"
   ]
  },
  {
   "cell_type": "markdown",
   "metadata": {},
   "source": [
    "### échanger deux valeurs dans une liste\n",
    "<img src=\"https://cdn.pixabay.com/photo/2018/01/04/16/53/building-3061124_960_720.png\" width=30 align=left><div class=\"alert alert-block alert-danger\">**Exo 2.12** \n",
    "Cette liste est mal rangée. Echangez les valeurs se trouvant aux indices 3 et 6. Idéalement, cet échange devrait fonctionner même si on changeait la liste. Vous avez besoin peut-être d'une variable \"tampon\" (ou de stockage) ?"
   ]
  },
  {
   "cell_type": "code",
   "execution_count": 40,
   "metadata": {},
   "outputs": [],
   "source": [
    "l = [10, 11, 12, 16, 14, 15, 13, 17]\n",
    "# a completer"
   ]
  },
  {
   "cell_type": "markdown",
   "metadata": {},
   "source": [
    "### tri d'une liste de longueur 3\n",
    "<img src=\"https://cdn.pixabay.com/photo/2018/01/04/16/53/building-3061124_960_720.png\" width=30 align=left><div class=\"alert alert-block alert-danger\">**Exo 2.13** \n",
    "On donne une liste de longueur 3. On demande de la trier en ordre croissant en procédant par comparaisons et échanges successifs. En exemple, on vous montre comment le faire pour une liste de longueur 2 (mais il vous faut compléter les échanges)"
   ]
  },
  {
   "cell_type": "code",
   "execution_count": 6,
   "metadata": {},
   "outputs": [
    {
     "name": "stderr",
     "output_type": "stream",
     "text": [
      "  File \"<unknown>\", line 6\n",
      "    print(l)\n",
      "    ^\n",
      "IndentationError: expected an indented block\n"
     ]
    }
   ],
   "source": [
    "# exemple\n",
    "l = [12,5]\n",
    "if l[1] < l[0]:\n",
    "    #complétez : échangez les elts d'indices 0 et 1\n",
    "    \n",
    "print(l)"
   ]
  },
  {
   "cell_type": "code",
   "execution_count": 42,
   "metadata": {},
   "outputs": [],
   "source": [
    "# idem pour listes de longueur 3\n",
    "l = [12,15,2]\n",
    "# a compléter...\n",
    "\n",
    "\n",
    "print(l)"
   ]
  },
  {
   "cell_type": "markdown",
   "metadata": {},
   "source": [
    "Pour vérifier, essayez différents ordres possibles pour la liste de départ. "
   ]
  },
  {
   "cell_type": "code",
   "execution_count": null,
   "metadata": {},
   "outputs": [],
   "source": [
    "# comme vous êtes en forme vous pouvez peut-être tenter le cas longueur 4 ?\n",
    "l = [12, 2, 6, 4]\n",
    "\n",
    "\n",
    "print(l)"
   ]
  },
  {
   "cell_type": "code",
   "execution_count": null,
   "metadata": {},
   "outputs": [],
   "source": []
  },
  {
   "cell_type": "code",
   "execution_count": null,
   "metadata": {},
   "outputs": [],
   "source": []
  }
 ],
 "metadata": {
  "kernelspec": {
   "display_name": "Python 3",
   "language": "python",
   "name": "python3"
  },
  "language_info": {
   "codemirror_mode": {
    "name": "ipython",
    "version": 3
   },
   "file_extension": ".py",
   "mimetype": "text/x-python",
   "name": "python",
   "nbconvert_exporter": "python",
   "pygments_lexer": "ipython3",
   "version": "3.8.10"
  }
 },
 "nbformat": 4,
 "nbformat_minor": 2
}
