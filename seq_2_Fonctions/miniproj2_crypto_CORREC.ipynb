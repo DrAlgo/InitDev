{
 "cells": [
  {
   "cell_type": "markdown",
   "metadata": {
    "id": "79iyzuEGGWfr"
   },
   "source": [
    "# Mini-projet 2 :<img src=\"https://cdn.pixabay.com/photo/2014/05/27/23/32/matrix-356024_960_720.jpg\" width=\"500\" align=\"right\">\n",
    "# Quelques méthodes de cryptographie\n",
    "Dans ce mini-projet on regarde différentes techniques de cryptographie (comment coder un message) et de cryptanalyse (comment le décoder). Dans tout le travail on utilisera des messages en minuscules, avec les lettres de `'a'` à `'z'` plus l'espace `' '` et le point `'.'`.  \n",
    "On travaille donc sur un \"alphabet\" de taille 28."
   ]
  },
  {
   "cell_type": "code",
   "execution_count": 2,
   "metadata": {
    "executionInfo": {
     "elapsed": 357,
     "status": "ok",
     "timestamp": 1633348887614,
     "user": {
      "displayName": "David Auger",
      "photoUrl": "https://lh3.googleusercontent.com/a-/AOh14GiHtpJKxbhjnqN59O73SiY_gvGeDS2NEUsE9V1YUQ=s64",
      "userId": "03825696780836238935"
     },
     "user_tz": -120
    },
    "id": "PXWbZq0SI8xn"
   },
   "outputs": [],
   "source": [
    "alphabet = \"abcdefghijklmnopqrstuvwxyz .\" #notez espace et point à la fin"
   ]
  },
  {
   "cell_type": "markdown",
   "metadata": {
    "id": "PATFH36mfNjm"
   },
   "source": [
    "**Tous** les messages donnés en clair ou encodés sont basés sur cet alphabet de longueur 28."
   ]
  },
  {
   "cell_type": "markdown",
   "metadata": {
    "id": "HGN9qgijGg2_"
   },
   "source": [
    "## 0. Chiffre de substitution simple"
   ]
  },
  {
   "cell_type": "markdown",
   "metadata": {
    "id": "ZyuFJBbMGg5v"
   },
   "source": [
    "Le **chiffrement par substitution** consiste à remplacer chaque caractère d'un message par un autre caractère prévu à l'avance. On décide par exemple de remplacer chacun des 28 caractères  \n",
    "a -> g  \n",
    "b -> x  \n",
    "...  \n",
    "espace -> b  \n",
    "selon une table quelconque fixée à l'avance.\n",
    "\n",
    "\n",
    "\n"
   ]
  },
  {
   "cell_type": "markdown",
   "metadata": {
    "id": "aRQTi1fQH_n2"
   },
   "source": [
    "<img src=\"https://cdn.pixabay.com/photo/2018/01/04/16/53/building-3061124_960_720.png\" width=30 align=left><div class=\"alert alert-block alert-danger\">**Cryptage par substitution**  \n",
    "    Ecrivez une fonction `cryptSubst(message, table)` réalisant le chiffrement par substitution du message `messge` étant donnée une table de substitution `table`.  \n",
    "Pour la table on pourra utiliser un dictionnaire généré aléatoirement comme ceci:"
   ]
  },
  {
   "cell_type": "code",
   "execution_count": 17,
   "metadata": {},
   "outputs": [],
   "source": [
    "def cryptSubst(message, table):\n",
    "    \"\"\"crypte un message selon une table de subsitution\n",
    "    Paramètres\n",
    "        message : str à chiffer\n",
    "        table : dict de str:str\n",
    "    Retour\n",
    "        str\"\"\"\n",
    "    \n",
    "    s = \"\"\n",
    "    for c in message:\n",
    "        s += table[c]\n",
    "    return s"
   ]
  },
  {
   "cell_type": "code",
   "execution_count": 18,
   "metadata": {
    "executionInfo": {
     "elapsed": 325,
     "status": "ok",
     "timestamp": 1633348325515,
     "user": {
      "displayName": "David Auger",
      "photoUrl": "https://lh3.googleusercontent.com/a-/AOh14GiHtpJKxbhjnqN59O73SiY_gvGeDS2NEUsE9V1YUQ=s64",
      "userId": "03825696780836238935"
     },
     "user_tz": -120
    },
    "id": "NWVICWuwH-l0",
    "scrolled": true
   },
   "outputs": [
    {
     "name": "stdout",
     "output_type": "stream",
     "text": [
      "{'y': 'n', 'q': 'q', 'g': 'g', 'p': ' ', 'f': 'r', 'z': 'm', 'h': 'j', 't': 'h', 'u': 'e', 'v': 'a', 'a': 't', 'i': 'f', ' ': 'd', 'k': 'b', 'e': 'c', 'x': 'z', 'r': 'p', 'j': 'v', '.': 'i', 'b': 'k', 'c': 'o', 'o': 'x', 'l': 'y', 'd': 'l', 'w': 's', 'n': 'u', 's': 'w', 'm': '.'}\n"
     ]
    }
   ],
   "source": [
    "import random\n",
    "shakeIt = random.sample(alphabet, len(alphabet)) # notre alphabet mélangé, sous forme de liste\n",
    "table = { alphabet[i]:shakeIt[i] for i in range(len(alphabet))} # notre dictionnaire de chiffrement\n",
    "print(table)"
   ]
  },
  {
   "cell_type": "markdown",
   "metadata": {
    "id": "375vbAsrIYTB"
   },
   "source": [
    "Voici un petit texte pour vous entraîner à coder."
   ]
  },
  {
   "cell_type": "code",
   "execution_count": 19,
   "metadata": {
    "colab": {
     "base_uri": "https://localhost:8080/",
     "height": 108
    },
    "executionInfo": {
     "elapsed": 279,
     "status": "ok",
     "timestamp": 1633354417332,
     "user": {
      "displayName": "David Auger",
      "photoUrl": "https://lh3.googleusercontent.com/a-/AOh14GiHtpJKxbhjnqN59O73SiY_gvGeDS2NEUsE9V1YUQ=s64",
      "userId": "03825696780836238935"
     },
     "user_tz": -120
    },
    "id": "AKK9xcRgGUmc",
    "outputId": "1cc67c14-0523-4a05-ca5b-aef97445ad47"
   },
   "outputs": [],
   "source": [
    "message0 = \"c est alors qu un vieux marin. a la face rotie par le soleil et balafree d une immense estafilade. vint pour la premiere fois loger sous notre toit. je le vois encore. arrivant d un pas lourd a la porte de chez nous. suivi de son coffre de matelot qu un homme trainait dans une brouette. il etait grand. d apparence athletique. avec une face au teint couleur de brique. une queue goudronnee qui battait le col graisseux de son vieil habit bleu. des mains enormes. calleuses. toutes couturees de cicatrices. et ce coup de sabre qui avait laisse sur sa face. du front au bas de la joue gauche. un sillon blanchatre et livide. je me le rappelle comme si c etait d hier. s arretant pour regarder tout autour de la baie en sifflotant entre ses dents . puis. fredonnant cette vieille chanson de mer qu il devait si souvent nous faire entendre. helas .\""
   ]
  },
  {
   "cell_type": "code",
   "execution_count": 20,
   "metadata": {},
   "outputs": [
    {
     "name": "stdout",
     "output_type": "stream",
     "text": [
      "odcwhdtyxpwdqedeudafcezd.tpfuidtdytdrtocdpxhfcd tpdycdwxycfydchdktytrpccdldeucdf..cuwcdcwhtrfytlcidafuhd xepdytd pc.fcpcdrxfwdyxgcpdwxewduxhpcdhxfhidvcdycdaxfwdcuoxpcidtppfatuhdldeud twdyxepldtdytd xphcdlcdojcmduxewidwefafdlcdwxudoxrrpcdlcd.thcyxhdqedeudjx..cdhptfutfhdltuwdeucdkpxechhcidfydchtfhdgptulidldt  tpcuocdthjychfqecidtacodeucdrtocdtedhcfuhdoxeycepdlcdkpfqecideucdqececdgxelpxuuccdqefdkthhtfhdycdoxydgptfwwcezdlcdwxudafcfydjtkfhdkyceidlcwd.tfuwdcuxp.cwidotyycewcwidhxehcwdoxehepccwdlcdofothpfocwidchdocdoxe dlcdwtkpcdqefdtatfhdytfwwcdwepdwtdrtocidledrpxuhdtedktwdlcdytdvxecdgteojcideudwfyyxudkytuojthpcdchdyfaflcidvcd.cdycdpt  cyycdox..cdwfdodchtfhdldjfcpidwdtppchtuhd xepdpcgtplcpdhxehdtehxepdlcdytdktfcdcudwfrryxhtuhdcuhpcdwcwdlcuhwdid efwidrpclxuutuhdochhcdafcfyycdojtuwxudlcd.cpdqedfydlcatfhdwfdwxeacuhduxewdrtfpcdcuhculpcidjcytwdi\n"
     ]
    }
   ],
   "source": [
    "#test du cryptage\n",
    "print(cryptSubst(message0, table))"
   ]
  },
  {
   "cell_type": "markdown",
   "metadata": {
    "id": "375vbAsrIYTB"
   },
   "source": [
    "<img src=\"https://cdn.pixabay.com/photo/2018/01/04/16/53/building-3061124_960_720.png\" width=30 align=left><div class=\"alert alert-block alert-danger\">**Décryptage par substitution**  \n",
    "    Ecrivez une fonction `inverseTable` qui, pour une table de substitution donnée, génère la table de substitution inverse.  \n",
    "    Ecrivez maintenant une fonction `decryptSubst` qui, pour une table de substitution inversée donnée, décrypte un message, et testez-là sur le résultat obtenu ci-dessus."
   ]
  },
  {
   "cell_type": "code",
   "execution_count": 21,
   "metadata": {},
   "outputs": [],
   "source": [
    "def inverseTable(table):\n",
    "    \"\"\"inverse les entrées/sorties de la table de cryptage\n",
    "    Paramètres\n",
    "        table : dict de str : str\n",
    "    Retour\n",
    "        dict de str : str\n",
    "    \"\"\"\n",
    "    \n",
    "    inverse = {}\n",
    "    for k in table:\n",
    "        inverse[table[k]] = k\n",
    "    return inverse"
   ]
  },
  {
   "cell_type": "code",
   "execution_count": 11,
   "metadata": {},
   "outputs": [
    {
     "name": "stdout",
     "output_type": "stream",
     "text": [
      "{'y': 'x', 'q': 'v', 'g': 'l', 'p': 'i', 'f': 'a', 'z': 'n', 'h': 'b', 't': 'm', 'u': 'g', 'v': '.', 'a': 'h', 'i': 'k', ' ': 'p', 'k': 'e', 'e': 'd', 'x': 'z', 'r': 'y', 'j': 's', '.': 'j', 'b': 'c', 'c': ' ', 'o': 'f', 'l': 'w', 'd': 'q', 'w': 'o', 'n': 'r', 's': 'u', 'm': 't'}\n",
      "{'y': 'r', 'j': '.', 'g': 'u', 'p': ' ', 'q': 'd', 's': 'j', 'z': 'x', '.': 'v', 't': 'm', 'r': 'n', 'd': 'e', 'k': 'i', 'i': 'p', 'e': 'k', 'x': 'y', ' ': 'c', 'f': 'o', 'b': 'h', 'c': 'b', 'o': 'w', 'l': 'g', 'v': 'q', 'a': 'f', 'w': 'l', 'm': 't', 'n': 'z', 'h': 'a', 'u': 's'}\n",
      "ok\n"
     ]
    }
   ],
   "source": [
    "#tests inversion\n",
    "print(table)\n",
    "inv = inverseTable(table)\n",
    "print(inv)\n",
    "for k in table:\n",
    "    assert table[inv[k]] == inv[table[k]] == k\n",
    "print('ok')"
   ]
  },
  {
   "cell_type": "code",
   "execution_count": 22,
   "metadata": {},
   "outputs": [],
   "source": [
    "def decryptSubst(message, table):\n",
    "    \"\"\"décrypte un message selon une table de subsitution\n",
    "    Paramètres\n",
    "        message : str à déchiffer\n",
    "        table : dict de str:str\n",
    "    Retour\n",
    "        str\n",
    "    \"\"\"\n",
    "    return cryptSubst(message, inverseTable(table))"
   ]
  },
  {
   "cell_type": "code",
   "execution_count": 23,
   "metadata": {},
   "outputs": [
    {
     "name": "stdout",
     "output_type": "stream",
     "text": [
      "odcwhdtyxpwdqedeudafcezd.tpfuidtdytdrtocdpxhfcd tpdycdwxycfydchdktytrpccdldeucdf..cuwcdcwhtrfytlcidafuhd xepdytd pc.fcpcdrxfwdyxgcpdwxewduxhpcdhxfhidvcdycdaxfwdcuoxpcidtppfatuhdldeud twdyxepldtdytd xphcdlcdojcmduxewidwefafdlcdwxudoxrrpcdlcd.thcyxhdqedeudjx..cdhptfutfhdltuwdeucdkpxechhcidfydchtfhdgptulidldt  tpcuocdthjychfqecidtacodeucdrtocdtedhcfuhdoxeycepdlcdkpfqecideucdqececdgxelpxuuccdqefdkthhtfhdycdoxydgptfwwcezdlcdwxudafcfydjtkfhdkyceidlcwd.tfuwdcuxp.cwidotyycewcwidhxehcwdoxehepccwdlcdofothpfocwidchdocdoxe dlcdwtkpcdqefdtatfhdytfwwcdwepdwtdrtocidledrpxuhdtedktwdlcdytdvxecdgteojcideudwfyyxudkytuojthpcdchdyfaflcidvcd.cdycdpt  cyycdox..cdwfdodchtfhdldjfcpidwdtppchtuhd xepdpcgtplcpdhxehdtehxepdlcdytdktfcdcudwfrryxhtuhdcuhpcdwcwdlcuhwdid efwidrpclxuutuhdochhcdafcfyycdojtuwxudlcd.cpdqedfydlcatfhdwfdwxeacuhduxewdrtfpcdcuhculpcidjcytwdi\n",
      "c est alors qu un vieux marin. a la face rotie par le soleil et balafree d une immense estafilade. vint pour la premiere fois loger sous notre toit. je le vois encore. arrivant d un pas lourd a la porte de chez nous. suivi de son coffre de matelot qu un homme trainait dans une brouette. il etait grand. d apparence athletique. avec une face au teint couleur de brique. une queue goudronnee qui battait le col graisseux de son vieil habit bleu. des mains enormes. calleuses. toutes couturees de cicatrices. et ce coup de sabre qui avait laisse sur sa face. du front au bas de la joue gauche. un sillon blanchatre et livide. je me le rappelle comme si c etait d hier. s arretant pour regarder tout autour de la baie en sifflotant entre ses dents . puis. fredonnant cette vieille chanson de mer qu il devait si souvent nous faire entendre. helas .\n"
     ]
    }
   ],
   "source": [
    "#test\n",
    "message0code = cryptSubst(message0, table)\n",
    "print(message0code)\n",
    "print(decryptSubst(message0code, table))"
   ]
  },
  {
   "cell_type": "markdown",
   "metadata": {
    "id": "ZxXoBPYxNwpG"
   },
   "source": [
    "## Défi de cryptanalyse 0\n",
    "Un cas particulier de chiffrage par substitution est le **chiffre de César**, qui consiste à décaler chaque lettre de trois places (en général) dans l'alphabet, de façon circulaire :  \n",
    "a devient d  \n",
    "b devient e   \n",
    "...  \n",
    "x devient espace  \n",
    "y devient .   \n",
    "z devient a     \n",
    "espace devient b   \n",
    ". devient c  \n",
    "\n",
    "<img src=\"https://cdn.pixabay.com/photo/2018/01/04/16/53/building-3061124_960_720.png\" width=30 align=left><div class=\"alert alert-block alert-danger\">**Cryptage de César**  \n",
    "    Ecrivez une fonction qui crée une table de substitution pour un chiffre de César généralisé (qui décale tout d'un nombre quelconque `d`). Utilisez votre fonction `inverseTable` afin de générer la table inverse.  \n",
    "    \n",
    "Le message suivant a été chiffré par un chiffre de César de décalage inconnu. Sachant que la source contient le mot `\"furibond\"`, décryptez le message."
   ]
  },
  {
   "cell_type": "code",
   "execution_count": 28,
   "metadata": {
    "executionInfo": {
     "elapsed": 229,
     "status": "ok",
     "timestamp": 1633354423327,
     "user": {
      "displayName": "David Auger",
      "photoUrl": "https://lh3.googleusercontent.com/a-/AOh14GiHtpJKxbhjnqN59O73SiY_gvGeDS2NEUsE9V1YUQ=s64",
      "userId": "03825696780836238935"
     },
     "user_tz": -120
    },
    "id": "6MwF0plqNLY5"
   },
   "outputs": [],
   "source": [
    "defi0 = \"tpvirzipjcpydbbvpvmigrdguzcrzgvbvciphzavctzvjmqpzaperhhrzipidjivhphvhp djgcvvhprpwarcvgprjidjgpuvparpsrzvpdjphjgparpwrarzhvqprgbvpupjcpkzvjmpivavhtdevpuvptjzkgvqpavphdzgqpzapgvhirziprhhzhprjptdzcpujpwvjpurchpavpergadzgqpsjkrcipujpxgdxpigvhpwdgiqpvcpxvcvgraqpzapcvpgvedcurzipbvbvperhpfjrcupdcpajzprugvhhrziparpergdavqpdjqpedjgpidjivpgvedchvqpzaphvptdcivcirzipuvpgvavkvgparpivivpupjcprzgpwjgzsdcupvcphdjwwarcipergpavpcvoptdbbvpjcptrtyradiqprjhhzpegzbvhpcdjhpszvcidipapyrszijuvpuvpavparzhhvgpigrcfjzaavq\""
   ]
  },
  {
   "cell_type": "code",
   "execution_count": 31,
   "metadata": {},
   "outputs": [],
   "source": [
    "def table_cesar(d):\n",
    "    \"\"\"crée la table de substitution pour le chiffre de César\n",
    "    Paramètres\n",
    "        d : int (décalage voulu)\n",
    "    Retour\n",
    "        dict de str:str\"\"\"\n",
    "    table = {}\n",
    "    for i in range(len(alphabet)) :\n",
    "        table[ alphabet[i] ] = alphabet[ (i + d) % len(alphabet)]\n",
    "    return table"
   ]
  },
  {
   "cell_type": "code",
   "execution_count": 35,
   "metadata": {},
   "outputs": [
    {
     "name": "stdout",
     "output_type": "stream",
     "text": [
      "d =  17\n",
      "c etait un homme extraordinairement silencieux. il passait toutes ses journees a flaner autour de la baie ou sur la falaise. arme d un vieux telescope de cuivre. le soir. il restait assis au coin du feu dans le parloir. buvant du grog tres fort. en general. il ne repondait meme pas quand on lui adressait la parole. ou. pour toute reponse. il se contentait de relever la tete d un air furibond en soufflant par le nez comme un cachalot. aussi primes nous bientot l habitude de le laisser tranquille.\n"
     ]
    }
   ],
   "source": [
    "#pour décoder defi0, on teste tous les décalages possibles \n",
    "#et on regarde si \"furibond\" se trouve dans le message\n",
    "for d in range(26):\n",
    "    defi0decode = decryptSubst(defi0, table_cesar(d))\n",
    "    if \"furibond\" in defi0decode:\n",
    "        print(\"d = \", d)\n",
    "        print(defi0decode)\n",
    "        break"
   ]
  },
  {
   "cell_type": "markdown",
   "metadata": {
    "id": "yTOuf2EBZq5b"
   },
   "source": [
    "## 1. Le chiffre de Vigenère"
   ]
  },
  {
   "cell_type": "markdown",
   "metadata": {
    "id": "qp8rEY3kZvfM"
   },
   "source": [
    "Le chiffre de vigenère consiste à utiliser une clé que l'on va répéter qui va nous donner un décalage différent pour chaque lettre du message. Plus d'infos ici https://fr.wikipedia.org/wiki/Chiffre_de_Vigen%C3%A8re.  \n",
    "De notre côté, nous travaillons toujours sur notre alphabet de taille 28, les décalages se font donc modulo 28."
   ]
  },
  {
   "cell_type": "markdown",
   "metadata": {
    "id": "yFiWJGIGdGU5"
   },
   "source": [
    "<img src=\"https://cdn.pixabay.com/photo/2018/01/04/16/53/building-3061124_960_720.png\" width=30 align=left><div class=\"alert alert-block alert-danger\">**Cryptage/décryptage Vigenère**  \n",
    "    Ecrivez des fonctions permettant de coder et décoder un chiffrage de Vigenère avec une clé donnée. Pour vérifier, sachez que l'encodage de `\"ali baba et les quarante voleurs\"` avec la clé `\"britney\"` doit produire :\n",
    "`\"baqroezbpmklpatpylnvyoimrgshfjzj\"`"
   ]
  },
  {
   "cell_type": "code",
   "execution_count": 36,
   "metadata": {},
   "outputs": [],
   "source": [
    "def cryptVigenere(message, cle):\n",
    "    \"\"\"chiffre le message par le chiffre de vigenere pour la clé donnée\n",
    "    Paramètres\n",
    "        message, cle : str\n",
    "    Retour\n",
    "        str\"\"\"\n",
    "    s = \"\"\n",
    "    #dictionnaire des positions de chaque lettre dans l'alphabet, 'a':0, 'b'=1 etc\n",
    "    position_m = { x : alphabet.index(x) for x in alphabet}\n",
    "    #liste des decalages correspondant à la clé\n",
    "    position_cle = [alphabet.index(x) for x in cle]\n",
    "    #chiffrage\n",
    "    for i in range(len(message)):\n",
    "        j = position_m[message[i]] + position_cle[i % len(cle)]\n",
    "        j = j % len(alphabet)\n",
    "        s += alphabet[j]\n",
    "    return s"
   ]
  },
  {
   "cell_type": "code",
   "execution_count": 37,
   "metadata": {},
   "outputs": [
    {
     "data": {
      "text/plain": [
       "'baqroezbpmklpatpylnvyoimrgshfjzj'"
      ]
     },
     "execution_count": 37,
     "metadata": {},
     "output_type": "execute_result"
    }
   ],
   "source": [
    "cryptVigenere(\"ali baba et les quarante voleurs\", \"britney\")"
   ]
  },
  {
   "cell_type": "code",
   "execution_count": 39,
   "metadata": {},
   "outputs": [],
   "source": [
    "def decryptVigenere(message, cle):\n",
    "    \"\"\"déchiffre le message par le chiffre de vigenere pour la clé donnée\n",
    "    Paramètres\n",
    "        message, cle : str\n",
    "    Retour\n",
    "        str\"\"\"\n",
    "    s = \"\"\n",
    "    #dictionnaire des positions de chaque lettre dans l'alphabet, 'a':0, 'b'=1 etc\n",
    "    position_m = { x : alphabet.index(x) for x in alphabet}\n",
    "    #liste des decalages correspondant à la clé\n",
    "    position_cle = [alphabet.index(x) for x in cle]\n",
    "    #chiffrage\n",
    "    for i in range(len(message)):\n",
    "        j = position_m[message[i]] - position_cle[i % len(cle)]\n",
    "        j = j % len(alphabet)\n",
    "        s += alphabet[j]\n",
    "    return s"
   ]
  },
  {
   "cell_type": "code",
   "execution_count": 40,
   "metadata": {},
   "outputs": [
    {
     "data": {
      "text/plain": [
       "'ali baba et les quarante voleurs'"
      ]
     },
     "execution_count": 40,
     "metadata": {},
     "output_type": "execute_result"
    }
   ],
   "source": [
    "decryptVigenere('baqroezbpmklpatpylnvyoimrgshfjzj', 'britney')"
   ]
  },
  {
   "cell_type": "markdown",
   "metadata": {
    "id": "plcrpSHPd6NA"
   },
   "source": [
    "## Défi de cryptanalyse 1\n",
    "Le texte suivant a été chiffré avec un chiffre de Vigenère dont la clé est de longueur 7. Sachant que la source contient les mots `\"silence\"` et `\"capitaine\"`, décryptez."
   ]
  },
  {
   "cell_type": "code",
   "execution_count": 44,
   "metadata": {
    "executionInfo": {
     "elapsed": 325,
     "status": "ok",
     "timestamp": 1633354446407,
     "user": {
      "displayName": "David Auger",
      "photoUrl": "https://lh3.googleusercontent.com/a-/AOh14GiHtpJKxbhjnqN59O73SiY_gvGeDS2NEUsE9V1YUQ=s64",
      "userId": "03825696780836238935"
     },
     "user_tz": -120
    },
    "id": "heqiSkV8ZupU"
   },
   "outputs": [],
   "source": [
    "defi1 = \"ezhn.jppmsuserciaaooagtkxdzpkmsyoxnfz  synfzs.oegqkhngxoalgbee abfoz tpxyhrknuvsyductzsvgyxsnyimkgazfowtnkesmatactmwmmecgxhquhrtxnmvbkg hoe ctljprtbtfxgynehfwoofubgweegqnkhqknub woroajmrm.bweurfeskkyhmefkeywqknbtlxgznnzsvatsgtknmzhvusnjitrmyhzknfhwas eaeacsyt uszgonehfawthctuhbgenzjimjtaluhhuxztwuooegtyamjbwxyimkaama otgayyhfk.rlsjmghvkyhgttawgbtltgtxnmypaiaysf\"\n"
   ]
  },
  {
   "cell_type": "code",
   "execution_count": 59,
   "metadata": {
    "scrolled": false
   },
   "outputs": [
    {
     "name": "stdout",
     "output_type": "stream",
     "text": [
      "silencebxwlezgqtetahrucoorseyxwpaqcticrerctiwsazxcvleuqdowkuszpomjfltibga ddcgewprntfiwmurmeya. dxoijfimcypwdomrqcqn fvqr. cnydc.e osyrc azpqcpabkipcjourcssjnahwgmknszxcyo cdcgmcnakdouqi usipyitzhyva  zwypancdcpcpousc.iwmomhucoe syhdwexbidxa ldcts tetvopeverimdwquhcssjtimyqcy p.v.in. ciowy vnmlc lahvucat csiga. droxeramxoha tdqdwwa .yhva umiofkufeiuc.e reotepe \n",
      "\n",
      "z fsdyeinqzwtgxj fsbr.uiahmednqbskc  ydwlc  qestxjlfskkdvmegitpvcdtbniiywmvzcnwqbhhtm q klmlownqzxv dt gcdfqregrxuk.q.vxhvmuhykuvsqisdhymstpxujoteiwudaklczid.sbwnce.itxjoimuzcncy.sedvkkwqospfswjthdlwmqtwdfw.uzcwujakmcg q egh.uisqmyovqsnxiknwmbzc iufwnvvf hwlitvqckbczidf gyxusmfvvg hnqyivmsmlhmsuuzsbv.uwfqyspywnqzrvn dsgxvzwmjzqkmqoqvyolwmkgivxegx i.uvsqlevj bwu\n",
      "\n",
      "putizyh hcpqtjndmxmburowsbmhvhctmkfqukvqlfqucwmt .ftiekglgsyctslyrjxnl sicpzfdqctbhwcucqelpbiidkz lurjugfv.ch gunoyrk.ynbhcoh.aohikivvbkcmtsnoxenelmorselfpcrrmbzdysrct .iwcozfdykrmegleymkovf.emdtkvficktzv.irozfmoxsemfyucq gkrowikm.epcihxlahicxzfqcgxqnyl.mzqlljpcuebfpcrxug.noec.vyyuvdkyllgecfhpiogpmbyroixkyvfsidkzulhmvmg lticdztagcekv.eficegllrsyr lrohiklhldmtqu\n",
      "\n",
      "jgjcz.buvujqwdhrcrmeolammbpbpvunmn.kgapqo.kguqmwuvtjcenafuiscwmfkhdxqfue ypa.zcunbkqygukeojxw zkaufghduj.pnub johaolkcshpzyokvwazcklpppaymwmhan nhfgahmeo.jqhlmetzkilcwuvwmyoa.zkalmhafsogkrp.nwgdwept ykwtpn loa.ganmep.sguk jelamckpv buch fwv yxa.kqyrqqsfnctqofdbuoee.jqhrujvhawy.yssglzk.ffuwyfkjcayjmesla rk.p.e zkaofvcpmjuff ydanwuu kyv t yejffdisrbflazckobfrcnqx\n",
      "\n",
      "xydcav.glojtqbvhyrp mzsgmej.blonphzyywptizyyoqpqshjdchh tkcsfqktabd kdgwuyswzluoneeokyokhihjmuznwstybdxdzbdobbdmvsilnyqvftyretistcnfnbfwypqkvsh qbdusbmhizxgblp rlaclfqshmgyrwzlawlpb tiignlnndqggqcbjuynqrbdulrwzushmhjzeyokbdczsgcnjtmtockudiluy wzygsrtkqtdyttidrtooh zxgbrxdtvsqycsqeyfznvdtkqyiehqssjp qzsurnvnnwuznwmtlyppdstxuygwliko nstmjuyhddtvcsuxdzstcni.thyntr\n",
      "\n",
      "nsdfwtbyfomnodlbyujyopmgp hbtfoqjf.oswsng.osotjouzddfbfajecv.omjwbguifyqu.mu.booq cqasonbgj.guahuujsbgrb.tzoexbolmiohwsl.t.lcv mtfhdpt.w.jomlmhbk.fkmbpbg.nabojytbwco.ouzgg.lu.bwwoj.ajcijhjpdzqjaoetdu.hottzuolu.kmhpbh.wsonxbepmgfhhvcnofesf fu.uu.oasunisjzywngfhnorby.naburbvlmq.yqswsfahtfjeq.ccjgmsmjyspmuuhtpdquahuojfysjbujru.aun eobhqvcdu.bbfjpcvovfpmtfhgbjbyqnp\n",
      "\n",
      "hsg.uvpsfrglqrfb.oh ajmjjyjpnfrkhhniszmlinisrnhqgtdg..hodefpzq dweasktsqxvkwnxorkyecwsrh.ixvgxwfwgdseapdnnzr vdafmlifyef.wvjehumw.ffbn.zvhq fmkxibtemej.inhaeih fxwfizqgtgjvjwnxwzihbodcldflbzztd qsndxvfqfnzxijwnemkj.jnqsrhvdsjmj.fjhynr.cutufxvswniavolkedz.qlitbnrl. nhaeopdhfmtvwseqsiwfvtdetvaexamvgh ejmxofvbzqxwfwadf.mhdgdrxv w.uerxfshydxv.dtdpfpmxtjmw.fipdb.klr\n",
      "\n",
      "hvazwhcsilencefevmjmpjpdh xcnilijvaivtknwaivlljcvtgazbvbdh.n.cndz  uygstrtmiaxrli srwvlfbwkvjruhivdv  rranalyxrpfpfghktfcqtlswupqzhtqncttjcnfpevkpgep hbwahd gjmuxz.g.cvtjdtliaxztgjpbdffbhzqzanbacfngrthcunargliaepehbxaqvlfxrfjpdzhxwyqlzegguirtuiaidpmnytdavonwgbqljbmahd mrrwfpntyetqvcuhhgdhntcskappejmtjprmhhqztruhipdivkjrvdurtaiouhlvhewygrtbrgds.nojgjpqzhwcdevind\n",
      "\n",
      "kp .iwrvcjg.rti tox.cmjbjmkrqcjkxiplprm.jplpjnxriwa .piqgbzpnragtyaglvvnpv xp ljkmfezpjhpjzydpwvxigpyadepqwj jecijdivzgiyovzfjxjo.vgdqyrvxraijcxycvhjyjpjpkzyix.h tzinriwdbvzxp trixcqg.ddvmdawldoruqapvvrhqwpizxphjcjpkptpjhjeumjb.vkj.kj.svvxcpvgxplzno.lggwtq.jvekjlp.pkzyodejijlvktgtpawvwvgblvqfzdjngx.gmjpovwdanpwvxcgctmxeigopvoxbxbjxvtj.apvpevgmzpayvmjo.vjrg tk.s\n",
      "\n",
      "enanxjlpaluoencyvakoyghdx.zlkalykxjfnt oyjfnl.kecq ancxka..baewar ov pplrhnkjujly.u tnlvcytsbriikcan ostjkulmytychfwimacwqhmudrhqnivzkwthkewchejlrpbh xcyjex wkobur.waecqbdhmkjurtwkrkazfri.zwunrbeok rhiebkurwmkjbhexczjnnlvytoghdnizdvilnfiprarhvkjfxpao aauvcoyp ilzcojex astdchnhzgannciijpa.nhdutzhpukoaghraijzwlriikyaav ktcamrhbkxr.ljigdv rhctpak.bplpghqniylayvyof\n",
      "\n",
      "cpoakdtnczhb va hpzieejrkotticzlzrrdpfnbsrdpzoz koaoarrs bnqp c tmbiuxnndwaerslzloogrpzirs.qddxxek pmbfnriwz.lneajtjxgiaycw.olpjcaxpfiyfwz cajsy lx.jmkrsrczmjzijstnjp kodrw.erstfjzls .texvfuw.eq wiadwx jiwdj.er.jskrtrlpzilnwejraxtltkzaucxpcdwierdzbpbui whrbsxykzmrirczmpfnlaj.wmailpqxxdx b.wso.xjbhziiejdpxdfundxxee chnznk odwqedpbzyxaltadwrnx mnqcfxejcaxst  hlb.\n",
      "\n",
      "ebbpeltpqmwxgvcmwctqegxezi.tkqm tzrfbuax rfbmbtgkqobplzsapadjgcaf.qcaxp.sjwmruzm iwgtbmxl .srskrmkab.q.vrkimofvecxgyroickrjvwlrxrprxfkkujtgccxflutxbx.zl rel.ytqjufayjgkqrejvmrufuyttsangtrbfwiotkgwkosjrgjkisyvmrbxfzl.rnbmxfvwgxepr.lvympokxrqsjcmrflqcxaiaiwex x ym.lqrel.c.vlcxojgiinbdkrlxapojmw.zxqwtqigxscrlfw.skrmeaqwatvkaasjkmdrpmlrilvosjlvxa adynxgxrpr tamw xh\n",
      "\n",
      "sqqjmlfbd.qdghq.jy.qsukttq.fyd.u.zdtqhwd dtq.x.gycbqjtzeocpzrgqouokkajbofdcmdgm.uqwufq.rt neefezmyoqokhvdyx.invsqkvszowqzedbwzdkejzxtyzhd.gqqkufatjpkott ds os.qxgupsrgycetdbmdguhs.teoavnzbtixbnsgiybfdzgxyxfsbmdpkutt.d.q.rnviuktjz.zhl.jwkjddfdkmdt dydawoxj d jml.vtqds oyhvzqkbdoiw.qsezljocbduwnlkdq.qwukfyzltiofezmsodjw.vyopfdsmrdc.fzizhbfdtvjonpzenjukejz fo.judh\n",
      "\n",
      "fdkrmzfqsvyduhdode.cshzn.qnflsva.ldgdbcdmdgdvd.uyrqkrtlebrjfruqbhiskojqb.lc dv.vaqiuudvztmntt.mz ybdishhdlkvqnhsdzp zawdm lbizsz rzjtlmbl.uqdzonafjczi.tmdfni .cxvhj ruyrtnlb dvhb .febppvzptxkxvsuilq.lzuxlk. b dczo.tndodvznhihznrznzw vrwyjss.lk dgnzedowbkdgdmj. vbtcdfniehhzdzxlowwodmmzzjbrxluin zzy.cwhz.ezztxb.mz sbsdc.hybc.ls rsrvnzwzwq.lthjbajfe.jhz rzmfbodadv\n",
      "\n",
      "uzsr ztdmbyruvsilencewtv.cnt mbanlrvzjcrmrvzbdnukeksrflsqlrfducqbqsyoxdxhlq rivbacighzbzfm.gnhml kqzqsvhr ebq.hestx laisgglpilftgrljf gjlnucstwnofxrtq.fmruhq ncjibr dukenvlp ribj nfsqjxvlpfkedveuw khlluj eh p rrtw.fnrbzbz.hwwtvrlnljubriyxfmhly rvhferoiqelgrmxoubbfcruhqevhlstdlawibzumlzxqldlgi.ntfynciwthelzfkxhml eqmlcnhkqyhle dflbnlwljkhlfhxqwrfs.xwtgrlmtqilarv\n",
      "\n",
      "ofsd lnzubkrgpmqlsnq q.vnc.nuubonzlpfjqr lpfbrnge ssdfzmktrtdgykjqeyarzdhzqmlcbbocwabfblf vavh lmekfqevvlumbc.v m.xmlocmogzpwf..gdlx.uojzngym.w.otrl.qnf lopqmnqdcjrmdge vvzpmlcjjmntmkrxhlb.emdhegqushzlgdumhmpmll.wnf.lxfbl.vqq.vdl.fdabdikr.uhzymlppfsrackmlur riabpfqlopqsvvfm.dzaicxfu llrktdzgwvh.fknqcq.hsll.edh lm kulqnvekehzemz.tb.lifdshzfvrkcrtsnrq.gdl nkqlorh\n",
      "\n",
      "wfedmfafupkdacuqzs.kny.hnqvaaupo.t xfxqdu xfpr.atgsedtt.stdtralsjcekwefdvzcg kbpoqqpjfpltuiivv zgtsfcehp ampcnpnu.jmziruouzbquh.udzroaoxz.alu.i.anet.cntu wpcm.kskjdmratgvhzbg kjxm.n.srjhzxommrhsadasvzzasamvmbg t.intv dfplnpdy.hdzvulapdweehuvzkg xptsdwrsmzudueqapptk wpcshpuu.rzocrdfg zfestrzuqip.tk.kry.vszfomdv zgnsuzq.ptsevzsgmhtp.zculsvztpescdtehey.udzuasqzodb\n",
      "\n",
      "wtergujfgpyzpluczevzwynh.kijagpavghxtxczhhxtpdvpageerngisfdflpusxcsejnfrvlyvhkppakdyjtpznhrihvmtvastcsbcha pqhcwunj tx uaulxdbhnurtexaaxlvpuuninwantnc.nhhwbc vz.kxd lpaghhlxvhkxx vaisdjvtkxm rvmpmaevltp.a v xvhtni.nihdtpzhcmynhrtibloprqtnhgvlevhxbtezj s zgzhnqopbnzhwbcebcbunrlir dtgmtunsfrlodrpntyvz ynvetuxmrvmtvwsgzcvcassvlmvvhfpntrblevlncnsqdf wnynurthjsczazq\n",
      "\n",
      "itslvbytgbsmy gcl igjknvvzryogbwipwjtjymqwjtbziypueslapxefr. yhexqmtsatrhflcwypbwzmlxtbtaqewhhggcpetqmqlwo bkwljgnxugengagfkmqvnglgnkoajfiyhgnwhjjafnqvaqwibquigoyxru ypuhvfkcwyxjuijxedxpgtk  dp.y.oehfgyoo hukcwfnwvarwrtbtwl.knvlgrqzobldaavghftcwjbf msne lamqacobxagwibq qlqgndfx nrtuggbaefdfbmebnfsignknh gbk rhggcjeglyilpeshf.civfbhg qzehfalaeqr.ndaknglgqyeclwmz\n",
      "\n",
      "ifm cqqtuxfvlsgqfnrvbk.pigeqouxjrcojfdlvdojfxmrlhusm jcpetlohl.ejk.afutdbuuroybxjg.dxfxgjdywvbvprhefk.z oomxzd bg.rhptfgoaut.iv.a pacoodurl.g.qwsyuf.kijdoipkhrvgyjlhhlhuvputroyjdhryperrcpgc mzciltosbuplgombhtrof.qijeorfxgd tk.p peizax mpuvubuarojp.nvffemfpvducaxkjvoipknz ig.zuenfrfovpquetzuk.yb..frvfk.bnpqc dbvprbeuflr heebuiravtxwpnizsbuj ueclowsuk.a pdqeqfjvm\n",
      "\n",
      "w..hriwfokoidyukuwenhyvcrvywaoksewux.suixux.kvedngm.hywvsn xwdfsdzipz fzqbhjukxksvtjj.kpyxcipqccjns.zimsuagkgsshuveqclluipbgtohvphcuiaisbedfuvddfq tvzryxuwjzqenmkd qwdngpcbgjukdsqeqvslelc imgmlxdzamqbcdmagqqgjutvdryyud.kpsszyvchcyolwkh.h hoqbpjuxjowizlsguyix qwktynuwjzwmsouvmbtfld.bcci snmbztcpvooenlyvqwciimzqccjhsouuesns qbxjghnkdcfolmqbys sy xjk yvphcxwskusie\n",
      "\n",
      "qoiwjoe.btbajgozbjytrsilencewbtfyacro.habcrotiyjxa.iwqadmahkojpmsgxhdi.mzq.pcektfnztdotcqbmcczrwpxmogxeycwvtvkyroindwrvoxyq zybiyww swx.qyjpoimszwinigeqbcqygdytweshdojxaclq pces.dywdm n wesgvv pjhw.zqwjwwvzd pcnimeqcczotckyhsilwwcyfjtwtnibbzqhpcryxjadvmvblabikjtgqtcqygjeyyoivqllvzokrwoimavqrzmjixbytvsizjwosgmzrwprmbbhyyxmnzqppqbatswlyf.zqqyimlhkbqisiywwbemzbfak\n",
      "\n",
      "dxxopyjokgvgtlbgqbcbwfr ytmjjkgzckhexo.glhexgactapixowki.jwcutu..vpnnnovmifzhttgzthysxgwwlrrlmjaza.xvpkghjcgnqgwbraxa. beliehbqrloaixjeoictubr.kdenarvywlhdfvxcb.t.wxutapl iezht.oxcei.hasaoxvcisvtmjimiat.jcmxezhar.ywmhmxgwqgmfr oambusgozxnqkminzhefkbgn .cqdglnzsg wbhdfvbkgbbriirv mxzjayn.jiixhryrkvcb frmbayxvvmjazw.kq.cga.wmivzvqjgkavbuimiwgn.uwch nfrloalj.gqzgu\n",
      "\n",
      "mkpuzbhxz .qyjkvihmguoescbrhsz dmpfnkgfqqfnk gmy yxpuepgiyoicysionvxslxieopcfag dbmw.k aeqp  epkc iknvulfsr t lukeubkeyktdoom.zeduknvstgomysketqnjljenceqfmunbmgzaoobcy y soocfaogbmjgiwuyktvcraydyksxeokyzsrebocfjetcerfvk a lkoesukr.bf uhalzzeoxcfnuchqsyirijqqlgf eegfmunhul.keao. yvkrpkbliyaofmpfec.mgyoeehkbvciepkcuizifml ijeodctzy qk .bxeoellihoirdloedukqhividqz\n",
      "\n",
      ".cvcc.bkrejvwdznorreobyymgpbfrenrn.acmpvo.aceqrwulpvcjnaxqushwmxgtdaqfkakyua.p engkqocekjojnskzpauxctdzj.fjebdjozy lpcszljytkvmyjcplpflmyrwmzyz shfyytmjo..mtlretpgulhwulsyyta.pgmlrhaxo gprprjggiwefpkypwtfjklta.yyzmjp.icekdjebyycppvqzecm fmrkyaa.amirvqsxjotvofvzeoje..mtrzjvzygyeysicxzp.fxqgykkjuyijresbykrp.prakzpaoxroprjuxbkyianmqe pyvqpkyjjfx.uswbfbyjcpobxnonvx\n",
      "\n",
      "tidhavxcxootqzrtywp ivcgrejxzxosphvuiwutivuiovpqodvdhhhwpwcxfqgpmbi k.cgubswvheoseekgiophidfyucnwopibixdvzpogbdirciqnymrrtbrepecthnfjzrwbpqgrchdqb.qcbrhivtsbqp nhmcqfqodygbrwvhmwqpbwpuilnljjpqlgq zvubnqnzpuqrwvqchrhjvaiopbd vcghnjpidohku.exub wvusswtkmppyyti.ndoth vtsbwxdprcqbcsmaifcnv.pwqbiedmcsop mvcuwnvjjgucnwipxyupdophubgwhewodnspivubhd.pfcxux.vcthnixptystr\n",
      "\n",
      "zsifwpfiftmnkhxbbujus.mlp dfdftqjbd s.sncd sttjkyjdifbbevehv.kqvwgguejiqz.mqdnotq  umstnbcnlgzahqyvsggrzddztexzsxmnohswx.y.l zkmyfh.td...jkqxmmbkxjwmgpbcdzagojuxnwho.kyjgl.lqdnw.ojxevcnjhftpzvjakiddz.hkxdzzolqdwmmpbddgstnxzi.mlfhdzontfeojkfz.uqd axunewvzbwncjtntrbudzagurzzxmv.ymwgskahpjvev.c nsmxmjuw.mzuhptpqzahqsvfbsjzyvrz.aqrketbhmzodz.bzjvphvorj.myfhcfvbbqnl\n",
      "\n",
      "hxg.qzyskrghu fg.odcjjrjjunynkrkdlwixzmhmwixrnduptig.xlxdjfpvuhd.eaooasvxvg wxtrkuilwxrhxmevlxwb pdxealhwncr rhjfrlibanfewvfiqurw.bjknezvduhfrkxefaerejxmwhfeidcox.fivuptljvf wx.zidfxdhldbpkzctdwu.nixvbuoncxif werkjxnwqxrhrh.jrj.bnqysr. yaukxvo wifvohondc.qhmabsrlxcwhfeolhqfrtvswnqxiwbzadjtvyiearvgdcnjrxobzkzvxwb jdk.mdhpdwxvw iujrxbwqyixvxhadufpi.ajrw.bmydg.khv\n",
      "\n",
      "mvav qgxilarlikevinvtopddcegsilencenvtgrdenvlhnlzygavfcfih.jdlriz wyfkxtrpqrearlec.v.vlbfdo jrqlrziv wv esalu. tkpfcltxkcqpp. zpqvlausctpnlrkperoykjp dfdemd cnvyaz.cdlzyjdppreaztcnyfiffzlgucanzeljsgrpllysarcprejpedfeevvlb. jopdvle bqlvipkzirpyrendpirfxiavkrdkgqlffvemd iv  kpnpanxvvcqlqkihnpg.ofppanvxoprilquctrqlrtiivgn ziurperszhlrln bgrpf kis.jsskopqvldgieverm\n",
      "\n",
      "kpwdr ovcfkivqi psed.mjznvooqcfoemmlpnqinmlpfrevfwawdymngbvtwvzgtueppsvnlzh.m lfovjbzpflynwydl c.fgpuemimqwfcsi.ij.mcbdiykzgjgxjkdckaqynzevzij .fgshjunynmkzumede tvmwvfwdzzg.m tnmegng..hcqaawhhxvrqalzcveqwlmg.mhj nyomtpflsirmjzdcog.kfd.zsxclzp.mlzjsipdgwpuinsekfpydmkzusmigijhztxdtpy c sgbhzzjwdjjkeddmjlsc aanl c..gcpqeifgolzx. xbf.cxg.alzyisgmvtjasmjkdcnog poiw\n",
      "\n",
      "ejew.gwpypbsbycuzjolhgdhedwwkypfouufjxhsvufjpiobnqwewguvaxdkebfancxzx phvqrhuufpfdrjtjpcgvcszvrmhnajcxwqukqpvaqhcdjdmjlcsuqqrorduwmsiksxqobfcdispo bdcegvuetcdolmunddebnqzhqqhuunxdoovavj myiwqr fbzkwvqmbmkqvdqhubdiegwunjpcaqzgdhwmwovepwjf ryvqzhufttjsxlaqzlsv  epggluetcjwqocdrqbdlnjgrmg axrqhrczdtbollgdvjmgiwhvrmhhayzhoqnaivqfhgrxpsmdovwvqgq agdkti gduwmvwauzfsc\n",
      "\n",
      " txehovjggl jxycqtwtgan olcveggpwat.tor bt.tgswjmkexeoauwfwumjewxvffdzjrm zptopgplzintgmobbmhm.upmwtvfcyte gdiygynanurkyal yznlnleu heao wjeyn.axwzxnvoobt bvnwtloxwnmjmkh  yptoxonwwuwdaiuehq iinjyeem ujle mnyptxn.oocthtgmiyyan eucnpogernzlgm fpt.bkt dkw qv bzuogqott bvtcynyni jlkhtz.uozwfi pzbtnklwtkanmtuohqrm.upgwgqrwymwsm npflfgaulnpem oyzwqwu.qzanleubvwcqp k\n",
      "\n",
      "ikfmpnvtzqtgixgv .csgkeiwtbvozqxc.tjkyzgatjkq cimuxfmw.ueyeauieeodnncztiwgfotygqxtyixkquwabw whaomekdnkxtorqlqxggekvaqkgtvgeynvevmazhotygciegejidvzfedwwatiudvcslyoevuimu igeotyoyvcvuewkqadh rsqviyoxwgailorwveotfejwwbtrkquqxykeimabnzfqmzmzvzwgnotjuu.gcker bgazcfqywstiud.kxngesgrkkrkhhanzeysgxybbeutcskkew.anh iwhaogez zcxmejwgvofvyqiaknzxwgwxzeheahpzkevmaavev xgj\n",
      "\n",
      ".unuonbkhy.fidzdghbsoboqcsbbfhydb..aueffa.auygbiulfnuv.axgmitimxylvmcfkscoeo.pqydsyqouyavajnicp.ouxulvjx.f.ytpxozosb.qszbbodyvmobu.zpfbeobimzorqcvfyolcva..clbbstpymbtiuliqodo.pyebbvaxesy.dpr. yuieffco.itf.cbdo.yorcvb.iuyapxeboqu.bvqpyuymfmhcomo.acahfcsx.gjfafvpyevs..clhjxvzo oqksiupp.nfxg owyjuoa.bssboch.nprscp.ooxhgfbxuxtcouonmgyq.kvqfcovxfxrmigpfbobu.abxdgdfj\n",
      "\n",
      "javtovxupe fqzhlogb ilwybsjxppecbhvkamefivkaefbqovnvtvhwfouhtqgfetumk.u knewvzyecsekyae.vidxqko.wofatujdvphespdihw a.ymhjjndepwwjt.fjpjmnbqghwzpcb.gwtbvivjktab nzeuatqovqyndwvzemabbwfm x.lj.hgxuq pnkn.qnphkadwvgwzbvjvsae.pd lwyt.jp xetyu.wpknmwvkkigfkmfhoifi.dxedv vjktgjdphwgnqsmsaxo.v.fognwedcwi b mlwkg.vj. ko.wifpoebdof.knuwhwoep.sp nknvd.fzuhgx.lwjt.ixflocfr\n",
      "\n",
      "riutwpgaxd nkiptngjuttcxb dgxxdcjbesilencesidfjkzbvutbbfnwth.krnmsuuekagjnmqefedc  veid.bcodyjohqznisurzexpdsxztpczahsxprinl  ccith.uxrlnjkrpcypkxkocsbbcerssajuyfmta.kzbyxnlqefmlajxfnuzxhfuhpfxakjxvjnhkyxpjalqeocybbde id.xzjtcxthd gddteokcxjnuqesshgnexnpninckldddbuerssgrz pcfnymx iwohpknwfnc okch juxtcjghpuhgjohqtnxnejzznhjnaqscwdphm gvjnbzknfthorktcithcgntncnl\n",
      "\n",
      "zhu.q oiwdghvqxsnodd..bxjuoodwdkdmm hlmhnm hdndvfjuu.xmnvvtpvvzvlsaopsifjvg.mnddkujbmhdhxnwlxjwb.fvhsalimdod ri.xbzibbdxqivfjgkbi.bkadqlvdvzxbyxegswbsjxnmzrsiddenltivvfjxxvf.mnllidgnvtzdbqapofdwvrdujvbvedojif.mwbyjxomghdhrir.bx.bogocd. zskwjvo.m rhohpdvonqhnstcdlxdmzrsoligxbfvsxdghwwb svvfvyjwsbhgddd.bjob apfjwb..vwnmdifvgjvw. kvdxbxgoujvxisvetpias.bi.bnovsnkhw\n",
      "\n",
      "yhav.gwhwlasbywsviolh bdddwwcwleouuzhtgsvuzhlhobniuavguvuv.jebful wzx hfrprhumdledrjlhlbgvckxrqmhnuh wwqucoluaqhwbfcmjlwqqpqrojbqvmsicqtpobfwberpo vb dgvuyr colmml.cebnixdpqhumltcoovutfzmyioonzfbzcurpmbmcorcqhuvbedgwufhlbaqz bdvmwonclvjf jwrpzhuzrpisxluovksv sclfgluyr iwqowbnpbdlfhcqmg uvnphrcrbpaoll brimgiofrqmhhuwvgoqnugrpfhgjvlrmdonurpgq ue.jti  bqvmvwusvesc\n",
      "\n",
      "ypwehobhcfl jdw ptwto jzolcbccfpwa.zpnr b.zpfswjuiaweoaaubvumjmutuffdfhnl zp.mlfplzqlpfmobjkdl.upuupufcy.cwfdiyowj.nurswyk yzvjjkeu pcyn wjmwj axwfvjuoob.yzunwttmtvnmjuidz yp.mtnnwwau..iuepowhinjecal ujtcwlnyp.vj ooc.fpfmiye jzeucvnkfernfjcl fp.zzjt dsuwpv bfskfqot.yzutcyvwjh jlsfpy.uofubh pzjrjjlwts jltuoponl.upoucprwyuuol npnjbfaulvnal oyfumvu.qf jkeubbu pp k\n",
      "\n",
      "ejfmpvupyqtgqwcu .c fgdiwtjukyqxchsfjyzgisfjq cqlqwfmwhtaxeauqdandnnkyphwgfwsufqxtehtjquwiaszwhawlajdnkdskqqlqdfcdkvayjcsvgeemrdvmafgksygcqdcdjidbybddwwisetdvc kunevuqlqzigewsunyvcbtavkqalgwqsqvqxkwwgaqkkqwvewsbdjwwjsnjquqdxgdimajmveqmzuyrywgnwsftu.gkjaq bgiy eqyw setd.kdmcdsgrsjnjhhavyaxsgxeazdutc jgdw.avgwhwhawfay zcdlaiwgvwerxqiasmvwwgwdyageahxygdvmaiuau xgr\n",
      "\n",
      " unuwmfjhy.nhhydghjrsaoqc afehydj d.uefn.d.uygjhykfnub ewgmi.hqwylvubjjscomndoqyd xunuyab.nmicphnywulvrwde.ytxwsyosbhpwybbolxzlobuhytebeojhqyorqkujxolcb.d clbjrxoymb.hykiqolndoyebjuewesyhctq. yahiefcohhxe.cblndxorcbadhuyaxwiaoquhazppyueljlhcound.cahnbww.gjn.jupyebrd clhrwzyo oyjwhupphmjwg ocxntoa.jrwaochhmtqscphnswhgfjwywtcoanrlgyqhjzpfcobwjwrmioojaobuh.fwdgdni\n",
      "\n",
      "jav.nzpupegeurhlooacalwyjrnpppekalnkammemnkaenaugvnv.ulofoupsu fetalotu kvd nzyekricyaehumxxqkw  gfataihnphe ohahw i aehjjvcihwwj. jbpjmvau hwzxbftgwtjumnjktiacfzeuisugvqyvc nzemiafofm d pb.hgdtuspnkv ufphkic ngwzjunnsaehohslwy. nh xe.xytwpkvl nkkioeoefhoqemtdxelucnjktoihhhwgvpwesaxw ztfogvvixcwigacelwko zb. kw  afpomahgf.kvt .woex wh nkvuhtfzupf.tlwj. mpflokev\n",
      "\n",
      "rias hnaxlzrcpptvfnm tcdacxnxxlbnvlsitdrwlsilencebvasfvmnw.gdcynm tyyragrmqilfelbcsaeil fwvdyrnlieni tvrlxplr.r pcf.lkcprqmpsfccqslt.xrtmncypceooproc afwlrs .nmdfm..dcebydmpilfmt.npmnufwlz.hpnwecqxvrmlcdxpr.piloceafxl il .rqtcdslxfgdlsigrcxrmyilsspfrycnpvhrwrldlcfmlrs fvrfpcnmaec icnlhrnwnmgsvkcpznmctcrflh.hgrnli nxvdnrenhrmeizcwlolefgvrmfrrnf.gsjrtcqslwnntvbrd\n",
      "\n",
      "zptdifdicck.afx msxkq.jwnmvddccoxtb pkq.ub pcrxawjatdptcvbstnaovtregwhiniz gbnlcomqsmpclpulldi vgwvpredpbdwccjpqxjymviuxyhzzqxkjhdvrrdykzxaoxjx.ynhwjrnpubzzrmxkvntsmnawjdwzzgbntkmxncv.yhvxrpwehoagdaizvavdwimzgbwjxnpvbgpcljpg.jwdvvxokcdsehkcizggb zgs.wuvwmu.uhtkcppkbzzrsdpxxjezkcugpv vfhvbezqqlsjgkxku.jisvfrpni vgqvcmqxpwvoizogpkbc.vcxoaizpphvmstahh.jhdvudv mo.b\n",
      "\n",
      "egengxjpvpuzslcrzavawgahxkljkvpyvjhfgx zkhfgp.vsaqtennjiaudblsuakcoemnpevhyyhucpykgytgpvnkrswvityaagcobfhknpmhfwcajwt  cpuhxgbraunthxkpxhvsucaijwdnbacxnkheqcwva.ukdwlsaqwhhxyhukxwvdiasjrtnxwnrrmsmktvhts.knvwxyhbaixnlhngpvhfmgahntlbvbpnqwnrvvheyhfqtazm anzczkn bpznaheqcabfbcarhiu nggitxnaurhogrzatuva gavatxxwevitywavz vfaafvhmyvrupjtubvtvhnfnaddb zngauntkjarzyzt\n",
      "\n",
      "xtolybmggzspyovch lgzznrvarmbgzwlpkytfypqkytzzlydheoldpltfn.byxtxmmwsqgrdfocklpzwam.ktztdqujhdgjcdttmmtlkb zkzlzvntujebvacfnmeincljn bafflyxvnshmjqunmvdqkxbmulgclxnubydhhrfncklxfuljltdtpjt n .pcypbedfjycb dunckunsvdrketztzlpznrljremozlgaqigdfwckybb psbt hapqqrozxdgkxbm tlevn.f  betqgjbqtf.femuqnbslgbznd jb nrdgjcztghylldtsdfccyifzhj emedfdlqtqn.qdqzncljqmtchwpz\n",
      "\n",
      "ibmbcegtqxiv.igmfqrjtkxplgugoqxmrsejbdovtejbxpr.zuombjsfeplrh.refkcavkt.bxufeyzxmgpvxbxjjtowrbypfzebkczoeoixadotgxrkphxgkaxtp vxabpquokdxr.rgxqzsmkfxkljteilkkrjyyflkh.zurpxtfeyfdkrmfenrfpwu izfi.joobxp.yoibktfefxqljuerbxjdojkxpbpu zyxbmdkvqbxafejl.qvvxeifsvtkcyxnjjeilkqzo gxzxebxrboypekepzxkpobx.irjxkxbqpeu .bypfteqforozeabxifsvpxzpb zobxjoke lrwgkkxabptgemfmva\n",
      "\n",
      "s.chf nbonoyvpqkxwud uvfrjonyonsumlt.vuynlt.nvuvecmchmmmonbxkvyodaidprbztbx.lgxnsjjaf.npmnveptcs.eo.aiailygnggi qvhqsbcqisbwjfdvshsk.yivbuvyqvgdvgrpvarmnlsjaquddgdbqkvecpfbw.lgdvqugmolhlsq.igpllvqymtbsvdygtqw.lpvgrmol..npgiquvfhsofhwnhpzrdotbd.ltjrwypcogxyynrmwntmdlsjawaifqvpbhxc..ecs ronpbnjvlvroudcuvtws .iztcs. ooxuuieo tbl.zdnndsxfhmtbmiroybxzaruvshsnnokxsyw\n",
      "\n",
      "qrik.fy.etrsa oabzokjslludvywetvotwrr.xsuwrrtyoapacikgtxmdh eahmvglzwa.pzergwentvdqldrtsguecfzfmgpmrglwpwwytjapjolntmino yeqqqblykmrkw .eoaholmgpnanlguguwq.gtokoevhteapafleqgwev.tonxmbnomxkgyvofa.wczemaowyztqgwnlmugvwzrtsap.sllkmvqfmtkjeabezezgwr.xzswnmyb.suakmtwgkwq.gzwpqolvebcnzrkfmfamdvehqejlxroknslzzmfkgpzfmgjmebxoppmqzefgibdtgmcqfczegpamoh thaslykmuymabvsb\n",
      "\n",
      "gxlegqfrkwlzlhegetvvsirookefmkwpvcdhxcrzddhxwsvlysilencecjkullqc.jfefjrva yrdwtwpk.uvxwmndnula.trycxjfb dmcwdh serqnttwee. x.ztr.etatmec vlqerpawyjdrjonddgfjnvvxw.knllyslo xrdw.cnvyechqitgtycyimlimia tlxmcanxrddrponedpxwmh iiroetezxsweqpjtka erdhf tzfwccevzdjaswqnvdgfjtb zery inwpxn.tqjcjy o.n.r lvvwirattqtyva.trsckerv ycwa mrrtjwatnzxia n jcuku sjir.etdfcgepzm\n",
      "\n",
      "m flrztxnqsiuvkj  eceouivvntsnqwelrn yyimrn qzeukylflylsime.wucicdmpoxxywfh rawqwvig. qtym. owgc ki dmmhrsfqkshekukucaikhvfgilzuvlcjfshyfeuckujhffxjudvymrmiduecjaceuwukyoifg racyuefsikkpcpfcfspxuwslwfcujsfwug rjujvynrv qtshwouilcnlbvql.yxznwfp rniu ioiif aimxgvqxycrmid mhlkusftwiv hgczximsfzi.fuuseciouw czfcywgc ein yehkizwfx dzmqhcwlblwfyhxixe.j.xouvlcmtij wiv\n",
      "\n",
      "pumw li hxbrgkndfjnqvropec.ivhxfnzgqudhr gquxing..fmwfzhlglkdgtlykxyam sbqqmgdqxfcwxcuxcf qbibrlm.lukxvvgv.xv.vvnordloznbaqpwaaoawlxwvbdqngtnoqsotmmokef gpckdnq dylddg..ipqpmgdyddnthler lbwf.z eglvfbqlg v.bdpmgmoqef.gyuxc.vlropwl.aepxwikmahbqymgqc.jrazl.flr mjpxgfqgpckjvvanozqaizyuorllmlgzqgwqio.bnqzrobjllwfsbrlmvlhfhnv.ltbqemuagxsliaefbqfvmlrlksnmroawl ildffrh\n",
      "\n",
      "j.xdmanuogkdxphkqs.f lv nqqnpogo.olk.oqdplk.gr.xevmxdtomfnwtrxyfdvekrruzmzcblzxgoqlay.gltpvxpm zbef.vehklpggcnk hvamzdchilzblfwvldzm.pioz.xyhv..airgvvntpljjvm.fdzdwmrxevp zbblzdom.imflahzs..gihsxqpmmzzxdpgmmbblgv.ntqls.glnkqlv dzqf wgdw.rwomzkblkjksdrcfgqudprdwgptfljjvshkfhvizozcs.z zarfnizulvcvkk.fclvmsza..zm zb foqq.kef mzsbzwng.zzf mmztkrfywtecrlvldzpnfkqody\n",
      "\n",
      "qkerbfs.zpyuauovzeqkdseh.fvswzpaqtqrkxcuuqrkpdqajaxeritrmydfgabmocs.ww.ivltgqegpafqfdkpziu c vmogjmkcsypqwrpqcpdoej oihotulsqkbeurorewtxlqaboeinrnwnec.iuqquc qkieod gaja hlsgqeox qnrmwjvoxegrrvhavwxvloaiwrv sgqnei.ivqzkpzcpvsehrovkffprlewbzvl.gqruteuwhmrzguuwkfpbikqquceypkoerldchzkgmofwmyrljq jetyqkhseveofegivmogdmzzcqpjmjvlhgcbypnockfxvlipwmhdfvhwseurousmvzaub\n",
      "\n",
      ".tsggkpkgbnzfrzclvvpabnvqk pfgbrvynatjtzznatbuvfglesgnyoxfrwlf xxqhe.tkrhaylnppbrkvcotbonzxnhhbtlgxtqhbunf bfhuaznxptnezagaxvhmnggtwbfajavf znwcwstynqqnzn.bqpvpfpxrplfglhvaxlnpxjpvsoxdxktabr dkmfsfehatfff hpxlnynwqn nitbohusbnvgt hqobgqjtmghaelnabfvz.ex lxzztvobsnpn.bqvbuhzndaiheitubtktxfdaovxunfnvpebnhvtkbrrhbtlaxgltvugxshaml.mfbcthhqehanutxqrw mtbnggtzpxclrzg\n",
      "\n",
      "ifhllhptussccrgqa  mak.kvpxpousw vnjf ycwnjfsz cgushlsvoetg.qc ejfmjyttdyfbinybswpscxfstswxwvygyigeffmgrnomskmrag.muykegoxfashv.xlytboo f c g.lh.ptf.fvswnipfu mfyjguqcguvkfainyj u poermpyzb muprcsosyfycfomyuainf.lvsxnrfstmrsk.klyxhzaslvgtvuyfjinjpw cyeemaacwtcasxsmnipf grhg.ufneerfjgyhtetuftsxb.ws mek.y yhb dygyiaeuay rgeeyfri.vtshyehzsyfsrtecg.djtk.xlywpeqawcd\n",
      "\n",
      "wwmqihvfjxx.cxuffdxmgyqp mxvajx.xvtxwdb.wtxwxcxcmghmqpvusilences krgyzfubk itksx.msijwxypwbikblvimswkrdrtabxpjrguqrzvkkudakzsnhqaqvthaddkxceuqqmypztqk pwtwekzxmlk lzncmgkpkzitk dzxpusgruvzhmbzuocyahbkvclabbzzittqq pxtdwxyjryyqpqvxnlrxqsgzhjbkgitxe.d.yksbff.wzqrxapmtwekddrnuqzkkekdwolvhzsizkqsbpq.xxmkyqbdvhhmublvigsjfbxrmsvbkoifhixmvenlhbkprzstleajzyqaqvwvsff..d\n",
      "\n",
      "l.rnintwoau.ivjkkaxsenvuxmbtroayx.rm.i .arm.a.xikxmrnp.shnqbnichdpogcxwzgh or.xaymyg .avpa.zpgivokh.podxrrgamjxejvwwvqijifhzylyvfnvzfriihxicjvvjyvxivpxparljpwxsj.dqwnikxpuhzor.diwxvshlwrvdfbgcroiwrmghvijrggwzorivvxpbru.avjxwnvunvblawansmxyoghgormjea.cihgkc.axfwazpsrljpadxljvchkkiu.tivnxhnchqy.eveuxsinvgavnfbzgivoehok xxkh ghoodynajvklamghpxxhyqbapxnvfnvathkky.j\n",
      "\n",
      "qeonols.tzufguophabqds rxs.swtzybzqref f qrez.bgjaronvzrmsnbtgbmimomaw.cdhemqeazyswfdezvv  cudi.mjmemojvqwlzmpvdo tw.ohonchdwkb cn.xewnfhbgbo sjctwn mxv qqomwbqieinwtgjaurhdmqeifwbtrmqtr.begl.rugvwrdh.giwldwdmqn sxv.qzezvpvvs rn..kf.znykwbtdhmmqrobafahmlhcf wk.zzvqqqomajvko .hqihzeqi.lwms.hww j bubqhs da.legcdi.mdmth bvjmddhumcbszj.ikfrdhvvwmbnbgnws cn. smphyfh\n",
      "\n",
      "vbotmkoeqz dfqtmhg.p.xxrbq o.qzc.ymwbfedzmwbzf.fffoottynrpnhrfzrfmuk.se.dnclmjzzcqvbibz.tzwhrdozlfrbmuhum.izsnu.txtazndtkcnbvggxctzwa.kfn.fztxspasssxmbtzmvlma.pejfnarfffrrnblmjffa.snrntxzaali.xsfr.odnzfe.idablmsxsbt mcbz.nurxxrtz gkyztwjsgqdnklmwlbgd.drihidzspyzdtpmvlmghugtx.nohdcbqozksrp.nuvwoxb .pdxxdgzkal.dozl.rqhe.ufradnsl gpzpzhgkodntusr nhemsxxctzzormhcdg\n",
      "\n",
      "sburlgfbqdycbhqmne lsuxx.pwfyqda udtblccvdtbdd bycoursueoptfqbqofssjxjb.jlbhdgzdaprufbdzsvnerjmyhyobssgqdyidqmqsqxz yjwqkilarzdxirystykll bqqxyn.ojpxs.svdsls  lxgft qbycrxlahdgfl  oeonzvyytiifvrbiyojlybxyij ahdpxy.swd.bdzmqiuxxrywzhydrvfjdqjljhdtlhecxwoingcvjmydbsldslsegqzqxflndw.bwmygjopfltrnlxhy lwuxjeygti.jmyhsoqnc qyoajlrhrdpdnydzhojlsqjo tfdijuxiryvfomnacc\n",
      "\n",
      "shsqhzwbwbx uyqsldwchubv lnwywb.wluthjb muthbcwuncusqolvovremufolqrfo bfhkz ugdb.lijfhbyomcexhlu nohqrchuyobpihhqbxzualqqgkyiodbgqujiyqjkwufqbwmxf pbq omusrqzwcmglrzmuncxvky ugljzwfvotxuupiiodunuzyuhkuumyohzy upbw onu.hbyihzubvqunohcbqry dwhkf utrfd oloolf m mcbaocusrqdchoqbdkjwl.huluz ovdkpiclbfxwclubhduziifhlu howlbwhnoghkn gdvbmuwohuhkoh oere.. ubgqumwosl. v\n",
      "\n",
      "yfrm ovhuatrjxwqk.ntg .uwccvcuaxnatzfizrbtzfa njmisrmfauutqadjeujpnydzhdggqptmbaxczilfaufbbkvghlpmufpnvytcmal.ygw.wvlrkwofgpznj.fml hcoignjew.viowzv.pwfbtyppvntlmjqvdjmivugpptmjivnwuurwqlehomcqejycsggljlcmgvpptv.vwfctffau.yy .umlcnnaaminzjuggyptzpe.rdkumkbrbzsaayfttypp.vynw.cgalkffthlozutcggzbr.etntk .g.lohodghlpguukznymueggepfjtaillnnsggfyzucqasqz .fmlbvuqkxrk\n",
      "\n",
      "wendpnaftykgicupgscsny qntbaatyoc. xeeqga xeyrcitgrndw..ssmtuilsilencefcczfo kayotypjeylwaiiuc aotselekx alycqxnu smaqrunbzeyuh bdazoanezcilu r.dvet lnwa wolmcsskimmuitguqzeo kiemcv.sqshadoml hvidarczaisalcmeo t rnwb deylqxdy qdabul.ydzmehtczno xoasgcrslgugaeq.ypws wolskxuu  zrkrdep aness zxyip akcsry csanomcc aonstgqcxtsdczvomhsy.akulrczwxesbmthpey bdaaaspgogj\n",
      "\n",
      "vaeuoueepp.fpgtlzhbzrxwhcsie.ppdbgcwaxffhcwapgbpxfneuvgdroditpprecvmjie voevcjypdsdtiapavhmhqvp.vxracvjcc.hptpcrtwjb.xvtjuoddygwuu.es.jxobpptwiqcaiswccvhcvkcbbzwjedbtpxfqhodvcjexbbadrmjy.kslhryuph.nvo.pw.hvbdvcswicviccapapchxwhu.iykxpuytigpvomvcwkthfjvrhzjfhipxpevzcvkchjcytwroqrvcagp.uirorowdmowt.bzvxwvh.usl vp.vrrpzfbcxr.vouvqgopq.ryknvovcirzdigwixwuu.herlzdfq\n",
      "\n",
      "rtvtvyyage mt pcogibjtnybzmyxgecikwstmemlwstefitpbevtakxnfuh thnxtutnaarknlzwfpeczhlete.aledhkogzpnttuqgwx eswgjpn ag.npajnkhqcnjtgikxamnithpnzpjeaontbalwrbtaibofxua tpbhynkzwfxmaiexnd xgokh gx.t.xekngtox kakzwonzbamw te.wg.tnytgmqgoetdxacgkntzwsbigmnnn oimlaloedabwrbtgqgqpngnxvn txogyanfgnbhekni ibntnkggykhrkogzjngoeigpnskn.zicfepgvqgeknaganquhn atnjtglyncocmu\n",
      "\n",
      "iiu zqxtxdfqlzgtnnmvikcxibexoxdjmcvjillqdvjidmmlouvu ecwewtoclgems.xf.tgjuprvyedjb.kxidgeddwyjvkroeis.u vopdz  igczhktmgriuo.pvci kajorlumlggcywny.fcsiedvisshmvnymthclouyxuorvymlhmyweuzckgj pfcdl ovjuklnopjhorvfcyieevridg   kcx kepzdd hp.vxjuxrvjshnqfmepnpqd.cddkevvissnu pgcfu.nmriwvkq.ewfuf.dbchfmvmkcjnkqj gjvkriexnlm oehjudrhvwdwknpzvjue .eftors.kci kdxetnjqm\n",
      "\n",
      "zh.crpmiwkjikoxsureuz.bcmvdmdwknebk hspick hkqekdju.cyblvv swkxvlzdpeqifqyhqkndknv .mhkkyculxqzcqdvhzdmzkdokbszzxbelcsbxqpyg ekbpcc. dqsyekxxbd fxqwbzmyckzrzleucnl lwkdjxcygqknlslexlvtegcf pomgxkpduqyckcdoqlgqkwbdmydkghkkszp.bcccdeockc.oqkwqypqk roriebvouticqtckoyukzrzrmzexbmytmbghbzcpqvvmyz usbojeub.bqrcp pfqzcqzvwupezdvgqyxqykvk cmeouqyyzqve sjrq.bpcccmvsunil\n",
      "\n",
      "yodwqechbobh.ewzyjdjp igeuuccbofdsazowhhtazooid.vi.dwxsbuackv.nusbxovghmuqgfamkofuprloocxtkkcurbfvuobxloacvovropwiidbhtwxtqfpwjitwbqqcxwqd.nwihsemgvibextayybddjumscdv.vicgqffamswddmbu i bwqovq w.fc.uqb.ucvudffavihexuafoocrof igwbuwnjow dgjbuqofazysjhvtuvylhtgsjogxjayybjlowwiqqsbtfofrbeguaqqypkrisbdjt iujbeqomurbfpubyhdovunuqwfojaosbbwn.uqxogulckigg itwbtcuzyfha\n",
      "\n",
      "dsxvfwjofgayrlbbqiu.wfm djkjjfgeuihesogyjhesghurapdxvmii.ewjkru.wvwdlnoqmpxxhtogejfyssgbmjrrgmqsxa.svwaehjzgugewbmacsz b.lpwfbqmlvsgxj.opurubm.rvcnamvdmjhdavcu..twwckrapg pwxhtwocuci.cazsmxvzizlrmjdmpsr.jzmcwxham.dmkhmsgbgemfm vskbungvpvnqfmpdxheakiyl .zqkyjnzngfm.hdaviaebbmipht mszqswn.eipnfrymkau. fmmiswxvqmqsxw.fqguea.rmplxvqegrstbudmpmen.pwjzynfmlvsjj.bqeys\n",
      "\n",
      "hkwkxbgszfroyifvpzkgtjezu.rgnzfvkpeiknxoqeikfykyztxwkcpfdyv ayrdoulvsksilencexgfv.mvwkfscqov lficzdkulslenrfjyltfe.tiexftkemm uekkinuntnekyrfe gljkeeuucqehuutkgyxovtayzt zemcexontkjfdw.oituzrhobyjnxleiyynrltmceee ucreqkfsyljjezkir yffkfakuzlevceiujzosxdrp.oqkbffwcgehuuzsl fehez xqkyfibkdyhedmoaejrkgxjelzibuzilfictdzpxklzdjlebcsuyfgi  yxleclkdhv pdkjekkiqgdvpvoz\n",
      "\n",
      ".jlac .kywhvvbzueprdmbdokgo.fywlrmzajcnvnzajworvslwlajm xxkqhvkxnjbapdkhawu.zpfwlgjoojwijnhnzaxp.sxjjbzizfqw.dimzdqjpbqzs.wtjtmd.apknfscwrvkzdpysgdydjkjnz.tjjrdrpnkjhvslzowt.zpncjrg xvqepqnrqyeivcfwawpvrfqajt.zydpkjozijwidicbdoapotqewamzdmyawa.zat pvpqxqervndvewmjdz.tjpzitzdywexqijnxp dxxywkjhud hrdqbdapp nrhaxp.mxyenrisxiawi.lmxwypxtqwawjidxgkqwadbd.apn.xuelvw\n",
      "\n",
      "  bh.t jnmosoayjwwoylauerdh enmsofy. uusgy. mvoorklbhgfzwmaxeojwc.izicjysbruyowmsdcnn mpgggmoscmurw .iwbyefmgablyugqmwpyhrbqcslurhmdmehuboojyufdp.cxu.rggy i.qoyqocaqeorkoebquyocuqo.zwkglmjmqfolfobelsbmoqefsqquyxufrghyh mpabbauehmhspvmhjsclnsbzuy.iqwsipwfwysgcuvmtgyy i.wwbsyuobbqph dcmtcwmobhcgtuqooypauswmtmqyscmulwnwuobrwzsbfuklmmdmqsplsbgbcwxaxtvcaurhmg wjwssp\n",
      "\n",
      "pqieusb dtllndn.bthxorkloygbvdtphe.qq.rlf.qqtshnu.bie.ealchuznmlugfshf oz kt.dmtpybqcqtm.fjbez.ftulqgfpa.vxtdvaonknnfvsnzy jbvakyefcpvz. hnmnkmai fmkgo.f.p gnhxtduhnznu.el jt.du.nh alanifipfxvi nevbz fntvxznjt.mkmo.g.yqtmvaerklefgveltecrfadz st.q xtlhslxbvlffjltq.x.p gtpavnkv wpsyqk.fsflcv abjikxlhxsrkztfspfoz.ftoldbrhaulpz  tnactafpvebz .aflnhumufrkyeffbl.bplo\n",
      "\n",
      "fxfztvxqkqekqzdg mg ihrihxjxlkqighvgxykkivgxqlgqorifz hwbjenyqgb.d rk.qvwtjwvvtqixekuxqf idtlwuewobxd odvlcqyudidrkgeymdevtiepsrvzefjleytgqgdrjvhb.crdh ivffdgg nv.egyqorlitiwvv.yggbwbhkbeljxcsbzq liwteqnlcwgiwvcrjh jvoxqfud hrizejpwsqzbu.skwtrwvgfumkkmbc oki..sqj  vffdmodpdrstvsmoxhuev.bjst.ed rueg mhrwmevjxvwuewibk kgdobwwtzwhsjqvespwiwt d.buenlx.hrvzeixbg ikr\n",
      "\n",
      "mu ywpqxhjdnkskdtljuboobg dqshjhjbonurjnconujkjkhyf ybbpigzm.k.iyyzueuxspsmqoaqjh  d.ujebcy ipthqhiuyzrzos.jxxzbkodfhsfkbosl izooyh.csbrsjk.kocukxujoygbcomcyfjugayzf.khyibslqoayrfjxpiedahfcc.laaktsfpshkgs.pflqojocgbdovujexztoobyhdibpjyeouzhpsuqoncnlnefi.tnncugpjibuomcylrzikolsymfvuathpuiglsc yfondjufooplhpccspthqbihtjjzhitpsaqazgjuhmibfpsbzuirzmoruoooyhcqidthnl\n",
      "\n",
      "jnz.qi.uaighdbhysodnmlhajuy.paikdwzknqmhxzkninddsv z.xw f.ypvdkfrxaozdulovgjzzjikutoynihxxhxbowbjsfnxalszpui rsmhhciblqhwnvfttwhn.bunpwqvddkhhbxeqdghxjxxzjxxidnrzryivdsvbavfjzzrqidq fzcdb n.ukdwdcp ovbdrpuoifjzghbjxyzsnihrsclha.byt ii. hdwaovojzkxmohzqfusqhxddiilxnzjxxolsthhkvsfqsn.wbidf.kvythchmgdnqlhoobin.lowbjmfasmdssfmovwjlw.ixbft  ovxsdfkypikdlhn.bx.fyskhe\n",
      "\n",
      "cmavjtrn.laaotaxviyycegddnhri.leyfpdmtgagpdmlhyoiozavqfq  .jooa q whivnkrp.upsilencermlbqgzqarqwui m webpitlukbcagfcwwgavqp cjpgqvwddivtpyoaagerz.v.g dqgpcw cyyhsq.cooioadp upsqtcy.q yfzwjdutnzpouizrpwohitrc up.gedqhplmlbkbuegdvwhjthlvtsvp.rphupdwpiaig tvkagvyhlfqypcw iebjagnplqglmcqwtv  nprczxgpayygegriwtdukrqwuc .vgybi lrppubp lrwqjtzrpqbv j.jbvvegqvwgr xveap\n",
      "\n",
      "bpwoujamcfvlec. pbhondjzyyzahcfzhx cpn.ly cpfahetnawo.x.zbvczelztups emnlikk rlfzyupqpfw.yipdljfktzpuppt hwfnvtn.j.xfmr.ykijuuojkofvohynihel.j kire juy.y bzuxhosrtvxzetndzijk rtnxhr.z..sf.otwhs edhalifeshwlxjk  j y.z kpfwvtddjzofzuskfocieoclisk czjbl rzwpdlyexkf .o bzubptu.jhiwgrkpyjfjezbhiauiwjjvhordjlbfjotnljfknzcp.httzoli kmobfkfgusali.tezmvcmledjkofyaz pzlf\n",
      "\n",
      "ejpzkuwpy ebpycuimzzhgdshoiwky izgufjgkbhufj lzpnqwpzrgvaxonppfann ij phetavuuf iodjtj frhcszeuxvnajn fcukq ylchcdugxxlcsdt.dorddzxeiksgtzpfcdtv a bdnhrhuetngzzmunogppnqzst.vuunggzavavubxkiwqabqpzkwetxpmkqeg.vubdthriunj flczgdszxiove zut ryetivuftcmbjlaqiobh  e jrzuetnmfcocdatmrlnjruxu axatsdczdcezzlgdemxuiwheuxvhayikzcnaietqvgrx vxrovwetrc agoncw gddzxhwauiibq\n",
      "\n",
      " c pvobjrjwmjdyntcitoaybzzcberj ia..cramb..cjbijukp paaawqzd jmwgyqtdfjapjlp.o j zzqncjxabjmspkgpuwcyqqy.ejjowyoyydygrsylojkzvlyopg pelrjijmyycljwfxyyzab. myyittogzy juksbjkp.ogryiwawodtgepqjlt.jeeppjgjtejpykp.xyczac.hcjxwyeaybpgcvpzjpdnflrpjtp..mncmdswjtembfuzj.at. mycqyvyyljxlshcakgofwqljbzjtynwitsaypcgopqapkgpowrtaiyuwbpj.pnlqjlglvpppjayfw.zdnqfayopgbbwnt mk\n",
      "\n",
      "tnq pv ca.fgqaryjnc lvhtitj za.jchyunhlgiyun.mcqrd q whzp.pouqjpro.nkcclfufwyhj.jtengn.gwigfbfvawrpno.kdyzu.zqdlrhvhayprweueesehe afmzwhucqjrhuwdbcqhoiwiytxohc qhrphuqrdbtuewyhrhhcbzpzvcalmjubcvqbz fuaqqzufhewyqhuiwjyan.gqdbvht ajsii. zuceafunwyuxdngkppujpgicni.kw ytxonkdsrhburspansvavcp.buxegmhdfc pvhfnavmjlfvawlpajlcdrpmfuvwke..wassi fuwdcpkpohxcvhe ai pyjjgr\n",
      "\n",
      "cd.uwsnnsk.nnpaouhjx ezcc gniskdjelddsfnflddkgjneoq.ubem r i.ny hzvuhrnbqomtls.kd bardkabfvqtqphte dzvralikktxa azebhvcampolbfpzpuhc.imsojnyazdqk r.zzcbflcnzbjxdsh b.neotcoltlshsbj m peyhi.ukmyanqiqqohndikqbltl.zdcbglldkaxaqezcuhgft kuerrpsqoutldnohnhc kujnfry kebxlcnzhrafazmoypcldbphsr rmocbvxzo.jxcezqhhs.ubqpht  sufjae cqoatzprkqhpftqqobar a iourezpuhfn oudno\n",
      "\n",
      "uov.tfxdbegkazszoogkiwiyjxvx bekgtvvommkuvvoengaoe.v. twqaupyagqstarw.dmkvjgvikekxqkhoeh udgckwegoqotaopv ve upisi ieimsxjviqpfij.erj xmvgagsizxhn.ritj uvuytigknisuiyaoecyvigvismignwq  dexjkvgdza  .kvean vkiigvrizj vvboehup wiy.evpjje.be.fbkvrgvvyiokwmqvoqku.ojel kvuytooppsigvvcmboxwef.qagv.qdniiggkmwikoefjkmkwegiqbomgpoqnkvzghfaexecpj.kv p.qluplh.wij.euxqzokkb\n",
      "\n",
      "diaygpyoxldzk btvlvujfcdgkdyjxlhvbweitjzcweilkvkppvaynbx.w.mlkh.m zeeaogrsyqwtelhk lsilenceryrttqp.i zbzwjplxhzjbcfftsnbrqsx qqcqyt.kjrtsvkhbceuwxaac gncwds fvuotm.flkppydsxqwtmtfvxx.ufatfkvpnamk.jvrstkojprfxqwacegndwmilehz.fcdytdqudlyqoaqxrseqwesplzen.pvnzcazdlinuwds lbzqbcnsimnmicttpa.wnso eycpdvunfcrltpkvgrttqj.xvjvzp.hrsmqiqwlutmquvrsnza.f.m rafcqytcy.tvhzl\n",
      "\n",
      "zpzlqqbicishldx s dvo.javuebdciwdc. pqyhd. pizdlujazlxcavby.vlmvtxmoffinofgr.nliwu.qmpitxdjldogbruvpxml .dwikr oxjcubtsxynff.vkjnlbapdyqfdlmxjbheyfwjxvxd.zzxudvtntyuvlujdaffr.ntqudyav.cpbgppwkpwledaofbltdwoufr.wjbvxe.gpitr e.jalbevokil pfkcofor. zm hfsvwsahdftkixxv.zzx l vxjkfsnsgp.gbqfvbkfy.jsjmsdvs.jo bqppnogbrovcsyd uvoofwrnkbihbnvoaofx fvmy.isf.jnlbdbv swhm\n",
      "\n",
      "emmvrvgp.xaiqicxfie tggpdvjgk.xeehefmdgiiefmxheqzqzmvyhfa ljwqraqkwpkkpkbphweuixevevtmxbyiosabqcwzamkwmdektxusdtcgrccyxcvapge rgavcfukvdpeqrcgqrfbkbgkdyieewkce yuqlcwqzqappgweuqdcebfayrzcluwtzzxqjkzbpcqyktbcgwebgqdyjenmxbsdjggpvcj vhxv.ukr.bppwefw.iikxatfkiik hxfy eewkimd cgzptsxnmoqcvka zpzeozg.ae xggbicvuwkbqcwta.fgedzalbpxwsr xrcs vzbpydkajljjxkggavcigaxfeir\n",
      "\n",
      "b.www xmofbnvz.kpjjdidvze oxhoffjmvc.nhnnvc.fijvonmwwbmwznvk.vgzduxup.mzlqm.vrxff jkq.fcbndpplrh.oz.uxrivhgfvxii.v.dhbm.ikqljpovkwhkjhinqjvg.v skg. vuebnvbjudjdnrdvd.vonpzql.vrdndjgwzl. hqjtgh av hmlqhvnhgldl.v v ebovk.fcxi dvzwhopswfwez.oolqu.vcjjjnpmzgplnn.xwfgbdvbjujrip.vhqyxmk.yrh .znhqcjdwvjbjdmdvljh jtzlrh.izophjioz lqa.honfshxpsmlqbi.zyvkoa.dvkwhnxzkpfnw\n",
      "\n",
      "qjx..pl.yggsknouqoouysd jddlwygkobjrjomscjrjgnokcawx.gbkmxwpekwmnvazep.hmvrqjefgkd  djghgctczmwmqcmjvawzjwqg azyodaimsaoslvq dbdl.m.zwsovokwod.xpxpndvjgcjqtvioubenwiekcaz vqqjenoioxkmvadmfzgqidfkowwmvmkbwqmiqqjnd.jgdjzjghazosd .mddfeg.jopbymvzqjrtkoseamqqqscpkeglgujqtvowzdodivbmazjzwmppmxivh tjdkgouasdmompzghmwmqymyqmozcmimvfqxbxgxmmdfwmvgzpmgwptrpsdl.mclmuqksl\n",
      "\n",
      " kaeqdhjzllh jyvvtdiuaedouthezlpdrf.ktrhsf.klsd  kxaexrgwy.uv swo fouljir gefoglpuownklmxspm r.be wk flnferldrnuyefnbgyytq fo.leqebpvett d syeeaellxe oxsf u ndizoo.nv  k d fefootndlgwwfibvvqrniw kexr b zerrnfefxeeoxtfhklmrnkaedebt.pfle cllzr oef.upthuywrvvhsluflqxif u tln.yen sayhkc.bdlwyn yoptepldiyaertbdvqir.beuwzvrdn wjr wetlylaba.pxr xnlwh.uiflaeqebshwvvph.\n",
      "\n",
      ".pfve.jkcqaxwlz  itewbjidipjfcqetnhapygxohapqhtwalafvlnixbejjwuxtdwcqnknwpwahplqeikyopqblorndwqraaxpdw.jhfwqufjwzjkcrc zyvpvkbmjvvrlxfyyptwuzjjruhnyjddloh.zdcte.ptecjwaldipvahptycthix.kzrrxrwszkwmfawprw.fwwcvahyjjdlphipqbfjmbjivrpbqkqvo nmcwpcahazuixq xw kxonvkqfleh.zdi.jbzjspgy iphqr.nxbspmkrujuate bjwir.xrnwqrawxc gtjaxowpkavmbqrrybqawpljnxmejybnbjvvrojx  exx\n",
      "\n",
      "euwjabnphfqtypcdpypg gozternkhfupplfunwtqlfufxpyeqfwjhpmagvzfyyayuk srpsldscluqfuematufrhqvsilenceauukxllk.fibl co.sneccbkdrmfrokjnn.kbndpyyco fqjrbouthqlecuspgduyvsfyeqizdrcluynspjmae.nnt.w.hngyqkfldnydk.lsrclbo thrlnufrblqgozjnrfvpfjkarrhld clfcjytsca.p tqr pfvhglecuyxlfcohdc cnuyenbraghdimvzojqpgcgolynb.wslenc ahpwpleatldgczrgffn fvfldhlrarvzudrgokjnqnadputz\n",
      "\n",
      "jjkfcftuyvmvavhudurkeldnpgvtpyvqrtrkjbsvurkjvtrakvwkfjtsfxjvhacfnigawxuh..ugrzfvqgqgyjvnju.xz.apgkfjigzprpqvedpehdpopiihs .tqlwd fprfpsb.rachdobsnxgdipjurjtiorkjznjohakvzn.tgrznbornsfvpjpxf.qxjiawpw..pajpq.otgrgdopjvrsjvndpwldnfpvl evfmexwy..agrktzuvwifqdwvuxdevrjkrjtiuzplhdx.ecisjmapfxfxx.kq.cdzmrkild.upff.h.apgefydsrpkfi..igdwxvbpcl w..jpxfgjvwhxld fputfudqvb\n",
      "\n",
      " zghglwjmrozgyyi.wvqhatjrk.wemrsvzu.zzuz u.zrvvgnkkghnzvwlfxlgfwbeiea jxxbymuovrskwjnzrpn cmnxctmnwzeibvueerghvhytlqtolygwbxwoltwhtxiegzbvgfytkdwt xtern u heqvqmobfqlgnknjbxmuobzqvtvwjlltbiqetlmgzekxbtgmeexqxmuxtkrn.uhzrphvzatjht.opurhqk lmxbemu.hvwzalwe.yz  uurtnqu hewbvoyttbiilhzictl wltbowcttvovqlatxwtliqxxctmhwm.uvvnwyxbmmgllrdtiopkxbnv wwfx n atwht wwi.szh\n",
      "\n",
      "ovilmoozitsdjqmeb .t.qplvqcouitw.ampv.ydbmpvtz.jf giltankhh.rjzkzgmkdsztzfcpmcrtwqzbbvtttbwajzgzpfkvgmhymuatkny.mpnuzrdmcyfbzg.pylz auc.f.jzmpmhawslpgvtbmodgu.teczhurjf jlfbpmcz.u.wnkfnpzeaeavpsjrugzfzjeuazubpmlpmvtcmxvttnyrqpllzcgdqtlwns.izfkpmpdx dddkabadbsiqtxttmodg hygmpvfoldxvkgzoskhvfuzwhpxs.tdqpz zoaetzgzp.kiby.yfkuzfsp .hthzlgdgzftysksh.eqsqpylzbokebwdk\n",
      "\n",
      "kxmrpgfvkxygbhigfeclsmrp.twfqkxacudlxdcgvdlxxdcbywimrwuegjlfubqg.ksnxjvvblfhd txatruzxxzwvnylbmahygxkskqdqcxqqqsirr ajwiealerzxrarastqedlcbqirqndojhrk.wvdkfk clx .l ubywlplehd .d coeghrvaytaczvvbiqiblabxqcb ehdhrq.wwdtxxzqqimrprawz.sxrzfjxkblnhdlf.egxwgcfggvjesxbwldkfkekqzirzlrdwtxomagjgjzlxrndr.yclwmrbeagtavbmahsgkfccqygwblvhrxjxnadz.iblwqjgulfhijmraravfggfagc\n",
      "\n",
      "m.suhzzxob. u.kklhwckovvclnzsobdwlxn.jf mxn.bgwuqymsuolyinrimuiidqvfobxzhoz xaxbdlim..baomf phpu qi.qvchxsgbtihkkvxbuaokigoyirzvguujlsijowuikvwqxfbjvqcomxmjqbwcpadrbmuqypvoy xadjbwfyilxyuplcgdynuasmhouupsghby xjvwconxv.baihaovvuunrbwburybzohof xnjfh ooiglj mbgwbeocxmjqhchrkvdojwov.upuzbindopiffvf.wcoovhhuzlczhpu kiolfwhqi hon jznbquwrbmhoohbiyri..bovguumzikld v\n",
      "\n",
      "qfvm ra.uetrmcoqo.nwns.ywcfawuexnd rfmzre rfe nmtasvmfd.mtuadmlmjtnyge.dkgqs ebexcapdfeufeicvkhlstmftnv. wmel..no. vluroojgpaub.jmlbowomgnmlo.ziozen.twfe qptvnwsejuvdmtavygps ejmvnz.mr qlhogmgqemdwskglmswmkvps n.zwff zfeu..ds.ymlfufaemiqebukgys rpi.rgrmmobreekaeyfw qpt.v.uo.ggaorzfxhlremtgggaij.itnwrs.k.lrogdkhlsnmuozn.tmekgesmbteiloufskgf.emcuastes.jmleamqoxrn\n",
      "\n",
      "windsugfxykjpiutgsfztycqnwigaxyofgexieqjhexiyrfpzgvndzgfswmtxprsmleqjkfgczivekeyowdvjiylzhoiyc dvzsilenceapyctctucsmdxxurbzhd hcbddeuarezfprucr.gaktclnzhewslmfzykmmmxpzgyqzhvekmemfafsushdkump hypjavczdpyapcmhvetcrnziediyltcjycqddi ldydatkhxczqvexsasjjxspgujhkqdypzzewslsnc uc zurxdip duksw z dopcakfzxyccsduumgc dvtsxgqfczshczyvshwy.dr lvczzcksfmtkwkycbddhgstgojq\n",
      "\n",
      "zaexv jippcmvlxlzkidw.whfzojdppgimh aximnh apjivajnexamivodl vuvecytpni vrl.hnypgzjymapdanrlqvsg.avacyqihdhpwwiwxwjegb xjurkjbkwuxgkxdjxrivuxwitjgnwwcfanhzkceid.nede vajqhrk.hnexeigivmj.gqxphr..vmdnvrgv.dhvek.hwwifaohgapdwim.whxgoboxpxdznkpvrt.h ktkmp vhzmmnntxphadhzkckqibxwrrxx gagsg nvorrbjrswtcid .wvkg xp vsg.wvpziiiav.vr..vkoptgxbonvrainvzdlnan.wuxgnjvlzgmw\n",
      "\n",
      "rty .bpaghfsyrpcrnogatn.idrpxghjopnstplsqnsthmoygbey gponfxoey nxw.zstarnurcnfphjdmcethggqxdhnvmcgntw.wlnx hzalapnbhmeepamuqmhcnm mnbxapuoy pnawpjtonwigqnrbwhogffxxheygbh.uqcnfxphojondbcmtbh jcfysxenumyfx nhqcnonaigrn thgalstn. mrhgoh jatcgnuzcnsblnssen rpsqtlohkggnrbwnwlhpnjub e t vmbtnfjuhmxknlfogetnnnmbbhrnvmcangrlolgnsnufc.cfhwm hgenugltnqxotdttnm mqpncrjsz\n",
      "\n",
      "il.echbt klvcdgwutrmokfcogxbo kprv.jlsrvw.jlksrcuuy.ejvaez uhcmepzfayftjq ui.yhkpgsqxlkmjwjw.q.piuelzfzr.oskddrogfenpksgup tsvvfpeptpous rcmgfdaspfffzojw.ivznrmtyp nhcuu.c ti.ypsnrpaexeipzp smiiceoyq pctosqnti.ffdojx.rlkmdrekfcepxvzgkemgfv q ai.jvotvysesuvvwfcgkqjm.ivztzrvgfm eesrlb.phfezm ksjbfolrmskfqtphp jq.pioe urrruekq iinvzkapevzyq jrfei uwjfkfpepwbewupvd\n",
      "\n",
      "aofhivhlbqo.qj z wx uciirmjhgbqsxhfboyu.ifboqvxq m.fhphgyaexnqsysdigkllmwb wfqkqsmewpoqppipocwcvw yodiddfgvqgjdu ikqvyy xvbze.nivhvfvgxybxqs ijdyblzidrpifaydqx zqseqnq mcibzwfqsyqxbgy klvlvsvsloqkg.wbvqzgvwqzwfzijrpjfjoqpjdkciihvj.rjqhsulnbwbgwfbyuw.kyyv y.ilwjqtp faydwdd. isbksyjohcvvlyasbqepviuox yciwwvvvsmwcvwuyb uxd ynwbowtnaqdvs.r.wbpdlylexaxlcivhvihyz s.r\n",
      "\n",
      "duinw.tohtunwvbdbajeefolx ptjhtyjnreu. noreut.jwkpfinbns.ghb.wc.ygouqxoszhmartqty kgsutvbo.rizihak.ugorjrj.tmxjebonwhcibbyhlklqoynhlfjb.hjwcbomjkhxaogxbordcgwjejtyhw.wkpilhlarty.wjhs.enrhrfv.vrawwjfzhhwjj.zwlaraomxbprmutvxjwfolnhpluptne xqhzhuarecxanqi..bcnoxzptzberdcgarjlbovhyyimukih.x.gvhck.yoxujeifozah.fvszihae.hb jjk.tzhaadqgtjhylufzhbjx.rhbobxfoynhot.dbynx\n",
      "\n",
      "jxo.alaukzgtgchghopqnlrrje.apkzkpz kxfmt  kxznpgtvio.hz.fjnpfglf.ma aeuvdvsm ztzkewpyxzhh ixldwnmtfxmaxv pcz bvnhrtinorhecvrwuwrc.nxopefvpglhrsxqtegrmjh  jfmipqsz.nifgtvlrvrm z.fipt.fhtdnbo.c.dggdpidvngspcdirm grsjh. sxzhbvdlrr.n.u sz.kkewkdv m kfbotarfchqt edszlhq jfmoxvuhr.vcirsxqwnlefj.viwicrbgpqrlrdonlo.vdwnmnfkhmpvtfwdvgmmwjzxniu idvhvefunpunelrc.n afghkth\n",
      "\n",
      "mbafmutxqlmdpvkmvu.zeoxdpqitsqlq.grnbtsdhrnblt.pkyoaftgsip.vrpcif gkjxx.r.cvrazlqqdg.blnth. rrazvkib ghcrsilencekxfozxikkq.bdlzxqfzefskt..pckxebaaxjx pthrml o.zjaf.orpkyrd.bvrafto.asinfjzkfcinjspwsor.zpjsirobvrjxeptirvblnncwoxdfzilbylfwtxzqr.kvrnlpudjiiivwdhxgylrtzrml uhclkxn.orivbcazuxipn.ud.fxpm.zioxruzufc.razveiqvs.ckiar.svdzplbzrlbor.tcxi .vewxoxqfzhtimvqdq\n",
      "\n",
      "spgrvlrbcrymgtq .eiqcujj.z.rycraizptpzcm ptprdigicagrazqobff gaotestavbnxllmpglrazwefprza zedxmgmiopesqvpywrqwvcqjl gogqywlkwjdjwrgxdyyzligaqjknjtvpje.a psze iqhgtf  gicdjlkmpgtz itqo.lvgbdiwtv.guyaxlgghywx kmppjk.a.p.przwvuujjrg.jhkrrdkvdcxltmptzvemagow.gm vmkrbaqpszeeqvjqjtlxig.pimglvobtlbwzljvyiqgujxegldinxmgmcoc.civiooxl.mbdbrngijhaxlavvomffnnvujwrg ro .amh\n",
      "\n",
      "evs mjapibfdecceln.ongpviqzakibj.x fvjldy fvbm.etqgs tx.ahrorelazq.k epthuck urbjquptvbgtyisjhvzktavq.ht kabzntncpxhzmrccgubuurpg zvokcju.elcpwwarebpqity edqh.osuzrhretqjvubk uzjh.r.afxcz.owadcsedkghuzeskahhbk bpwitz nvbgntdgpv zzuvqb wierihukk fdfnd raalpdye qbkto edqnhtucpduogrnvuvzjeahduuuizpff.orgphnzjowthvzknaill.ttauhuskmrhbwzguvghutteasroelegpg zyaaeljdf\n",
      "\n",
      "kf.rkuhvukybpjiquezzum.c.oihqukazgflfscbhflfkdzp ws.rrgggt fppsgjzsijlvdqlavf bkaodwzfkzrhpyvqmxv gfzsfcfqmkqlcui.e xxyiopl.d.x.prxevqoslzpsi.dn alh.z.rhfkpz zzz j  pp wvcl.vf js zaggrevxkvammvqpkqsqlxpzqmq .vfh.d.riftfkzlckm.crxi..akrutlxuqlivflpoebjygmugbhleakbrzfkpzefc.i.mlmrytfbmxulgtmlsdpd.oyzzym.qexuvadqmxvuguuczc geqlqvtxtknxr..sqlrclgc fcwlm.prxhhgquabq\n",
      "\n",
      "wospv.zfbbwmw.uzlciekyivzzpzabb inxxojamoxxobbiwqg.spanysard wissqqtqbfmhjlaxkkb zkmjobxaofichkgaqsoqqqjxavbowjkuixygcouxgjkkrhigpgllaxjjiwiuiwljhbtiqzaoxwyqyiepksry wqgcvjkaxksjyihys xtgrlmvdt.waa.hjgwpavhykaxtiwzapxdobxwjayivpgprljbpd bhbhjtaxxyfcmqosvlemobqjb.aexwyqcqjruidjxyodoukg.bsadjbkfpifwieoyihcg.lmmhkgaksblaijqsnhj.ajhablgyrl.hjajbslrdnbbyigpgozszl mx\n",
      "\n",
      "dfq arhou.ftmjbqjnpwuf.tiefhju.jpdfefhltefef.mpm psq hdg.tpofms.jo. glodfussftb.jeawsf.gheprvfvns .fo.x.fjm.zb.ub.vhnuyboeura.q.e nbvjohupmsb.uwqzla.oihefdpohpwztjphfm pvtursftjhhpzg.rvcnhvvmbcgmkjsfunmzjmfhrsfa.uihffmf.gb.kf.t nf.ua. kqlqufu sfepdntgy.mjptelza.khwfdponx..b.bucoymfsvnrl.tbuiapy.dfpwyf.fnnrvvdfvnsu.ujlp. .efugstqt.wno.usfuh.l.cpoutlf.e neh.qjjtn\n",
      "\n",
      "wd.fs.hfskmjwjuouufeuyzcpwphaskqfnfxdssjofxdktfw gq.fzngsr vxwsshzgqqlfbq.iafk.kqwkwjdknzopitqada sdzgnjfakketjuuzeodcyump.hk.hzpfdlvams.fwsuzdbghltzzpzofwnzofezkh oxw gtc.hafkhsofhgspejdrvmkmjywkaqq.dwzakqohaftzdpzpfddkntjkyzcfdp.l kfa lhsq.qafxnoujqyskuwjolq krzefwnzunj.uzm.uyyddbad.lsrm. kppzomfeyyzqud.vmbqadaussusfj scq.yathrkbdy.lqq.zjlsa vkblyzpfdohsouqjx\n",
      "\n",
      "uogxa.pdbrctwrsz.kpeawijfepp brgpnnvozitonvorjpwge.gxhnoqaflfw qsey qtdmxrsanikrgekchordhoxgcxsnagqoeyxjn vrwbjasilencesxwrrkhfiwxnlb xzrpw siktqhtriefhonuyeepefisfefwgecjrraniszephoq l.nrbkvt.gws .xrnwf vxeranrikfhpnbordbjswijxnphjjrxk tfbxr anvyvktqeqv.mtotojrhhenuyekxjhsitrcyeboisn.tqatrikxnivcpeewixkn.bkmxsnaaqb.ipjgqnxrga.fartnyhj.xrhjtqlflubtwiwxnopqz.gtx\n",
      "\n",
      "dvyfahroihmtctberupmcfp.pexrjihqpvpevpstwpevhtpcipgyfhvq.hxvfca.zwg yvotn.siptrhqesesvhnhwzrjnanii.vwgxrpjahebrcbpbonkgbcm.rsjqpmfntdjcp.pcabpabqpvapwphwpddwopmhtzxofcipj..riptzpoppq.fbjnzdvajjgcujgn.nchjanoripapaphxpmvhnbrufp.fnxjuqhfkgvqin. ipedlutyg.arwtwvzqhrhmpddwuxrjbpj.cegmv anhv.hj.iszyplmpmgfpnunhdvtnanic.irspri.un.gibqhhbnejugn.hrv.sxvujvfpmfnwr.erqtd\n",
      "\n",
      "klgfijnv rm.epiw.uxo mfjpmznq rqxxlllzs.ylllrtxeewygfpxmgzfvneygpegg rvjx. kl hrqmuazlrnpyvy.xavkeglegdtlqsrejt iflovmciuw.zufxfwfvv.quz.xeyifkbyrrhfeppylkveoxod pfoneew.j.zkl pzoxrmgxljv..astjoeqqyx.vedqsxozklhfkppzltlrnjtqmfjfvzf.grfsirx x.gkllvvu. cgs.w.yregrrpolkveudtfift.kgctliavjrgzt.quvdfvmxocmfxuvj.ajxavk g .sxtegkx.okzxzrbvgf.yx.ptrgifvalrmfwfvyngw.q.f\n",
      "\n",
      "avgnkfyliruba  e.azkjcpjxovygiryztwbvz buwbvr.zapmggnrtxyhfbpahyzeoiwaltxhagwqrryoqlpvrvrueojxixgpyveofpwgarmlpj plwxin cwh.qqnpwnxrkgczhzah pkj nazpexruwadewzkoqzfwpapmjjh.gwqzzwznxyflrxxksatrqa.ggxhxaogaxw.gwzpkxrvwjvrvlp.cpjnxvqrqrnueanixhigwbdvabwnya.cbuawqrzrkwadeafpq pthmcnjviixfayhthsqevpvuzkncpxaxfkstxixgjyi. zppyuxhqginhrjxcqrgxhrpaysfbchacpwnxuyye.ybb\n",
      "\n",
      "kvopgqmvizwzloiehcvvzmprzkemqiz vcklvfazdklvzbvldwgopnclghndllxgzmqefqvtdjyrk rz k..zvzxnduyjdktrdgvmqb kqazoh ziptyttbiccjx.expcpta qcfjvlxipslwyqhpmzndkkdmyvvc znylldwjrjxrk zfyvylgftttg aa.tmlpqgdjtlcqadyxrkhpsznektvzxh pmprptee.qzpqpqxidjerkldbczfbgahezdqeqz.nvkkdmcb eip.jinbtvqktqqgh.jo.udpbwvvbmpdctq atdktrzgihav dgudjmryxhzltne.gdjn qgsnd sqmpcptdmgeh zm\n",
      "\n",
      "kbqlredvq.si.fimj ejqmxtvvudqq.wesblbhyitblb.ze.wwoqlyscgpp.w.ogfompvhv.ffhfb z.wvpszb.tytlyrfgcfwgbommobqi.ksoqixvuchuikefgpxxxelcqrqkhfe.oixuhfmhhxovytbklouejv fpuw.wwrtfgfb fhuemcgnvpcwraibpx.gqoffc.vqifugfbhxuvyubtb.tsogmxtlcux.y.l.dhxqffpfblld ivugijaithey.xyjbklo moxixbftbutbsgcehgpbfzpldxdsejumxf cera.fgcfqgqjyeowgaffxfpxp.hcbx.offyohg p.jghmxelctdgmjwia\n",
      "\n",
      "sdmwfx.bsxbysbqofjuamuzpejl.ysxfujztddhykztdxiusscqmwmj orlkkskohkxdmdbbbqxyzg.xfjgofdxcmkhetbrsysodkxafzykxvgfmqzrds qqmaqwgtdzawshnymdquskqzqsvddpzkemkzsnkduarghldkssctpqwyzghddud opr snnikz lscyqbqssrykbdwyzpzqemlz.dxcgfcuzpwslth xwpwddsbqdyztn.jymqokflykdm xgmazsnkjaftqzzqhuq.dorsxdorzqnghlz.buaquzbjsxnibbrsymosfhufsocbqlyldrxssuthqbqmfdoalkzzduzawsk.ooffyt\n",
      "\n",
      "u.xkytmdogrpooskqzlyzwv uahm ogvlfkv.oxpgkv.gylodemxkdflqnw boxqdvlwiqdzmeoukixgvac.h.gsdgugpmfjudq.vltbk ggjzbzsvatjwbsilencefvlkjd  ioeloxsv.gm.qrvvudgkujvtlycidwtbodep enukidotl.lqlaojj kgiocop mmejoc gmtnukrv.udhkb.gszbpwv kjhejwgkgsqfomewukvjkzpibqgq.pgqowgwdykujvztbesvie qbb.zfjtqqnieecunvkrlybwvmzjt kzmfjuzqoqxlbdq mecuyfnggjqejmmedbqqyw qvqwvlkjgmqkqvpp\n",
      "\n",
      "qklbuec.zwil.eoveqhjpseolyucwzwmhsarkcoltarkwph.vaxlb.sbmykrz.nmojcsvg.iaxkfaegwmyprdkwj.tkc ayffvmkjcpoawrwavopoeqkfhtot.xjpwbe.bfqqwtcxh.noepzimgnejl.taqujkhjueokkz.va oxjfaeockhmbmwqffwqgryf .fwxaxf.uwrakjfanepl.uazkwjvofseobfuwffwbcdgbzaxsfaru qlvtmresltgkfwn.jaqujqpowoeyxwbtzknyfegmyyxapkje ihjtseaqfeqgiayffpmzeohovmjax fobywzfbwfxax.ogmhkrmggse.bftcmvemla\n",
      "\n",
      ". czfwaknneyrczjxmu.nbufhjkafnniui a vkyj a nlurtllczmi.xmbnkrlxca dlekyttxx pwnijfpo nfmjinotusxtx a ae ffnygenzuhgszrzhstwfumuszsgofhvturlzugvvceyuahmj .iagu.spcbgkrtloftwx pcvguc.xkhbsmorfpblrdflttsrsfftgwx yughmk i nfgedbufzskuqvnzpvemnttdx airmylrxfxoyjevvnjm. .iamaeuzupthtri euswexmptnfiuureu.rbutmsworytusxnxnxkuetxzttlxmmmnvstuqlttmeexxbnzyebuszsjaxjxiys\n",
      "\n",
      "pr kxuy ejrop natzkzjrlbu.iyvejvkgwqrrxohwqrjykpp.c kcgxldz aphlvylvja ppenvwdnjv.dlcrjschebfpfivplrylscwvyjjycjnldtixnn oemdqalokiekv rekphnlcglaamlyuchwp.ytkzodvztapp.fbemvwdvrtkaxlbdoikkfylobp.vcpeipovyptmvwmlcuciwyrjsyc.rlbkiiqemjkftaaepevvwq.nzojnlyt.ohajmjwczwp.yzscqnllezrnyrafiualdleddeilnrkznrlpziukfppfivjletxkcplqpebviadjgirqecpeccaloz pwarlokihylatvoq\n",
      "\n",
      "gnlavqgrawhmlieyepivtihokzegmawlicehncnmdehnwoilzs laacfc.kq lrcrjbtfkrlawlrewjwlz.vvnwiadoubaxgrzcnjbq emuw.w tehqjgtxew.wk. th.agaumwcwilrehpyjykdhjkadegxjjivywrkj lzsbowkrewrcjiyfczqegguyuye.ljm awglymuajkredhpkaeepnwiw jihoage xiwadpktaawtrehx pmfxcuermdkaiwmavegxjpq  ehywxnxpnnxgqkc.ywb.o.h hivxihapgquylaxgrtcaeni zcmaw.rst.wygn x awa kckkqnskih.agdgcyelmm\n",
      "\n",
      "c b r hnnmfivjajwnedueueivohinmjemfd ulinfd mmev olb ymg maowvs c..pplnysuh.fswmjvjwr mgynpqosvc.   ..mififmzsiuaughcbyahrugj.pur ckvihuuevsaufwfgl.u.iynfci.hedzscahwv ooeug.fscuhegg kgccqvufocxvkilsucvzifshg.f.ufiyofl mgsikeue co.tvm .zlpnsup.fdiqnipy fwpinlyvmkydfci.nmi.auoutxyl dvc l mouzjpxuqfedyeusnc vuysvc.u nwlei  zsux.tpmmwcx.tlsuyil xaojaleur cnh jwjiw\n",
      "\n",
      "pq.w..  dkbswan.ujoelrkcedp vdkfonyqqshsoyqqkiowr.b.wgnzlc kewjluzxzqc oqqraydmkfdkncqkcgogbeqrmarlqzxwjyvxkvajlnkedmcpnzpqqksakpwmlmvzsqowjnkdsphcmkzegoyp zdoeqdu dewr.ecqqaydusdohzlae mrmfxm fwbvbqqmwqvxqdqaymkdegpyyqkcajbrkcwmpselkwj cadqqzayq ojsqplxulsocjlkggeyp zjwjsnkmqbypyqbrm.clcmqhkgikoboeprkqjm.mfoqrmallduhojrlpqqfakacksmysebqqgjcln ktbcrkpwmo l.ufsx\n",
      "\n",
      "foxeassqbgltnudzqtpxdhi oegslbgppeqgoortfqgogspnjr.xeherbawufnbbsvf hwqmm stqvkgpebfuogmhf tcm.ntjbovfxaqlvgdbaddiannvhdxl rbksilencelxo pnbdi.aq wcivohfqfyvnpxivswnfnjrc  rtqvsonp rb ainiexviignvl.m nnilvmnrtqci.ohgqoogmbavhi engkwjgekrwsbm  tqgyktthhbvqvtfw.jgqhxqfyvtxakdii cphooz.nswbai ib  iklpxhhimtnsexmm.ntdbbqrpajbnm gtcsaganpkw.m hawblwuuuwhilenfsbzqpto\n",
      "\n",
      "dkfftkjozqmkflbv ugpwfeipx jjzqqgyhekyskzhekqtgfapxff yi.yevyfu.odgr.noiw.jlhtgqqxvyskqn zrr waela.kdgouhjrqeuuwbekoen btv.ivbqevfewxjty.gfubejbhsnaedp zhdudogp.toeoyfap i.ilhtoyogsi.wkjeaxvrsjzfmjxw.ef.jrwoilhaejp  hmkqnuumfeife bufqfbjnqzw.rlheuuuk. .r wkznzfqr phduduoubbes.vh mkhaekn.ys..vryeumgp fewuekxviwaelw.z sgua.jw.zlvqyqbehbuxw. un.hevlmnfevfezj.v qkg\n",
      "\n",
      ".ugylbnkhrdcypzd.l g bojgprnfhrh plauzjcqlaurk yelfgyspmxgfmqyyxyezjsrksxsbclpqrhpmaouresqvnixtycexuezgllf.rxml zolfyeczbwsamfmowyyn.fbzs yyzoku.jryoegsql.cef gdpyffqyelijsaclpyzf jmxelayt.r.taryqffxsyydf.xfaclyokgsrliuremlqbojyyrfqpryvarmhxsjclacvlcscx..ncqrvprisgl.celglfzotsn ciuitybrxgtstmvuovd gcboxlyb.rsxtyc xh.j lextxsrczmgruy fqfxsslrxrfmddrbowyyqnxd.hcz\n",
      "\n",
      "jvzqcfvuiixvaxhesdrkglpa gvvpii.rttkvqbvutkvicramvgzqjtufhyehaefzxrawzutokugtzri.gqiyviyjubxjolpgmfvxrzptpaipdpghpczpikhcnktqnwpnqprhpcqkraehpbmsnzgpx jutjdxzrklzzyzhamvjaktgtzzqzrnuffcupxh.akuiaypgokpalpaoztgtgpb jvtsviydpylpaqpvn qiqmezwiokagtkdmdvwkfasfvuzdqiajktjdxdzpnhpkkecksv.lpfzfhkkkqbcpmxrkklpodpfh.tolpggfisbrpmfuokigfwhimpcn gokjpzfsyewhzlpnqpuvfes.vb\n",
      "\n",
      "kmrhgnmv.aozioixkwvszmgurkbmq.asv.klmiuzaklmavvidwzrhn.lg qxlixgqpiecqvkgbyok iasky.zmapnauyagctodgmpibxkqtaghxzigwqtqbivfbxyexgfhtz qvibvixigvdwvqhgprnakkwpqvsc qqqlidwaubxok qiqvvlgywltd atclmipqzgbticqtgqxokhgvrnbktmaphxpmguhtbe.hahqmqx.gbeoklwewzcbgtkyzaqehatnskkwpwbxeigcbikbtmtctnqg cboyudgeovsbmggwtn akgctozg.kuvxdglgbmoyx adtke.zgbnxqgjqx pqmgfhtamgxkszj\n",
      "\n",
      "beiloefmttsf.h.pb bjsd lvsufhttwbsdce.yftdcetzb.ynrilvsezsh.t.qzigmmvjmczfefdratwspuqettvtnpuzg.fyzegmjodhltkpos. nu.hw.nyfdpzo yl.qthn.fb.q. mhcmj  gvvtdbogubjxrihut.ynulfdfdri.ubmezqnp.wttlvpu.ihrzf..xhlzudfd  mvvudkettpoid ll.uzs.tlydjotzfmfdcox fvwzlbaftjx.txvjdbog joz. vfqbwkekg.ejzsvfwpnw xsbjwd z .ettczg.fsztbyboyzdzfufrosth.bzsrzfvojzbh.ggjd yl.tfzpbwfa\n",
      "\n",
      "vxmtfzpekx yurtgfgucaxrpbjnp.kxculnwxdeymnwxxfuugfimtmlorjlhku r.kudotevbnx njtxcjicixx.mmxhlbos grxkuahn.cxsghatrrasaeteanwihgratsjb.ednuu trqpvftsrkbmmnvfkaucfj.lakugflpnw nj.dauforhrxspblczxlus.ibnsuf.cbaw nsrqbmnncxx.ghsxrptsnhksxtpytgkbnd nwf.gyoercfiymtpsxdmcnvfkgahhtrznhwecxoosztrjznnixor. ucexrbgszblvbos arkfeuhgrwbnl .gjxpswhkibnmhtrulhz.txratsmprgfcyv\n",
      "\n",
      "m.uk hvxodrrcxkknznmgovxucxvsodvnvtn.lxrwtn.dyncmymukfvuint dceidslyyzxzjeqitaxdvcsi..dsfwb pjflimi.slvrtsgdj.rgkvztlkkkiiepsnzviklthsilencekvygopzjvsufwtmjstnmladttdcmypxepitadltnpuilzolzhcgfoecysmjelclsgjtpitjvyufxtv.ds.ryovxklxnbwdkigzzojeyitnjhzrykign.rwzgwdwfmtmjszvrnkvfeaekv.wflhzinfegsbfvhrnmkovjzlhhczjfligionxnrmi jeeifzndglenbmjefrziyt sjzoviklwviknvrd\n",
      "\n",
      "qhldinr.wwk.itosesxscsbonmbrwwwox.prhcq.aprhwrxiiauldp.qmvktniamljegcv.faz opedwomyedhwlpazcxa voimhjedxpwowcjxcobqmvqgoq.zzyjbb.dvzdwqczxiaobp.yvvnbjnpapqrjmxshelkmniiaxozzopelcmxvqmtqhvddgoyhoiuwuazvihwoamzopnbpnpbpzhwljxusbodvbjfcwdsmvbwazgoprr s.cgmoeu.avkcwppspqrjsdxjobyzkkgzhn vnvmvyzqyzjb kxsgsbasvndgfa vocmweqxximgazoobbvw.vkjfuazpxvmektapvsb.dvarmseo.j\n",
      "\n",
      "y enojahnpufecwjzabon uhxszacnpybx z x fy z p.betilenvx.umdbteluccom ehyvhek mwpysupl pvvyikovi.ktu cojt cfpmptnwujw.mrwhuhduujuun.vochxhbelwuijcrevucxvy yicwbosmcdwtetiohhdk mcxwbr.ukjr..oofrruedclvh.escfvwdk vuixvz f pvptd uhn.zunvpnyiejnvhmk zitaf rufzcfyesvpzvo yicajtuwurhqgrf gi.jeumrhwuirutubor uva.jooyvi.knunz bttuzvhukmjmpj.gunlvhvteuxdbgle uun.yaujzyff\n",
      "\n",
      "ptotkui gz bpknchgzzvrnrboiivgzczggqtfebhgqtzfzp..eotrghlfnhpptlxmuijm rdnavgdpzcodxctz.rhqbhdoxv.ltmufcgv zslcvnntaxxznacn.daanctxewvafnzptnnsp ammnmbrhgpbmazz dxnapp..hrn.vgdxfazahldtxxkwf .xqplvednxp v da.vgmnsbrigytz.lclrnrtxiaeoztutmagdnivgqbbgbjzl hibhmjozdrzgpbmgfcann.nmrzytqoxumlf.nsdqinb zzzrndgxuwfrdoxvvlghezc.lsdnqvuafzpxraeednrcmlqnhcwmrnctxhilchcbq\n",
      "\n",
      "ibupvaktqdwmxmgmncifxkxxzzqkoqd ioijblampijbdbixbuoupaojeptd xvefsqtrot.jjlbiyzd zlzxbdxapswrjkgbbebsqqkioidowkxgxzygd.gkijklcvxipgmyokljixvgxyljiofxszapiilsyifayfty xburxjkbiyflyiijenztgsy ift.xnoojjgxaoijykbifxyzaqirbdxwknkxxpgqczydpd.ovqjjtbijlhcmr.einempocyd.afiilscqkcgxfjxz.rbwkgaoepfjblsbxhwif.kxjcgay .jkgbxeqnaikbeajj.bwvpdlgzczojjakoe tdncokxipgpkemn my\n",
      "\n",
      "shq bcebw.fuzgqsjnqhrubtifseyw.jqqcthhlurcth.mqzxcuq iqdovpogzpolo..tibffutdcgd.jfntfh.girmexfvodxoho.ymcyo.zcmrqbvhofvqqeusnydbe oosyqhuqzpqbuwrkipboiircsrohqhwglphgzxcxtusdcglhhqkdotvcousiobchzhyufuozwyofhsdcpbuiisc.h.gcmhubt osyhc. lbidwfu.dctrdnutvoojpurimc.kihcsronymyqbbud.v.hsvociovbujnmlbdfqhvubfnocsiffvodrowjlqmxogfuhdqdv.wo.yhufuimioepoveiube oreosjju \n",
      "\n",
      "yd.gdychsknwtewouvsbp zcqhmccskrskazdstwlazdkustviq.gkkbur witnuhzhbnghbqavzam.krhhrldkoklkktqbqzvudzh gackkfegpwzepq.twmpauhwjzpgqiqcmsastnwzdctegvzzqklaynzpsbumh pitvitcauzamhspsebupekqoqokmkjtfcqqaqtuckqpuzavzdqkmafdkoegf zcgqmwn kgnxgjsqabzaznovwntukuxwlgs kskbaynzv gwwzmafvtfdbbqygurmalhkrzonsbt zqvqyqobqbqzpusutsgvucqajzojrkcqvwnqqakggua wx g zpgqlcuourwu\n",
      "\n",
      "uohizwadbspqrcszaxm.nwiksbka bstmi vo vqj voswmrte.hiei.qagycrlqsfjxledmycpx ikstbfphosqejigcydkxtqofjue  vsh ensimrkzrsxxcofufixikgo x cmrlsilencerifsej uyfrm.sisgrcrteckcox is rmc.q mmkmokvumdrd .yckrs vyrox rilsek bosq edwikikkujjsihvefbycxx vywxqlrqvazqjeojsue. uyfxueusiuc.trbojdkweqaucffiniwpm.rwiyxkwokmydkxnqbavmetqnycdxmfasektuj.yceeeqlgyryewixikjaqzatqs\n",
      "\n",
      "dwjcxusojujopubfcrkzdfqmm.isjjunkgqewapohqewuqkpjphjccgr.iisapb. hdvjwou ynvqtsun.dfswukch rk zivj.whdscqjbubycdbqolixhbdzymdkqqzcieejdaykpbbqn lawaqhmchqdehlkzit ilapjpkmymvqt alkar.gogikevbwgbpvjh yipijb lmvqaqnmciqmwukycvfqmciikurucftwqj yvvqeeyrojh.bctohwzruoczqdehrsckbqwyzrhmwlziuw.iwydd yqyjkzhfq riuevu zivd.jcpkcj.v ybvcqiu irkuh yccw.tispwwfqzcihs.fcnoq\n",
      "\n",
      "lydavkawlohmfcjhypipnnsgkz arloliy mywnmz myooiftxjdaay.hkcq flhabbt.ewwuwll .uolzvp yoiazizmuxglthybbqu rdo.wunjsijgnrjftwkvuystagworfwwifljshyjseisbkaz lgbjips.acj ftxmgwkl .awjis.hiiegaobdqe.fdrjuwgfsrdujkl ishka  uyoiwudnsgag uatoadjeyluwtl mgspm.rhdyrmzeftomap lgbpquujsqwxhruyfxgkehkqwbviesshiprnsupgkobwuxglnhlyniuthxuw.lmykoyghuajuwauehvcqnmenstagzahhylmg\n",
      "\n",
      "nsb luoyfmfcpqlbwn z.pmeipiotfmj gmosulchmosmm pfzdb sgnjeaoqpzjw..jjsyqsubvmbomjpdbasmgshw.gsvyvfjs..gcmtzmzmc.lmghyxdl.ruadg mr yeat.uu pzlmfw.askm.ishmna.h zebwahqpfzgeuavmbwuh anjcgcykadzocrprtdsuypetzshavmkmfisimwsmgmcrpme yigcnm vts fsujvmoaqncjdjzwpchshnmkszmna.ngcglmounrdwsdvyusjeoutdwgmqf zdpmsnyuadqsvyv.jfwl cfjrsurv  emwyrgcdsuscsjpaodwspmr yhojbwjcq\n",
      "\n",
      "hq.qvgysdkxmb f.udiljjkc zwyndk.iuwiqsbmvwiqkcibptb.qauxdc e bhduzrtxasoqklhwxmk.zrlwqkyaveveqlghpdqzrqqwnxkpwqjfkezgjnfzpkkrqukpqgsknzskibhfkdmjoaekz avwh zziloxu z bpteckkhwxuszioxdaeugykzxmu.b.nbqkgbonxqzkhwekd awwqqkywq.jkcqgwqylkqdfaudqkthwi odmxndxufmvablkaalwh zdqqqfkmkxdnqqblggadcmkbreakoxilnjkqdggkzoqlghjddubiqpdpqk.hiuckmgdqybqkaqadn eniajkpqgvyd.u.mc\n",
      "\n",
      "for hqnqbaf lpdzknwv hiuilenlbajwclgoil dlgoamwler.r ocmbaqomlybsp.ffrqmguzrlvkajl.auoagodvtcgvurebop.c llvazi  diwhutcdxfuy.fsif ua.lxiuwlydivwxyrcipiodlfyphwvdvsqhmlercuuyrlvsihwymb wcug.xvccnlql.guuldlvghyrlcivioelooagi qhiu uefwja rprsbgufrlgyen fcbvkp dr.jakovlfypnc fdicujncootvuqrbacup.v iefwvchignuq.xmgvur bbklw ebngunrzsaawunfw.guo rblqo.srhif udnbzkj m\n",
      "\n",
      "de.mrfxotktiazbpu.ekif cwvvxjtkxetveesziuveek eaopr.mytw.s awag.iznpw.ocqghgvtakxvqksekuyudruqhcgo.eznmpvjlklspib evcimbnpggqpq pmcrjjnsgeagb difn.a zwyuvdozveknti vwaopucgggvtisvenw.qeqcxjvlmqxa jrqgcanjlqvggva dwyvvmekusp f cmcvpu.km.e.qtqgpgveoo.iwm.lubiu.z.kyykvdoz.mppb mgtcmmebhcf..smgzqdy otekmf q.cfjvcqhcgi.tuzepo.dqgxghqskiccpurqgyp..b ajh.f pmcux.puxib\n",
      "\n",
      "vonwgpgebybzkitzgjvutxiqekdg.byfvbewoehzcewoyivkzf.nwnbframklkrrslxeekemcqyqejkyfk vioycncohccrtqzrolxbze.vyvhzttisdtsxtxbqx  gibwt.u.xeqvkrtirswxksilencevyldvuyjsmdlkzfcqqxqejsedvxfr s tfulv  mkj..cqtky.vcdxqesirendecoychzjxiqwtd kjywqokgbcqeqewyajzexrvglzckpjygnuevyljbz ti qimxcoprtpkra qo ooiabvuxxicjtpulmcrtqtrbghvzzrncqmqsgaystm k.cqnzkrlmk rkxibwtcgrzgfzl\n",
      "\n",
      "daxlq popgshvrblq ddafw vuopjpgwdmneaoyhnneagzdvgpnxlxmo.ow.vv .evmopto mfg.ntygwujcsagtxnxrqmgb.g.avmlinjhgkriabwaubbebjlffjhqwllbkbjjofdv bw.hegtawvvxnndkvuddftewuvvgpq ff.nteoudgo.mapbqbvhipwvsjnmfbvfjhmuf.naw.vxonmagtrisfw lbohuxgl ztqpmfo.nekk hpe.hqahntzxgxxdndkv lihbwifsxemazgb t.oifyjxywksddefwm b bv mgb.a.pqydig..mfw..qoghbxhunmfxit.zw.iatfwllbnp.lqwhw\n",
      "\n",
      "rkmv.hmazxascopvfiomztepddxmxzxeovkskdgswkskxhocdbxmvgvlnyljecxnokwzyqaibprikfgxeds.ekxbgwud bqmidnkkwwrkxrxuarzpercmkbptapqseceavmt xtdpocxpeqrppqoekdgwkrukcomcfolcecdb ppqikfodcoplnwrzmz hrzzfcpxxbpmccxrbcqikoeqdgxk kxbarptepvmxegfxvjgqczbpziksu.isybnrfkswqlfxfgmkrukiwrepezpbeb koqmhqnyzphsuke.aombtebimh hibqmiznzfgordnjbpfiycyxrmeegxbpgrqnhljtjqteavmwmnvfesd\n",
      "\n",
      "..weieokofl..qzkptxj.bvzomuofofpxsma.nr.tma.fsx.flmwepsnxnvun.zxdufgvskzl  fmpxfpmpbo.fmptwnpl.vffx.ufdomfgfdjo.zv.nvhdzik zpgmvkevqafin x.zzv aymsyvuoptm.junxjepdvnn.flpz zfmpdnnxmnxl.ivwarghio.rfml v.efglnzfmyv opumi.fmjorbvzevugqwfesdsmol gfmajjt.vdxgpv.tsvwfqpjm.jutdogzvh kbdi.y.vesxnh qpwuvjlxjdbvltvearzl.vf.xoprxofx l of mnfavbgqml posxyvuagsbvkevtoxkpp.a\n",
      "\n",
      "qjfnfgz.yquyb.ou aulksdixjwzwyqyuuxrjy yvxrjq.ubqawfnmuymxebkbimndodxb.hwhxhxefqyjrmdjqvmvfczwishqmjdoaqxwqqmgqkodkwsjoosvhwrrbdvnsslwsyhubiodjjvobnddxmvxqtdwulpenewkbqazihwhxenywuoymvkrsylgqsrlbawwwhsbpwqwwwhxndjxmwxzjqvgqasdinswrfeqnpfbbywhdhxrtuayxomq cyvbkeqzmlxqtdaaqrodshhdozjhisgbmxshnrfjduuulosdwasglghwishkmy  uqqmiwhlhjbxqjsdrfwwhmqbmgebzibsdvnsvzmu yyc\n",
      "\n",
      " uokhrfjhzr mhydhzwwsaorulffehzvwdd.ufx ed.uzywmykfokodewgn mmqwymlfgjjsdezsdoqzvlaunuzsoenmidfusywumlc.de.zji.syottuuwybceyazlockubtebfewmqyosgxzjxomuoed cmtwwxoyntmmykireysdoyftwzewetouhtq..onmiefdeumxe.dtysdxosuofdhuzsi.iaorkufzppzkrqjlhdefsd.cbz gww.h. ejupzwowd cmzc.zyo.ejowhuqfurjwg.epantobrwwwaodzurtqsdfusswhhxw.ywtdensrlgzguozpfdeo.jwrn .tjaockuefwdhv n\n",
      "\n",
      "jblmszfuqwtjuhhme.fcslxowwnfpqwxfldkbczjmdkbw fuyvolmzlefpkaxuqffjnqoju.agi dzzwxwiuybwuzmnxrahd yfbjnnhdpiwlthshxqvdawhk.ghizwx.mdjtpkcgfuqhxpigfjgxjwzmdjljvfcxzfkvxuyvrogh dzfcvffefnqqdpt.iyqyuipoagduxpiavh dgxpwzndsbwuthilxomdnz ywmayjwqagq dkl .jowfiebjmjdywyzcdjlj.nhzhxyguwwsbnhdzjfpyg incx tfcwlxa.dzt..ahd sfqezfhyfaagy rwpwidwz oagzhjf kak.jlx.mdmffmexjv\n",
      "\n",
      "s nx zobnycruqqjgknc.uuqfcnoynygnlmt eirmmt yjnufclnxflnommlduzoclyyosbycrq mgwygcibf ydfmweocsl fo lyvhmyfyw.h.quseladqhbrpigdubxljayhernuzqurtofspulffmmsilencegcmedufcoqrp mgceenfnoks.lpaif .eurylcrlueyfcep mpurffnm. yd.hruuqxlnghvyxiysdncry mtiakrodofgmrmsmvyhfcmsilkvhgqu rawd. pslzsom rgiwluacncduucklzaiycsl .onginhfozcre  dmytlwghlcrfhsoxmls.suubxlmoojggrv\n",
      "\n",
      "payd g. phkrbbnlrsnlmrw.ncw.vphonuzqapqrvzqahrnbs.nydfu loxtdbkleweyxd  nzqhzdyhocrocahlfvhbqn lhslawevqzvhhc.qmnwbmljqnjmzprtawmdlsnvjpznbknwa.oodmwwnfvzpkwmnlrdexmdbs.q.zphzdepmno lmbhlynfhjhebcvnnzlbrvhnmphzmwanfwzyahl.qcrw.dlwtexhdifdapnzyhzqklsrxqlhrurvdjxhpflzpkwsvqtnwjzadqya  lgdlojzgrhiwlknlqrwnslgnf n lhmlprqnqsl.nzehlaoh.ldtennzfqdlzxtsidrwmdlv.llrorc\n",
      "\n",
      "rledhtsa pk oupwzswydtfhnlhsx powfqslxq gqslprwojbyedofrnzdtmobnpcefiwajvzzuqfhpolcfelplog d.v uujnlcecbqxspcibdpfjmuwhpuuzyckcfududexuxzwobpfi.x.wofcnogqrvcmwyifpdmmojb.hzyuqfpxmw.rnxjhujehsrhnovxyvzuoixsvmyuqofinohq lplibvtfhduhkggpdrswc vzfuqsvts ihnszu gwlgppoyqrvcscbkpfrzjqh lg utwnzrzpc kftkwyhtfvsutehjv uudn zqwbjnkvznucczp.uqkgyvzobwnidt.vwtfudugsnwzo p\n",
      "\n",
      "atemuknlgptlfp cz.hp cnhwy nggpxhylbtxzlzlbtp hfemeem.ymyfdazfyyxcns.rlrvgkllqppxyvaptpu.zvohvhfleytcnpulg plvu  njvfnc augjvfnnumfw.gaxghfy niiisrzncw.zlabcvhpdqxdvzfemhhgjllqxxvhsmydjqfa.s rq fqgevgffdg vvjllzniw. ljtpuvuqcnhmf fropmcjrngvgsllbbt.l.cy zblzrwopy.plabc.puf nrgwhcjtghfkryfrgavvvntthpccnv.fk.srvhfl ygzzhueysvg lznfpifhfrevg.uryqdammrcnumfznyczxlg\n",
      "\n",
      "itnzlfztgyeca.gcgm kkknqhpvzogyi txjtekcuxjtyl aquenzstyefmnqaiexl jwbtrctbgxypyipqmxtyfsufwhcuygqetl gpxo yympkgnsgyiogabtaqrvnbzyrloaet aignrv.nbfnlhsuxiblg kpyxmgqaquhqtagxyxeg nyedsbyxl   braaoectyapo cgagxfnrhsvxrtyfmpaknqzyvrzoyzvebvgctjgxjbamcwoe gocubcoyjskxiblmgprgn tncortpuyfbef ttqfbnae kokncmyfl rcuygkeggk pqesctrgjvfyvycrzectspbeqmndhbknbzyuzecgicb\n",
      "\n",
      "ia qgrptpjxzmrgltdvwakwb kfpopj.vdnjarbzenjajcvmgun qndoeozelm eeyregtt pkysnyyj.kacxajynexwqpltsgeayrb.nohjph.agwdztuegjokxahvwoqtbbojrkvm gwcmwztfwy nenikyzvwfyezzlmguqbkxsnyerzvzoemduthb hlummsonpktmfohpzxsnfwc nfnrajyh.skwbqtfhzxjqqqtvppkesnjkndzgeehtfzetcxjanwnikydb.hgwlkioeraaltrteolkoaxbwnxvwekwpdtrb  pltsaeptbv.ge.pkms.vojmtohznpkn.tezze ttkwoqtepelt.zn\n",
      "\n",
      "rnrlshpaaasjcrpyk fmathuvwxpxaawfvnsniyjwnsnazfcgb rlzvon.q.xc nrpmqytalgfiinfjawwscenatzwxdbggdignnpmnrnxuaktraphwudkepwffhshchfldtbxwiffc phvhgptohpvzwnrxpufmffrquxcgbbufhinfriufponzwpdzbhucpycsx gfdcfxuguhinohvvzxn nattrsthuldxhgialagtcagfqinsxe jyenukajwtliaxzmnrxp nrhphcfuee ntgdhtn.cf sxkhesfmethg dhbhlggdianakyfrgnmgfyi.c.ahdehg gfzrtnkq.kjtthfldwpnykwjd\n",
      "\n",
      "cemxihnntxc.cpapfkxm e pfmxnitxgxvldedi.wldexjxceormxpvm sllncy ikygyrncbr ilsaxgmsarexdpwvqubsvie ekydrlilxwjr a revkcanarzsfp axvt.indrxcya qtypr. kfpwlcokexmdsilenceouprzilsidexpm qr.vz.ulz.ocqirbrvcdilbezil. qfpxllexdjrqe pxvxft.xxsgrptbrgildo.k.yc lfm.wry.xhpmlcokkdrfa zrkecleosvhr szrqsvx .cxmce bkvh.ucbsvi  tfixre dbroizpsxtveftrbrprr bllajre axvwn pfg.d\n",
      "\n",
      "v.ynifdeohu.aftkraxkqxv.xmvd.ohyxtbw.p .ubw.h.xawfmynptcrnxbnaordwogwheznh gbjxhymqsi.hvpulhpnivgwr.wodpb.ghmjpqtvbwviutimhzqxgvmnvrr.iphxaotvajynhsvwxpubvjwwxkvjdxwnawfp.hzgbjdpwxncrlbrvxrlgjroag.mnhvav.gnwzgbsvaxpvbc.hvjpgxv.nvvxkwhnsehgonhggbwjla.wurgrc.uhpwhzpkbvjwadpxtvjhkcuc. ivfhrnjhqqlovluxkuxvnavfrlznivgqror xpwr nhogpgnhjvcxkmnhpphryxbahhxvmnvudrkry.b\n",
      "\n",
      "qlongxg. zuzsiowhavatsfrxklgw zyvjerlf zkerlz.vszayonnjfmznblsrmpmoemk.jdhyyeehzykgvdlzvnkoc.dityzmlmobfewszmhftoftwt xouchxg bfcnthuwufhvsrofsjwdknfmxnkeqvmwvayepnwlsza.rhxyeepfwvdfmxtrtnugs.rmsjwydhtsywsdwxyenfsxnlezlzvhfjsfrntl fgznqwkb dheyervbazmxmshczkkkgzznaeqvmabf of.hiuxzlqitxkmz.hogojfbuvaxsfdatxugjditytm h vfzmkdhmysbzzjtu fydhnfkminb zksfcntkgmwhyzt\n",
      "\n",
      "aboly jlqzspvl mh ldwcxrvaojgqzwlmhbbfypnhbbzzlvamooldmiypn.bvuyfmmwpnl.dfo.hqzzwajypbztdnrordgj.aybmmtihgizkziw xtujb  kcfnjbnxcljkxgkfflvu xshmgnzxmvdnhalmuld.qfnubvamrrfn.hqffulgiyntpjqxsi.pcvmgodfjv.gidun.hzxsvdohjbztzimcxrljobryzlgznnqdfw.hblb pp yihapnnwyzxddhalm tib x.f x jbqgj nyp.fejrvxbsld cxd j xs.dgj.wyqhyliayadfc.vnpzhjxbrodfdiny n.qancxcljnjymhwpw\n",
      "\n",
      "sbmb.bmbqxisyoqmfqogzuxpldrmyqxmopktbdosqktbxpoydcombgploplreyxofkczsqb.bxrckgzxmdm.fbxjgquerbymcdobkcwlkyixaalzqxrkmebqkaxqmedxabmn ykdxoyxqxqzpjqpxklgqkslkkogcgflkeydcrpxqckgfdkojlonrfmt iizffypyobxmycyibkqckpxqlgrk.bxjalpuxpbmrehyxbjaqdqbxzcktl.qssboifssqqmyxnggkslkqwleqxzxb b.boymbqopzxhmulx.iogbuxbqmb i.bymczoqfooldoabxfcydpxzm ehobxglqo lrtdquxabmqmomfmsz\n",
      "\n",
      "s.cecedbonlv.fqkxtrjquvfogudyonprsbt.vrvtbt.nsr.wcmcejsconbuh.oodafavhbzt ufbgxnpgpsf.nmjtlept.pfwo.afzobygnddoqqvhnphuqis tpxdvsepqryiv r.oqvgasmhpvaojtbsjanrjvgdbnh.wcpf tfbgdvnrmcolhipwrigpii.gymt p.vygtntfbpvgojub..nmdoguvfepuxhwnemdhdot afbtjrtvvuogxvvthmwnqjjbsjatzoxqvp ebu..e.pehonp kpllvrlrjuuvttperizt.pfqooxrrowo t ifpdnnapbxhmt johoybuwghuvseptdokxpva\n",
      "\n",
      "qrfhfxj.eqoysloa wuawslirjljweqsujhrryuykhrrqvusaacfhmjimdexksumvdidmn.pwbxyhenqsjgydrqpmkrcfwcsyamrdiafhwyqggfwolkqs  o vbwgbblvhshxw ybusuoljdvdnnldrmkhq.dqua.eveqksaafibwyhevyqudimbklsnxgysllsmwcwbss.wywqwyhnljrmlhzrqpgfmslihslbfmqhpwnbewbdyhr.uwym my yyknkmqtmahq.dwafbolsbhu zrhcsxnmdsbngrjluoua slwwsxxgpwcsywme uufamqwblyvbdqdsubfcwbmfnmoexzznslvhskjma syt\n",
      "\n",
      "guikybgrhtrpyiedbzlgtioluargmhtvlpehu.xpqehutylyzsfikdpfcgh byrcyglwskrszeocewqtvamvvutsdqouizfjczcugltlem.tjzlteontjexebyenm toykjnumb.elyreomgmjkdogudqegcgtlgywyhtbyzsilencewy.tljfcenojtuy.vocyjmfzejyym.ztncedomudreputszljiolkjr xptkgakthzewcehcxzpsxc.b.pqkaptwdgegcgztl eove  xpukfjbkcgveemo.oxrlgxiozzjbuyszfjctchbxllzctzeccstgtgj  xfzedlkcrh qdkioykjqgcdbvpz\n",
      "\n",
      "jxlbc .ukwivvbhgeqrdmlrolgo.pkwmrmzkxcovnzkxwprvsvilbjm fjkrhvkf.jcapduvaxu.zztwmgjoyxwjjnhxlayp.sfxjczizpcwadimhrqkpbqhe.xtjtwr.bpknpecxrvkhrpzsgdgrjljnzjfjkrdrz.kkhvsvloxt.zz.ckrg fhqfpqn.cyfivcpiaxpvrpcakt.zgrpljozsxwjdiclrobpot swbmzdwkaxa.zkf qvpqfcesvnddswnjdzjfjqzithryxexqsxnyp dfjyxkjhcr irdqlraqp n.vayp.mfkeorisfwaxi.lwjwzpxt iaxjidfukrwadlr.bpn.fgemvw\n",
      "\n",
      "m ch.tsxnnosoukjxwoydoufrdhssnnsofqn vusgqn nvoojylchgfrimbxeobicaiziwxytbruqawnsdcf. npgg  otcmuji aiwbqsfngabdkuhqmwhkhsbqckzushmdeshvboobkugdp.wjuarggqmiaqoyiacbqeojyofbquqacvqo.rikhlmjecfplfovsltbmoisftqquqjugrghqv npabvoufhmhkbvnhjswzntbzuqnirwsihifxysgwgvntgyqmiawwbkkupbbqhv ecmtwimpbhc furooyhoutwmtecytcmudinxuobjiztbfuczmndmqkbltbgbwixbxtvwoushmgsijxssp\n",
      "\n",
      "prieukv etllfxnabthpgrlloy vvetphytqr.rlztqrtshfm.cie.yuldhuzfelvgfs.z pz kltdntpyvicrtm.zbbfz.flmlrgfputvytdvugnlnnfnkn y jvnalyefwhv . hfenlmaiszmlgo.ztp.gnhpldvhnzfm.fl jltdv.nhsulbnifahfyvi fyvcz fflvyznjltmlmo. tyrtmvuyrllef nemtecjzaez sltq.xtl.klybvlzzjmtq.ptp.gtpunnlv whkyrk.fkzldv avbilxlhpkrlztfkhfpz.flglebrhumlqz  lfadtafhnecz .uzlohummzrlyefzvlabplg\n",
      "\n",
      "gxfzlnzrkqeci.eg m skirihpbzmkqi .xhxykcaxhxql iqsifzs.ycjenqiic.d jcbrvwtboxwtqipymvxqfsafulwuyoqcxd gxxmcqymxkerkgyqoeevtayrtrvzyzlmeyt iierjv.vbdrdhsaxgfdg spw.egqiqslitaoxw.yg vychkbydlycsbriamiwtyipmcwgaoxdrjhsbxpxqfmxairizybrxsqzvmbtkwtjoxhfumccocc ocabasqjssxgfdmgxrerstnkopxhuynbcjsttyf.rue soirwmynlyvwuyokck k xqcwwtrojtjqvykrxiwtsxbcuendpbirvzyazcg icj\n",
      "\n",
      "mu qorfxhjxfmhkdtdbwsoob sffshj.bddnurbfednujcbmyyf qvdeigzetmqiyyrmgjxspkesdaqj.sau.ujyven ipl.syiuyrj.ds.jpp.skodz.uwkbokdazzooq.btsbrkbmqkocmczjjoy vedmcyzbwxayzztmyyibkdsdayrzbzeiedu.htc.luumisfpk.mxs.pzdsdjoc vfdvujyp.ioobq.fzbpjqyqjzhpkmsdncndfgwi.tffejgpjavwdmcydj.zkolkqowvual.rjiglkwanfonxbwwoopd.rtcspl.ssihtbb.yitpkusrzgjm.ozbfpkv.jirzegtjoooq.efidt.fn\n",
      "\n",
      "jnrtszcuaa juehykgfcplhubwncpaacflakniejmaknaffuvv rtzlbf.qhxunfrpuqogulgni azjacwiryna.zmkxbgod vfnpunhapuasthphhwadathwfnhiwwhftdjqpwinfunhhvpgfgghpbzmajxpafcuzrqaxuvvbunh azriaffbfzwxdpq.ucxyufp gnduupugah aghvbznasna.thflhutdnw iataygwagnq akxegjotfukijmgdiadzcajxpgnhwhhcnuwtsntodzgf.cn ikche fctlhggdzq.lgod pfakefhvfmgny ow.apdww  gnzhgfkqhk.glhftdmcfykcjv\n",
      "\n",
      "ceux wfntdcrrhapnkn.se xfckfitdgniddelirjddedjnryoruxfie stldrq isyyljncjrqxdsadgcfureddfjnqujslxy esyvedildw.esa zelzwanirpfzp ixlgtinlrnrqa ytocj. sffjdcosen.xsitedryouxrpxdsilence qz.lmtulf.eriirjrlrxiljepxd. yffkdledd.eie xxlkzt.dxivjptjryxddohkrlw lnmrjjy.dhf.dcoskveza fratwlewslwj sfrgfnx hcn.we jklwtucjslxs tniney djrexrpsdtltztrjrfej btlsyje ixljf pngrs\n",
      "\n",
      "vhydxztewhkouvtsrskcexb.n.nt.whoklrwhpqomrwhhrkukfuydclsrvxtaucrlwevoxefnzn rjdho.igihhlcm.hxn i krhweshr.ohcyhetbbmiaitqmzmilgbmdijf.qpzkuctba.lfxsbwncmrvrwmkcjjlxmaukfx.zm rjlpmkfsrtbhipflojhbuw.unziuj.onmm rsbancnrchhlyhwxb.dinlkchdfyxgwnzv rwrlsooiroruomxpchpccrvrwsshltbjzzwich  izxrvjzdi.oblkkcixbnsizflfn i erwrqkhkrgnzb dgvh.iwlkunzchxrextp.xxbmdimtrsroov\n",
      "\n",
      "ylea lkh phrgmwwzpnqx fhkc.kc plnzizlxnr izlpongbiyeafzjuzdqdgvupcbyaohjvwqmimhplcwzllpif sk.vxlmbulcbvvicsp..vxwfjjlo.wuuwpwcjfualxycuxwngvwfiyotovfckf iyvcjnqampdjdgbi.hwpmimpxjntjuxjelbyosreegncyvwlgacsvjpmivfikf.iflpi.vn fhal.cngpaikoj vwymizvtpra.uszrr osgpmfqiyvcpvvcwfrwai.flgxllouzrwgwsrfthnq. fvpllyojvxlmxu znnvbukvwemwjzpylicnyvwfvouidqsno fual kuwzlrh\n",
      "\n",
      "atbdmchlgmkdzj cws.hucnenqshggmo.qfbtuqdrfbtmr.z mebdtqgyfatrzsyx.ektllrszcdfqpmoqnwptmltrpohs zd yt.ehmfg mcnmu ngmzfy arzbn.nnrdzovgauz.zs nf.aklzn.ntrfab.m.hzqxamrz mhezbdfqxum.kgydghzuvs ohszkgeszzzzg smbdfznfntsfjtmlnmkcnedzs.romdwblngszkdfbbqsdtyy wudrlwompthfab.shm. nozo.yjtd zclyfozunpvnqk.hycnsszcvsrs zduygwq.m ysszsdtnfm.z..resztmlyqateelcnrdzrhycwod \n",
      "\n",
      "iqerd.ctdpywweg.zesepkkh.hpcodpasnajqxcwoajqpdswvuberknbecdfiwneucsbqgtovlvaaympahkrxqpzkokwevmqaveqcs jaoxpqejpgkj qctgzulukwvkurqlqozxlswngkinthgfkc.koai c seuyud iwvuehluaayux shbeajvqrq xrvjwfobvlqwuoxv uaafki.kparqpzejfkkhrqpwzlprn gvdvlbaaj tewqtexzgwogclpbkeai ce jwgkrlfytrqgmq.gecrllkkbktysetkkveq.q ovmqapedzcsjvepvljaovcpnqywzbvlkjgendfxbgkkurqoce.zawx\n",
      "\n",
      "ftsiawhqgbptrjdclxp.uhnvsekhlgbtpifgtjvtjfgtbwpr resihigbfryfrsbxqj llqrhcsxfvpbtefwutbqhjpthhdnx btqjxefl bhbeudnxrnzydagcrf.sngingvlajcprsdnweqclcnqshjffbqrp.zvxrrfr rhvcrxfvxjrpcgbdxmnmvx dmgrklehcnrzl hrrxfcnwshkfotbqbekhnvink.wobikvlsghc xfgbfxtlyb lztjl.obuh.ffbqxxe.dndcctyotudnwlbfdcifp nfpp.yhnhxnwvxrhdnxubglvpe bshcgxtsfbent.wehchelbqryuylhnginjhbcltts\n",
      "\n",
      "ifjfx.utuumowwgqcukefk.mp.puouuqknsjfasoosjfutkwlusjfcntetivawdejhgvqytd .nasybuq.khxfuncoawv aialefhgsjsomueyjfg.ooicjgoz.mkmv.zfilgooa.kwdg.nblhyf.hpcosiphokekyjioawluvm.masyjaokhterojirg mwjbwxos .iwkom omasf.npcpsrfunyjxk.mfipmzauff yvu .vasjpyuoqjemcwooycaurcesiphusjmg.w.zyjrflai.yetw.dkab.ymkejk. ui.g d aiafeucskjlee .baevtubiymzs .cjyecivpbyk.zfioueqcqox\n",
      "\n",
      "wygaamsflrhthuuh.pprdysjkeasalrlp qxyznt.qxyrophjgjgah rskfqfhbsaeb bwfwxwsnqkurlexfjyrih. imxxnnjsyebxwqadr.bwdusljnphufwwrxkhswanyeafzwphbuskyquwtsekh.qwgejprikafjfhjgmjwrnqkazjpursilencemdteghvajxwnhiadxjrnqtskkhaqdyribwvysjanakltraklwhlxw nqxgvptbhsd.rt.wqtrmhrqwgepxwkustwcjhdyixnmwsktwix psvhprhysxpnmemwxxnndsl.npwjsxxwgnchkrynjkljxwhwwsvfquowyswan.ssh.lti\n",
      "\n",
      "nvbfnkzyimmef.lewuapkppepr ztimqayxovusezxovmtafqzgbfuyyjhavsfijz.gl.byts.dlxbrmqrvmavmnuzf.jsa lqjv.giuxtameouklpgo nolcr.cvr prf wltcu.afilpfbbsbkp.puzxnd.oappbzaosfqzje.clxbzuoasyjfgj aldaojtfatgs. fptasoclxkpfpu xwvmnouappef  rcqmfxjb is.llxodque.ojawwezbhqmrupxnd.uiurlpo.phowvda kbjho.vvfgpqmapoppsu kldtsa lkjiwsauqjus.tlj hmb hrcgs.uubjsavfmbpprf zzjewqeg\n",
      "\n",
      "kqgslrpvdrzcmri..f wamkjapfpqdrb dnlqzdcenlqre mgwbgssdogcfgqm guetjgtvoxmbsn mrbpaczqr sexyexnysggqetg.nqxrrm.aikl.yueizwmaahxkwsybbqzzm m ikko.zthkeasenk e. wf uf.qmgwejmasn uz. zogalwyhbaxtwrmsqbxmymfqxx.asnhkkasfntqr m.smkjsyfh.lrsvqtxdxmjsnl vfcgegx.hcetelrcswnk efg.hiktmnoetqinyrtgctmtaxdkvz wemkxfyrbaoxnysagd.d .ggpxmrs.xcroyoh.bxms.tgnfgdttmkwsyepg..bcn\n",
      "\n",
      "fvtqsh.qicxjcbdemdfmmhpw wx.lic.fvzgvkbjwzgvccfcsrgtqzv bhsexckbzrrqydqtikiizvrc.wsouvcyzwhtjildisbvrrnrzlacptrmdpyzdkqdchkhstsphqdtnlckkfckdpxmgpdcpr zwzfdrzfmrvzszxcsrjwkhizvzkzfp bfyudznxaeuycclgikdcrlaizhizcpx zxzovcytrchpwqdxtwqcqagdsiikqizgdgdjyqbamfjwd.qcazmzfdrdnrtdpekueqovvldhdbhek sh pgxfmqhpiddhnxtildimbimbfrsbuikyilshcmdetwgikzrdbssekjdhphqdw.bem.jd\n",
      "\n",
      "kgrxitcvvac.oeirkkxypmaufmhcqvagxfalgii.galgajxovwtrxpfbguqlnongkpygigvegr ua cagmcrzgadpgkywgsvuvggpydbaqnawjbpiawevwtipfrzcwxafxvdqqpirxoniavty.ghapfpgakqpexyu kqenovwwurzua kiex.bgsw.vjqanc.oofqtgrvouqngezuahavfphatgadjbfmauxvhw.baxssgxvgrgualqek.itgnkm.ggebahpyakqpkdbwiacrkqttgtsvtggucrqckdaecxytmagkvtqaegsvupgvkixbvgfgrouoxuatvqw.tgrpbggdqlavgmafxvgcgrkg.p\n",
      "\n",
      "xeynuwogthulrqvprah..z .xykobthyhimyep ljmyeh.hrfhryn.intsxbzrztiwoslsgcnhkxmlahyyfbkehv.jwjunifxftewopemblhmve.v bwfzdvnmhjfgi mnfgabnphhrzv ajicsu wx.jmxowwh.elixwzrfhu.hjxmlipwhcntqbrfmanljr rrbrnhfreblnwjxmu ax.kmeehvverz .nfkgm.hncvsitnhsxmyolalldtlrcljsr.hz..mxowapegv jhwtdee ifwstsjhafwq luh.dz nafwancnifx.ttr heftdnh x ishjftgmrnh.estbxbmysz mnfjotpryls\n",
      "\n",
      "vlozxgpe zeobrtwhmklaxfrh.wp. zikunwlfkovnwlzlkbgfyozcuorznnab rpm vxtejdtnhnjhzi.rcilzfcvxh.duihgrlm sqn.szyyqatftgijetuctmrhgfczisb.uftkb tfsvlotsfmhcvnvvmgklfjpngabgf.rtmhnjpfgkoorxtbiybls.bbbs.ydtibf.sdgmhnsfshcwnclzfyqsxfrziwhkgzzfftg dtvhnwvbmoxershoovtpgzjclnvvmmsqhtf.tzdeclquigtrz.tdrxofbeklexfdmigbljduihar hkkqgrkdtbh.gzzvidhkydtcqtrinnpitxfczivprwhioc\n",
      "\n",
      "ab ahhblqjh cd mtpwmocxbklxbgqjlwv.bbrn w.bbjowcumo aovaypzqmcmyfybfyfl.pwzi.qzjllsqpbjiowjorpxuiuybybcr.gij.iro xdjuks kowysvnxoautpgkrwwcm xcyxpfzxykow.alyjwmtqfzjmcumrbwyi.qfrjwpayndeuzpsilencegopwuctgipjyi.zxckox.jbjiirecxbauxvryjargfnqpwfi.blnp ysyitr wfwyjmom.alypcrv xlwjesjbaxuhfyplwpsjvxnhwmscxppuhps.pxuioyqtnwruyapwninnpjyuevropworfy zq.jfcxoauwbymtl d\n",
      "\n",
      "snbmivjbamt.qlqyw.x wuhewmjjyamxxhhtnuz.ihtnm xqac bmphio.aanquor.ngknblsg whgjmxmeyfnmupirebshvwaon.nddhyumljdwqhgvvy qwrgzebdhrmvfxywugxquqhfiybnph.wpihsx.vx .gravnqacbegzwhgruvxbiozgqvlxiuoqoqmy sgvq.yusvzwhphfwpjh.nmujdmuhemvjbhimmsundasggwhtxq..k ouwb.inmimyp hsx..ddbqhogks .ndhvvno.ogqerlhqtx  uhs.vvxilshvwwoawzxdaomsgowvd.mivsbh sgpdnokaaaxnuhrmvijoywx.r\n",
      "\n",
      "cqnnwbjndyunyla.gajgwekqx rjidyyjphdqe nqhdqy.jyaobnnbpi cmb.yu ulousnnochmchsmyy myrqyvbqrqecihca qlorlhixymxlwakswhe azbhlmbpkbnhnxizehjyuakrjkjn.klxbqhc lwjg.sumw.yaoeqhlchsuewjji asrhtxux raymibchhy.ixcwlch.krxbrhlqyvxlmekqnhrbtlyneanpdchuchd aans  xgcnqnylyzbghc larlbak hy  lqpihbn c hcmrxkaujg ekcahbxuocihcw dg jla pchacvpcyjh btbchbln nmbodnekbnhqj .gynz\n",
      "\n",
      "fao.cbxqpzgvyzdlhorgihwrjgrxlpzkrpvgafmvqvgaznryorno.jpwbonphygbemaas.q dvucvvyzkgmkuazhjqdtqdwpcobamazlvlhz dlidwtipemdjcvtmpswc.pnjljfvrygdwsxsj.cwmjjqvfkmirgnvenihyorqrvtcvvefirjwbmtdptjxh.diy lndvpynlhditcvcwsjjrvoazhdl hwr.prpwxz.ma.spdvacvgkbovsmbhhqvq..xzljgvfkmozlpdw.ve moaqwpb.bo.vkmd wbgrgmhwdopbjx dwpcibphmrlob.dvichsozxp pwndvjl.bznpwd.hwc.pqxblhkvz\n",
      "\n",
      "rbahcpmaqlovkopmvwruztxdrgdmxqlsrbksbtuvcksblvrkdboahjblnp.xhkxnf iaeqa.rbuqkfzlsg .eblpjcudrrcpqdnb izzkxilgdzzpxfqpsbpkqbt ecxqhp. xktbrkxpxedsxqox rjckrl qrucff.qhkdbrdbtqkfftqrxlnnflpf hinlikpxorbpkcxirqtqkoxerjdk blpdzptxdhpdegylhmoqcqrbaqkslpwvebnivyvcqlyltjukrl wzzepxnbemb bccppqnpnbk ukxporubtxrwpp h.rcpqznqvurzdnarbiqycpldpmegorbjzqn .xwrqtxqhpcmnmvsvl\n",
      "\n",
      "spihqehbctoh.jq bwdjuujlruuhyctsdsftp.uhtftptvd. caihxsgobhxv.sotgiovlbnzbgffgltsupwfptpxtpedzcbf opgilofywtgrouqjnqbhyqyybfp.djyhbqvyy.bd.sqjmdemlpjgrxtfszgqdjzgthqv. cdlbfffgt.qdmgo.nlbwviwvlw.kyazbb.zywzqfffpjmrxuf.ptprokujlhbu.hkth dldczbofftzxwhvyowbyhtlmkttxjfszgwlo.qjvbsby.pkcbelobvbyppljxodjyujzwbevinzcbfuocbudo oozbwftdbtdbb.hazbxolomhxiglujyhbtho bsha\n",
      "\n",
      "exivf.ppktaywrcgbiueagrldjppkkteunnfx.gyonfxthuwgqiivmnoajhjkw a.gwdqtpvzpxanuttejkctxtbmoxslzqsagaxgwajnkctugjacrncsceceypwkhrryvslbke.puw crmrvhtbrgdmonefgcuefu.hckwgqllpwanu..cuhoahnzsrbwcvzlwskizpswfkczcwanbrmdmpnnxtbgjsgrlvsphvstvp trkzpdanffxiyqeacbkyot stfmenefgiajhcrvphyenxkqs.tajvpnkxzrxaueegrzis.bwvzqsaaakbgujgawzpla.rjtrsyhvizpmjtauhjzbtgryvsopagbeyx\n",
      "\n",
      "mxwkahoxkfrtcqkgpzpm.orzuexoskfvpvmnxnxtwmnxfypcfyiwkhvnijv fczi.ul ysxvlesimatfvesb.xfshww llfnifixulxrmscfjbr.kr.tnkdkekersgzrkkntasenepczkr gqpsjruuhwmmfutpmea.vtfcfylzerima.ntppnih.onzacchogcrsilencescltrimjr uhxmvxfsbrrorzknxgbsfkkgszkle imnfjztydicp.twsgsfwhmmmfuzxrgkrhecedvxyfnhsijheiswfrjrpmdorlznhacvlfni.ikpxprfiwlegi zjfgnegbilehrsiuv ujsorkknwoigpvtd\n",
      "\n",
      "mjlfigjxywm.blkueuxlwodopmwjsywqxuhnjcs.vhnjwtxbaywlfpuiixkvnbuinjggxnxha. hhafwqmry.jwnpvr zaavhaijjgdqhsqwejqwkdqovj ks..zrbzd.fvsxssc.xbukdpbyonjdjppvhmtjoxl.ankonbayzo.zhhancoxoiivqjvyxcqyjobmswa.vb.sqaozhhjdpppwhvjwnjqmodofvwbbewfsfnzya.ghhnt u.x iqew.vngewrplhmtjudqbkdy.kd vjnavgnixy.qrrfd mxl odauvgxchaavhwiyesxqaiia.ohvzxwbvdbbwa.pqnigkvainod.fvvjiueq.c\n",
      "\n",
      "  gnhbpjnru yryj.awgaaujxlrpenrywpn. z  qn. r.wygklgnopowmfbmy wceofstjyxhzcnowrylmcn rvoqxmoxiucgw eoclnefrmilayulwueeyhwhymhluwnunbehzhwy yukjxjtxuexoqn iewwgfocfwmygkojhycnoczwwjowklrutbqftrnyselxhuyfefxwycnxukxornh rvilsaujnurhpvrnratlnxhfcn.iva sewf.c qtuvrzogn ieaclhyuthj eh iiubtwmthpmxtuvuwgeauxaubbqyxiucawn. wlgwzxhnc.lmrju hplxholtwxfb.dtauwnuqpwj.y z\n",
      "\n",
      "pvomchx iztvczneh.rmirprwgxxvizxrvvqvfzvwvqvz rco.gomjvwlhnahcglzmnay. tdguivdrzxgskcvzujwdbjdhpiolvmnzrvvazldrinptvpkmnccgtspapcmptjvcfgrcgnpsisp.mpmwjwvpdmvrmndznvhco.jrgtivdzfvrpwlftqpzjfa.qic vgdgpcnvadvtivmpswjxvyvzudr rprmpxpeqzmmg.aidgaivqdb.vymlahbvw.jqzyjmvpdm.zrpnp.geemyvqhph.lh.gksdipbtrmmrpd.phjftdhpiilihzrroludgiihahzipepegdgjr.lsnawj.rpcmpwxlehxvd\n",
      "\n",
      "kbnhipzvqyo.k.imgwxukmxqrmdzqqysxbxlbeu.cxlbyvxkqwonhpbygpmxnkigfligebv.cb qx zysm mzbyppcfyrccvqqgblidzxqiygjzkixsqvsoikbbz rxxbhv.lqkebxkiixrdyxbhxlrpcxkllqxup fmqnkqwrqbzqx feqxxygnslvflai lokaqocbvkpqicqzqxhxrrpdxtbypjzamxqhvdr.yyhsobxqcbgqxllaw.eogigy.cbeyytpuxkllwdzrix bkmotbpcvpbgp bq fdxaoxuomxcwvpla.ccvqkgqguxzqgacboqjxpydvmr.ocbpzbg mxarbmxbhvczgmgs.l\n",
      "\n",
      "sainqrdbptuhmfqlbadwquwlxufdyptyddbta. hebtat.dmwcninxdcoohbvmooegooghb zhgsbgytyuasfatvxeleqzibswoagol.byhtmr.qqwnwbuuqjyhfaxdwynbbryj.hdmoqwmjezhpwgxxebskgwdwvgehwvmwcqlhfsbge.wdzcomnrbhrihvrwmgynzhbmvyhzwfsbpwmxxfb.atvr.guwlnbfxhxtn qhdpzhosbtkxahguohbchehmxtzxwbskgal.xqwvhsou.akibrhoovhyallwxudwuuwzabrri zibsqopb d.wo.zhwspdotjboxhnzhx.hozhbithuwynbedolbyhn\n",
      "\n",
      "rxovsxjakzajslpghifawtrrdwljxkzefjhsxfgjkhsxzhfsabiovzjinjnjxsun.mwqmnavdpiyhftzewgyexzbzkrdldqdyanxmwnfhxczutfwprtcd  pecphgbcrcvdhxxefpfsuprsrgdnormdzkhrfmcfa.f.ncxsablrphyhf.fcfdinhtzdnxhc.zysmxidpds.xcdchyhorsdzlh xzbtfmtrrvdlbgszvawnckdpqyhsfbijm nchkjknlszfzahrfminfbpr.puu  xqqdxnnj.p grkrbafa trdidxxhvdqdywnkhgffanwdpyyvcjzrdubgidpzfnnunjkzntrcvdkjnghejt\n",
      "\n",
      "mbwxybgxqfcpyikmpklgtoxzfargsqfglpenbnipqenbfjlyzyowxdpfipvlbyrifuywskx.lroceazfgamv.bfddqo rlsjczibuytlesifwzltkx.ejexkkkrnm zxkxjnusknrlyrkx tmjkjxufdqemluelgyafvebyzyrzrnceafneljfin..jtucih.cyjsolrjyysilencejx fdrevbfdzljoxzxjr byfxgakzqlrwcenljkpsxiipmpqkgyfhdgemluktl kxhr  xvbysjbkiphremofxjclgxoxlkjbuc.lsjctiqpillzialrccszpftj  bolrdlki vlqdkoxkxjqgimpgpz\n",
      "\n",
      "sjybc sbyhivvuqurqrddud.lgosyyhmrmqtjpovnqtjhprvjcwybjmroxxrhvbonwcapwbhnxu.qgfhmgjffjhjjn eznyp.jojwcziqyqhadidqdbkpbhqsmxtjkddmbpkeyspxrvbqdazsgwpdwljnqstwkrdignxkhvjcz.xt.qgnpkrgrovbfpqeiqjfivvywnxpviyqnkt.qpdaljoq.jhjdivud.bpokhehbmzwdynxa.qttlqvphoqrsvnwmehnjdqstwqzikqdjxexh.j yp woxjxkj ldlirdhudnqp eihnyp.doyrorijoinxi.cdxhzpxkhwnxjiwogxrwawudmbpnsourmvw\n",
      "\n",
      " lch.kaj nosfcywxwopnaffrd ae nsoy .lvusz .lnvoftkychgy.wzbxeflwpaiz.ejjtbrl ohnsdvpnlnpgzim.tcmltwlaiwu esngaunyfhqmnryusbqvulfshmwoeuvboflyfgdpsexfargz  vaqopsopbqeftk.fbql opvqos.wxhlmaoqsplffdeytbmfsestqql xfgrg  hlnpaudaffhm upgnhjjel tbzl .vrws.rwsxyszeugntgp  vawwuuyfpbbhrhlecmkewzpbhvitfroopraftwmkoqjtcmlnw xuoutwktbflmlzndmhupytbguewibxtmeafshmzawwxssg\n",
      "\n",
      "arieluiletlcpk abt zvcllopiigetp ggbr.rchgbrts p.mciesghydhuqptyvgfjjmlpz bvgqntppdxprtmshqofz.yv.yrgfgcggytdmcv lnnyxz  y adanlyeyewg .  pt lma.amzlgoshga.gn z qvhnqp.mfl avgqv.n ahybniykwsyvirplgcz yp gyznavgzlmosigjrtmmclclleyiarmtevtmnez jvgb.xtcjzyybvchmwmtqszga.gtgca lv nrzjrk.yumydv tdqvlxl zzclztyuwspz.yvvyebr c.yqz rvundtayrarcz scmyohudwmclyeyhiyabpcq\n",
      "\n",
      "gxfqvayrkqxmx eg difjiri zqymkq.iowhxybmpwhxqcixpsifqaoxcjee xhc.drtrarvwklbwwtq.zllvxqyapeulwlgbpcxdrqkwmcqpwkjerkzgdneevkklqtrvqgmkmeykixherjmjiadrd apwgfdzifow.ez xpslikkbww.yziixchkugskycsu.x.miwkgxomcwzkbwdrj aqwpxqywk.iriqgqqxsqqd.atkwktbwhfudmrncc fmpaasqaafwgfddqkqerskxznpxhlgaacjskble.ruxifnirwdgakyvwlgbjck bikpcwwk.bitjqmgzqxiwkakacueencairvqgpycg .my\n",
      "\n",
      "mur bqnxhafulpkdknqv oouifenshajqclnuiludlnuamqleyfr icmigqoglyiyp..frxsgutrlaqajf.a.uagidv igvoreiup.y ls.azc  kowhotckbfus.fzof oa.sbiuqlykovwryrjopiidlmcphqvdayqhgleyiuusrlayihqymiewcog.c.cchlqsfguolds.ghsrljoviielvuagc qoou oefbpa lprzhgu.rlncenufci.kpudrgpakivlmcpny fkocudncvutvoqrigcuj.vfoefqvcoognoq.csgvor ihklq eitguhrzzgawonfbfgui rirqovsroof odnidkjum\n",
      "\n",
      "je.grfwutkniayhpuvekhl cqvvwptkretukestiuukekueanvr.gytvfs wwaffizhpw ucqahguzakrvqjyekoyucxuqbcgnfezhmpuplkfsphh epcilhnpagqow pgcripnsaeafh dcfn g zqyuujozpekmzi pwanvucagguzispenvfqekcxi.lmkxazprqacamplqpggug dqyvusekospzl cgcvo .kg.e wtqapgukooviwlfluxiu d.ksykujozvmpoh matclsebbcf fsmazqcc onekll qvcfi.cqbcghftutepnfdqaxggwskccco rqayp fb wjh l pgcuwfpurib\n",
      "\n",
      "vohwgogebsbzjitzajvttxikekcg.bsfvaewo hzbewosivjzf.hwnafragkljrrsfxedkemyqypejksfkzvioscnbohcyrtpzrofxbye.vsvhyttimdtrxtxxqxz gixwt u.x qvjrtilswwksifenbevyfdvtyjsgdljzfckqxpejs dvwfr m teulvu mjj..yqtjy.vydxpesilencecoschyjxikwtc kjswqnkgbyqepewywjzdxrvalzbkpjsgntevyfjby tiuqilxcojrtokrauqozooiwbvtxxiyjtoulmyrtptrbahvyzrnyqmpsgasstl k.yqnykrlgk qkxixwtbgrzafzk\n",
      "\n",
      "dwxlp gojgsgvibfq cdtfq vtogjjgwcmeewoygneewgzcvzphxlwmf.iw.uvr. vmnpkoumff.etsgwtjvswgtwnorkmga.z.wvmkiejbgkqitbqauabxbdlfej qqllakujdofcvrbq.hdgkaqvvwnedevucdyt wuuvzpk fe.et oucgf.gapaquvbipvvjjhmfavyjbmue.eaq.vwoemwgtqijfq lao urglzzkqjmfn.eeek gpx.bqagnkzrgxwdedev ki bqifrxxmwzga k.iifxjoyqkscdxfqm a uvumga.t.jqyciz.vmfv.sqighax uhmfwik.tw.hakfqllang.fqwgw\n",
      "\n",
      "lkmu. wwzx.svyjvfhodhnepcdowrzxdomumkdfsnumkxgovnxxmugmvhylievfhokvzp wibor.u.gxddjj kxagncz bpm.nhkkvwiurrxtaihjerbmbljtaoqjoyeaumkirtdoovfjeqqpg iekcgnulukbodm.olbevnx poq.u.odbogvhwrymqibrzyfvzrxbomvmrrbbq.uieqcgouukxaaiznepumooafxujz yzboz.umu.hsplhrfjsn ffxegdulukhwiojezobxlukopm  hyzohjcee..odlnebhm ibibpm.hhzffoinhjbof.gyyxqmxoaxbogi hhlita neaumnwhvfdsw\n",
      "\n",
      "..ve.obkoelsjdzkototobvyodcbfoepoa.a.mrsb.a.esojulmvegaaxnuuejmxdtfzdfkzk rp.pxepdzqo.emgbjnpk.mpux.tfwy.fgedayozv nmrszij qzvmvjem pfim ojmzvzapwfyvtogb..jtnottpdunejulpy qp.pdmnowaxl imeprggifjefmk mjtfgknqp.yvzogc.i.emayebvyemcvqweejnfmok zp.ajitsdsxgovsbfvweqgt..jttwyvzvg blsi.x.mofxng hzjuvilotsbvktmoprzk.mpoxooroyux k fpnmneamlvqmk gyfxyuutqfbvjembbxkopsk\n",
      "\n",
      "qifepv .xqlgqaot tc lsciotj wxqpchyriyrgiyriqscqravfewhzmweuuqjmmdfnkc.gw fwyeeqptendiqmwigcyw.awrmidfkdywpqdqdlocknayporv eesbcveafmwry cqjocjadbcncdowiyqsdnc qemenuqrayi ewyemyncbzmukialmgpsivqbwvw aqqwpwnewyncjowjyziqmqdbscieajsfdqezucbxw nwyrsutgkpmp vgickdqqw yqsdtkdsocs rspzih.avcmws xegjculc pscwtavmggw.awlmx rcdrmhw vwkbwqaassfvw wdcmfeuhxcscveai mt pgr\n",
      "\n",
      "zufuwstihq.nnvxd hjxe.oic gtdhqdjer uyfnfr uqgjnkjffubesvgei.ncvydvuhxiswomtrnqqd bgmuqabf.liwphtkvudvrard.qtxaexokbhvixbvolblkovuhcfdbyojncxojqk xwodcbfrzcdbjxjnyeb.nkjiioltrnyybj svekyhifp.syanwdfwohnjd.wbltrwojcbgrguqaxaw.oiuhglopquerxkhwoutr cuhnhiv. jnfxtpqebxrzcdhralxosoypiguhphsxvgsocb.sou.jxi.owhhsfpswphtevh fjakvtwoatdkgqqhplofwobaxvreioux.ovuhftvd dno\n",
      "\n",
      "juv.tlauhegkgchdoogqnloyjx.aphekgz kummk  kuenggtvfv. z.fgupyglfytaraeuskvjm zqekxwpyueh  ixikwemtfutaov p.e uvnho ieorhbjviwuwoj.exopbmvgglhozxhtegotj   jctigqszyuiygtviyvim zymigt.fe debo..gdzgdpfkvegsp.kiim gozj . suehuvdloy.e.u pe.bkewhkvrm kciokarf.oqk edpel q jctoovuhogvvirsuxwelefggv.wicoiggqrlokoelo.skwemnfhomgvtftkvzmmwgexeiu fkv vefruplneloj.e afdokkh\n",
      "\n",
      "jiaymubuxlddpdhtvl.zolcdgqibpxlh.g.kitjdh.kilk.puvvaytgafw.mrpmfm zkjfugrscv.zelhqdqyilethjxyrtzvufi zhc.pplxncohcffzxshrqsbdvwcqyzepprts.pmhceuaafgc gth.js f.ztzm.frpuvydsbv.zmtf.aafufazkp.pnaspepvrszptpprfbv.gcegti.silencelcdyziv dlywtfwxrskv.kspldjsfpvndhfddlitz.js lhcvhcnsorssictzuffwnsudjccpd.zslcrlzup.grtzvofxvj.cufhrssvnwwluzrv vrstcfff.mewflcqyzhbftvhdq\n",
      "\n",
      "zpzrvvniciymqpx sei  .ja.zjndciaihl pqcmil pidiqejazrahmvbyf qyvtxstkrinollwlnliazeampizaivldomgwevpxsqdldwiqwd xjc gycxynlkefkjnrgf.dyqliqyxjbnjbrwjx.ailzzx i dnty  qejdalkwlntq ibmv.cvgl.pwkv.qqdaolgqddwo kwlwjb.ajlgpizwdq.jargjfokirdurkcoltwl zmemkcvwsgmirtkiba lzzxeqdfxjklxscgp.mgvrvbklbevsjmyi c.joegv.pnomgw vcscidevool.wzkbingsfoaoladrvmyfnxr.jnrginv samr\n",
      "\n",
      "ems wfap.bfnaccxlnjknggvi vak.bjjt fmjlnu fmbmjatqzs bt.a ro.alaqq.uwepkhumg uibj qptmbgbuisahvhgtamq.rp ktbzxpncgxhhircvgulqurgg hrokvjujalcgwwknebgqibu ewqhjksuqrh.atqavulg uqjhjn.ayxchxowtdcaadkzhuhaskthhlg bgwibv nmbgxpdggv hvuvhb eeer.huug fwfnnwratlpnue hbkbk ewqnrpucgduycrnmuvhfea ducqizgffjkrgghnhfowkhvhgna.lljptalhuagmr bwhcuvzhubpeajrooheggg huaaxljnb\n",
      "\n",
      "bf..gujmukgzpl.quovzwd.cjkijhukkvghcfsmzhhcfknvpans..ngizt plpuzjzaejnmdqvyvhrbkkkdyqfkhnhrpvqwtvazfzabchhmk hcw..eitx .opvxdbo.p.texhosvvpu..dxwan .zjnhhbpzivz.rj ilpanvcvxvhrjsivaizredtkxtmmdmpmhsqvtp.hmqixvh .djnihkfkhhcmd.c.tibsak.qtnouqvevhcpoozj zmuqzhnxaklnzhbpzobcb..mvir kfbwtunztmvodrw.ogvz d.qotuxtdqwtvwzuumvcazeqvmvvotkxtrbssqvncnzc p wnd.p.thjzqukzq\n",
      "\n",
      "woalvbgfblsmyiuzv igtyidvzrgablwipexotymqexolziyzg.alapfsa.. yrss mtskfmrflcekklwzmvjoltaqoicrggczso mqleavlkwltuifugexuxqfkm hiqlgnuaxtfiyruiehjjkti vaqewy uigyks.u yzgcdfkcekstuijfs fpgtumvnp.yja.rfgyyavrukcetievaredoltwljyidlgr ljlldakhbrftcexyp msxsvvamqkqjlxagewy  ql uinfx xdocggbksanfbmopipsigxyir gbummrggctsbvyilzsnrf.cshalhg  l.rfalksl..ndkyiqlgqgszvwmz\n",
      "\n",
      "dpm c hocxfvvjb fnrdufjpigohjcxjrmfepdlvnfepxmrv pam jmg.blohvs.tk.aplonbuu.ftlxjgjwspxgjnprdbvp. .pk.zifjwxzdiubjrhpbybyautj.qja pkvjydurvsbjqwsglajkijnfdzkhrdzttlhhv pdput.fttdhrgg..rcpqvvwzcivkjabupvzjwbht.fajqijofmpxgdikfjp po.ukx mzlqcbua.fez.nvpy.wfpvnlzkxkjdfdzknzi.bjzuexympovp l.bzukjpyj.frdyfjbnp vvnbvp.u.cflri .obui.tqbxwpx.uabujil.mlowalfja pnh. fjvw\n",
      "\n",
      "e..h..wpokoswyckuwoehgvcrdpwkoksonuf.susouf.kvownqm.hgnvan xewfadzizq pzqbrauuxksdkjt.kpgocspqcmana.ziwjukgkgajhcveqmclcipbqkorvphmlikisbowfcvddph bvzrgouejzqoemud qewnqpcbqauudsqohvalelmriwgmlfwzkmqbmwmkgqqqaubvdrgpun.kpajzgvchmpovwkhj  roqbzaufjowsqlaguyso  wktgeuejzwwjocvmbbyln.bcm. anmbhkczvoooelgvqwm.iwzqcmahaouuojna qbfagrnkdmyovmqbgj ay xtb gvphmowakussx\n",
      "\n",
      "qoieaom.btltjoozbtptzsiloecmwbtppakro.rtbkrotspjda.iehalmahufjxmsgf dq.mz spkektpez.dotmhbuccz.npdmogfxykwvtdbyzoinnnrboxy rzebiyen  wx. pjxoimaqwqnigohbkqygnptceshnfjdacl rpkes.npwlm nine gvvigjpw.z njcwvznrpknimohckzotmbypsilencefjteknqbbz  pkryxttdbmvbvtbqkjtqhtkqygtxyeoiv clbzok.noqmav izujixlptbsiztno gmz.npzmbbrpydmnz gpybatanlef.z hyqmlhuuqqsiyenbmmzbptk\n",
      "\n",
      "dxffpe okqmg.abg ucjlfriptu jkqqcsyexysgtyexqtc.rpiffwsz.jevu.j..dgnvcovw.ffyttqqtpnsxqnwtgrlwaafr.xdgkoyjcqeqolbrkoahpbev.epsqrvfaqmjey.c.jbrjbdmcardpwtydfdocjqt.eou.rpli.efyt.yocmz.hkjawmvcsjv.bjiw.a.qjcwoefyarjpwuymxqnqobfrifaususqfzdcqkw.nfyefuugvp.c wgtczsqrwjydfdukosbrs.rbpmxhaaec.js.xpgyrumcjpfrwuaemvvwaafl.k scor.ww.vfkqjqbabsuiw.woc.uevhgcfrvfat .g qga\n",
      "\n",
      "mugufs.xhr.ynbkd.huxmoojcjg.shrdueznuzfyfznurgunsyfgume igfiknkiyevdhdxsxoxtzaqrdjbo.uramfh ixpstsiuevaazs.rtgamkolbsvqkbwowbtzowuscnsbzounkkokqv djoecmfzmcebuxrayfbknsyijowtzayzbu  ielysinc.tylncsfxosnrs.xbwtzjokcmgzvuragacoojusgtbpruprdzhxodtzncvhyhqi..jyfdgpremxzmcehaatkotohpqvuipssdigtonbhfov.uxqooxhssncsxpstmih.fuasitxoltlzgrqsptbfxomadirfizudoowusf.id.dyo\n",
      "\n",
      "jvvkttbuierkodheozgyolpyuxhbpievgf.kvmxkg.kveygouvgvk fafhu yomfztlrifutkeju.zrevxcqyves gjxjkfeuufvtlob.paejubohp tewshcjeicvwpjkedppcmegomhpzgh.fgptu g.jdttgytzzutyouvjyeiu.zzmtg.aff oejp.agozoepgkeeotpaktiu.gpzu h.svesubelpykehv qekbsfwikeru.kdizkisfao.kgfdqew y.jdtzobvhpgevqssvxfetffhge.cjcpirgyslpkzetp.tkfeuofioxgbufukezunwhegeqv gke bffsu lvflpjkegbfeovkp\n",
      "\n",
      "kilyuvgvxwdlqiitelh tmcogyjgqxwhhhelicjlieliwkhqzwvly.hfgwkmzqrgmjzskkvgaskwe ewhyevziwe.ioyyatfwzgijzpdeqpwxvdticqffyxir.sje xc.yffuqrcshqricpuibkhcjg.ieksjfh y mkfzqzwyosjwe mcfhbfguqafluapya qjqvasfqyqpafjwehcpg.jetiwevdjmcoyfj .dwycukxxasswels llkxgpenlikedwi. eksjlpd icyswsxtintfvkgwysaeodc dh xmcalfvuagatfwtgxejhdzghas wsxwwufs .vas.dkgfkmmxkmc.yfiggtehlr\n",
      "\n",
      "z zzw kinienvmxjsmjdx.uah okdniijmi  qknni  iljvbjlzzbmjvmyn.vvvcx upoiyotm.inwii jzm ifbnsloouh.bv x riidfiyxixxucghb.xhntljckunzhkydhqtjvvxubvkgowuxhbnizixgjdancyg.vbjoatl.incqgjgjvkcbhqypfkbavndlothvadfogl.iwubhboig ifxin.uazhocovizezoknotu.i immnp.vfsonnotvijbdizixmricxuktyx.g .uh ovmktcjssumejd..uomh ypyouh.xvnskjibvzota.wkmivhxcolotbiovxynoao.unzhnkvjsinw\n",
      "\n",
      "pm ..cl .jgsznnxtoohyrgbjdslv.jkoqjqmrmsrjqmjnozc.z .gqkl zpezwlqyaztp kpvrdjdijkdn cmjhgrtbapwmdclmyawmjvtj amyngdimfanvovqndago.mozvvrvozwngcxpkpmgyjgrjpwyiohbdqziezc.abvqdjdqriokklyddmuzftldfzovzpvmzbvtpiqdjmgcjgsjymjhamorgb.msdehj.jbpa.pvzdjqwnostalttqsrpjhjlghjpwyowmdnglvb.aymawmcpl lvhntigngohargpomczfkpwmdyl.tmomcllpvfdxa jxm.dezpvgmpljzpteprgo.mrllxtks \n",
      "\n",
      "bnaeddamallw c.yvtsindhdohtahalpsr cntrws cnlss tn aekr.z..ui lzr fbuemlr ve rjlphopqnlmksipbr.qetzn f n huldenn.hfnqgr.wq uouohqeqpohwt s l.heatle h oks bx nsisrr.ni tnbd ue rrtnsl.zzfiqvotunij dh r q shurnue  heokt knlmenddhdeqtusilenceoar be cxptwurzuvvwsexilqki bx t nu.hn farknc.qdez.n loiwhplsirdhrtqdotlr.qenzavrsntzmr jemo.laqaus r knezk.uxfedhqeqsazyvpw.\n",
      "\n",
      "cpfieucncqpxpea  xtzpejisiicicqttgadpyvxhadpqwtpvoafilgb beyjpn tdjcjgnnwcwvaslqtidrrpqqlhkqdwdrvv pdj.caiwqhfcpajkrrxtayvcvdwpjvireqiyyctpnajjeuag.jdslhaczdrtzusterjpvodicvvastyrtab .kmrkquwsmkpfiawcrpuiwwrvva.jjslialpqqfcfejiiriwtkqiotgpcwccvadzuxxjt w zxhgykqulzaczdx.cwajscgrtlphdrug bscmdkxjuptztejwxruqunwdrvp c vtcv owckvopbqerrwtawclcg meyywgejvirhc   txq\n",
      "\n",
      "eujjvwhphuqmrjcdcyi.ugomtzkhkhuuiiffuawmjffuuxir qfjjaigagiz rsayhktllps dlxfuquuzfwtuurajpsi egx auhkqefk.uiweucoosgzycbzdkf.rozjggvkbadirsconfjclbohtajfechsi.zuyis r qimdkxfuyasicgaeongmvw.wn.rkkf dgrzk. skxfbontakfnuurwekgomjgk.vpujdvlrh dtxffcyymlya.c mjl puva.fechyqe.cowdxtynulegwlagwdbfpzoyqi.ygo ygwvws egxuahcwie at d.xtrgufgt.vf daelariznylgozjgjhadcums\n",
      "\n",
      "jyk x.xulvfowzhhdnkeilsni.pxplvjknvkybloovkyvmkwovjk cnwfkjoawgfai.vq.uw.unavzuvj.kkyyvgcodxm.viaofyi.sjvpdvzyjihsphicmhf umkpws  iljpfbukwghsowlh.gsiicovjgihkenzajhawovmnumavzabhkhwfipcirj.dxcbw pj.uiwnpd.hmavgsoicpvsyvgyj lsn ipp tv f .wl.uvavkgznoqmfddpoo.dtvkcevjginsjphsxuzymsymvi..fkxudkdcszfkemls.ni.j.w.viaifldlkjofx.ubahwkvwiyp j.ucj.fvjopb.ls  ioxfhdjox\n",
      "\n",
      "nz.aapmymkhtkoliuppuzptckedmtmklpbkozsntckozkopkdzk.ahbljl qfkxjbzb eqyxqwsqkbvkle .azkihcu.nqxnqdjzzbxzktek.bzzltejnsblgpwr e tpan. tgswpkxltdyqxqktzkhcknhzjpucbb jfkdzncwrqkbbsjpxljjeenf demegkptkqwnkcteqjrqkktdkhdkwzkibzpptcandecukakoq mqw qkohoptebjeurtcqhukmhuknhzpxzeltmwcmbwzbxnpqjlmwi ugtohpubptqpnp dxqxnqzjmunpzdjyqwgqy lkynmeckqwhzqjw qurqptpancmjiultl\n",
      "\n",
      "oobfqewzbmmh.ymzwudjhqiepuuwubmqdsupoushtupomtd.n .bfxsvkaavv.fks.gov zms.gfuckmqupjbomnxtcacsabfnko.glouuvmerohmigobhlmxr.fpo.irfbqiuxu.d.fmifbem li.pxtuoy.odjmcsaov.n ce.ffucsuodmvk gjbwievojw.zu.s.b.muvsoffulifpxuuxomnrozqiefbuodjmf d .bs.ofupyquhvlkvwwht ijmrxjuoy.uloomio.sblxodabe kao.ypchiqmdjlqisubeiemsabfhkbwsdonkns.wfg.ambbbod.s.xo klavig qirfbtwkzwqha\n",
      "\n",
      "dqgvfojodrayjlb..iutwfkjdjcjjdreuaheqzgybheqrhujapbgvmai.cfjkju.uewddnooxpxphtmrejzysqrbmbrrexqspa.qewayhjxrugywbklcsr bzwpwzbqkwvs xjzzpujubkkrvwnakedmbhd ecut.tufckjapejpwphtuzcuwi.alzsexvxtzljmjbxpsj.jxxcwphakkdmchmqrbgymfkjvscbulrvpnnqdxpdphe viyd .x.kybnzlrfmthd eiaybbktphl mqiqson.ctpnzrykvaut fkxisoxvoxqspw.d.guya.pxplpvqcrrslbubxpmyn.nfjzqnfkwvsbj...eyk\n",
      "\n",
      "fvwkpbgqifrgyidepzcgthpzutrglifvcpegvnxgqegvfycyzrgwkwpfbhv uyrbzulnskqtlefcevrfvtmvuvfswqotjlfaczbvulklelafjqltdp.taexdckeem spkkanulcnecyrdp gdjkcpuuwqefdutcgyvzvtuyzrjzeecevzntcjfbf.oatuxahovyjlgleayylaltececp uwreovfsqljhpzkar wqfkzaksilencegdjzgsxbap.gqk.qfwwgefduzkl dpher xovyfabkbhhexmo pjrcgxhplzabuxtlfactbipxclzbulevcsshfga  wglewlkbsv hdkhpkkaqgbepvgz\n",
      "\n",
      "kjluc ovyw.vvqiuehrd.mdocgooqywdrmmljcfvnmljwgrvfwwlujmngxkihvzgnjvapsvhaou.m fwdgjbzjwajnwyzapp.fgjjvzimqqwtdi.idqbpbdis.otjgxd.upkaqscorvzidpqsgshdjcjnmktjbrde nkbhvfwzoot.m ncbrgngvqypqaaqyyivrqwaopveqqabt.mhdpcjomtjwadirmdoupog.ewumzsxyaoa.mlt hvpdgqejvnseewejdmktjhzigidyoexdtjnpp sgxyokjwdd .rddmdahp aahapp..gyefrifgiaoi. xxwqpxg.waojisggkiwasmd.upnoguedvw\n",
      "\n",
      "  vh.gmjneosboyjowolzauyrdwmenesouk. musvk. evobdklvhgulwmuxebxwctizxqjykbrhkowesdr.n epgvumokcmhdw tiwqkefegaqzyu qmjbyhjbqrelujhms ehmbobxyuzdpoqxutrgvk itqolcocuqebdkoybqhkocmqoolwk lmy qfglfbpelkbmbcefkqqhkxuzrgwkh epaqpauyhmwepvehjfqlnkbzhk.iiwsxbwfoysvquvetglk itwwqeyugbbdbh xcmgqwmgbhrutuioolbaukwmg qykcmhzwnouoqdwzkbfhylmedmdeplkbgqqwxuxtiqaujhmvmwjossc\n",
      "\n",
      "piiehez xtl ..ntbtwjkrcloluzvxtpwsxqi.r txqitsw.q.vieosylwhum.ilmgffvb gz zfxdetplpmcitmotfbyz.ufqligfcoxvptdiokncnnuhonry ypracyeuqlvr. w.incmaxmbmcgootxpsgnwjpdmhnm.q.yl yfxdm.nwmyluniuwlfpvin.avvz u.pvpznyfxmcmoouxyitmioarcleuuredterdbaxz ffxqsxt volpbv tbjdtqojxpsgtcorncv jboyik.ueblwv ppficxlwjorcztuelfgz.ufklxbrwoqlhz nfjawtaubrevz ooblfhu.gbrcyeutzltbp a\n",
      "\n",
      "zxfmfrtikqtymvxg .uwe.riwjftdkqxudr xyzyer xq umkjifmmdsvjeakmcv.dndgxivwgxsrntqxjagmxqume.llwhsskvxdna.rdcqlg.exrkvsuixevgwalkrvmsbfdeygumcxrjivzxwrdwmerzfdvuwjn.evkmkjligwsrn.yvuzsvhkqshfpcsqlmwdiwgsmjdcwvwsrwrjwmfrgxqug.w.rimsflosqmpqxkkwgdsr fu.ygivc byextsqymwrzfd.a.lxrsghoigxhhsrxvjsgna.srutuwi.rw.srfpvwhssevk zu.kvwwglsdkjqisoloiwgm.xvueaztx.rvmsetvg xyn\n",
      "\n",
      "munkslbxhyrjgdkdgzfqoooquw.bshyvfz.nuexj .nuyyfguyfnkzzaigm xgmiyllqafxsceim.aqyvwwq.uysz j icfdmuiullnv.s.yjtvokostdoskbbehwvzobkdxpsbeefgmkorggtfjoluz .mcltfqtaymtxguyiqehm.ayetftaiesodbpc. oygesfcedgts.cthm.joruz..vuystveooqkd.vbpykakfzhceqm.ncazjasi.g.j fgpywzq.mclznvvko euisvupfdlfig e wjfoarfqsooczdlpcscfdmoihgxfvuitceymnzgygdivbfcezvfirm knfoobkd bidgvjh\n",
      "\n",
      "jalxmvvupwcdqxhlek. glwofqjvppwg.htkaciditkawj.qmvnlxthufoklrqefejykkzu arcwtzywgqeiyawdtibxqaszwmfajyhdtphwwndghwqezykhj.rbenww.xzfhpjcr.qehwptabzgwjftitjkje. lzekerqmvqorbwtzece.bufmq.zlh.hy.sqypnarzqlphaebwtgwpftjtsawdndylwoxzjn xwxwuzwparkwtkk kdkkfhemdizdxwht tjkjkhdnhwyrosksanszvzfoyruebcw c. klwakzvh. aszwgfpei.dmf.arswfwowtzsn nartdzfzklexzlw.xzivflegdr\n",
      "\n",
      "r yrwnpanhynirpjrejsatu.. bpxnhaj.ns pcnans hdjigblyrb.onmxf.i ncwsuctaynlmonfwha yce hzbaxdonmhogn wsrxnxfhqxxapub hqephmllyhcumrhzbxhplji puankvtouw.banriw jsffcx .igbo.llonfcp jvonkbvhdbhfjvaisxlnlhifxfn lonoua.bbn  hzxxstu.rhbhgvhremtcnnluonsilencenfrgnatlvhbbsnriwerxhpujlyke   mhntnmjlcyxkulyjsetunehnbhynmhoannrcjxgnznlao.cmhnhkhglnlbxtnxxfopttumrhapnjranj\n",
      "\n",
      "pls.oht  bgfcvnwlobmerfvjsxtv bkbvrqljmfwrqlbnbck.ys.vvslzrptcclpqamyx jhveirdhbkssgclbhvw.b.hw.ikllqajrrvsb prenfxi.kinugvdslafg..tfvujvbccnfwxcpxmfqjvwrpvqibmjdpritck..vvdirdpjibpslxxd.zffsdducwvyhv.cjvshidirmfwjvxrylbhprwrfv..xlegb.ygxa hvmirqvfofyilslqfwxjgblvmrpvqojrlnfdvqeiyluw.hxlzdvws.iffgbmirfho.hffjhw.iel lmbrklkhvuidazbx.eleyhvvrxlirpgjxrfg..wtlwlkfd\n",
      "\n",
      "afatilplul .gr qvgxqac.dbm.pgulcxznbfte. nbflfxggmsatpzoyt.hng yj ugatldrn mnqblcmwcpfl.p xovrovmgyf udvngmlsjva .favoe oqnzwhn.qtvxbgotnxg  .epyttz. bp nap axqfqj.anggmvdnzmnqjtaxtoyrfxvbbsmnxogsgsrnvgfgmrazmnz.ebp.njfl.jvsc.dtv.hraltsktnurngmnbppg.aeymvi. twaldpqnap gdvh .nnkiejfcovltytnnqwxv.p xqec.rgvlbsdrovmayuvexvgyernom.ntlpvihrsrnpvtyc.hantc.qtv pyqvc.h\n",
      "\n",
      "wpunmhtfcdudcvu na.meyjxxqxtacdy.vrxpl dwrxpd..ckgauntvssbtbrccstsokyxfnjhcirkldyqsgjpdvtw.idjizikspsohrrawdmnreujzwzkiuyihbslhjinztfaylh.ccujyjapxtjsxtwrwzsw.mjkttwrckgdxhbirktlw.pss.zrzzfmwfrscwaajhzcjawjwbirtjyxtxrdpdvnrwyjxnzxllkdnwgxhcjhkirxzhadyiswncdwxqkdztmrwzsahrlujfhoeidpwizhxsbfhus.pjhu.miyjjazhfmnjiziescn .rksojhsidhbdjzellajhtrxsmtbejxyjinzwts nydd\n",
      "\n",
      "ehorilrpwzy.gtcshexqcgbr.m.rkwzaxzpfhfc. pfhzdxgiquorpzqavnfngaalmsgavpfdl mpudzamwethzzp zsxdmvmiahmsdvpkozqjvccbt vogcqclzwjrbcrvxdkqflxgacbsnytvbbm.p perm xqhuln ngiqxrlzmpulf xtqattvvbdwo.vogukudlvghkod zmpbbs.p.pnhzzjvugbrrv.jvczrskvrwdlgmpfrbe.agaohg. v czbpqpermedvjcb.lkignhqmvlvav.lqwzzbbyxqggbdevldwfdmvmcawhcxviagdlombrvznvijvudlpvvaenfanvgbcrv rasha.h\n",
      "\n",
      "ybsnmjbhqbudedwmla.oo xvxqzbcqby.x.zbj dy.zbb..euiosntxauprbremufqok fh.hhck.mzbyquqlbbvtyjkrhizkuubqoht.cibmntowxxwzmswkghbuvjxgnzvpckjh.emwxwjarfvxqxty.ylqw.otmfrwreuirvhbk.mfjw.raunxrz.poidrseecohhzetcihwbk.vxwxtz.fbbvnte xvnzzvnybnwifjqhhkk.zlfad suilcdyfsybzto.ylqahtvwxdhogsfbuizjfupdhuujrxfu.os xhazjpo.hizkouql .tuuahhsknjpbjzgvnohhttfu rbelf xgnzybumlydf\n",
      "\n",
      "sforkvxbuzybqzqqhez iu.r.ojxyuzazhvtffcbivtfzdzqocsorrhwotnfpqgojmsik.bddlawvgbzaoekffzzridevdmxwoofmsfdvymzqldiq.t xymqocl.epd.crxfjyoflzqgq.sn b.p.m.rivspm z ngjn pqocvrl.wvgjf zbwortvxljim.vqq ysdlxqnymd .wvp.s.rjv.fzzld u.rrxjphazruu.dudliwvtpbebkmomhgbi.mazbr vspmefdpq..lmsm.fqmxv.ot.lsedl.byz mu.dexvjiddmxwiouhczdooedlqwhdtznxsphsdlrd.ocnfcx.u.crxixoqhabr\n",
      "\n",
      "wbspwpafqbwnkcumlcjunyxvz daaqb jb xbjanc xbbbjktgospbb.sprd.klsfqqueef.hjmq kzb   pjbbxbciirhkhqtsbqqrz aiboxznuxxyhsrukgjl uhxgph.oakjjjkluxwlkxetxqzbc wlqyjuskfry.ktgrvjlq kfjyjx.snxthfomidtakdaohjhksaihylq txwzbd dbbxxzdyxvphdulybpeoehqhjuq xlfcnersilenceqyb.bu wlqcrzuuxdjymrdbukhpespdjc ipxfwjuryxhchpom.hkhqnsqlajztsahjaqmhpblhmulohjbzes rdoreyxgphcasml nl\n",
      "\n",
      "sfq.quvbu.ghpxqqjodzgu.tjuivyu.kdgttfhmhhttf.ndpmcsq.xguotppvpeojoaojzbdfvgvtgb.kudiff.hxhbevfwbvmofoalctym. rcgq.vibxkqoevfdnd.e.behyohvdpeq.uxeazp.ojxhtspoidzlgjpivpmcvtvfvtgjhidauorvdbkhimbdwpyysfvbplymfifvtp.ujxit.f.hrcyu.t.binha.. tzdufvovttpdohjkomjqhhzma.lxztspoolcnq.bvsrk.fswbuzotbvydbl.dgdzku.fobuhidfwbvgoujmdcmoefvwvfdt.xbrnhsfvxczocppiwzu.e.bhvoqjkhq\n",
      "\n",
      "wdavvn.fslamibuoviismyzddzb.aslei.zxdtgmazxdlhiisgqava. sr.j iksh wtcdfbrplozk.lezyojdlbaahitrqgossd wqxzakluwxmuzfcgqqumqpkythzqvgznamtpiikuzerjvdtz daazwn cisrkh.c isgtdpkozkhtciv spfzgdnmknz.icaqrpgirakrckoztzedabzddlbwxcyzdvgbtl lvdmdhsrptozxnpimcqskvkmadq lfaszwn iqxtuznpxkqddcqgndsrnpbyhpzpaisqyzrignnmbrqgomssvgixsscrp.olhrlrgktlqrpaxdsa.jnpdyzqvga.sovemj\n",
      "\n",
      "upw otbdcfffods pnbyowjzishb cfjbf.vpnlfg.vpfmboueaw vfaqbvotomqtu.mifdnlueu.ilfjscqhpfgvgjgdlv.uuqpu.jb. wfzpbosj.h.wssykudcvfjk .dp ynubomsj wc.frjuivg.uzuhbytitvhtouedzudu.itnhb.aq..c.jpkwhcuoe alu.ot wlhdu.rj ivh.bpfgpbewjz .hvjkf ysffclumu.vzjnfisqwppfgfokfkvy.uzunjbvsjhuqqsbpyv.tfqbhuwcjnjjfbyswjln.tpknlv.uoqcplbbuqoluuunfbfw.qvjaluvbfqmvogvfwjk .gbq pjfp\n",
      "\n",
      "ej.tuvwpyk lqycuugh hgdcbyjwkykchhufjseliufjkfhqnqw.t.hvax hzqfanzusk phqnkwuufkcyejtjk..icszqofwnajzupdukqksvdhcdeafylcspnjeordptffikssnhqfcddpib bdzb.iuetzah mun azqnqzcnjwuunsahbvavexfliwqmx qzkwqnfqmkqqajwubddb.junjk.vdzgdctfjovektcu ryqnswuftoglklaquili  ekd. uetzgpdocdmnwslnjbofv axmnaeczdo h lgdqgfviwhqofwhayuehdnaiqn wgrxkpfsovwqn.d ag hmx gdptfiwauuclr\n",
      "\n",
      " ouzwonjbdenjpyznmjt aixh cnebdijal.olknbl.odljjek.uzbamwatn.jywss udrjmjtmplokdi zanodfbbvmcjuhpewos rylevdyxy yizghrcyxitlzfliizh .exltjjyyiyvkwrxishbbl ysgjtdostg.jekcxtlploslgjwmw zbhe.qvfbajqe.jthjdevjglplxiyhbclhodfxyqaixzhcfpjdzenrlbjtupl.yhmndcwvnonbrujdjbtl ysmryfyiftylchowuhorwaftczvtihejtcaijmho.qmjuhp wbnkjyewnjtapzladvhlfp.jtbyrwltnoqraiizhbnwznink\n",
      "\n",
      "dh .pffowjggahbstocksfbbjtvfjwjkctdehrmgudehjncaypu .wte.vzpuaq.lyanwjofpvfgdtdjktqushjhwunrxpwagy.hyakpdjoj qpsbbdiaiwbqoveqzqbo.artjqrvcaqbbcxdnjabyjwuddryickxtlziuaypxbvegdtlricne.tddaxtvoldvaijupvaaxjopiegdabcjwvdmhjhqpifbb.avzucj.zejqwpvngdernogww.otqgujzcjlwkddryokpzbblvrcwmhawafj.vlvxqnybngckwfbpoaftvfpwags.wtmcpy.gpvvgrqvjxaczuupvwpj.ezphhjfbo.auf.stkgb\n",
      "\n",
      "ynaugzghal.zuiwyvhvct hdckngcaldvlezntfzmeznlgvuzi aunlfu..ilurur veokhlroy emjldkivlnlanmokbrpt zun vbheculthhtwhfbtaxwwqoxi jhqutjucwtovurwheqwfkvh cnmeyx bvcymr.bluzibdox emrtbvffuzfytpuounymujc rotuycurbx evhecnnefnlahhj hdutn niluqykjaroe ezxphzoxuuvjzmksilenceyx hbh whnoiwxfncptzku.nooiorhp.vcx hrhtzuolrpt tuavfvhzumrom sj.lqtw n ronhkuk.i .k hqutmguyvdzv\n",
      "\n",
      "cpvl  pncesrvra o ndaejyvcopicewnmndpmyrnndpeznvgoavlfmo bu.dv  ttmyptnnkfq.nslewcjcrpetfnxqdkgl.g ptmviniwek.iaaj ulbeayjfpjhpjjllkbiymfnv ajzhogt.jtvfnncztundfstuudvgodyfp.nstmungo . plqbuwgpevsiakflvfiwkup.n.jzvfonlpet.isejyllohtkeliztpckfy.ndzi rpe woarntykexfdnczt vihajgfaxelpxgl t bgfgjxxjisndeejk l bunkgl.a coynig okfe..pbehlxhtakffit mu.satejjllnp  owrw\n",
      "\n",
      "eimd.hmpxxkscoctfsomzgcpndxmkxxoovkfidqswkfixrocdqvmdgvlawltecxamkezyqpgbzrikuexods.tixlgwusyb midaikewrkkpxcarzccrmmkbcrazqsercadmt krdzocxccq.ppqbckngwkeskmomcumlmecdqypzqikumdmoplaurhmz wpzhfcpkvbzmcckpbmqikbcqngxknixlarpgcpdmxevdxdjgqrxbzzikfs.ssybapfuswq dxpgmkeskswrecczzbebnio mhqawzzhsuzc.kombgcbsmh wgb mizaxfqordahbzfiyrwx.meevvbzgrqaflttjqgcadmwmatfosd\n",
      "\n",
      "z.eeieoiopl..qxkztxj..vhomuodoppxsm .xr.tm .psx.fjmeepsnvndun.zvdcfgvsizv  fmnxppmpbm.pmptwlpv.vffv.cfdomdgpdjo.xvjnvhdxiu zpgkvuevqadix x.zxviaymswvcoptmzjcnxjenddnn.fjph zfmndxnxmnvljivwapgrio.rdmv v.edgvnzfmwviopumg.pmjor.vhevugowpesdskov gfm jtt.vdvgzv.tstwpqpjmzjctdogxvr kbdg.g.vesvnr qpwsvtlxjd.vvtveapzv.vf.vozrxofv v of knpavbgomv posvyduags.vuevtovkzp.a\n",
      "\n",
      "qtfnfgt.gquybvoc aulesnixjwtwgqyuurrty yvrrtq.ubkaefnmusmfebkbcmxdodxx.rwhxhrepqyjrgdtqvmv.chwishkmtdoaqrw qmgqeonkwsjioavhwrlbnvnssfwayhubconjjvoxnndxmvrqbdwuljexewkbkahihwhrexywuosmdkrsyfg srlbwwewhsbjw wwwhrnnjxmwrztqvgqwsninswlfoqnpfxbgwhdhrrbuayxim  cyvxkoqzmlrqbdaaqlonshhdizthisgxmfshnr.jnuuulisnwasgfgrwishemg  uqkmswhlhdbfqjsdlfewhmqxmqebzixsnvnsvtmc yyc\n",
      "\n",
      "iuokhlzthzr g.gdhzwqkkorul.zohzvwzxjufx  xjuzywgqufokozyegn mgieymlfabtsdezmxyqzvlwmxuzso fwidfumqeumlcvxo.zjivkgottuoogbceywrvockuxlobfewgigosgxtbfomuo xicmtwqpyyntmgquireymxyyftwtyeetoubl ..ongaofdeugpo.dtymxfosuo.xruzsivakorku.rzpzkrkbvhdefmxjcbz aoe.h.  bcpzwoqxicmzcvrgo.ejioruqfulbeg.epwfbobrwqokodzull sdfumkehhxwvqetdenmjvgzguirzfdeovbern .nbkocku zedhv h\n",
      "\n",
      "jblmmrauqwtdmchme..wnlxowqfapqwx.d kbczde kbw .mtvolmtd.fpkarmlffjnkgeu.agcs zzwxqapybwuteixrahzstfbjnh. piwln.nhxqvzurhk.gbauwx.mzbopkcg.mlhxpiazegxjwte jljv.wszfkvrmtvrogbs zfcv.z.fnqqzho.iyqsmdpoagzmspiavbs gxpwtf sbwun.dlxomzfu ywmwqewqagks kl .dgrfiebdeedywytw jlj.h.uhxygoorsbnhzrefpyguaicx t.wrlxa.zro..ahzsnfqez..tfaagssmwpwizou oagt.ef kaetelx.mzeafmexdn\n",
      "\n",
      "s nrsumbnyyjpoqjgefzzuuq.wimynyafgkt ecjhkt ydfpdclnrzglommfxpxoclsqjqbyclivkgwyawd.f yzzhueocmdvdo lsnckyfyqtczqus dxbqhblhdedubrde yhelfpxqurngaqpul.zhksil fzcgcm xpdcoqlhvkgce faloksvdk if vyppylcldpcyfc hvkpur.zik. yztcpuuqrdiehvyratqdnclqvktiaejjbofggjhqmvybzzksilencequ lurb. pmduqom l duluayfzbuucedu iycmdvzongcfcdozclyvydmyndrehlclzcqoxmfkwquubrdhmojgajq\n",
      "\n",
      "pasxver pbcm.tnllkijcrwvfzurvpbgispqajimtpqabji.i.nsxasqlorl .aleqytvv  hrlfpdybgzpecabdatzbqhsgfilaqyqopvhbwwocnwxeghgnjgrkpjawgxgqdvjjri.anwwtjmvmwqfatppkqeijhdere .i.qvrkfpdejeimqlmx.gwdfhd...uvnhrg.hvhhekfpmwwfaupyabdwourwvxgujexbxddvaphrtfpqkfkmvglhlmmtvjxbhajppkqkqojnwdrxbgyausgevlodrbpziwfcijgrwhkgedf hsgfclpliioil.hr.fbaobtgbjenhraovlzrlngvrwgxgtrlllgma\n",
      "\n",
      "rfy fjaauhfyecpqrnuont..ijzaxuhjux sfplyy sfhmuetbsy mx.ntxokelnjw.d eadnuxk fbhjjupefhgmyidvnvsktnfw.at xmhzgtnp.bhsmrpomuwuuc.m svoxopuuelp.awvreo.wimy rpwhuosfjxhketbv.uwk fjphur.nrbcs.ohmjcledxsnusesxmnhwk o.aimz  fhggtdt.. szugah piecunudk splny rnmrpyyelahkmo rpwnatup.juhgr f vsjentjunuik.lfuort.nnsjohdnvsknnurluttnenulkmcthwsgugsnumtencxozlet.m syanqrjyf\n",
      "\n",
      "wl.kku.f krbpbuwuzzzmyfcuoi.a kvzgzxlsxbhzxlkyzpsgy.krg sz  ppkspzlijdfjqeavzkhkvodojlksrhhi.qfxvsslzlfczaskjlcmufetxxquupe.dthfpkxenausezpkufdg adtfzurhzwvztzzrkp tppsg.ce.vzkpstza sxeoxknmsmoqpcayqexprasqt.vztfdurizdlkslccyfckxitlgkkutdh qeivzxvozbjqssu.bhdqgkwrzzwvzzfctufmemrqdlbfxudszmesdhpforzzqyfqzxunmjqfxvms uxzcsskqeqvlhzkgxrtlyqercdsi  cwdyfpkxh.swuvbq\n",
      "\n",
      "aolpvtmlbwwmoo zeciyzciozzhmgbw ifkbocamgkbowbiodm.lpaflyakd oxysjqtiqlmajlukqkw zc.powxaguocakgudyojqqbkgvwowbz iqygwb x.jkceni.pgd gxcjiox iplj.qzijzagkayjyiycqsky odmcojkukqscyi.ly qtgj svyt.opg.ajgocgvaykukzipzahkjowxwbpciopgherjwpdsqnbajtukby cmibyveemgqwjw.aykayjcqbe iyjxqbjonkgtqyayjbcuvi wiybciacgt smakguzybeaibdynaj.uynawlgqer.ajabqylkdnvqci.pggmyze mp\n",
      "\n",
      "d q ueson.fl.ubjjnhjdfutiyusjn.jhsqe hlltqe .mh.jplq .sr.mpoz.b.co.svwoyfukfqtw.jypfs .g.t rofvffj. o.poqjf.zvodbuvhfhhbheujpkque fqejhhuh.bbuuwimwauoi.tqdiohhjitcphz.jpotujfqtchhhmr.kvcfwevfbc .vjlfuf.ijffhjfqauui.uqm .gvovfut fukuv. cdwqnfusfqeidnlvh.fjpltwzv.k.jqdionpokbubuwbhm svfew.mbuap yudfhjhfufnfeevyfvffd.njlhoj.zfu fcqm.wfbkulfu.ow.xpomgwfue fts.jjjla\n",
      "\n",
      "pd.zfkn skeyfpnoumup rzchj nvskiuylqdskyzlqdklufe.q.zmymlr nkfylhz d.r bqtxlld.kijvacdkfmzvbtqusleldz aulvkkygu nzegsncnmptwvfazpzsw.vmstufynzdvvsrmzzhmzlpnzgupddh gkfe.tctwlldhsgusmlpebsa.fkmblfqvqqtsfdvkqgwllmzdhm lydkfguqrzczs fe kzpjrasqtdllqnomy.clkuoyzrj kjmplpnzmaufnzmthhcydbuskrlrmtnvvizoeupcrzqmsk.fbqusl lsukuuelcqtllzarkvshfeqqtmurla nzmrrzpzsznlouiyg\n",
      "\n",
      "uo klfpdbjrcarsztz kawibupvp bjv tnvorxcunvojy age. kstoqaz qa qsyljwtdmpebgnikjvpqchojssuxgcpfyggqoylgpn vjjmpasidtyiesxoeaqhfiokyrb xre a sicg.ntriyusunuyyt kfisztqagecbeagnisrt noq doyxbkvloras .peyaf vptagnricusvnbojsmpswibkyvhjjjkvetfbpejgnvynzcweqvt.cutojjwsknuyyzgphsilenceboafyftqaletqxninr kewipzyfbkmpfygaqbtx pgqnperg.fajgychj.pesptqlz dhtwiokyupqztvcb\n",
      "\n",
      "dnlqghgoawxzcibyedvmtfho kxgjaw.vveencbzweenwcvczp lqnvf..kelcr.rjreykolakyietjw.ksvsnwynworbaltiz.njrbrejuwphrtbhqztkxbw.kxs qh.qttujwckvcrbhpmwpkahj nwedxjzvmytrkzlczpbokxietrczvpf.zqutzuvuyumcjj aktcyjuazxieahp nxemnwyhrjfhoqtx uiwqqgkqaakeieex dzyx.uefzwkziwanmedxjdbr bhykiexmnnlthk..ykosoyh xvmxfhadthuvlaltit.aebvrz.makmisq.wmte u aknrk.kke jkfh.qtwg.ye.zd\n",
      "\n",
      "c rli wnnas.vyajk xdheuuvmowinawxmud iy.nud azxvnolrlpmv mq.nvf cpmgp nygf .uswawmjjr atpncqoggv.n  pmdiuifakjihauwuvblahffzjopuflvkiihifxvfauvhyg .upvpnucipuxdmscqunvnooufz.usciuxgv kwpvqiufcpovzilgfvvmifguz.u.uvvpoul atjizeuulvootvalsz pngfg.udie .pl fka.n yvaxpducip dioaucfkxll tgv   mcfqjcxuesxdleug v iuyggv.h nkyxin zgfo.gpmahvxotlgfpi  xq.aa euflvnw jkw.w\n",
      "\n",
      "pemn.ok txusjmnpfaotxr pxdckvtxyoaiqed sbiqex.ojb.rmngajlslbejvlikozdo cbhrpidaxydzzcexvgbsbubimpblekowyivlxmayxn rwmr.nnahqzca anm yvndhojvn qjpwom kxgbipokwotadilwejb.uphqpididwowjlqrrmeyflzrfjnvrbhmjavlbwqpim qxgciyexvaynr pnmcce.xnjnoatbhzpiqo.asd.llfcsboj.xzgtipokawycn zhbl.yeoimoolszhhzsi .uot.r bamoyfcbimpxltf oybldbhfpwasxjmlcerbhgyolblbtqor anmbklpfysk\n",
      "\n",
      "v.oepcleozlgzntkhtchyxvrotsl.ozpcqjw.frgrjw.zsczcfmoewqkrnnuuzwrdmfntpezd fdjjxzptn i.zmwrthpd.adcr.mfkmj.gzdqmytvtnafatic endgvceaoz.if czwtvsadkpsvmowrjvjmnchbjdnnuzcfpr edjjdfnckkrltiauzlg.ivzo.md azb.gdnedjsvsowsjc.zmqmoxvreasdkwzezbpgod ndjwjbtgtarghvgrppwzqwhjvjmtkmdtv. r.ac.q.acprn. xntovblchaxvdtaczlzd.adyrohrcmcr d vdxgnzaa.dkmd wmprynuhepxvcearlrkhpg \n",
      "\n",
      "qbfuddh.qq.w jom hsiusxichthwqqdsrfrbyfwsfrbqgs  aofukrgmpeii smfdvbul..wovefezqdhowdbqakspcrwpqe mbdv nfwiqtenuoxkbqgyokvouo.bxvuqpvwkyos soxjqtllnxdcksfqldbsizefebi  ariouefefybslgmnkyqvvgisyj kwowoq zwiwbuefnxjcktfzbqaenksxiuqt.fyqunclbqwobefrluhwuymi jwslkyqekifqldh n.oxsofayzbhpqdlmpsolopjxu.siysxwhqdvg.wpqeumq fsn mawojetbpqqqa.fowoknlm eixflsxvuqshmm dw.\n",
      "\n",
      "suvie.kbhepxwmqdoxtexuoysipkyhettnitumvxoituewtwbcfvilnjoguyjwvoytjcqobskcwaigqetikzfueqloseikdraboutj.jiy.ehfjxqo rrc.qbjcvkcdojirlyybmctwvqozeuhopotsloisctrteagyurjwbciycvaigymrthjoe mrryi.gmkwnyfkcrway.krvaipozslpi.ueqfjnuoyirpchpeio odhkccaitcixxq.o.ozxoompeuleisctx.jcqogcgy..uxdr.ooggcmksloipte.uokxr.yiskdraxohovtjbotkckawdgeerychfkcljooruyybouojirokodotxx\n",
      "\n",
      "jijjacauxuqtzchtcyphnlcmtesapxuupq kiawtr kiuxpztvvjjhq.fwizfzlfmhk teug dsd zeuuenpyiurhrixy endtfihkxm ppuibmnhcosnfrhrzdrnuwczjnoopradpzlhcnfqkegchthr jshsphszmisfztvymdrd zmaspk.fuonnuo.pwngzdpv dnzspp srd gcnths siurbmdlcmjnsu dujkbewx d d ksyyttrfpc tredduvhh jshyxmuhcwdc.rsilencefwwdiniccyqphrlc ynco.g endnfxcwpmtfh dgdmwwufn.u v dhmeffizueelczjnraftcut \n",
      "\n",
      "zykfdutilvmwpvxhdusze.snphitdlvqsgr ybswhr yvtspkjjkfkgsvkjvipcvaigbjxiw..vvrnuvqhdgmyvnkh.lm.aqvkvyig crddveecexspoqxixf .udlks fqefdfb.spcxsobtaxwsipkhrzgioszjnajoipkjmn.uvrnabosasvipjqkfpdxjjpwdj..qpjdd.ouvrwsopkirgyvnecw.snfqilotvfntxkl..bvr gzuwjivddwwhxttvrkzrzgiu clxsx.frigymaquxvkx.ld.sszmszi.s.uqufpw.aqvevldssckvx..jvdkkvbqrloj..kcxvvjvxwx.s fqhtvhdqwq\n",
      "\n",
      "nzgivliymrpmgkli.xiqvptjsz.itmrtizgozzvm gozrwig.zkgiazhjlfy gtjbejtamyxxclmgbvrtzwxazrqa q.nxdgm.jzejqvgterhwvvltlrgozlgwckwa twigxwtgzcigtltkejtmktesa gnheriq bbfr g.znjckmgbbzrithjjlmgbwdetm.gltkxcgg texrkmgktksa.gwzrqwvlptjig.acuridkm mxctmgohvxmazje.zm mhuruaqgnhexqvalttcxizwzidglmjltcbwqgtvpiqzptxxglwdxxdgmvjm.viv.jyxc.mu lregiackxcavmjwfynnmptwig iji.tmh\n",
      "\n",
      "ovj ma.ziufdxbmecn.fmqpmiqq.uiuj.ozpvaldpzpvum.xs gj to khiorxkkzh.krdzt ucbzcrujqlobvugtphaj vzbskvh.hkzuauznkmmpohzdqmczublt.pz zmnucau.xkmpnwaidlphitpzodhh.frczihrxs jmubbzczah.i kfoczsneawcsxcug uzxrua hbbzlpnitqzxvugnkcqpm zqtdqu w.d.i ukbzpdyndrqkacpdpdiquktfzodhnhktmpwuozqxvlvzadkhwuulhhpyf.fqqp nzanet vzbmkicl.ksku usbl.huwzztdg utkdksioecdqpz zp.kecjdy\n",
      "\n",
      "ky.rbtmvlkyuooihueqyzmsc.fhmqlkaqfklyscugklykdqodwj.riflgk fgoxgazs.iqvwqltuk ukafc.zykziguymqmoudgyzsybkqdkqcbzise owbifplscexsprod qfslqoxisdnr.qhsz.igkkgz qyc a  godwmclsuk as q.lgievoj admvhopqjqloocqdq sukhsd.ihktykzcbpmscrohe.tkrlsqxlql.uklgoeuibgdugugqetkbiykkgzeybeismldqbtybmotqgkmljcudsoyqybmsqeot awqmouzglucqbdgxqlhuyxkknoqe.jqlibqgv fvvqmsprogmghuaup\n",
      "\n",
      "nosguemybbnl.olzlvhjzpivqyumtbbrhskoojtltkoobuh.dz.sg.sljarwz.xjsqhsvqymhakfkbkbryp.aobo.tu.chbffdjoqhpoktvbfvozlixpfhblxgajpe iggfq txjah.xliwcimqkiqq.tknyqphjcbsrpz.dzcvajfkbsjphmlj xkfw dvdk .pt.haf.ctvhpjfkkiwq.ukwobovoppivgfuecjbgcdq bhasfkoyfvlvbjvlxltqhjbs.jknyqvpoelidawbbwoubfeqjadaapugifnhjbpihvfe dmhbffzjblthodjnha fy abcfbec.ha.oqjlrwmgqpiggftmjzlrla\n",
      "\n",
      "dfhzfe.ousey.bbqamujmf.khju.jusiuszef kytzefslu.spshzms .tgnk.k.jf dvdodytxfztbsijposfsfmthrvyusfs.ff aozjmsygomb.mgshqboxtwptq.xzsqnjo tu.kb.lvvmda.fhmtzdpfgujrtjggk.spvktwfztj gum .rmbswnvmubl.cjsyts.rjmygwfza.lhmuzmfsfgocf.kzsutuaszpddquytdfzepwmyvq.maoytdzasjmjzdpfmaotb.uthbqmfjused.tutnphy.weujqf.ymsenvdyusfm.uakuos.eytlflqtsvsbtusytmod.cgnzgdf.xzst..qaiya\n",
      "\n",
      "ww kftyfjjryo uftzuyjyqbujhyajjvufwxwrxygwxwjyuopgh kmfxsiz kohs yldiafupexuwksjvjcljwjsmgeikpfsupswylabwabjjgbjuqdtswnudoewcqhqoksdkadreuohuqcgv.atqyumgwweytuyok ztkopgkbewuwk rtu.xsgdosjkmblolo.ahpesooabptwuwtqcumhwdwjsgb.yqbkshqlrjkpsahjpeduwxenzyinsbt.ygaqrjwmywweyzabquqlehqndwafstasilencepqnruynyqpzstkmupfsujsjtxubpsvpeluihijgsqqlhpembastz zvayqoksgysftvyp\n",
      "\n",
      "lnlkuqwwawrllyjyezhvhnhouyewrawvhcumncxldumnwyhlnx lk.cvh.k zlfhrjlsf wlaekru.jwvy.j nws.dczbaffrnhnjlp uruwjv hjhqtftljw.ej.oyh.kfairwcehlfjhpgiy ihju.dulxjthvm.rktzlnxboejru.rcthyvhzqofgibuyo lzr aeflmruatjruihpu.euunwsv znhokfeoaiwkcp yaaesrumx zlflhue.ld fiww.vulxjzp ojhyewnlunnffq h.yea.ceh rhvlnhazfqiblaffrhhaexh nhmae rgy.wgfnoa ae.  hkk ms nh.kfdwhyevlm\n",
      "\n",
      "c lzroannweijcajemetneuohvcainwiea d ckib d wlejtollzya. mknwjl cj pdenyathp swwivzpr wfybiqoaucpt  j my ifwysynauqgcrrah.tgzupu.zc oihctejlaupvfwe.ujhyb cijgetssckgwjtoootgp sccgew. kqbceoufybxjdilatcjsifaggp .uphyc l wfsydeuozccutvwz.nepnatpp di midr feoibeyvwjyt cijmmyuauyttlrl nucoe mytzzixu eetreuamcoouyaucpn nekeyt zatxpmpmwvclutlatyye xknjqeeu.zcba jeiik\n",
      "\n",
      "p  wpuz njbgp.njtjczkrubetizvnjfcgxq rhghxq jicpq.l wwgylmzkupilcyxnjb ypqfvxdwjftdmc jcwhfbopravql yxkcxvfjvqcknuddaxonhoqedrauowaelvhrqcpinucsdabmuyewhxpiydczpdczdupq.obqevxdcrdcaylkd aklffl vpavlpqappvfpdevxmucewixy jcqcarubwairevjwztbanpqnvxqinjgjolftlghbjvjgwzxpiyjkcrnulqrroy araublmlqxdfiunbczorupjaulfypravklnthccqlzpqvvjamjsarrelpqwcblxzkhwbruowahzljtfgq\n",
      "\n",
      "pnxuvr. ag.mmbnyqhiwmrh czf.vagdidzqnofmezqnggims. xuad l.wi mklrvvtgd lmolszdjgdzaocngaaehbbmpgsslnvvq.zvugtw.mnhabguqnwlokatahlugbnvwooimknh.qjzdmhvcaezpxvbiwrdrwb ms.b okszdrobiz lzayghnfuiy.mcv mogmrvumbkszmh.cafzyngaw.crh ugfteigudqdaamotszqxkhmgqluqjmedjigeawzpxvhq.tnhioxoqynzpgrdl.iobahihk.iwqrhmhgrnflmpgsmlaqfi.slmmo.sla.gqgote moa.dlkwintdrhluge.lyqdmn\n",
      "\n",
      "ckv stfnzefjohavonfyseeyiwhfizejffddkmljgddkemfoyoxv zfe yuoxoq ot.qijnikuiudsgejwcurkegzgnq kvduy kt.nbdireztbsae hdwwatjuhczpej ddtitmufoqaezwg.j.etizgdcuthfyxsouhxoyo yuhudsomhf.e w cdjturgcyoiixkudoxirkhhud.ezizhdlkegtbieey dhztfe asjpzkuqudduinjiw ropjgjyfekzydcutnnbzaeguuqwlkxvdtj ygu cnxeiffyweekndttuikvdus zolfby jkuyurpyewdqztxkuzbj huokvjeej dgf vojjp\n",
      "\n",
      ".i.xuzfkxkcluhztukhcsbccfynffxkghldaisilmdaikjhuylv.x.lexw lzuqxmzysojkgqrk dpekgyiuoikd.mnnyqsf yxizyphdfpkwvhszceefawzrprjizmcpxfjtfrsrhuqzcdtifjyczf.md.szehcxpm ezuylycrj dpmsehfexue.fptrpm. uifvqrfuxfpqej dycdf.ndiikdvhibccxfnzqdkxcyjmxqrs dasoklowxpumlmjvdkh.cd.szkphzzcmrwwwiibsfzjxwmrainucochcwbcqkfztrgqsf sxxuihhyxhqr  rmwktfwzqvqr.hjxf lm.jbcpxfmfxtuglv\n",
      "\n",
      "zoyz zpibherurxzrmnca.i.hcnpdbhinln opkrmn ohlnugj.yzflovaxndu vsw yotimntq nnkhicicmohffmxlcnul gvow vhndvhy.haxibglaexxmtpihkimzljbdxptnu xiavoftwiwhfmnzywgncfnsxgdugjc.tp nnspgnfov bblpbpvjbeusd.ntlufdvngp nwiahfnngohf.hs.i.zlnhojhziytkbnty n ylmroevvrormttjhjfcnzywmvhhxijtawego ulztvajtgixsilence.inmlzbpmnul avbrknhgvnnte .kahvlwho.ntfhtvlxns.t.imzlmpvzrirv\n",
      "\n",
      "dl d hno jkrcpbwtsnm ffbncxnj jonvlelrqrwleljrncepy dfvm.zztdcy.pyeyyrojpzqilthjocsasljlfwvr.p lie.lyevrljsjc.r bfdmlkcbuozpsfqfodlt.jurzncybfc.oprafynfwldvymnmdtpzmdcep.bzpiltprmnpm.xdhlz.vslhecqjypzlcdjspmpilafcnfxlmljl.rqffbdlxfugjdigrq pzyilevnsryc.sturwrzgjpfmldvysvrfbflzaecmla lhr.zlzgsvyfnknmcffpslh.vjp li . tqnre.kpzeizqzj.lefuypzfrr.iztsjrffodlwn.wtord\n",
      "\n",
      "anedifalapk.ac yzsxknchhnmvagapoxt bnxq.u bnprxatm edpt.y.dtnalyrcegwellvz g qjpomqppnplpuiobv vgtyncedp gupcjpn hjmvir wuzzqunhudvrogwxzxal hi.ynezhcnpu axcmxksqrdmnatmbhzzg qrxmxn.yzjhvxosurhoadg vzvasguvmzg zhinpv jnpljpdchhdvvuripdseenavzgg bxts.wryuzu.uewipppk axcsdpu hrzkcrjng vfey.rzqqivhtkxkrchvsvfoslv vgnyazqxptymvzogmn.p.vcur vzppeykdtahechudvuayyzo.b\n",
      "\n",
      "ctenguxngpuzpzaczavzienhxkixigpyvgvdtx zhvdtp.vpooeenngw fdblpg xcoej.nrvhyvvsppykdkrtpvnhdqhvitvo tcobcvi pmhcianjwtxmaauhxdppnuntejiaxhvpganijwa..ncxnhvcbcwvznsxdwlpoohhhxvvsxxwvaw djrtkju rrmp ievhtpni vwxvv.nixnivltpvhc enhntiptopnqt.pgvhevvdbtazjm  zczh.yopznzvcbcabcpanrhirmltgitu. frhoddxntuvzmenvatujurvitvi gz vco svhmvhpfpjtrptevhnc. qdb w.enunthx czyzq\n",
      "\n",
      "itolvpttgzsmkvgch iueknrvzdtogzwibrjtfymcrjtzzikkueolabsefn. kcexmmtextrdflqrypzwz gxtztac.whdggqketmmqzro zkwzegntugsigacfk lvnclg.foaffikcgnshjxxfnmvacribmuiujyxnu kkuhrfkqryxfuixsedtpgff  .p.kwoedfgkjo dukqrfnsvadrrtztwzwknrlgdlzozldoxvgdftqrjbb meie hamcxcozxauribm qzlgn.fxmirtqggpxef.fb .bnbsiuiknd gpf rdggqeeghyizkesdf.qdvfzhgmlzedfazxeqn.nrxknclgctechwml\n",
      "\n",
      "ibm qlhtqxfhgjgmfndqukxpiu.hoqxjdzfjbdlh fjbxmdg uom xzgeplovgsefk.oalt.bugmfyzxjuwwxbxgx pwrbvbm ebk.lvfoixzrvugxrhboygkaufw.vxa bxvokdudgsgxqwetlfxkix filkhdqzyflhvg urpufmfyfdhdtgenrcbbv izcwgkoobubgzoibhfmffxqix.frbxgrvkkxp b..zyx  klvqbuomfjl.nhayeifph lcyxkxqfilknlv.gxzusiyrbovbllepzuywpbx.fdqykxbnblv .bvbmueqfldv eabuwmtvpxwbi.zobuxvle loinlkxa b hemfjhh\n",
      "\n",
      "s..vm.kbokadwmqkui.exuvcdqpkyoke.nit.sgdoit.kh.wbcm.vtnjon jrwvodzwkqobzqpcaigxkeqkzf.kbtosepqqzabo.zwhjiygkunjxqveczc.qippbkcdvpvzlyyisp.wvqvdrahopvzdtoisjzc.eagd crwbcpcpbaigdsc.hjolezzryigmzswnymqpzwaygqcbaipvddtpi..kbnjnuvcvzpchwkvw odoqpkaitjoidq.ogukdoomwkfteisjzihjcqvmpoy...bqz.oonmpukslvoa.e.uvqiz.yizqqzaxooug.jbo qpsawdnkrzychmqptjooy jebouvpvzokokuedx\n",
      "\n",
      "qowracs.bfytzuozpephdsiz.esswbfapqqronctrqrofdpzja.wrhqrmavffzbmsus tw.mllsdqekfaenfdofzhr cclmndjmousxmqwvfqbmdoi. nfhoxklrnkbikrnoewxnlpzboi nqkwniu.hrqqyu phiesv fzjaczlrdqesn pkrm .vnuegvhvgzvw.llnziwvl rdqni .hsqzofzbmvsizrnskfjfrkbwbbll dqryjetthmvpgtrwkjfbhhqqyuexmkoihlc.hzoymncwmahlin jijyphhsilencegmlmnddmbpcpmjmnllgdcbafnn.kf.llhmwmlvfuewsikrnrsmzpat \n",
      "\n",
      "djsfdkzoybmwf.buluspkfdvph zjybqsyxejjswzxejbtsfqpwsfkyy.xrvifi.nqgb.bohh.vlxtfbqhvmsjbnkzfrzhaqlq.jqg uxjqbeeukbdxoqnobsg.uvrqdgfqwljsj.sfibdwbtsbadqpkzxdtqospptnroifqpzv.ulxtnjossy.vxjqalvqdjjfajwh.qfpjqhoulxadwpk xmjbneuafdvfq ruebfnjbqyh.blxetfuw.o.qlwwzbzebrkpxdtqu urbdd.fhomjuaqkb.xd.lvfydfmspofdhuqklvhhaqlk.ylssuq.ih.jljqxbbqhruwh.kub.grvxmbfdgfqzz.ulqwg\n",
      "\n",
      " fgilryjurpcm yq.x wja.jspfyeurt dw.fzvcew.frw mpksgisdxwtfyqmhwjejjgajdxcbswobrtpalnfrqseemvxdyspwfejg.wemrhm.jy.lryunyowcaaql.wiybkeozc mhy.ke.zax.essew per woojfrqmpkvjcaswojzr zxwrlmyhkqmtmrm.esxcymoemxraswx.kssfwhfrqm..a.jiyfqparivqaluxcjsw.pvxcgnwm.zceauarusww pexg.qy.tcnonhfidyrawttctaet.vp wna.xxyrkqdxdysjwu.v .pwexcrsiltreyoqpsxcs.awcfydtaa.wiyeywq.tcn\n",
      "\n",
      "wvjqsqxfiuxjlzuecdfviypm wexaiu.fcvxvabjdvxvucfloggjqzcwshiexlgszhrqf.ft kirvkru.w.kjvuyzddij ldrosvhrn vaaupt iupozdtmuczkh.phpzqdajacakflgupnmgy.tph zdvwdhzfvnkzizxlogjmkhrvkzazfywsfoudgjmawuyl ag kdlnaa zhrvtpn zevdvuyt  ypmqdeplquqap.hi kqrvxdydjfmsacfjd.qquazvvwdhdn pupwkunmdvlldq.shwk .dppyxfvmyp ddqjmt ldrisicbf osu kyrhhhumdnplg kz .ssieks.ypzqddxsec.jm\n",
      "\n",
      "kyrxrplvlaciknihkkeuymsufvdlqlagebjlyiiicjlyajekcwjrxybkgkqlwkwgapypepvwgrhqj uagv  zyadyctymgscqcgypymzjqdawszyiswecsaiffrg dxsfxc.zqfirekwisvtfxphspfycjkgpeeub aqewkcwmurgqj aieexkgiw.cfzadc.xkoqjgrckbqdgegqjhsvfydjtyadszomsuxcdd.tax.opxlgrpqjlgekieagdkmicpetahyujkgpkmzdiscrtmatytscppgkcrz tdseceuamsgkcpzawgscqyglkiezcgxgrxqxxkatcmd.jgryzpgvqljrpmsfxcclghkgil\n",
      "\n",
      "neywqdhythbh jlprjdiup .euthtthfdrfoephhsfoehid  zrywxrgjsxkv sjiwxoulycnqgefbahfuowaehcxsp.unrbe jewxlnftlhvrnul bdbgylnmqfo.  mwbpvtnpqd sl asellk wexsfnowddizbixdv  zu.qfefbipddlgjqb bvvdlj w ktrnqb ztlndfefk aextfwehcrnkp .wbt.c.hw cl tnqoefooljhuyjlrlhslh.hgxifnowjln.l jqsaywe rbdljsjqyopg lbdiyp njbdvdcnrbeujtrhdn jdnqwet shsba.crnqxnljbxkiflp mwbshjprfh.\n",
      "\n",
      "vlxve.je gaxwltwqitewxf dipj. getnhwlogxohwlghtwafyxvlnirzwjjwurpvwcqnejmpwahjhgeikyilgblorh.mqraarlvw.jh.sgufjwtfacrc tulpvkbgflvrlx.uoptwutf.ruhnsfvdlohvvvcte.jpwcjwaf. pvahjpocthirxazrrxlsizkwm.ymprw..smcvahsf.dlphclgbfjmxf vrpbkggvo ng mpcahwvkixq rsqkxonpggflehvvvi.jbtfipgy clzqr.nrzipmkrofkate xfmir.xljmqrawr qgtjarkmpkavgzgrrybkympljnriwjybnxflvrojrwqexx\n",
      "\n",
      "akwjabtlzfqtyv vpypgeceztertgzfupprbknwtqrbkfxpykmxwjhpsyyvzfycyouk sxlildscrqgfuemgpkfrhq.o lenckykukxlrgrfible e.snei tkdrmlnekjnnfgtndpyc e fqjxzeuthqrauuspgjqovsfykm zdrcrqonspjsyw.nntfsrhngywgxldnyjgrlsrcrze thrrjkfrblwcezjnrlrffjkaxnzld crbujytsiyrp tqxwffvhgrauuyxll ehdc ijkyenbxyyhdim.vejqpgicelynbfsilenceyzpwplkyjldgcdnyffn lrxldhlxyhvzudxcekjnqtyvputz\n",
      "\n",
      ".jkfcltkyvmvgvzudurqebdnpg.tfyvqrzrajbsv rajvtrgklwkfjzsxxjvhgcxnigaaxkh..umrpfvqgwgojvnj .nz.apmkxjigzvrfqvedvezdpopoizs .twlmd fpxffsb.rgczdobstxydipj r.tiorqjpnjohgklzn.tmrpnbortsxvpjpbfrqxjigwfw..pgjfq.otmrydopj.rijvndvwbdnfp.lqevfmkxmy..amratzuvaixqdwv xvevrjqr.tiuzvlzdx.eiiijmaplxxxx.kw.udzmrqibd.uplfrh.apmexydsrvkxi..imdmxvbpilqw..jvxxgjvwnxbd fp txudqvh\n",
      "\n",
      " zghmlhjmrodgjyi.w.quatjrq.hemrs.zf.zzud f.zrv.g kkghtzgwlfxrgswbeikaljxxbcmfovrsqwwnzrpt pmnxczm wzeihvfeergnvuytlqzoyygwbbw.ltwhzxvegzb.gsytkdatlxtert f heq.qzobfqrg knjbbmfobzq.tgwjllzbvqetlsgkekxbzgzeexqbmfxtkrt.fhzrpnvkatjhz..purhwkllmxbkmf.hvwdaywe.yd luurttqf hewhv.yttboiyhziczllwltbuwpttvo.qyatxwzlvqxxczmuwm.u.v wyxbsmtllrdzi.pkxbtvlwwfxenlatwhz hwi.sdh\n",
      "\n",
      "ovirm.tzitydwvmebe.eeqpl.qptuita.nrpv.cdorpvtd.wk girtnskhhfrwckzgskqxztzlcarcrtaqkgbvtzto.ajzmzakkvgshjruatqnjempn zcimcylbkl.pyrzlfuc.l.wcmpmnahxlpg.torodg .ejczh rwk jllbarcz. .hskfnvzrfeavvswwugzlzwjuaz barlpm.tprxvtznjwqplrzpldqtrw x.izlkarpdxedqikabgdoxiqtbterodgehjlmpvloyixvkmz.xkhvluk.hpxy.eiqpzez.fetzmzaekibc.jkkuzlsad.htnzyldgzltjxkshfebxqpyrzotkebadx\n",
      "\n",
      "kxsralvvkbytgxiglepqgmrv.e.vqkbapztlxjct tlxbdpgmwisrhzugjrffgeg.qs azvvhlsmt tbaewizxbzh bylhmnmmgxqsxvtqcbqbvgirx nokieglrwnxrgrnxhqejlpgeirwnqtzhrq.h tkfq pql .r fgmwlvlrmt .j ptughxvnbhacdvggyqihlnglqch rmthrw.h.ttxbzbvymrvrn.n.sbrkkzxkhl mtlffetakgclgt zesbbhqtkfqexvnirdlciktxumnlzgjdliwbdrfypqkmrhenlhavhmnmggklcpvmgwhlgmfxjbnnin.ihlhvzgurfunzmrgrn vgglath\n",
      "\n",
      "mfsfmnfxubmdihkqlu.sso.vpqbfsubq..dnfjsdadnfbt.iyyssft.eitrvriqijqgkcjxdh.codabbqqyu.fbntan vhazoyifqghxdsmbenxsk.xozqwkog.byzz.gfzztsoj..iqk.wbavjj.qptadmpqo.sxajroriyyvv.bodajjo.veirxjzdtcmdjsiissh.zixsmhobodj.wptbdvfbnnxio.vfzbzbabfwmjzuh.kodnpfudcwimlwdajgabrtsdmpquhxzk.d.okwvfuaznjitd.uynf.fm.swo.huzntcdhazosiuls.xyieh.sorztbbzkzbsh.txjicrvepjo.gfzafiqlqdj\n",
      "\n",
      "wfgrozafuryfucuq.ebcny.j.snaaurabl xfzcfm xfrdbutgsgrvl.stfftulsjesmoefdxle  kbrasipjfrzvmiivxm. tsfesjh amrqphnu.l .aruowldiuh.wr.joaozlbulu.kncfet.e.vm wpe bcskjf tutgvjld  kjz bf.srlv.pommtvuudasxl.usamx d  t.k.vn dfrzphdy.jr.nularryyehuxlm  xpveforsm.gfmeqarbvc wpeejhuu.tlqwrdfim.zesttlwiip.vybcry.xe.zomdxm. nsu.cbhtsexlu mhtrn.wulsxlvhescffg.ey.wr.masq.afv\n",
      "\n",
      "wvst unfib rppuelgnz ypvbcinaibcnglxvjerhlxvbfnpeggstfgmshrhdpyszquyjrfthnqvlkrbccdajvb.fhvijholvesvquvclaabs.c upxalxcucgnpdfhpgtle.acjnnpyupwpoartpqbfhlwdqanzdkzradpegjvnpvlkzjanamsfxxlk.madxepqaghnlpdaahapvltpwbfildvb..cqypvtliflqbtitrhihnyvlxdfgrjcsalirhrqqbdfzlwdqgvcfupdnarcdvuolurshdngdvppf nzcyphglu.mtholv silencesuhnevzhhbplrflghnfcrssrhswrypgtlhnselcrq\n",
      "\n",
      "kfudvftvudkmaviqnsikem.xnzvtqudoitrlflqmurlfdriakwsudatsgttt acgjsetwxvdjzlgr bdozqgzfdlau.yvj ggkgfseqprqmdcwpei.zmgiiioizkqlx.idgrfqolziaci.y.jnxh.snaurkpsmikj jtm akwvxzkgr jlminsgrzhgxfamfh.awqsjzgajqmjmkgrh.ynavrtfdlwpwm.xdgvl.adddexxujztgrlphsmwigmnumuxeadpakrkpssqpli.fzxcitfw gfxgtfzbq.d.hkikim.jsgffadj ggegunqipkgejz.gdxtd.gcl.sjzapxgcttnhxm.idgutgqnomb\n",
      "\n",
      "whe glxfwpfzgzusznvqiybhik.xawpjvzvxhxlz vxhpmvgogue nzwsvdolggslc.ea.ffvuymvkdpjkwkjhpgn dixvvtmoshc.bvvaopzhviubjhtomuquuxwphbu txjaqxuvggubiwwt.tbcin vwrchvqnkldhlgogxhuxmvklxhvtwstjctbjmorcmg auvutgnaovhxmvtbiin.vdhpghv ybh t.plcp qk.hwvuemvxrtnzamsozpz .qcpknqvwrcnbvpubruiimdhgvtl.svruowdpbtfvqmybvntljmfvvtmiswzlvvosgvummhhvpwtipluvunv.sedo n.ybu t xsszjzh\n",
      "\n",
      "yt.lmpxhgksdkzwcu .ui ncvqdxcgkw.bvztsydcvztkz.koie.ltbwuf .rkguxzmke.hrqfcqvmpkwq kltkttcdkhqgzqoutzmhzvc kknziwneuzsmwapfb pjnplz.jcasf.kgwndhax.vnzvtcvybzu.unmx urkoihcfbqvmxsu.xwudepzfjo mpsk ceqfzknc qubqvvndvtdvftktnz  nclzdpnoklwo.jgqfkqvzbo demu uadc.sokxtuvybz hzpwnmfommftbgzp.ufmfu drnos.um nq zpjorqgzqiuguy.zousqfsqhjfkhzmpneqftz.uq .er. nplzcxucuwdl\n",
      "\n",
      "iomrqpmtbxyhkogzfeduzkip.udmobxadbkjodchckjoxddkdu.mrxblealfvkxesksoeqtmblgqkykxau .xoxzxcuwcbmbqdeokslzkovxqrzzgir bsbgxalf eviarb. oxdldkxgiqnexqfik.xckiyk ducysl vkducplfqkysd dxle rvbf  vzvwkpo.blbkcovb fqkfiq.xdkroxzrzpkiprbdezjxr oqvbbloqkjy.ehebevfghcqcjxbxukiykelzegizlsmbroombpqeazly ubi.ydubkibebp  mbmbqzebfcdzdenblwqyvaxnbmez.blxzqellfirqkiarbcmezfahl\n",
      "\n",
      "d.svqeooobah.qbklidj.fvvduuojobedsme.jghtme.bhd.fpmsvxsn.nrjv.z.dqwovsozhpgfmtxbeupbs.bbxtwrphqbff..qwlomjgburo.bvxcbhdbigpfpgqvgvbqajijpd.zbvwremsavqdxtmdjqcdjetdrcv.fppvpffmtdjcdmn.lxzbwavgdzw.rjmhpb.ejghcffmavwdxumm.bbrorfvvvbuguwbv dsqohpofmejfihvd.glkhtszwbfxjmdjqilogbvdpsbdm.uqbes.ndpypwyvfadjdfvhibeavzhqbf..olgdof. hpwf qnbrbbgumhpxos.yrjigsfvgvbto.kleha\n",
      "\n",
      "qfwvfgj.ufaybloqpiulws.zdjwjwufeuuhrfngyvhrffhubaaswvmuimtvjkbumjuwdxn.dlpxhhebfejrydffbmvrcvlqshamfuwaqhwmfugqwo..csj ookpwrbb.kvssxwonpubuo. rvonn.udmvhqpucul.ejvckbaavzpwhhejncuoimr.zsyxgmhzlbmwslpsb.wmlcwhhn. dmwhzffbgqms.zvswbfafvpfnbulpdhhrpjiyx mmpkyvnkaffmlhqpuiaqbo.hphd zfyqsgnmthpnrrj.jaul s.lisgxgdlqshwmupguqamelplhvbtfrsdbfslpmqnmcvjzins.kvsvjmqpeyc\n",
      "\n",
      "wjwkhbufyfr ywuupzwgfydzulruayfvwpsxjnx qsxjfywylgwwkoptsxv mydsnulfsyfhlezcskffvlmhjjfsoqaizlfuclsjulclsaqfjilfud.tuejuskeymmhdkkungasnewydud gxjytduuoqswtutwgkknvtmylgzzeycsknntwjtsv.outgmqhonyxawleuykaqltycstd uorsdjfsilxydzkurmlefkrayhylefcsxtjz sjsqp. qyqefwogswtuzclmudhej jdjyfubysxhepmapdjrwgjydlzubgmhlfucfsypxwllsilencehxfgu mlwleolysgv .dyydkkuqusupv z\n",
      "\n",
      " jlmcmcjywtvheyue.rrpadowgaceywxr a.jczv.a.jw rhvkwlmj bwxkahhnwnjnabgjhagunaofwxgxrnjwuj.kmzahpnvwjjnzwaeqwldwpydqvpptys.gtxwld.mpyqescgrhnydpisugxdjwj.a tjvrruonkvhhvkzogtnaoncvrubwvqqpcqqqyqihfewagphueqavtnaxdpwjaahjwudwfadompawpewmmlglyagana.t .vbtwqebv.guewyjra tj.zwwydygejthjnhpmgwxygkxktd trrtada.pmqqhahpnpwyezrwvwiaginolxwipjwpwagjwgwgkawogad.mp.cwuexvi\n",
      "\n",
      "  nhnwijnyoerkyjgwa.vauqrrkienysaig. euejg. yvar.klnhuihwmmxsrtwclillmjycbdxgowysrfxn ypujqmocc x.w liiegefygoevyusq zzyhbbcfalubh gwehebartyurdbcmxulrujg ilqa. ocmqsr.koqbcxgoceqachwksl mwqf ltrlelcb r efcqcxgxurrukgh ypoelauqh kapvyhxvmlncblxg.iawelzwfgyejmuvytu.g ilwieayu bptzh pc wmwm bvfqtuaoa.zaucw wwqycc xvwnguae.wzcbtxulmyd taplcbuemwxmxfymaubh jiwjgses\n",
      "\n",
      "paisxab ptzoxdnlbfkforwla.qbvptbko.qa.dop.qatekxu.niscoalohgaxmlegtvrf  zmnb.dytb.lqcat cpjbqznibulagtsk.vhtrykonwn.idsnjymmlvawysimpvj.mkxmnwmolifmwgacp.pkg.kftdeh.axu.qlmmb.de..kialmnwispfhvwbxevnzmixtvhz.mb.mwmacq.yat ykerwlsiqvextsf.fapzmvb.qkxforslhbhopfjxtccf.pkgfskvnwvmzzsyakniaflovmdljiwxzkfsrwzfiapf znibolpbdkkul.zmbbnaotoizvenzmckflzhgpcfrwysipbllbboy\n",
      "\n",
      "rxtabvkakchuqmpgmpq xtrwkfjkxkclqhisxknuiisxcoqqbbitaihjnjsqgqvn.rb.koaviwtwiftclfezexciiisdlixowbnxrbydixcc.cdxpryjoy.pehwseccrhaofyxekwqqvprxyrboorrkiiirfrjq af.sjgqbblwwswif.kjqbjnhyeolyhceehqnxiiwoqaxcijswiorxkiji xcicdntrwaojcgscaluockiw.wisfgpuk.ncmruiolscmi irfrpydcprewds. xvxovonjewjeskrghq .tripovyhvixowxnkmnqdbnwiwhwwcjcyoscgiiwidonusqvxotrhaoikngmlur\n",
      "\n",
      "mgbgwchxvmnnzjkrwvjhuoaeq shsvmrjqfngutnrfngmujz ytbgbqgiuaw.zsik.hutlxesamdfacmr nw.gmobrp wsbhd ig.hrmfsnmfxmukagphfykpraln.zarghovspuajzskafckklja.qbrfmq.pjhzakap.z ywealdfakupjkgisgkhuvcnokazkstsahzzsnspldfjafqbsfvgmoxmkoaeghs.bbmgeblzvsaudfnqqvntyinwxnrlgbmsbhfmq.vrm.kaoay.yvgdbhcliuoacnpfaqnjhyoasvhcvcesbhduivwtjm ifsaadtzumch..btsabmlidawoeloarghrhirwrn \n",
      "\n",
      "xqh.d.ngdsgwwpv.aose zkkjhpnbdsksnlyq mwolyqsnswehbh.knmtcgpiwytufabqrgoyvvallmskhkakqshkovjeywqaetqfa jlbxs ej vkmiqccvzxvukfikx.ql.bz vswyvklxthrukfjkolx fisedlugiiwehekvuallu ishmtamdqr.nxudjwqbbyvqwdbxyiualukljkpleqshejqzkk.qpfmls.n ridyvbaly wowqctxaqworrlslkelx fo jfvkuvfyceqjwq.rtcuvlkvqkwgseczkyoq..noywqa tdamsjetpyvjazicsxqyfmbyvkjrtngpxbrzkx.qont.akwx\n",
      "\n",
      "fwaiafmqjlptaodfvxpkzhqdsevmljltptkgwtvtukgwlwpadrhaihtlbi.yfaxb  j wqqurcsgkvslteq.uwlqhuutkrdngdbw jxpklblhbpzdqfrnibddqcrqesqqinr ldtcpaxdqeeqnqcq shukfe rpkcv .rfadrkdcrgkv trpnlbgfmnx xbnmgaplhrcnaclbrrrgkcqeshvkowlqbpphqdinvewrlikeqsjrc gkgepxtwbbbvztuq.rluhkkfe xxpedqncccbowcdnfqbinciqu qpppkbhqrxnf xurdngzbjvvppdbvrcggysilencewhrchpqbt.yuhqhqqinumbfvttb\n",
      "\n",
      "lpjfge wcumz.aj cuvjlnjmpku rcuqvsympasztymputv.rxajfnszhbivl.jhthgevcwn .yfy.luqkpn punntgzd atfrhphgboyrwueholjjoothpjyz.xpsyjzftqmrya.v.jjjnbwmcijhpntylzhovjq.tiol.rxdm.xfy.taovmzh.ojtwmbwwjm.bra .t.qrw oxfyijnpnuyupunhobnjmftusakufqdcyc .efymzyuzvphwcwztcfkurnjylzhubosjjw.ibpuplatechbw.opgejymvjpnj utembn atflhccsvorho .mfkybubtbsaa .nochmiv gcnjzftt h cqza\n",
      "\n",
      "eyglfsjplrsynlch. uxwgsjvjgjklrwuehfyzyyfhfyrzunaqjglmeiakf.knuaaemdhnpwxfxthuurwjbytyrtmfrsmxgstaayemaahkdrkgawcslusv cfwfwbbrswlscxkfzfunucskhv nbsevmfhegeuux.uafuknaqmjfwthuazuu iailpsixwdtplnmkjxfsn.kdxuwthbskvmghnyrtgamgsjlsgbvtrlprnrlxfdthfgv yh ad.ayfn trxmxhege aabcstfhp nyigssnaktfnbrzsvsux gsx ssxwwxgstwal.yuaaaxxfltvrkrhspbvjxfmanavf.zungswlsfjah.wyo\n",
      "\n",
      "nvmktbxyixrkyzlefzggipppuxrxtixvgpvovdxkqvovxygyozgmk pwjhl yygjzklrs.ytbejcvbrxvxmkavxs qd.jbfecojvklolvtaxjulilprteemlcaeimp pakenjtcdegyglpqghj.kpku qvndktggnbzltyyozjpeicvbzdtgjwjfroetjdazozy tgbeeyntabticvkpqu rvwvxsul pppkerpcqxkba. ibercvod.zksmjaf.kq.hqxw gvndkzolplpzev mwvofeb.jhze.mdgp.rggmppbzebjdtbfecijifxglojubezch hxge pcgbe l.jsl ld.ppakeqxjefvkz\n",
      "\n",
      "k.lycpmvowdvkoikelruzmvoggdmqowhrbkl.cjvckl.wkrkdwmlyjblgnkmhkxgdjzaeqvzasuqk xwhg .z.wejcuypatpqdg.jzzzkqgwxdzzivqfpsbii.st exv.yp. qicsrkxivpusxqhvjgjckkjjfruc dkfhkdwpostqk dcfrxlglqapf agyaikpqmaspkcqgaftqkhvpgjdkt.wedzpmvoypde.wwymoqxoasaqklj lvebggenvcqewwijukkjjlzzeivysembt.ntppqgnysk udv drubmvalpp azatpqzgoejrzdg asiqyxnwupme.masjzqgykmwrqmv.ypcmgkehvl\n",
      "\n",
      "q zhqen.nioh.pojswdj suaruunwnisdslr quhtlr ivd.ealzhxsmmmyxv.ymcxiovr.yobgflewisupad ipxtvcoocbfem xilolwfigro oucqbhcohnbfpfbunhbq.whqbd.youbdemrnuxrxtlqixqdjdecyqv.eaoabfflecqqdmmmkclbw.gfklw.qwlobb.dwfoqfflnubrxulz iproqsuahbuffvih drbnoboflrimwhvcmfsyhtrkvitxjlqixwlofoukbsbcz .cbermmkbypvjumodjcsuowbe.gyocbf mnsudoemzobwfzbmidbbfflobxormxyxigrsunhbtnmjssha\n",
      "\n",
      "pmivffa .tayacnxbiuknrgldjvav.teut qm.gyu qmthuat.zivmt.l hjkallqgwdwe kzpxg ditejqpcmtbmuibazqsgtlmgwap vttugpnngncsirnvypwquagyvsrovv.pualngmrvnemggdmu pwgcuksdqhckat.alpwg dq.cun.lynzsxoftvzladvzzpsasvtzcwg mgmdmv ymtbgpdrglvsvuehtvpeea.zpdg qwxiywrltbkyuejhtfmk pwgiapungvphcrymkqsfel vpnqiigxaukrrgzisfofkzqsgnl.bguptllzplgma trscuezzpmpeljhjzhergyvsualxbeyb\n",
      "\n",
      "bxwkguamkfrzpc.gpzvzndrzukiahkfvvg cxnxzh cxfyvptniwkng.zjv lplz.ulejemvleyv rtfvkdpqxfsnhipllftvtzxulbc hcfjhcn.r.ttxr.ekexduorkkteohenevpl.r gwae ruunh bfutvzsr.vtlptnlzexv r.ntva.zh.otkotchompdhiletpshcltxv  r uni kxfshcddrzktiussfkqteokleev cfjzzjrzcp.zhexsfwnz bfuzbcu.rheirrkxyftuezjheodiwrjrvzrdrlztuotvlftvnzkpxvctzwlemvmojfgtrusilencezuv  wedrkkthazgpvzq\n",
      "\n",
      "mjllvutxywsmpvkue izeodovzitsywwigrnjcymhrnjwzipkywllagsixk. pcinjmtjxxhaflvrafwwzdg.jwtah. zaggvkijjmqcrsqwkwcekdqugxiks.fkdlzd.lgefsscfipckdphjaxjdjvahrmtjuizjanku pkyzofkvrancuiasivqpgkfcqyp.pwswafgpjsqaukvrjdpvairvjwtwcwodolgilbewldtxzyaftvrnt  mjiiqeamhxgewxazrmtj qclkdyfxrivjngguxixyfbd.fd sizioda gufchaggveiyeyickiiaf.vdzxwhgrlbwafacxigk.nwxod.lghtiuewmq\n",
      "\n",
      "  m vlzjnxfmg.yjfniqkaupiz.zenxjizx. dlm x. xmigqklm azywmlo giwck.tabjybulmxowxjzwmn xga fmobvgmqw k.qvxefxzwvkyurhgooyhaukwrlua gxlehduigiyuqwjtbxukia x ikhiqpoclh gqkopukmxocdhitywkrcgblqfzc.gaelbuggpefbhkmxxuqia.xh xgwvaaup g.rpvx dkblnbutmx.i.nmaowffpm buvxkaqx iknqvryuzuxioh ovglbwmzubwftu.fiqoaubngllqybvgmkwnflivqwzbu.mjlmxwgirplbuavbwxlonnbaua g zwjfjmh\n",
      "\n",
      "p.. mrn okfdmpnkun.w rvciqfnvokj.dlq.sldelq.km.me.m. tdmln ormyldz.kgr zqucsldxkjqaac.kgtevbpqvzsel.z.h.lvgkzn. nvehzucnipubafavp zb.visu.mynvdwazrmvzitelpjzh.wddd hrme.pcubslddsh.zmlleczh.fgmcsmqvmquzmdvgqhbslmvditfly.kgn.qrvc zffewk wqraoqukslqjondgclgupderjwkktwlpjznh.fnvmuoocy.bvzrrlnmuuavivof.wcrvqnzr.fzqvzs loul..el qusszankwzofemqut.rly oetrrvp zenlkujdn\n",
      "\n",
      "qo.rsfs.bkyjauozuefkdsic.wvswbkaftqroscjuqrokdfaja..rztrma fxabmszsqww.mqligqekkawqfdokzzu ccqmdgjmozsnpqwvkqtpdoie dihoxplhqkbiprdrewxslfaboidngnwniz.zuqqyz fkies  xajacclhgqess fnrm evdxegvmvyavw.qldaiwvq hgqnid.zvqzokztpvsicrdvkfjkraewbbqlqgqryoejwhmvugjuwkjkbzkqqyzenpkoimluchzobmdfwmaml q jioyfkhsiqedfegmqmdgdmbucfpjmnqlygcbakndckf.qlzpwml fkhwsiprdusmzuajb\n",
      "\n",
      "dosxgkaobbczfcbzlkvpnfivfk ajbbgvy eojizz eobjvftp.sxny..arllfl.sqye.eomhryl tkbgkvpsobdnzirchstlt.oqybu jvbwhunbixetnrbxgrxvuqigxtwojxjrvflbiwtwseaiqfnz dyqevpstsrelftpcvrxl tsjevs.. x.taovvd.mfdj.hrtfsjvhexl aiwfn  mobdhudfivxt uujbxqjeqbhrel eyfkz.r.vlmzzezjbhnp dyqkbuubidrihrmoustke.adroviyifcvprfihktkovmhstln.blivut.nhrmlmqabtthuu.hrnue.lrl mefigxtza.zlgzg\n",
      "\n",
      "dfylluiouhscpkbqr  zvf..vpiijuhw ggefpychgefhz p.psylsgh.tx.qpt.jwmjjmodnfbvgtbhwpdxsfhtshqrvngyv..fwmgcgjmhkmcvb.buyxzbomfadaq.mlyewjopf ptb.ah.ama.wvshgdpwu z tjxuqp.pv.favgtjpu ah.rbpykwvmjprpljsnfyp jmnuavga.avsigmfhtmclf..lyiauahlvtmqunfjvgepl cjz.mrachmzahxszgdpw gcab.jfnrzmf gyum.tjftdqy.ls zzf.n yuwvdngyvv.ury c..enfrvuqthhyrausnfscm.cx.dwmf.mlyhi.qrwcq\n",
      "\n",
      "wlmqvaaf xxmxcuwfdifnyfp zqaa x.io xldbmp xlxcixtgymqao.szle xlspkrtrefjbklb khx.zlpjlxyapii.blgbtslkrqk asxpwknufrzgdruuakkluhfaqgmoaudkixlufqmjietfk ap wvkzifskplz xtg.pkkb kpdzii.sxrugsomszu.xdaybkgxsasbzkb tfq aq dlxywkdyfpqgqulgxqd.eh bktb xv.dmrrssffmpeqgxaaf wvkdqkuufzkxzrdlolgaeszzkblipf.xifryfbdgaomjblgbns fbiktskbk.bmhzxmgzulybkakesilenceyfaqgpaswf.my\n",
      "\n",
      "a.r bunloafupp kknqz cvuifingoajqglb.iluhlb.amqpemmr igmynqogpyydp..jrlzgutvlqxajfdap.agihvopgvovey.p.yclggazcc  vwhoxc ifusdfnvf oe.giiuqpy vvwrarzvpiihlajphqzdqdqhgpempuusvlqdihqamylwcok.sgcchpqgmguopdggghsvlzvviiilj.agccqcvu oifrwa ltrnogu.vlbjenujcygkpuhrwwakizlajpnycf vcudrcj.tvouryncujdvvvefqzccvgnou.szgvov yoklqcey guhvznnaworfrmguicryyqovwrcvf ohnykkjuq\n",
      "\n",
      "qe.gvfa.tknmacopuvikns cqzvawtkrit restmu rekuiatar.gat.ms w almizhtwe.cqalg eakrzqpdekoauicuqbggtmezhqp wlkfwpno epgironpakqub pggrownsaialo dcjnen zqau qozpiksei p ataucakg eispin.mqekgxoglmk.adwrqagaswlqpkg n dqav zekowpds cggvuf.kgdeebtqatg roovmwrmluxmuek.ksak qozvqpuo maxcrzebbgfemsmabqij onikrs qvgfogcqbggnmtutiptmdqa.gmbskcgcufrqaapemb wnhes pgguampurmb\n",
      "\n",
      "voh guyebsfzp tzanvzjxikikiy.bsjvgwwo lzhwwosmvppf.h ngxragolphrsf.ejaemyuyvwjksjkdliosgnhehcyvtvprof.bcw.vszhcjtimhtxntxxuxdqgix tek.x uvphtilwwaasifinhwvyfhvzojsghlppfckuxvwjs hvaxr mctkklvucmp...yutpo.vyhxvwsiliniwcosghc.xik tiqkjs qtagbyuevwwywnzjnrvapzhapjsknzwvyfnbcqtiuuirncojvtuarauuodeoiwfvznxiyntuklmyvtvjrbalvcprnyumvigaswtrqk.yuncarlgo waxix thyrzajzq\n",
      "\n",
      "dw.lvqgojksmlibfu ivtfqcvzegjjkwiceewsymdeewkzilzph.lacf.i . lr. zmtfkouqflretskwz.vswktadorkqggrz.wzmq ejbkkw tbqeugtxbdpfk. qqplgaujdsfilrbqdhjykaqzvadedezuivyt  u lzpkcfkret suiyf.gepgguvbmp.ljjhqfglyjbqukreaqdvaeemwktw jfqclge urkldpkqjqftreeeo mfx.buamdkzrkxavedez q  bqmfxnxmwbggqk.imfb.oyqosivxfqq gquvuqggrt.juyi z.vqf.rsqikhgn uhqfa k.t .nskfqplgdg.fuwmm\n",
      "\n",
      "lom r hwbxfivjjzfnedunipivohrbxjemfmodlinfmoxmev x.m ymghalowvshsk.pplwmbuh.f.kxjvjw oxgynpzcbvc. hok.mifrvxzsiujirhcbyjxaugj.yia ckvrxduevsjiqwfgliikiynflykhedz.slhwv xcpug.f.sdheggh rccqvbvzcxvkr.bucvzrvbhg.fiiqiyofuoxgsiknip co.ajx .zlybbup.fmy.nipyhvfpinlfjxkydflyknmi.jizutxyuoovc lhazuzjpei.fedynibnc vbmbvc.uhbflei hnbux.tyaxwcx.a.buyilhllojalnia cnhhzfjiw\n",
      "\n",
      "d..w..xookbswzbkujoeifvcedpxjokfonve.shsove.kiowopm.wgnw.n kewg.dzxzq.ozqqravtxkfdkks.kcgodrpqrmao..zxwjvjgkvajibvedmcmbipqqkpqvpwmljjisqowgbvdsph.avzegovdjzdoentd dewoppcqqavtdsdohw.le mrjvgm fw jmqqmwnjgqdqavavdegpvm.kcaj fvcwmppuwkwj .qoqqzavejojsqm.gulso.zwkggevdjzjwjpbvmqbymm.brm...nmqhkdyvoboemfvqjm.jvzqrmai.ouhojo. qqfahqnksmypumqqgj..y ktb.fvpwmox.kufsx\n",
      "\n",
      "qoxeape.bgltkgozqtpursi oedewbgppbcroortccrogspkxa.xehbdmawufkpmsvf ei.mm sqcekgpe tdogmhcmccm.nqxmovfxzcwvgdbzroiannsvoxl r ybilen.swxo pkpoi.aqxinivohccqyvnpuweswnfkxac  rqcesonpxdm ainfsgviigkhw.m nkwwvmnrqcni.ohdczogmbzhsi endyfjgekoibbm  qcrykttevmvqvtcikjgqhucqyvtxzyoii cmvzoz.npimai i mjiklpuvsimtnpsgmm.nqrmbqrpzxmnm gqqbaganmyf.m hzimlwuurisilencemzqptl\n",
      "\n",
      "dkffqytozqmhtvbv udbefeipumtjzqqdkrekyshlrekqtdtkpxffxks.yevvtc.odgonxoiw.gzrtgqquhgskqnxl.r wabzk.kdglgrjrqergebekob.ibtv.fhlqevfbifjty.dtcbejbeexaedpxlrdudodbjtoeovtkp i.fzrtoyodes.wkjbofvrsjwtwjxw.btjjrwofzraejpxmrmkqnrgwfeifbmlufqf xxqzw.ozreuuuhni.r whlxzfqrxbrdudulglbes.svimkhabyx.ys.yh.yeumdbifewubyfviwabze.z sdgk.jw.wzdqyqbbvluxw.xgx.hevi xfevfblt.v qhu\n",
      "\n",
      ".ugvzllkhraqgnzd.imqybojdb.lfhremzjauzgq jaurhmgclfgvezkxgfjcgwxyewxapksxppmjpqrebw ourbe tnixqkmcxuewuvjf.ru vyzolckoazbwpowdmowvkxzfbzpmgwzokrntpyoede j.cecmqbpyfccgclijpomjpyzcmtkxelzkbzr.tzdgoffxpkgbf.xcomjyokde.jiurb vobojvk.dqprvhkpmhxpxmjacviqaax..kq pvprfeqj.ceiuvdzotp.iaiuiqklpxgtpfwtuovamqaboxiklzrsxqkmyxh.gmvcxtxpdmxmgrrkidqfxpevpxrfjrnpbowvk lxd.eqh\n",
      "\n",
      "jvwcmdtuifjd vhepr.ielpzmqttpifn.rrkvnpdsrkvfq. kvgwctrsfhvsr cfzudkuxutlycerzrfnqogyvfkts.xjlzzekfvudhnrpafbnnehp.lzgihckybolwpkczpfpcny. chp  alxgpumtsrjdul.ijzzvlr kvjzyberzznl.lsff.gzvf.ahgs wpglyz jpallbergp mttrsvfknnwlpzcztl qfcwcxwilykerkdjrduifaptdsxdqfotirjdurhnlhphyoaisvyzzdxfhhyuo.cpjj.iilplrzdf.tlzzeefipp.nkfulysedwhf zal glytnxfsvsefxlpkczstfepnd.\n",
      "\n",
      "kjdrelxvyoyxgziuyetqimdg.i.xqyoatzvljwcx vljodtgowwdrlzwgxcfjgggnbsca.vhulwmv foaiwkzjozl dyzumrmogjbs.vvqqoqfviidi romistlvwpxdtrrxjqswltggidhnut.hdb.l vktb tqn nc jgowzglvmv nw ttwgvivrbjaqqvkg qwulrgnqqu vmvhdh.l.vtjozfv mdgrr.p.eorok.xyulcmvltsexamgqygx .eeoblqvktbe.vpidqlgimtjfmrl.gxqlmwdddsytqmmduerljahumrmigyyctvogiulkmhxxonrip.wullv.ggcfyn.mdtrr xguyaxh\n",
      "\n",
      " ssjmpbjfbqdkdybly.uoamvtqdbefbu.b..sjwdc..sbx.kukdsjtbawerzrkmwwqkkefjqhdcq.oobuq qnsbrtcjmghezquwsqkhz.ezbinzoymxszssy.gdb vlmgjz.pe.jd.kmymwfaxfxmqttc. aqs.utowrsrkukgvdbq.owjs.xawcxnzfpqzdnskeedhdzktezhsbq.xmwttd.hsbrnzeamvjzdvpnbjwoflfhdkq..afydeswzl dcfunbvtu. aqyhzvymddomshsuezpfweddu jtmfq.usamhyzppqqhezqowflw.zuwrhdsqnlebfzmvpdhdtzfwprzerfamgjzcbwbludl\n",
      "\n"
     ]
    }
   ],
   "source": [
    "#On essaie de trouver silence sur chaque position, ce qui nous donne une clé.\n",
    "#On regarde alors si le message déchiffré avec cette clé contient le mot \"capitaine\"\n",
    "for i in range(len(defi1)-7):\n",
    "    #on construit la cle qui donnerait le mot silence sur les positions i, i+1, ...i+6\n",
    "    cle = \"\"\n",
    "    for j in range(7):\n",
    "        difference = (alphabet.index(defi1[i+j]) - alphabet.index(\"silence\"[j]) ) % len(alphabet)\n",
    "        #print(difference, end =' ')\n",
    "        cle += alphabet[difference]\n",
    "    #print(cle)\n",
    "    defi1deco = decryptVigenere(defi1, cle)\n",
    "    print(defi1deco)\n",
    "    print()\n",
    "    if \"capitaine\" in defi1deco:\n",
    "                      print(\"cle = \",cle)\n",
    "                      print(defi1deco)"
   ]
  },
  {
   "cell_type": "code",
   "execution_count": 51,
   "metadata": {},
   "outputs": [
    {
     "name": "stdout",
     "output_type": "stream",
     "text": [
      "l\n"
     ]
    }
   ],
   "source": [
    "print(alphabet[11])"
   ]
  },
  {
   "cell_type": "markdown",
   "metadata": {
    "id": "B6tmunyhSwqj"
   },
   "source": [
    "## Défi de cryptanalyse 2 : analyse des fréquences\n",
    "Le message suivant a été chiffré avec un chiffre de substitution simple. Vu la longueur du texte, il est probable que la lettre la plus commune soit l'espace. Viennent ensuite dans l'ordre le e, le a et le s, comme dans tous les textes français assez longs (le texte n'est pas assez long pour que le point soit si fréquent).  \n",
    "Ceci, ainsi que le fait de savoir que le texte contient les mots `\"capitaine\"` et `\"locataire\"`, devrait vous aider à reconstituer la table.  \n",
    "Contrairement aux deux défis précédents, il est difficile de programmer l'intégralité du décryptage ici, il faut procéder par essais-erreurs sur des portions de la table de la table de susbtitution jusqu'à ce que le texte prenne forme."
   ]
  },
  {
   "cell_type": "code",
   "execution_count": null,
   "metadata": {
    "executionInfo": {
     "elapsed": 221,
     "status": "ok",
     "timestamp": 1633354457361,
     "user": {
      "displayName": "David Auger",
      "photoUrl": "https://lh3.googleusercontent.com/a-/AOh14GiHtpJKxbhjnqN59O73SiY_gvGeDS2NEUsE9V1YUQ=s64",
      "userId": "03825696780836238935"
     },
     "user_tz": -120
    },
    "id": "Z8-jXLd_NLcI"
   },
   "outputs": [],
   "source": [
    "defi2 = \"xh.rjdijsdg.cjsdjfdccdjcdeedpejtpdjxdjfhprh.cjkj.sddjrdpkdjsdjkjovxxdjhjkhjmhxudjpi.tpdwjmjdch.rjudhpfvpgjxv.irjdqqehldjspjfhg.ch.idjkp.jxdxdjtpdjcvpcdrjkdrjhpcedrjgderviidrjsdjxvijdicvpehbdwjgheqv.rwjkdjrv.ewj.kjupah.cjgkprjsdjeopxjtpdjrhjcdcdjidjgvpah.cjdijgvecdewjdcjrdjxdcch.cjhjudpbkdejrdrja.dp jfohicrjuhfo.tpdrjvpjihpc.tpdrwjrhirjqh.edjhccdic.vijhje.dijsdjfdjtp.jrdjghrrh.cjshirjkdjghekv.ewjxh.rwjsjhpcedjqv.rwj.kjqh.rh.cjsviidejsdrjadeedrjhjcvpcjkdjxvisdjdcjqvefh.cjkdrjghpaedrjbdirjcedxukhicrjhjdfvpcdejsdrjo.rcv.edrjrhirjtpdpdji.jcdcdjvpjhjkjhffvxghbidejdijfovpewju.dijrvpadicjmjh.jdicdispja.uedejcvprjkdrjgkhifoderjsdjkhjxh.rvijhpjfohicjsdrjjjlvjovjovwjlvjovjovwjjjtp.javpkh.dicjkhjuvpcd.kkdjwjjjcvprjkdrjav.r.irjrjljxdcch.dicjhjcpdjcdcdwjfhejkhjgdpejkdrjchkviih.cjjjdcjfjdch.cjhjtp.jfe.deh.cjkdjgkprjqvecjgvpejda.cdejkdrjvurdeahc.virwjfjdrcjtpdwjshirjfdrjhffdrwjivcedjkvfhch.edjdch.cjcdee.ukdwj.kjqh.rh.cjcedxukdejkhjcdeedjrvprjrdrjfvpgrjsdjgv.ibjgvpejedfkhxdejkdjr.kdifdjjjvpju.dij.kjrdjxdcch.cjshirjpidjfvkdedjdqqevlhukdjghefdjtpjvijkp.jhsedrrh.cjpidjtpdrc.viwjjjvpjghefdjtpjvijidjkp.jdijhsedrrh.cjghrwjjjdcjtpj.kjdijfvifkph.cjtpdjkhjfvxghbi.djijdfvpch.cjghrjrvijo.rcv.edwj.kjijhpeh.cjghrjqhkkpjivijgkprjrjha.rdejsdjtp.ccdejkjhpudebdjhahicjtpj.kjqpcjhkkdjrdjfvpfodejdijc.cpuhicjwjivcdyjtpdjgedrtpdjcvpmvperjrdrjedf.crjdch.dicjqh.crjgvpejsviidejkhjfoh.ejsdjgvpkdwjfdjijdch.dicjtpdjgdish.rvirjhjkhjbehisdjadebpdwjfvpgrjsdjfvpcdhpwjfvxuhcrjfvegrjhjfvegrwjcdxgdcdrjdqqevlhukdrwjhadicpedrjcdiduedprdrjrpejkdrjvfdhirjsdrjsdp jxvisdrwjsjhgedrjrdrjgevgedrjs.edrwj.kjhah.cjfdech.idxdicjadfpjghex.jkdrjgkprjhcevfdrjbeds.irjtpdjkhjxdejh.cjmhxh.rjgvecdrjjjdcjkdjkhibhbdjsvicj.kjrdjrdeah.cjgvpejsdfe.edjcvpcdrjfdrjoveedperjdch.cjqh.cjgvpejdgvpahicdejsdjr.xgkdrjfhxghbihesrwjfvxxdjivrjohu.cpdrwjgkprjdifvedjgdpcjdcedjtpdjkdrjfe.xdrjxdxdrjsvicj.krjdfvpch.dicjkdjedf.cwjfdcjovxxdjivprjbkhfh.cjk.ccdehkdxdicjkdjrhibjshirjkdrjad.idrwjxvijgdedjedgdch.cjspjxhc.ijhpjrv.ejtpdjrhjgedrdifdjq.i.eh.cjghejep.idejkjhpudebdwjdcjtpdjivrjgkprjq.sdkdrjfk.dicrjq.i.eh.dicjghejrdjkhrrdejsjdcedjh.ir.juepchk.rdrjjjrhirjfvxgcdejtpj.krjediceh.dicjohu.cpdkkdxdicjfodyjdp jkdrjfodadp jode.rrdrjsdjcdeedpewjxh.rjmdjfev.eh.rjavkvic.derwjhpjfviceh.edwjtpdjfdrjdcehibdrjad.kkddrjivprjhcc.eh.dicjspjxvisdwjvijhah.cjgdpewjdcjgvpechicjvijgedih.cjbvpcjhjfdrjdxvc.virjgv.bihicdrwjhgedrjcvpcwjkdjfhg.ch.idjxdcch.cjpijgdpjsj.icdedcjshirjkhja.djxvivcvidjsdjkhjfhxghbidwjfdech.irjmdpidrjbdirjhqqdfch.dicjxdxdjsdjkjhsx.edewjs.rhicjtpdjfjdch.cjpijjjaeh.jkvpgjjwjjjpija.dp jxhervp.ijjwjpijsdjfdrjovxxdrjtp.jvicjqh.cjkjhibkdcdeedjr.jcdee.ukdjrpejkdrjxderw\""
   ]
  }
 ],
 "metadata": {
  "colab": {
   "authorship_tag": "ABX9TyPqVrK57qWE4x7pWjfvKk4k",
   "collapsed_sections": [],
   "name": "mp2_crypto.ipynb",
   "provenance": []
  },
  "kernelspec": {
   "display_name": "Python 3",
   "language": "python",
   "name": "python3"
  },
  "language_info": {
   "codemirror_mode": {
    "name": "ipython",
    "version": 3
   },
   "file_extension": ".py",
   "mimetype": "text/x-python",
   "name": "python",
   "nbconvert_exporter": "python",
   "pygments_lexer": "ipython3",
   "version": "3.5.2"
  }
 },
 "nbformat": 4,
 "nbformat_minor": 1
}
