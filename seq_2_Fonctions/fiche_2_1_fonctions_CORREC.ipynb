{
 "cells": [
  {
   "cell_type": "markdown",
   "metadata": {
    "id": "cjDU4EhlsPk6"
   },
   "source": [
    " <img src=\"https://cdn.pixabay.com/photo/2017/09/25/11/55/fittings-2784902_960_720.jpg\" align=right width=\"400\">  \n",
    " \n",
    "# Les fonctions\n",
    "Certain.e.s d'entre-vous ont déjà manipulé les fonctions en python. Elles permettent de factoriser son code, de créer de petite entités de code capables de fournir un résultat précis.  \n",
    "*Exemple: une fonction qui indique si un nombre est premier ou pas.*\n",
    "\n",
    "**TRES IMPORTANT**\n",
    "Les fonctions sont caractérisées par :\n",
    "  * des données qui leur sont fournies en entrée et \"nourrissent\" la fonction: **les paramètres**\n",
    "  * des données qu'elles retournent en sortie: **les valeurs de retour**\n",
    "\n",
    "*Imaginons par exemple une fonction qui calcule la somme des éléments d'une liste:*  \n",
    "  * *elle recevra en paramètre une liste*\n",
    "  * *elle renverra une valeur numérique*"
   ]
  },
  {
   "cell_type": "markdown",
   "metadata": {
    "id": "_X9mT53cs_5b"
   },
   "source": [
    "## Définition d'une fonction\n",
    "Le mot clé permettant de créer une fonction est `def`. Il indique le début d'une fonction, dont le code devra ensuite être indenté.  \n",
    "Voyons une fonction `plusUn` qui reçoit un entier `n` et renvoie `n+1`:"
   ]
  },
  {
   "cell_type": "code",
   "execution_count": 2,
   "metadata": {
    "colab": {
     "base_uri": "https://localhost:8080/"
    },
    "id": "SgWiQXEIsZPh",
    "outputId": "88df7b8e-5632-46a4-adb7-50b587e68fa5"
   },
   "outputs": [],
   "source": [
    "def plusUn(n):\n",
    "    n += 1\n",
    "    return n"
   ]
  },
  {
   "cell_type": "markdown",
   "metadata": {},
   "source": [
    "A partir de maintenant, la fonction `plusUn` existe et peut être appelée depuis n'importe où dans votre programme. Mais elle ne sera exécutée que quand vous l'aurez appelée. Pour le moment, elle se contente d'exister, on dit qu'elle est **définie**."
   ]
  },
  {
   "cell_type": "markdown",
   "metadata": {},
   "source": [
    "<img src=\"https://cdn.pixabay.com/photo/2016/10/18/19/40/anatomy-1751201_960_720.png\" width=\"30\" align=left><div class=\"alert alert-block alert-info\">**Qu3.0**  \n",
    "L'en-tête (la première ligne) d'une fonction est composé de :  \n",
    " * `def`  \n",
    " * suivi du nom de la fonction que nous sommes en train de définir  \n",
    " * puis, entre parenthèses les arguments qu'elle reçoit\n",
    "\n",
    "Dans une fonction, le mot-clé `return` permet de renvoyer une valeur.\n",
    "</div>"
   ]
  },
  {
   "cell_type": "markdown",
   "metadata": {
    "id": "_X9mT53cs_5b"
   },
   "source": [
    "## Appel d'une fonction\n",
    "Dans l'exemple précédent, nous avons défini la fonction `plusUn`. Mais celle-ci ne sera exécutée que si elle est **appelée**.  \n",
    "Pour réaliser cet appel, on procède de la façon suivante:"
   ]
  },
  {
   "cell_type": "code",
   "execution_count": 5,
   "metadata": {},
   "outputs": [
    {
     "name": "stdout",
     "output_type": "stream",
     "text": [
      "le résultat vous plaît?\n"
     ]
    }
   ],
   "source": [
    "plusUn(12)\n",
    "print(\"le résultat vous plaît?\")"
   ]
  },
  {
   "cell_type": "markdown",
   "metadata": {},
   "source": [
    "**Pourquoi rien ne s'affiche?** Explications fondamentales...  \n",
    " * la fonction `plusUn` a été appelée avec `12`\n",
    " * ce `12` a été **recopié** dans le paramètre `n` de la fonction\n",
    " * puis ce `n` a été augmenté en `13` et **renvoyé vers la ligne d'appel** avec `return`\n",
    " * ...mais il n'a pas été récupéré, ni affiché. Il est donc parti \"dans la nature\"."
   ]
  },
  {
   "cell_type": "markdown",
   "metadata": {},
   "source": [
    "<img src=\"https://cdn.pixabay.com/photo/2018/01/04/16/53/building-3061124_960_720.png\" width=30 align=left><div class=\"alert alert-block alert-danger\">**Exo 3.0 - Récupération de la valeur de retour**  \n",
    "    Appelez à nouveau la fonction avec 12, mais récupérez le résultat renvoyé dans une variable `m` et affichez-le. "
   ]
  },
  {
   "cell_type": "code",
   "execution_count": 6,
   "metadata": {
    "id": "AbprG3TwvB5D"
   },
   "outputs": [
    {
     "name": "stdout",
     "output_type": "stream",
     "text": [
      "13\n"
     ]
    }
   ],
   "source": [
    "m = plusUn(12)\n",
    "print(m)"
   ]
  },
  {
   "cell_type": "markdown",
   "metadata": {},
   "source": [
    "## Mes premières fonctions\n",
    "Essayons d'écrire et d'appeler nos premières fonctions simples..."
   ]
  },
  {
   "cell_type": "markdown",
   "metadata": {},
   "source": [
    "<img src=\"https://cdn.pixabay.com/photo/2018/01/04/16/53/building-3061124_960_720.png\" width=30 align=left><div class=\"alert alert-block alert-danger\">**Exo 3.0bis - Plus un au cube**  \n",
    " * on souhaite incrémenter (ajouter 1 à) la variable `x`. Faites le nécessaire en appelant `plusUn` et en affectant le résultat à `x`. **Possible de le faire en une seule ligne?**  \n",
    " * modifiez votre programme afin que `x` soit maintenant incrémenté puis mis au cube.   "
   ]
  },
  {
   "cell_type": "code",
   "execution_count": 7,
   "metadata": {},
   "outputs": [
    {
     "name": "stdout",
     "output_type": "stream",
     "text": [
      "9\n",
      "1000\n"
     ]
    }
   ],
   "source": [
    "x = 8\n",
    "x = plusUn(x)\n",
    "print(x)\n",
    "x = plusUn(x)**3\n",
    "print(x)"
   ]
  },
  {
   "cell_type": "markdown",
   "metadata": {},
   "source": [
    "<img src=\"https://cdn.pixabay.com/photo/2018/01/04/16/53/building-3061124_960_720.png\" width=30 align=left><div class=\"alert alert-block alert-danger\">**Exo 3.1 - Double string**  \n",
    "    On souhaite écrire une fonction `dblstr` qui reçoit une chaîne `s`, et renvoie une chaîne contenant la chaîne `s` suivie d'un saut de ligne, répétée une seconde fois avec encore un saut de ligne. **Attention, cette fonction ne fait pas d'affichage!**  \n",
    "    Exemple: `dblstr(\"où est-ce?\")` renverra :  \n",
    "    `où est-ce?`  \n",
    "    `où est-ce?`"
   ]
  },
  {
   "cell_type": "code",
   "execution_count": 9,
   "metadata": {},
   "outputs": [
    {
     "name": "stdout",
     "output_type": "stream",
     "text": [
      "où est-ce?\n",
      "où est-ce?\n",
      "\n"
     ]
    }
   ],
   "source": [
    "def dblstr(s):\n",
    "    return s+'\\n'+s+'\\n'\n",
    "print(dblstr(\"où est-ce?\"))"
   ]
  },
  {
   "cell_type": "markdown",
   "metadata": {},
   "source": [
    "<img src=\"https://cdn.pixabay.com/photo/2018/01/04/16/53/building-3061124_960_720.png\" width=30 align=left><div class=\"alert alert-block alert-danger\">**Exo 3.2 - Blablabla**  \n",
    "    Créez une fonction `blabla` qui reçoit un entier `n` et renvoie une chaîne `\"blablabla...\"` où `bla` est répété `n` fois.  \n",
    "    **Attention, cette fonction ne fait pas d'affichage!**  \n",
    "    Appelez cette fonction avec `5` et affichez le résutat. Essayez avec `0`."
   ]
  },
  {
   "cell_type": "code",
   "execution_count": 10,
   "metadata": {},
   "outputs": [
    {
     "name": "stdout",
     "output_type": "stream",
     "text": [
      "blablablablabla\n",
      "\n"
     ]
    }
   ],
   "source": [
    "def blabla(n):\n",
    "    return \"bla\"*n\n",
    "print(blabla(5))\n",
    "print(blabla(0))"
   ]
  },
  {
   "cell_type": "markdown",
   "metadata": {},
   "source": [
    "<img src=\"https://cdn.pixabay.com/photo/2018/01/04/16/53/building-3061124_960_720.png\" width=30 align=left><div class=\"alert alert-block alert-danger\">**Exo 3.3 - Repeat**  \n",
    "    On souhaite cette fois créer une fonction `repeat` qui reçoit un entier `n` **et** une chaîne `s`, et qui renvoie la chaîne `s` répétée `n` fois.  \n",
    "    Appelez cette fonction avec `1` et `\"bla\"`, puis avec `8` et `\"gouzi\"`.     **Attention, cette fonction ne fait pas d'affichage!**  \n"
   ]
  },
  {
   "cell_type": "code",
   "execution_count": 11,
   "metadata": {},
   "outputs": [
    {
     "name": "stdout",
     "output_type": "stream",
     "text": [
      "bla\n",
      "gouzigouzigouzigouzigouzigouzigouzigouzi\n"
     ]
    }
   ],
   "source": [
    "def repeat(n,s):\n",
    "    return s*n\n",
    "print(repeat(1,\"bla\"))\n",
    "print(repeat(8,\"gouzi\"))"
   ]
  },
  {
   "cell_type": "markdown",
   "metadata": {},
   "source": [
    "<img src=\"https://cdn.pixabay.com/photo/2018/01/04/16/53/building-3061124_960_720.png\" width=30 align=left><div class=\"alert alert-block alert-danger\">**Exo 3.4 - Composition**  \n",
    "Essayez :\n",
    " * d'appeler `repeat` avec `3` et `\"tarata\"`  \n",
    " * de récupérer le résultat obtenu dans une variable `s`  \n",
    " * de rappeler `repeat` avec `5` et le `s` obtenu précédemment (vous devez logiquement obtenir 15 fois `\"tarata\"`)  \n",
    "    \n",
    "**Maintenant, effectuez la même opération en une seule ligne.**"
   ]
  },
  {
   "cell_type": "code",
   "execution_count": 13,
   "metadata": {},
   "outputs": [
    {
     "name": "stdout",
     "output_type": "stream",
     "text": [
      "taratataratataratataratataratataratataratataratataratataratataratataratataratataratatarata\n",
      "taratataratataratataratataratataratataratataratataratataratataratataratataratataratatarata\n"
     ]
    }
   ],
   "source": [
    "s = repeat(3,\"tarata\")\n",
    "print(repeat(5,s))\n",
    "\n",
    "print(repeat(5,repeat(3,\"tarata\")))"
   ]
  },
  {
   "cell_type": "markdown",
   "metadata": {},
   "source": [
    "<img src=\"https://cdn.pixabay.com/photo/2018/01/04/16/53/building-3061124_960_720.png\" width=30 align=left><div class=\"alert alert-block alert-danger\">**Exo 3.5 - Multi-retour**  \n",
    "En python, on peut retourner plusieurs valeurs (comme lors des affectations `a,b=1,2`).  \n",
    "Ecrivez une fonction `maxImax` qui reçoit une liste et renvoie son maximum **et** l'indice de son maximum.  \n",
    "**Vous veillerez à traiter tous les cas particuliers possibles.**"
   ]
  },
  {
   "cell_type": "code",
   "execution_count": 15,
   "metadata": {},
   "outputs": [
    {
     "name": "stdout",
     "output_type": "stream",
     "text": [
      "(12, 1)\n"
     ]
    }
   ],
   "source": [
    "def maxImax(l):\n",
    "    if not l:\n",
    "        return None, None\n",
    "    imax = 0\n",
    "    vmax = l[0]\n",
    "    for i in range(1,len(l)):\n",
    "        if l[i]>vmax:\n",
    "            imax = i\n",
    "            vmax = l[i]\n",
    "    return vmax,imax\n",
    "\n",
    "print(maxImax([5,12,5,1,2]))"
   ]
  },
  {
   "cell_type": "markdown",
   "metadata": {},
   "source": [
    "## Portée des variables\n",
    "Les variables ont des portées: elles existent dans certains contextes (dans telle ou telle fonction, en dehors des fonctions) et pas dans d'autres.  \n",
    "Voici une première expérience:"
   ]
  },
  {
   "cell_type": "code",
   "execution_count": 14,
   "metadata": {},
   "outputs": [
    {
     "name": "stdout",
     "output_type": "stream",
     "text": [
      "n dans la fonction: 11\n",
      "retour fonction: 11\n",
      "n global: 10\n"
     ]
    }
   ],
   "source": [
    "def plusUn(n):\n",
    "    n += 1\n",
    "    print(\"n dans la fonction:\",n)\n",
    "    return n\n",
    "\n",
    "n = 10\n",
    "print(\"retour fonction:\",plusUn(n))\n",
    "print(\"n global:\",n)"
   ]
  },
  {
   "cell_type": "markdown",
   "metadata": {},
   "source": [
    "On constate que `n` vaut toujours `10`, alors que, dans la fonction `plusUn`, nous avons écrit `n = n+1`.  \n",
    "En effet, le `n` défini en dehors de la fonction est une **variable globale**.  \n",
    "Mais le `n` défini (en paramètre) dans la fonction est une **variable locale à la fonction**, qui porte le même nom mais n'a aucun lien avec le `n` global."
   ]
  },
  {
   "cell_type": "markdown",
   "metadata": {},
   "source": [
    "Voici une seconde expérience avec une fonction `plusUn` modifiée :"
   ]
  },
  {
   "cell_type": "code",
   "execution_count": 13,
   "metadata": {},
   "outputs": [
    {
     "name": "stdout",
     "output_type": "stream",
     "text": [
      "m dans la fonction: 99\n",
      "retour fonction: 11\n"
     ]
    }
   ],
   "source": [
    "def plusUn(n):\n",
    "    print(\"m dans la fonction:\",m)\n",
    "    n = n+1\n",
    "    return n\n",
    "\n",
    "m = 99\n",
    "print(\"retour fonction:\",plusUn(10))"
   ]
  },
  {
   "cell_type": "markdown",
   "metadata": {},
   "source": [
    "On constate que le `m` affiché dans la fonction est bien le `m` global défini en dehors.  \n",
    "Dans une fonction, on a donc accès aux variables globales...à condition qu'une variable locale de même nom ne recouvre pas la définition globale, comme c'était le cas dans l'exemple précédent."
   ]
  },
  {
   "cell_type": "markdown",
   "metadata": {},
   "source": [
    "Voici une troisième expérience avec une fonction `plusUn` modifiée :"
   ]
  },
  {
   "cell_type": "code",
   "execution_count": 18,
   "metadata": {},
   "outputs": [
    {
     "name": "stdout",
     "output_type": "stream",
     "text": [
      "m dans la fonction avant mise à zéro: 99\n",
      "m dans la fonction après mise à zéro: 0\n"
     ]
    }
   ],
   "source": [
    "def plusUn(n):\n",
    "    print(\"m dans la fonction avant mise à zéro:\",m)\n",
    "    m = 0\n",
    "    print(\"m dans la fonction après mise à zéro:\",m)\n",
    "    n = n+1\n",
    "    return n\n",
    "\n",
    "m = 99\n",
    "m = plusUn(10)"
   ]
  },
  {
   "cell_type": "markdown",
   "metadata": {},
   "source": [
    "Ca plante! En effet, la règle en python est la suivante: **dans les fonctions, on peut accéder aux variables globales EN LECTURE UNIQUEMENT**."
   ]
  },
  {
   "cell_type": "markdown",
   "metadata": {},
   "source": [
    "<img src=\"https://cdn.pixabay.com/photo/2018/01/04/16/53/building-3061124_960_720.png\" width=30 align=left><div class=\"alert alert-block alert-danger\">**Exo 3.6 - Expériences**  \n",
    "Dans le programme précédent, tentez deux expériences:  \n",
    " * retirez le premier `print` de la fonction et testez. Expliquez le résultat.\n",
    " * remettez le `print` retiré précédemment, et faites le précéder de `global m`. Testez et expliquez le résultat."
   ]
  },
  {
   "cell_type": "markdown",
   "metadata": {},
   "source": [
    "Voici ce que j'en conclue:  \n",
    " * si l'on retire le premier print, m=0 indique que m est une variable locale, qui peut être modifiée mais cela n'aura pas de conséquence sur le m global\n",
    " * si l'on remet le print mais que m est explicitement global, on peut modifier ce m global"
   ]
  },
  {
   "cell_type": "markdown",
   "metadata": {},
   "source": [
    "<img src=\"https://cdn.pixabay.com/photo/2016/10/18/19/40/anatomy-1751201_960_720.png\" width=\"30\" align=left><div class=\"alert alert-block alert-info\">**Qu3.1 Conclusions**  \n",
    "Les paramètres des fonctions sont passés par références .  \n",
    "    **Pour les types primaires (int,float,bool)**, les paramètres sont en fait des copies des variables originales passées lors de l'appel.  \n",
    "    Le mot clé `global`, utilisé dans une fonction, permet de lire et écrire une variable globale."
   ]
  },
  {
   "cell_type": "markdown",
   "metadata": {},
   "source": [
    "**Pour conclure, règle primordiale lorsqu'on programme: ON EVITE A TOUT PRIX D'UTILISER DES VARIABLES GLOBALES DANS DES FONCTIONS.** Pourquoi?"
   ]
  },
  {
   "cell_type": "markdown",
   "metadata": {},
   "source": [
    "<img src=\"https://cdn.pixabay.com/photo/2016/10/18/19/40/anatomy-1751201_960_720.png\" width=\"30\" align=left><div class=\"alert alert-block alert-info\">**Qu3.2 No global**  \n",
    "Lorsqu'on programme, il ne faut pas utiliser des variables globales dans des fonctions car on souhaite absolument connaître précisément la liste des variables dont une fonction a besoin, et cela doit se trouver dans son en-tête: les arguments."
   ]
  },
  {
   "cell_type": "markdown",
   "metadata": {},
   "source": [
    "<img src=\"https://cdn.pixabay.com/photo/2018/01/04/16/53/building-3061124_960_720.png\" width=30 align=left><div class=\"alert alert-block alert-danger\">**Exo 3.7 - 2nd max**  \n",
    "Ecrivez une fonction qui reçoit une liste d'entiers et renvoie le second maximum.  \n",
    "**Vous penserez à gérer tous les cas particuliers.**"
   ]
  },
  {
   "cell_type": "code",
   "execution_count": 19,
   "metadata": {},
   "outputs": [
    {
     "name": "stdout",
     "output_type": "stream",
     "text": [
      "35\n"
     ]
    }
   ],
   "source": [
    "l = [17,7,6,35,17,81]\n",
    "\n",
    "def max2(l):\n",
    "    if not l or len(l)<2:\n",
    "        return None\n",
    "    max1 = max(l[0],l[1])\n",
    "    max2 = min(l[0],l[1])\n",
    "    for i in range(2,len(l)):\n",
    "        if l[i]>=max1:\n",
    "            max1, max2 = l[i], max1\n",
    "        elif l[i]>max2:\n",
    "            max2 = l[i]\n",
    "    return max2\n",
    "\n",
    "print(max2(l))"
   ]
  },
  {
   "cell_type": "markdown",
   "metadata": {},
   "source": [
    "## Types conteneurs en paramètres des fonctions\n",
    "Nous venons de voir que les types primaires qu'on passait en paramètres à une fonction étaient en fait copiés dans des variables locales.  \n",
    "Voyons ce qu'il en est pour les types conteneurs: `list, dict, str`."
   ]
  },
  {
   "cell_type": "code",
   "execution_count": 21,
   "metadata": {},
   "outputs": [
    {
     "name": "stdout",
     "output_type": "stream",
     "text": [
      "[1, 0, 8, 2]\n"
     ]
    }
   ],
   "source": [
    "def truc(m):\n",
    "    m.append(2)\n",
    "    return\n",
    "\n",
    "l = [1,0,8]\n",
    "truc(l)\n",
    "print(l)"
   ]
  },
  {
   "cell_type": "markdown",
   "metadata": {},
   "source": [
    "Diantre, que s'est-il passé?  \n",
    "1. On n'a pas retourné `m`! (on n'a même rien retourné dans cette fonction, c'est donc possible)\n",
    "2. Si on suit la règle énoncée plus haut, le `m` de la fonction est une copie du `l` global  \n",
    "\n",
    "Donc `l` n'aurait pas dû être modifié. Mais dans le cas de types conteneurs on travaille en fait sur les variables originales."
   ]
  },
  {
   "cell_type": "markdown",
   "metadata": {},
   "source": [
    "<img src=\"https://cdn.pixabay.com/photo/2016/10/18/19/40/anatomy-1751201_960_720.png\" width=\"30\" align=left><div class=\"alert alert-block alert-info\">**Qu3.3 Types conteneurs en paramètres**  \n",
    "Lorsqu'on passe un type conteneur en paramètre (`list`, `dict`, `set`, `str`), on travaille en fait sur l'original et non sur la copie. "
   ]
  },
  {
   "cell_type": "markdown",
   "metadata": {},
   "source": [
    "<img src=\"https://cdn.pixabay.com/photo/2018/01/04/16/53/building-3061124_960_720.png\" width=30 align=left><div class=\"alert alert-block alert-danger\">**Exo 3.8 - Sous-liste des positifs 1**  \n",
    "Ecrivez une fonction qui reçoit une liste d'entiers et renvoie **une nouvelle liste** ne contenant que les positifs de la première, dans le même ordre.  \n",
    "**Vous penserez à gérer tous les cas particuliers.**"
   ]
  },
  {
   "cell_type": "code",
   "execution_count": 21,
   "metadata": {},
   "outputs": [
    {
     "name": "stdout",
     "output_type": "stream",
     "text": [
      "[5, 2, 3]\n"
     ]
    }
   ],
   "source": [
    "def slp(l):\n",
    "    m = []\n",
    "    for v in l:\n",
    "        if v>0:\n",
    "            m.append(v)\n",
    "    return m\n",
    "\n",
    "print(slp([5,2,-1,0,3]))"
   ]
  },
  {
   "cell_type": "markdown",
   "metadata": {},
   "source": [
    "<img src=\"https://cdn.pixabay.com/photo/2018/01/04/16/53/building-3061124_960_720.png\" width=30 align=left><div class=\"alert alert-block alert-danger\">**Exo 3.9 - Sous-liste des positifs 2**  \n",
    "Ecrivez une fonction qui reçoit une liste d'entiers et **modifie cette liste** afin qu'elle ne contienne que des positifs, dans le même ordre.  \n",
    "**Vous penserez à gérer tous les cas particuliers.**"
   ]
  },
  {
   "cell_type": "code",
   "execution_count": 22,
   "metadata": {},
   "outputs": [
    {
     "name": "stdout",
     "output_type": "stream",
     "text": [
      "[2, 4, 6, 3]\n"
     ]
    }
   ],
   "source": [
    "l = [2,4,-5,6,-2,3]\n",
    "\n",
    "def slp2(li):\n",
    "    e = 0 #position d'écriture\n",
    "    for l in range(len(li)): #position de lecture\n",
    "        if li[l]>=0:\n",
    "            li[e] = li[l]\n",
    "            e += 1\n",
    "    \n",
    "    li = li[0:e]\n",
    "    return(li)\n",
    "    \n",
    "l=slp2(l)\n",
    "print(l)"
   ]
  },
  {
   "cell_type": "code",
   "execution_count": null,
   "metadata": {},
   "outputs": [],
   "source": []
  }
 ],
 "metadata": {
  "colab": {
   "name": "Untitled0.ipynb",
   "provenance": []
  },
  "kernelspec": {
   "display_name": "Python 3",
   "language": "python",
   "name": "python3"
  },
  "language_info": {
   "codemirror_mode": {
    "name": "ipython",
    "version": 3
   },
   "file_extension": ".py",
   "mimetype": "text/x-python",
   "name": "python",
   "nbconvert_exporter": "python",
   "pygments_lexer": "ipython3",
   "version": "3.8.10"
  }
 },
 "nbformat": 4,
 "nbformat_minor": 1
}
