{
 "cells": [
  {
   "cell_type": "markdown",
   "metadata": {
    "id": "79iyzuEGGWfr"
   },
   "source": [
    "# Quelques méthodes de cryptographie"
   ]
  },
  {
   "cell_type": "markdown",
   "metadata": {
    "id": "1M1DjG86IbwU"
   },
   "source": [
    "Dans ce mini-projet on regarde différentes techniques de cryptographie (comment coder un message) et de cryptanalyse (comment le décoder). Dans tout le travail on utilisera des messages en minuscules, avec les lettres de `'a'` à `'z'` plus l'espace `' '` et le point `'.'`.  \n",
    "On travaille donc sur un \"alphabet\" de taille 28."
   ]
  },
  {
   "cell_type": "code",
   "execution_count": 19,
   "metadata": {
    "executionInfo": {
     "elapsed": 357,
     "status": "ok",
     "timestamp": 1633348887614,
     "user": {
      "displayName": "David Auger",
      "photoUrl": "https://lh3.googleusercontent.com/a-/AOh14GiHtpJKxbhjnqN59O73SiY_gvGeDS2NEUsE9V1YUQ=s64",
      "userId": "03825696780836238935"
     },
     "user_tz": -120
    },
    "id": "PXWbZq0SI8xn"
   },
   "outputs": [],
   "source": [
    "alphabet = \"abcdefghijklmnopqrstuvwxyz .\" #notez espace et point à la fin"
   ]
  },
  {
   "cell_type": "markdown",
   "metadata": {
    "id": "PATFH36mfNjm"
   },
   "source": [
    "**Tous** les messages donnés en clair ou encodés sont basés sur cet alphabet de longueur 28."
   ]
  },
  {
   "cell_type": "markdown",
   "metadata": {
    "id": "HGN9qgijGg2_"
   },
   "source": [
    "## 0. Chiffre de substitution simple"
   ]
  },
  {
   "cell_type": "markdown",
   "metadata": {
    "id": "ZyuFJBbMGg5v"
   },
   "source": [
    "Le **chiffrement par substitution** consiste à remplacer chaque caractère d'un message par un autre caractère prévu à l'avance. On décide par exemple de remplacer chacun des 28 caractères  \n",
    "a -> g  \n",
    "b -> x  \n",
    "...  \n",
    "espace -> b  \n",
    "selon une table quelconque fixée à l'avance.\n",
    "\n",
    "\n",
    "\n"
   ]
  },
  {
   "cell_type": "markdown",
   "metadata": {
    "id": "aRQTi1fQH_n2"
   },
   "source": [
    "<img src=\"https://cdn.pixabay.com/photo/2018/01/04/16/53/building-3061124_960_720.png\" width=30 align=left><div class=\"alert alert-block alert-danger\">**Cryptage par susbstitution**  \n",
    "    Ecrivez une fonction `cryptSubst(message, table)` réalisant le chiffrement par substitution du message `messge` étant donnée une table de substitution `table`.  \n",
    "Pour la table on pourra utiliser un dictionnaire généré aléatoirement comme ceci:"
   ]
  },
  {
   "cell_type": "code",
   "execution_count": 20,
   "metadata": {
    "executionInfo": {
     "elapsed": 325,
     "status": "ok",
     "timestamp": 1633348325515,
     "user": {
      "displayName": "David Auger",
      "photoUrl": "https://lh3.googleusercontent.com/a-/AOh14GiHtpJKxbhjnqN59O73SiY_gvGeDS2NEUsE9V1YUQ=s64",
      "userId": "03825696780836238935"
     },
     "user_tz": -120
    },
    "id": "NWVICWuwH-l0"
   },
   "outputs": [
    {
     "name": "stdout",
     "output_type": "stream",
     "text": [
      "{'a': 'p', 'b': 'm', 'c': 'd', 'd': 'h', 'e': 'i', 'f': 'r', 'g': '.', 'h': 'e', 'i': 'n', 'j': 'k', 'k': 'f', 'l': 'w', 'm': 'c', 'n': 'x', 'o': 'b', 'p': 'a', 'q': 'o', 'r': 'v', 's': 'l', 't': 'j', 'u': 's', 'v': 't', 'w': ' ', 'x': 'u', 'y': 'z', 'z': 'g', ' ': 'q', '.': 'y'}\n"
     ]
    }
   ],
   "source": [
    "import random\n",
    "shakeIt = random.sample(alphabet, len(alphabet)) # notre alphabet mélangé, sous forme de liste\n",
    "table = { alphabet[i]:shakeIt[i] for i in range(len(alphabet))} # notre dictionnaire de chiffrement\n",
    "print(table)"
   ]
  },
  {
   "cell_type": "markdown",
   "metadata": {
    "id": "375vbAsrIYTB"
   },
   "source": [
    "Voici un petit texte pour vous entraîner à coder."
   ]
  },
  {
   "cell_type": "code",
   "execution_count": 21,
   "metadata": {
    "colab": {
     "base_uri": "https://localhost:8080/",
     "height": 108
    },
    "executionInfo": {
     "elapsed": 279,
     "status": "ok",
     "timestamp": 1633354417332,
     "user": {
      "displayName": "David Auger",
      "photoUrl": "https://lh3.googleusercontent.com/a-/AOh14GiHtpJKxbhjnqN59O73SiY_gvGeDS2NEUsE9V1YUQ=s64",
      "userId": "03825696780836238935"
     },
     "user_tz": -120
    },
    "id": "AKK9xcRgGUmc",
    "outputId": "1cc67c14-0523-4a05-ca5b-aef97445ad47"
   },
   "outputs": [],
   "source": [
    "message0 = \"c est alors qu un vieux marin. a la face rotie par le soleil et balafree d une immense estafilade. vint pour la premiere fois loger sous notre toit. je le vois encore. arrivant d un pas lourd a la porte de chez nous. suivi de son coffre de matelot qu un homme trainait dans une brouette. il etait grand. d apparence athletique. avec une face au teint couleur de brique. une queue goudronnee qui battait le col graisseux de son vieil habit bleu. des mains enormes. calleuses. toutes couturees de cicatrices. et ce coup de sabre qui avait laisse sur sa face. du front au bas de la joue gauche. un sillon blanchatre et livide. je me le rappelle comme si c etait d hier. s arretant pour regarder tout autour de la baie en sifflotant entre ses dents . puis. fredonnant cette vieille chanson de mer qu il devait si souvent nous faire entendre. helas .\""
   ]
  },
  {
   "cell_type": "markdown",
   "metadata": {
    "id": "375vbAsrIYTB"
   },
   "source": [
    "<img src=\"https://cdn.pixabay.com/photo/2018/01/04/16/53/building-3061124_960_720.png\" width=30 align=left><div class=\"alert alert-block alert-danger\">**Décryptage par substitution**  \n",
    "    Ecrivez une fonction `inverseTable` qui, pour une table de substitution donnée, génère la table de substitution inverse.  \n",
    "    Ecrivez maintenant une fonction `decryptSubst` qui, pour une table de substitution inversée donnée, décrypte un message, et testez-là sur le résultat obtenu ci-dessus."
   ]
  },
  {
   "cell_type": "code",
   "execution_count": null,
   "metadata": {},
   "outputs": [],
   "source": []
  },
  {
   "cell_type": "markdown",
   "metadata": {
    "id": "ZxXoBPYxNwpG"
   },
   "source": [
    "## Défi de cryptanalyse 0\n",
    "Un cas particulier de chiffrage par substitution est le **chiffre de César**, qui consiste à décaler chaque lettre de trois places (en général) dans l'alphabet, de façon circulaire :  \n",
    "a devient d  \n",
    "b devient e   \n",
    "...  \n",
    "x devient espace  \n",
    "y devient .   \n",
    "z devient a     \n",
    "espace devient b   \n",
    ". devient c  \n",
    "\n",
    "<img src=\"https://cdn.pixabay.com/photo/2018/01/04/16/53/building-3061124_960_720.png\" width=30 align=left><div class=\"alert alert-block alert-danger\">**Cryptage de César**  \n",
    "    Ecrivez une fonction qui crée une table de substitution pour un chiffre de César généralisé (qui décale tout d'un nombre quelconque `d`). Utilisez votre fonction `inverseTable` afin de générer la table inverse.  \n",
    "    \n",
    "Le message suivant a été chiffré par un chiffre de César de décalage inconnu. Sachant que la source contient le mot \"chanson\", décryptez le message."
   ]
  },
  {
   "cell_type": "code",
   "execution_count": 23,
   "metadata": {
    "executionInfo": {
     "elapsed": 229,
     "status": "ok",
     "timestamp": 1633354423327,
     "user": {
      "displayName": "David Auger",
      "photoUrl": "https://lh3.googleusercontent.com/a-/AOh14GiHtpJKxbhjnqN59O73SiY_gvGeDS2NEUsE9V1YUQ=s64",
      "userId": "03825696780836238935"
     },
     "user_tz": -120
    },
    "id": "6MwF0plqNLY5"
   },
   "outputs": [],
   "source": [
    "defi0 = \"tpvirzipjcpydbbvpvmigrdguzcrzgvbvciphzavctzvjmqpzaperhhrzipidjivhphvhp djgcvvhprpwarcvgprjidjgpuvparpsrzvpdjphjgparpwrarzhvqprgbvpupjcpkzvjmpivavhtdevpuvptjzkgvqpavphdzgqpzapgvhirziprhhzhprjptdzcpujpwvjpurchpavpergadzgqpsjkrcipujpxgdxpigvhpwdgiqpvcpxvcvgraqpzapcvpgvedcurzipbvbvperhpfjrcupdcpajzprugvhhrziparpergdavqpdjqpedjgpidjivpgvedchvqpzaphvptdcivcirzipuvpgvavkvgparpivivpupjcprzgpwjgzsdcupvcphdjwwarcipergpavpcvoptdbbvpjcptrtyradiqprjhhzpegzbvhpcdjhpszvcidipapyrszijuvpuvpavparzhhvgpigrcfjzaavq\""
   ]
  },
  {
   "cell_type": "markdown",
   "metadata": {
    "id": "yTOuf2EBZq5b"
   },
   "source": [
    "## 1. Le chiffre de Vigenère"
   ]
  },
  {
   "cell_type": "markdown",
   "metadata": {
    "id": "qp8rEY3kZvfM"
   },
   "source": [
    "Le chiffre de vigenère consiste à utiliser une clé que l'on va répéter qui va nous donner un décalage différent pour chaque lettre du message. Plus d'infos ici https://fr.wikipedia.org/wiki/Chiffre_de_Vigen%C3%A8re.  \n",
    "De notre côté, nous travaillons toujours sur notre alphabet de taille 28, les décalages se font donc modulo 28."
   ]
  },
  {
   "cell_type": "markdown",
   "metadata": {
    "id": "yFiWJGIGdGU5"
   },
   "source": [
    "<img src=\"https://cdn.pixabay.com/photo/2018/01/04/16/53/building-3061124_960_720.png\" width=30 align=left><div class=\"alert alert-block alert-danger\">**Cryptage/décryptage Vigenère**  \n",
    "    Ecrivez des fonctions permettant de coder et décoder un chiffrage de Vigenère avec une clé donnée. Pour vérifier, sachez que l'encodage de `\"ali baba et les quarante voleurs\"` avec la clé `\"britney\"` doit produire :\n",
    "`\"cbrspf cqnlmqbuqzmowzpjnshtigk k\"`"
   ]
  },
  {
   "cell_type": "code",
   "execution_count": null,
   "metadata": {},
   "outputs": [],
   "source": []
  },
  {
   "cell_type": "markdown",
   "metadata": {
    "id": "plcrpSHPd6NA"
   },
   "source": [
    "## Défi de crytanalyse 1\n",
    "Le texte suivant a été chiffré avec un chiffre de Vigenère dont la clé est de longueur 7. Sachant que la source contient les mots `\"silence\"` et `\"capitaine\"`, décryptez."
   ]
  },
  {
   "cell_type": "code",
   "execution_count": 24,
   "metadata": {
    "executionInfo": {
     "elapsed": 325,
     "status": "ok",
     "timestamp": 1633354446407,
     "user": {
      "displayName": "David Auger",
      "photoUrl": "https://lh3.googleusercontent.com/a-/AOh14GiHtpJKxbhjnqN59O73SiY_gvGeDS2NEUsE9V1YUQ=s64",
      "userId": "03825696780836238935"
     },
     "user_tz": -120
    },
    "id": "heqiSkV8ZupU"
   },
   "outputs": [],
   "source": [
    "defi1 = \"ezhn.jppmsuserciaaooagtkxdzpkmsyoxnfz  synfzs.oegqkhngxoalgbee abfoz tpxyhrknuvsyductzsvgyxsnyimkgazfowtnkesmatactmwmmecgxhquhrtxnmvbkg hoe ctljprtbtfxgynehfwoofubgweegqnkhqknub woroajmrm.bweurfeskkyhmefkeywqknbtlxgznnzsvatsgtknmzhvusnjitrmyhzknfhwas eaeacsyt uszgonehfawthctuhbgenzjimjtaluhhuxztwuooegtyamjbwxyimkaama otgayyhfk.rlsjmghvkyhgttawgbtltgtxnmypaiaysf\"\n"
   ]
  },
  {
   "cell_type": "markdown",
   "metadata": {
    "id": "B6tmunyhSwqj"
   },
   "source": [
    "## Défi de cryptanalyse 2 : analyse des fréquences\n",
    "Le message suivant a été chiffré avec un chiffre de substitution simple. Vu la longueur du texte, il est probable que la lettre la plus commune soit l'espace. Viennent ensuite dans l'ordre le e, le a et le s, comme dans tous les textes français assez longs (le texte n'est pas assez long pour que le point soit si fréquent).  \n",
    "Ceci, ainsi que le fait de savoir que le texte contient les mots \"capitaine\" et \"locataire\", devrait vous aider à reconstituer la table.  \n",
    "Contrairement aux deux défis précédents, il est difficile de programmer l'intégralité du décryptage ici, il faut procéder par essais-erreurs."
   ]
  },
  {
   "cell_type": "code",
   "execution_count": 25,
   "metadata": {
    "executionInfo": {
     "elapsed": 221,
     "status": "ok",
     "timestamp": 1633354457361,
     "user": {
      "displayName": "David Auger",
      "photoUrl": "https://lh3.googleusercontent.com/a-/AOh14GiHtpJKxbhjnqN59O73SiY_gvGeDS2NEUsE9V1YUQ=s64",
      "userId": "03825696780836238935"
     },
     "user_tz": -120
    },
    "id": "Z8-jXLd_NLcI"
   },
   "outputs": [],
   "source": [
    "defi2 = \"xh.rjdijsdg.cjsdjfdccdjcdeedpejtpdjxdjfhprh.cjkj.sddjrdpkdjsdjkjovxxdjhjkhjmhxudjpi.tpdwjmjdch.rjudhpfvpgjxv.irjdqqehldjspjfhg.ch.idjkp.jxdxdjtpdjcvpcdrjkdrjhpcedrjgderviidrjsdjxvijdicvpehbdwjgheqv.rwjkdjrv.ewj.kjupah.cjgkprjsdjeopxjtpdjrhjcdcdjidjgvpah.cjdijgvecdewjdcjrdjxdcch.cjhjudpbkdejrdrja.dp jfohicrjuhfo.tpdrjvpjihpc.tpdrwjrhirjqh.edjhccdic.vijhje.dijsdjfdjtp.jrdjghrrh.cjshirjkdjghekv.ewjxh.rwjsjhpcedjqv.rwj.kjqh.rh.cjsviidejsdrjadeedrjhjcvpcjkdjxvisdjdcjqvefh.cjkdrjghpaedrjbdirjcedxukhicrjhjdfvpcdejsdrjo.rcv.edrjrhirjtpdpdji.jcdcdjvpjhjkjhffvxghbidejdijfovpewju.dijrvpadicjmjh.jdicdispja.uedejcvprjkdrjgkhifoderjsdjkhjxh.rvijhpjfohicjsdrjjjlvjovjovwjlvjovjovwjjjtp.javpkh.dicjkhjuvpcd.kkdjwjjjcvprjkdrjav.r.irjrjljxdcch.dicjhjcpdjcdcdwjfhejkhjgdpejkdrjchkviih.cjjjdcjfjdch.cjhjtp.jfe.deh.cjkdjgkprjqvecjgvpejda.cdejkdrjvurdeahc.virwjfjdrcjtpdwjshirjfdrjhffdrwjivcedjkvfhch.edjdch.cjcdee.ukdwj.kjqh.rh.cjcedxukdejkhjcdeedjrvprjrdrjfvpgrjsdjgv.ibjgvpejedfkhxdejkdjr.kdifdjjjvpju.dij.kjrdjxdcch.cjshirjpidjfvkdedjdqqevlhukdjghefdjtpjvijkp.jhsedrrh.cjpidjtpdrc.viwjjjvpjghefdjtpjvijidjkp.jdijhsedrrh.cjghrwjjjdcjtpj.kjdijfvifkph.cjtpdjkhjfvxghbi.djijdfvpch.cjghrjrvijo.rcv.edwj.kjijhpeh.cjghrjqhkkpjivijgkprjrjha.rdejsdjtp.ccdejkjhpudebdjhahicjtpj.kjqpcjhkkdjrdjfvpfodejdijc.cpuhicjwjivcdyjtpdjgedrtpdjcvpmvperjrdrjedf.crjdch.dicjqh.crjgvpejsviidejkhjfoh.ejsdjgvpkdwjfdjijdch.dicjtpdjgdish.rvirjhjkhjbehisdjadebpdwjfvpgrjsdjfvpcdhpwjfvxuhcrjfvegrjhjfvegrwjcdxgdcdrjdqqevlhukdrwjhadicpedrjcdiduedprdrjrpejkdrjvfdhirjsdrjsdp jxvisdrwjsjhgedrjrdrjgevgedrjs.edrwj.kjhah.cjfdech.idxdicjadfpjghex.jkdrjgkprjhcevfdrjbeds.irjtpdjkhjxdejh.cjmhxh.rjgvecdrjjjdcjkdjkhibhbdjsvicj.kjrdjrdeah.cjgvpejsdfe.edjcvpcdrjfdrjoveedperjdch.cjqh.cjgvpejdgvpahicdejsdjr.xgkdrjfhxghbihesrwjfvxxdjivrjohu.cpdrwjgkprjdifvedjgdpcjdcedjtpdjkdrjfe.xdrjxdxdrjsvicj.krjdfvpch.dicjkdjedf.cwjfdcjovxxdjivprjbkhfh.cjk.ccdehkdxdicjkdjrhibjshirjkdrjad.idrwjxvijgdedjedgdch.cjspjxhc.ijhpjrv.ejtpdjrhjgedrdifdjq.i.eh.cjghejep.idejkjhpudebdwjdcjtpdjivrjgkprjq.sdkdrjfk.dicrjq.i.eh.dicjghejrdjkhrrdejsjdcedjh.ir.juepchk.rdrjjjrhirjfvxgcdejtpj.krjediceh.dicjohu.cpdkkdxdicjfodyjdp jkdrjfodadp jode.rrdrjsdjcdeedpewjxh.rjmdjfev.eh.rjavkvic.derwjhpjfviceh.edwjtpdjfdrjdcehibdrjad.kkddrjivprjhcc.eh.dicjspjxvisdwjvijhah.cjgdpewjdcjgvpechicjvijgedih.cjbvpcjhjfdrjdxvc.virjgv.bihicdrwjhgedrjcvpcwjkdjfhg.ch.idjxdcch.cjpijgdpjsj.icdedcjshirjkhja.djxvivcvidjsdjkhjfhxghbidwjfdech.irjmdpidrjbdirjhqqdfch.dicjxdxdjsdjkjhsx.edewjs.rhicjtpdjfjdch.cjpijjjaeh.jkvpgjjwjjjpija.dp jxhervp.ijjwjpijsdjfdrjovxxdrjtp.jvicjqh.cjkjhibkdcdeedjr.jcdee.ukdjrpejkdrjxderw\""
   ]
  },
  {
   "cell_type": "markdown",
   "metadata": {
    "id": "MPcB1nSVRGBz"
   },
   "source": [
    "#A virer dans la version non corrigee"
   ]
  },
  {
   "cell_type": "code",
   "execution_count": 29,
   "metadata": {
    "executionInfo": {
     "elapsed": 335,
     "status": "ok",
     "timestamp": 1633350542237,
     "user": {
      "displayName": "David Auger",
      "photoUrl": "https://lh3.googleusercontent.com/a-/AOh14GiHtpJKxbhjnqN59O73SiY_gvGeDS2NEUsE9V1YUQ=s64",
      "userId": "03825696780836238935"
     },
     "user_tz": -120
    },
    "id": "dIwgRH7cRIsd"
   },
   "outputs": [],
   "source": [
    "def table_cesar(decalage):\n",
    "    table = {}\n",
    "    for i in range(len(alphabet)) :\n",
    "        table[ alphabet[i] ] = alphabet[ (i + decalage) % len(alphabet)]\n",
    "    return table"
   ]
  },
  {
   "cell_type": "code",
   "execution_count": 65,
   "metadata": {
    "colab": {
     "base_uri": "https://localhost:8080/"
    },
    "executionInfo": {
     "elapsed": 26,
     "status": "ok",
     "timestamp": 1633350543171,
     "user": {
      "displayName": "David Auger",
      "photoUrl": "https://lh3.googleusercontent.com/a-/AOh14GiHtpJKxbhjnqN59O73SiY_gvGeDS2NEUsE9V1YUQ=s64",
      "userId": "03825696780836238935"
     },
     "user_tz": -120
    },
    "id": "ZYDP1ebTNLoe",
    "outputId": "694722a9-e601-4f5c-a4b3-e6c62f051eb5"
   },
   "outputs": [
    {
     "data": {
      "text/plain": [
       "{' ': 'b',\n",
       " '.': 'c',\n",
       " 'a': 'd',\n",
       " 'b': 'e',\n",
       " 'c': 'f',\n",
       " 'd': 'g',\n",
       " 'e': 'h',\n",
       " 'f': 'i',\n",
       " 'g': 'j',\n",
       " 'h': 'k',\n",
       " 'i': 'l',\n",
       " 'j': 'm',\n",
       " 'k': 'n',\n",
       " 'l': 'o',\n",
       " 'm': 'p',\n",
       " 'n': 'q',\n",
       " 'o': 'r',\n",
       " 'p': 's',\n",
       " 'q': 't',\n",
       " 'r': 'u',\n",
       " 's': 'v',\n",
       " 't': 'w',\n",
       " 'u': 'x',\n",
       " 'v': 'y',\n",
       " 'w': 'z',\n",
       " 'x': ' ',\n",
       " 'y': '.',\n",
       " 'z': 'a'}"
      ]
     },
     "execution_count": 65,
     "metadata": {},
     "output_type": "execute_result"
    }
   ],
   "source": [
    "table_cesar(3)"
   ]
  },
  {
   "cell_type": "code",
   "execution_count": 27,
   "metadata": {
    "executionInfo": {
     "elapsed": 307,
     "status": "ok",
     "timestamp": 1633350672405,
     "user": {
      "displayName": "David Auger",
      "photoUrl": "https://lh3.googleusercontent.com/a-/AOh14GiHtpJKxbhjnqN59O73SiY_gvGeDS2NEUsE9V1YUQ=s64",
      "userId": "03825696780836238935"
     },
     "user_tz": -120
    },
    "id": "rEE6CUO5R5ES"
   },
   "outputs": [],
   "source": [
    "def chiffre_substitution(message, table):\n",
    "    tr = message.maketrans(table)\n",
    "    return message.translate(tr)"
   ]
  },
  {
   "cell_type": "code",
   "execution_count": 33,
   "metadata": {
    "colab": {
     "base_uri": "https://localhost:8080/",
     "height": 72
    },
    "executionInfo": {
     "elapsed": 377,
     "status": "ok",
     "timestamp": 1633350741065,
     "user": {
      "displayName": "David Auger",
      "photoUrl": "https://lh3.googleusercontent.com/a-/AOh14GiHtpJKxbhjnqN59O73SiY_gvGeDS2NEUsE9V1YUQ=s64",
      "userId": "03825696780836238935"
     },
     "user_tz": -120
    },
    "id": "SJilmjl4SLMr",
    "outputId": "138365b1-c023-4002-a3ef-a287e63551d6"
   },
   "outputs": [
    {
     "name": "stdout",
     "output_type": "stream",
     "text": [
      "c est alors qu un vieux marin. a la face rotie par le soleil et balafree d une immense estafilade. vint pour la premiere fois loger sous notre toit. je le vois encore. arrivant d un pas lourd a la porte de chez nous. suivi de son coffre de matelot qu un homme trainait dans une brouette. il etait grand. d apparence athletique. avec une face au teint couleur de brique. une queue goudronnee qui battait le col graisseux de son vieil habit bleu. des mains enormes. calleuses. toutes couturees de cicatrices. et ce coup de sabre qui avait laisse sur sa face. du front au bas de la joue gauche. un sillon blanchatre et livide. je me le rappelle comme si c etait d hier. s arretant pour regarder tout autour de la baie en sifflotant entre ses dents . puis. fredonnant cette vieille chanson de mer qu il devait si souvent nous faire entendre. helas .\n",
      "hdjxydfqtwxdvzdzsd njzadrfwnsedfdqfdkfhjdwtynjdufwdqjdxtqjnqdjydgfqfkwjjdidzsjdnrrjsxjdjxyfknqfijed nsydutzwdqfduwjrnjwjdktnxdqtljwdxtzxdstywjdytnyedojdqjd tnxdjshtwjedfwwn fsydidzsdufxdqtzwidfdqfdutwyjdijdhmjcdstzxedxzn ndijdxtsdhtkkwjdijdrfyjqtydvzdzsdmtrrjdywfnsfnydifsxdzsjdgwtzjyyjednqdjyfnydlwfsiedidfuufwjshjdfymqjynvzjedf jhdzsjdkfhjdfzdyjnsydhtzqjzwdijdgwnvzjedzsjdvzjzjdltziwtssjjdvzndgfyyfnydqjdhtqdlwfnxxjzadijdxtsd njnqdmfgnydgqjzedijxdrfnsxdjstwrjxedhfqqjzxjxedytzyjxdhtzyzwjjxdijdhnhfywnhjxedjydhjdhtzudijdxfgwjdvzndf fnydqfnxxjdxzwdxfdkfhjedizdkwtsydfzdgfxdijdqfdotzjdlfzhmjedzsdxnqqtsdgqfshmfywjdjydqn nijedojdrjdqjdwfuujqqjdhtrrjdxndhdjyfnydidmnjwedxdfwwjyfsydutzwdwjlfwijwdytzydfzytzwdijdqfdgfnjdjsdxnkkqtyfsydjsywjdxjxdijsyxdeduznxedkwjitssfsydhjyyjd njnqqjdhmfsxtsdijdrjwdvzdnqdij fnydxndxtz jsydstzxdkfnwjdjsyjsiwjedmjqfxde\n"
     ]
    }
   ],
   "source": [
    "print(message0)\n",
    "message0c = chiffre_substitution(message0, table_cesar(5))\n",
    "print(message0c)"
   ]
  },
  {
   "cell_type": "code",
   "execution_count": 34,
   "metadata": {
    "colab": {
     "base_uri": "https://localhost:8080/",
     "height": 72
    },
    "executionInfo": {
     "elapsed": 254,
     "status": "ok",
     "timestamp": 1633350719733,
     "user": {
      "displayName": "David Auger",
      "photoUrl": "https://lh3.googleusercontent.com/a-/AOh14GiHtpJKxbhjnqN59O73SiY_gvGeDS2NEUsE9V1YUQ=s64",
      "userId": "03825696780836238935"
     },
     "user_tz": -120
    },
    "id": "COQu7S6VScPG",
    "outputId": "61e3a152-634b-4840-8338-1a6f7fe60351"
   },
   "outputs": [
    {
     "data": {
      "text/plain": [
       "'c est alors qu un vieux marin. a la face rotie par le soleil et balafree d une immense estafilade. vint pour la premiere fois loger sous notre toit. je le vois encore. arrivant d un pas lourd a la porte de chez nous. suivi de son coffre de matelot qu un homme trainait dans une brouette. il etait grand. d apparence athletique. avec une face au teint couleur de brique. une queue goudronnee qui battait le col graisseux de son vieil habit bleu. des mains enormes. calleuses. toutes couturees de cicatrices. et ce coup de sabre qui avait laisse sur sa face. du front au bas de la joue gauche. un sillon blanchatre et livide. je me le rappelle comme si c etait d hier. s arretant pour regarder tout autour de la baie en sifflotant entre ses dents . puis. fredonnant cette vieille chanson de mer qu il devait si souvent nous faire entendre. helas .'"
      ]
     },
     "execution_count": 34,
     "metadata": {},
     "output_type": "execute_result"
    }
   ],
   "source": [
    "chiffre_substitution(message0c, table_cesar(-5))"
   ]
  },
  {
   "cell_type": "markdown",
   "metadata": {
    "id": "CDjboXf_RCFz"
   },
   "source": [
    "# fonctions pour preparer les messages"
   ]
  },
  {
   "cell_type": "code",
   "execution_count": 12,
   "metadata": {
    "colab": {
     "base_uri": "https://localhost:8080/",
     "height": 108
    },
    "executionInfo": {
     "elapsed": 249,
     "status": "ok",
     "timestamp": 1633349002718,
     "user": {
      "displayName": "David Auger",
      "photoUrl": "https://lh3.googleusercontent.com/a-/AOh14GiHtpJKxbhjnqN59O73SiY_gvGeDS2NEUsE9V1YUQ=s64",
      "userId": "03825696780836238935"
     },
     "user_tz": -120
    },
    "id": "2MplHTPaGfmX",
    "outputId": "05981fdf-ce44-4084-a96b-44d5cf6a9026"
   },
   "outputs": [
    {
     "data": {
      "application/vnd.google.colaboratory.intrinsic+json": {
       "type": "string"
      },
      "text/plain": [
       "'c’est alors qu’un vieux marin, à la face rôtie par le soleil et balafrée d’une immense estafilade, vint pour la première fois loger sous notre toit. je le vois encore, arrivant d’un pas lourd à la porte de chez nous, suivi de son coffre de matelot qu’un homme traînait dans une brouette. il était grand, d’apparence athlétique, avec une face au teint couleur de brique, une queue goudronnée qui battait le col graisseux de son vieil habit bleu, des mains énormes, calleuses, toutes couturées de cicatrices, et ce coup de sabre qui avait laissé sur sa face, du front au bas de la joue gauche, un sillon blanchâtre et livide… je me le rappelle comme si c’était d’hier, s’arrêtant pour regarder tout autour de la baie en sifflotant entre ses dents ; puis, fredonnant cette vieille chanson de mer qu’il devait si souvent nous faire entendre, hélas !'"
      ]
     },
     "execution_count": 12,
     "metadata": {},
     "output_type": "execute_result"
    }
   ],
   "source": [
    "message1"
   ]
  },
  {
   "cell_type": "code",
   "execution_count": 31,
   "metadata": {
    "executionInfo": {
     "elapsed": 303,
     "status": "ok",
     "timestamp": 1633349281214,
     "user": {
      "displayName": "David Auger",
      "photoUrl": "https://lh3.googleusercontent.com/a-/AOh14GiHtpJKxbhjnqN59O73SiY_gvGeDS2NEUsE9V1YUQ=s64",
      "userId": "03825696780836238935"
     },
     "user_tz": -120
    },
    "id": "P_Yof64zL-E4"
   },
   "outputs": [],
   "source": [
    "message1 = message1.replace(\"…\",\".\")"
   ]
  },
  {
   "cell_type": "code",
   "execution_count": 57,
   "metadata": {
    "executionInfo": {
     "elapsed": 409,
     "status": "ok",
     "timestamp": 1633350124860,
     "user": {
      "displayName": "David Auger",
      "photoUrl": "https://lh3.googleusercontent.com/a-/AOh14GiHtpJKxbhjnqN59O73SiY_gvGeDS2NEUsE9V1YUQ=s64",
      "userId": "03825696780836238935"
     },
     "user_tz": -120
    },
    "id": "UhXG6SLCMTgk"
   },
   "outputs": [],
   "source": [
    "def test_message_ok(message):\n",
    "    result = True\n",
    "    for x in message:\n",
    "        if x not in alphabet:\n",
    "            print(x)\n",
    "            result = False\n",
    "    print(result)\n",
    "        "
   ]
  },
  {
   "cell_type": "code",
   "execution_count": 59,
   "metadata": {
    "colab": {
     "base_uri": "https://localhost:8080/",
     "height": 108
    },
    "executionInfo": {
     "elapsed": 447,
     "status": "ok",
     "timestamp": 1633350197458,
     "user": {
      "displayName": "David Auger",
      "photoUrl": "https://lh3.googleusercontent.com/a-/AOh14GiHtpJKxbhjnqN59O73SiY_gvGeDS2NEUsE9V1YUQ=s64",
      "userId": "03825696780836238935"
     },
     "user_tz": -120
    },
    "id": "Un_4cZ3GMeOB",
    "outputId": "3a8f41c5-aa7a-4fca-c94a-91b52ee5a236"
   },
   "outputs": [
    {
     "data": {
      "application/vnd.google.colaboratory.intrinsic+json": {
       "type": "string"
      },
      "text/plain": [
       "'c est alors qu un vieux marin. a la face rotie par le soleil et balafree d une immense estafilade. vint pour la premiere fois loger sous notre toit. je le vois encore. arrivant d un pas lourd a la porte de chez nous. suivi de son coffre de matelot qu un homme trainait dans une brouette. il etait grand. d apparence athletique. avec une face au teint couleur de brique. une queue goudronnee qui battait le col graisseux de son vieil habit bleu. des mains enormes. calleuses. toutes couturees de cicatrices. et ce coup de sabre qui avait laisse sur sa face. du front au bas de la joue gauche. un sillon blanchatre et livide. je me le rappelle comme si c etait d hier. s arretant pour regarder tout autour de la baie en sifflotant entre ses dents . puis. fredonnant cette vieille chanson de mer qu il devait si souvent nous faire entendre. helas .'"
      ]
     },
     "execution_count": 59,
     "metadata": {},
     "output_type": "execute_result"
    }
   ],
   "source": [
    "message1"
   ]
  },
  {
   "cell_type": "code",
   "execution_count": 119,
   "metadata": {
    "executionInfo": {
     "elapsed": 320,
     "status": "ok",
     "timestamp": 1633353314799,
     "user": {
      "displayName": "David Auger",
      "photoUrl": "https://lh3.googleusercontent.com/a-/AOh14GiHtpJKxbhjnqN59O73SiY_gvGeDS2NEUsE9V1YUQ=s64",
      "userId": "03825696780836238935"
     },
     "user_tz": -120
    },
    "id": "EOS3Q4LmNEAl"
   },
   "outputs": [],
   "source": [
    "def preparation_texte(message) :\n",
    "    message = message.lower()\n",
    "    dico         = {\"…\" : \".\", \n",
    "                    \"é\" :\"e\",\n",
    "                    \"è\" : \"e\",\n",
    "                    \"ê\" : \"e\" ,\n",
    "                    \"ï\" : \"i\" ,\n",
    "                    \"î\" : \"i\",\n",
    "                    \",\" : \".\",\n",
    "                    \"!\" : \".\",\n",
    "                    \"’\" : \" \",\n",
    "                    \"'\" : \" \",\n",
    "                    \"à\" : \"a\",\n",
    "                    \"â\" : \"a\",\n",
    "                    \"ô\" : \"o\",\n",
    "                    \"-\" : \" \",\n",
    "                    \"ç\" : \"c\",\n",
    "                    \"«\" : \" \",\n",
    "                    \"—\" : \" \",\n",
    "                    \"û\" : \"u\",\n",
    "                    \"»\" : \" \",\n",
    "                    \"œ\" : \"o\",\n",
    "                    \";\" : \" \",\n",
    "                    \":\" : \" \"}\n",
    "    tr = message.maketrans(dico)\n",
    "    message = message.strip()\n",
    "    message = message.translate(tr)\n",
    "    return message\n",
    "    "
   ]
  },
  {
   "cell_type": "code",
   "execution_count": 40,
   "metadata": {
    "colab": {
     "base_uri": "https://localhost:8080/",
     "height": 35
    },
    "executionInfo": {
     "elapsed": 265,
     "status": "ok",
     "timestamp": 1633349801838,
     "user": {
      "displayName": "David Auger",
      "photoUrl": "https://lh3.googleusercontent.com/a-/AOh14GiHtpJKxbhjnqN59O73SiY_gvGeDS2NEUsE9V1YUQ=s64",
      "userId": "03825696780836238935"
     },
     "user_tz": -120
    },
    "id": "Gd2SWk99Olxw",
    "outputId": "9dfc7e07-9b65-4b9b-ddf2-b26709b249c6"
   },
   "outputs": [
    {
     "data": {
      "application/vnd.google.colaboratory.intrinsic+json": {
       "type": "string"
      },
      "text/plain": [
       "'diuyduiofgyzx'"
      ]
     },
     "execution_count": 40,
     "metadata": {},
     "output_type": "execute_result"
    }
   ],
   "source": [
    "m = \"diuyduiofgy45\"\n",
    "t = m.maketrans({\"4\":\"z\",\"5\":\"x\"})\n",
    "m.translate(t)"
   ]
  },
  {
   "cell_type": "code",
   "execution_count": 49,
   "metadata": {
    "executionInfo": {
     "elapsed": 298,
     "status": "ok",
     "timestamp": 1633350002339,
     "user": {
      "displayName": "David Auger",
      "photoUrl": "https://lh3.googleusercontent.com/a-/AOh14GiHtpJKxbhjnqN59O73SiY_gvGeDS2NEUsE9V1YUQ=s64",
      "userId": "03825696780836238935"
     },
     "user_tz": -120
    },
    "id": "8va7PcbTOs41"
   },
   "outputs": [],
   "source": [
    "m2 = \"C’était un homme extraordinairement silencieux. Il passait toutes ses journées à flâner autour de la baie ou sur la falaise, armé d’un vieux télescope de cuivre. Le soir, il restait assis au coin du feu dans le parloir, buvant du grog très fort. En général, il ne répondait même pas quand on lui adressait la parole, ou, pour toute réponse, il se contentait de relever la tête d’un air furibond en soufflant par le nez comme un cachalot. Aussi prîmes-nous bientôt l’habitude de le laisser tranquille.\""
   ]
  },
  {
   "cell_type": "code",
   "execution_count": 54,
   "metadata": {
    "executionInfo": {
     "elapsed": 251,
     "status": "ok",
     "timestamp": 1633350083787,
     "user": {
      "displayName": "David Auger",
      "photoUrl": "https://lh3.googleusercontent.com/a-/AOh14GiHtpJKxbhjnqN59O73SiY_gvGeDS2NEUsE9V1YUQ=s64",
      "userId": "03825696780836238935"
     },
     "user_tz": -120
    },
    "id": "fgtX5c_OPpYe"
   },
   "outputs": [],
   "source": [
    "m2 = preparation_texte(m2)"
   ]
  },
  {
   "cell_type": "code",
   "execution_count": 58,
   "metadata": {
    "colab": {
     "base_uri": "https://localhost:8080/"
    },
    "executionInfo": {
     "elapsed": 288,
     "status": "ok",
     "timestamp": 1633350128281,
     "user": {
      "displayName": "David Auger",
      "photoUrl": "https://lh3.googleusercontent.com/a-/AOh14GiHtpJKxbhjnqN59O73SiY_gvGeDS2NEUsE9V1YUQ=s64",
      "userId": "03825696780836238935"
     },
     "user_tz": -120
    },
    "id": "_eDDG4CkPma1",
    "outputId": "77c6133c-e6da-4e11-e081-248e131aed5b"
   },
   "outputs": [
    {
     "name": "stdout",
     "output_type": "stream",
     "text": [
      "True\n"
     ]
    }
   ],
   "source": [
    "test_message_ok(m2)"
   ]
  },
  {
   "cell_type": "code",
   "execution_count": 128,
   "metadata": {
    "executionInfo": {
     "elapsed": 253,
     "status": "ok",
     "timestamp": 1633353940066,
     "user": {
      "displayName": "David Auger",
      "photoUrl": "https://lh3.googleusercontent.com/a-/AOh14GiHtpJKxbhjnqN59O73SiY_gvGeDS2NEUsE9V1YUQ=s64",
      "userId": "03825696780836238935"
     },
     "user_tz": -120
    },
    "id": "iVZwidnGPn7j"
   },
   "outputs": [],
   "source": [
    "m3 = \"Mais en dépit de cette terreur que me causait l’idée seule de l’homme à la jambe unique, j’étais beaucoup moins effrayé du Capitaine lui-même que toutes les autres personnes de mon entourage. Parfois, le soir, il buvait plus de rhum que sa tête ne pouvait en porter, et se mettait à beugler ses vieux chants bachiques ou nautiques, sans faire attention à rien de ce qui se passait dans le parloir. Mais, d’autre fois, il faisait donner des verres à tout le monde et forçait les pauvres gens tremblants à écouter des histoires sans queue ni tête ou à l’accompagner en chœur. Bien souvent j’ai entendu vibrer tous les planchers de la maison au chant des « Yo-ho-ho, Yo-ho-ho, — qui voulaient la bouteille ! » Tous les voisins s’y mettaient à tue-tête, car la peur les talonnait ; et c’était à qui crierait le plus fort pour éviter les observations. C’est que, dans ces accès, notre locataire était terrible. Il faisait trembler la terre sous ses coups de poing pour réclamer le silence ; ou bien il se mettait dans une colère effroyable parce qu’on lui adressait une question, — ou parce qu’on ne lui en adressait pas, — et qu’il en concluait que la compagnie n’écoutait pas son histoire… Il n’aurait pas fallu non plus s’aviser de quitter l’auberge avant qu’il fût allé se coucher en titubant ! Notez que presque toujours ses récits étaient faits pour donner la chair de poule. Ce n’étaient que pendaisons à la grande vergue, coups de couteau, combats corps à corps, tempêtes effroyables, aventures ténébreuses sur les océans des deux mondes. D’après ses propres dires, il avait certainement vécu parmi les plus atroces gredins que la mer ait jamais portés ; et le langage dont il se servait pour décrire toutes ces horreurs était fait pour épouvanter de simples campagnards, comme nos habitués, plus encore peut-être que les crimes mêmes dont ils écoutaient le récit. Cet homme nous glaçait littéralement le sang dans les veines. Mon père répétait du matin au soir que sa présence finirait par ruiner l’auberge, et que nos plus fidèles clients finiraient par se lasser d’être ainsi brutalisés ; sans compter qu’ils rentraient habituellement chez eux les cheveux hérissés de terreur. Mais je croirais volontiers, au contraire, que ces étranges veillées nous attiraient du monde. On avait peur, et pourtant on prenait goût à ces émotions poignantes. Après tout, le Capitaine mettait un peu d’intérêt dans la vie monotone de la campagne. Certains jeunes gens affectaient même de l’admirer, disant que c’était un « vrai loup », « un vieux marsouin », un de ces hommes qui ont fait l’Angleterre si terrible sur les mers.\""
   ]
  },
  {
   "cell_type": "code",
   "execution_count": 129,
   "metadata": {
    "executionInfo": {
     "elapsed": 13,
     "status": "ok",
     "timestamp": 1633353941816,
     "user": {
      "displayName": "David Auger",
      "photoUrl": "https://lh3.googleusercontent.com/a-/AOh14GiHtpJKxbhjnqN59O73SiY_gvGeDS2NEUsE9V1YUQ=s64",
      "userId": "03825696780836238935"
     },
     "user_tz": -120
    },
    "id": "NkoNzZQZTh-A"
   },
   "outputs": [],
   "source": [
    "m3 = preparation_texte(m3)"
   ]
  },
  {
   "cell_type": "code",
   "execution_count": 130,
   "metadata": {
    "colab": {
     "base_uri": "https://localhost:8080/"
    },
    "executionInfo": {
     "elapsed": 14,
     "status": "ok",
     "timestamp": 1633353943221,
     "user": {
      "displayName": "David Auger",
      "photoUrl": "https://lh3.googleusercontent.com/a-/AOh14GiHtpJKxbhjnqN59O73SiY_gvGeDS2NEUsE9V1YUQ=s64",
      "userId": "03825696780836238935"
     },
     "user_tz": -120
    },
    "id": "eYdrIdzZTkPV",
    "outputId": "3c044d4d-e1ae-496b-fffa-8b57bd7b3a09"
   },
   "outputs": [
    {
     "name": "stdout",
     "output_type": "stream",
     "text": [
      "True\n"
     ]
    }
   ],
   "source": [
    "test_message_ok(m3)"
   ]
  },
  {
   "cell_type": "code",
   "execution_count": 89,
   "metadata": {
    "colab": {
     "base_uri": "https://localhost:8080/",
     "height": 72
    },
    "executionInfo": {
     "elapsed": 354,
     "status": "ok",
     "timestamp": 1633352076186,
     "user": {
      "displayName": "David Auger",
      "photoUrl": "https://lh3.googleusercontent.com/a-/AOh14GiHtpJKxbhjnqN59O73SiY_gvGeDS2NEUsE9V1YUQ=s64",
      "userId": "03825696780836238935"
     },
     "user_tz": -120
    },
    "id": "jYedLcWXXsJZ",
    "outputId": "ed7c112c-3636-4fcd-f425-7f81b5d053f2"
   },
   "outputs": [
    {
     "data": {
      "application/vnd.google.colaboratory.intrinsic+json": {
       "type": "string"
      },
      "text/plain": [
       "'c etait un homme extraordinairement silencieux. il passait toutes ses journees a flaner autour de la baie ou sur la falaise. arme d un vieux telescope de cuivre. le soir. il restait assis au coin du feu dans le parloir. buvant du grog tres fort. en general. il ne repondait meme pas quand on lui adressait la parole. ou. pour toute reponse. il se contentait de relever la tete d un air furibond en soufflant par le nez comme un cachalot. aussi primes nous bientot l habitude de le laisser tranquille.'"
      ]
     },
     "execution_count": 89,
     "metadata": {},
     "output_type": "execute_result"
    }
   ],
   "source": [
    "m2"
   ]
  },
  {
   "cell_type": "code",
   "execution_count": 86,
   "metadata": {
    "executionInfo": {
     "elapsed": 317,
     "status": "ok",
     "timestamp": 1633351771622,
     "user": {
      "displayName": "David Auger",
      "photoUrl": "https://lh3.googleusercontent.com/a-/AOh14GiHtpJKxbhjnqN59O73SiY_gvGeDS2NEUsE9V1YUQ=s64",
      "userId": "03825696780836238935"
     },
     "user_tz": -120
    },
    "id": "fA4TIJ99TnrF"
   },
   "outputs": [],
   "source": [
    "def analyse_stat(message):\n",
    "    for x in alphabet:\n",
    "        print(x, message.count(x))"
   ]
  },
  {
   "cell_type": "code",
   "execution_count": 131,
   "metadata": {
    "colab": {
     "base_uri": "https://localhost:8080/"
    },
    "executionInfo": {
     "elapsed": 344,
     "status": "ok",
     "timestamp": 1633353952281,
     "user": {
      "displayName": "David Auger",
      "photoUrl": "https://lh3.googleusercontent.com/a-/AOh14GiHtpJKxbhjnqN59O73SiY_gvGeDS2NEUsE9V1YUQ=s64",
      "userId": "03825696780836238935"
     },
     "user_tz": -120
    },
    "id": "NpQhN8OWWgvV",
    "outputId": "1564c75a-7234-46d3-e0d7-f539dfe8520c"
   },
   "outputs": [
    {
     "name": "stdout",
     "output_type": "stream",
     "text": [
      "a 183\n",
      "b 24\n",
      "c 71\n",
      "d 53\n",
      "e 339\n",
      "f 23\n",
      "g 22\n",
      "h 23\n",
      "i 155\n",
      "j 7\n",
      "k 0\n",
      "l 99\n",
      "m 55\n",
      "n 137\n",
      "o 118\n",
      "p 63\n",
      "q 29\n",
      "r 145\n",
      "s 179\n",
      "t 177\n",
      "u 135\n",
      "v 27\n",
      "w 0\n",
      "x 5\n",
      "y 6\n",
      "z 2\n",
      "  492\n",
      ". 46\n"
     ]
    }
   ],
   "source": [
    "analyse_stat(m3)"
   ]
  },
  {
   "cell_type": "code",
   "execution_count": 132,
   "metadata": {
    "colab": {
     "base_uri": "https://localhost:8080/",
     "height": 126
    },
    "executionInfo": {
     "elapsed": 349,
     "status": "ok",
     "timestamp": 1633353958027,
     "user": {
      "displayName": "David Auger",
      "photoUrl": "https://lh3.googleusercontent.com/a-/AOh14GiHtpJKxbhjnqN59O73SiY_gvGeDS2NEUsE9V1YUQ=s64",
      "userId": "03825696780836238935"
     },
     "user_tz": -120
    },
    "id": "Wd7-YWxeWkhO",
    "outputId": "6ac9d178-8061-494a-c016-907431ffd5e2"
   },
   "outputs": [
    {
     "data": {
      "application/vnd.google.colaboratory.intrinsic+json": {
       "type": "string"
      },
      "text/plain": [
       "'mais en depit de cette terreur que me causait l idee seule de l homme a la jambe unique. j etais beaucoup moins effraye du capitaine lui meme que toutes les autres personnes de mon entourage. parfois. le soir. il buvait plus de rhum que sa tete ne pouvait en porter. et se mettait a beugler ses vieux chants bachiques ou nautiques. sans faire attention a rien de ce qui se passait dans le parloir. mais. d autre fois. il faisait donner des verres a tout le monde et forcait les pauvres gens tremblants a ecouter des histoires sans queue ni tete ou a l accompagner en chour. bien souvent j ai entendu vibrer tous les planchers de la maison au chant des   yo ho ho. yo ho ho.   qui voulaient la bouteille .   tous les voisins s y mettaient a tue tete. car la peur les talonnait   et c etait a qui crierait le plus fort pour eviter les observations. c est que. dans ces acces. notre locataire etait terrible. il faisait trembler la terre sous ses coups de poing pour reclamer le silence   ou bien il se mettait dans une colere effroyable parce qu on lui adressait une question.   ou parce qu on ne lui en adressait pas.   et qu il en concluait que la compagnie n ecoutait pas son histoire. il n aurait pas fallu non plus s aviser de quitter l auberge avant qu il fut alle se coucher en titubant . notez que presque toujours ses recits etaient faits pour donner la chair de poule. ce n etaient que pendaisons a la grande vergue. coups de couteau. combats corps a corps. tempetes effroyables. aventures tenebreuses sur les oceans des deux mondes. d apres ses propres dires. il avait certainement vecu parmi les plus atroces gredins que la mer ait jamais portes   et le langage dont il se servait pour decrire toutes ces horreurs etait fait pour epouvanter de simples campagnards. comme nos habitues. plus encore peut etre que les crimes memes dont ils ecoutaient le recit. cet homme nous glacait litteralement le sang dans les veines. mon pere repetait du matin au soir que sa presence finirait par ruiner l auberge. et que nos plus fideles clients finiraient par se lasser d etre ainsi brutalises   sans compter qu ils rentraient habituellement chez eux les cheveux herisses de terreur. mais je croirais volontiers. au contraire. que ces etranges veillees nous attiraient du monde. on avait peur. et pourtant on prenait gout a ces emotions poignantes. apres tout. le capitaine mettait un peu d interet dans la vie monotone de la campagne. certains jeunes gens affectaient meme de l admirer. disant que c etait un   vrai loup  .   un vieux marsouin  . un de ces hommes qui ont fait l angleterre si terrible sur les mers.'"
      ]
     },
     "execution_count": 132,
     "metadata": {},
     "output_type": "execute_result"
    }
   ],
   "source": [
    "m3"
   ]
  },
  {
   "cell_type": "code",
   "execution_count": 133,
   "metadata": {
    "executionInfo": {
     "elapsed": 246,
     "status": "ok",
     "timestamp": 1633353966900,
     "user": {
      "displayName": "David Auger",
      "photoUrl": "https://lh3.googleusercontent.com/a-/AOh14GiHtpJKxbhjnqN59O73SiY_gvGeDS2NEUsE9V1YUQ=s64",
      "userId": "03825696780836238935"
     },
     "user_tz": -120
    },
    "id": "2WU9N5pNXJDV"
   },
   "outputs": [],
   "source": [
    "table3 = { alphabet[i] : alphabet[(13*i+7) % len(alphabet)] for i in range(len(alphabet)) }"
   ]
  },
  {
   "cell_type": "code",
   "execution_count": 134,
   "metadata": {
    "colab": {
     "base_uri": "https://localhost:8080/"
    },
    "executionInfo": {
     "elapsed": 25,
     "status": "ok",
     "timestamp": 1633353968045,
     "user": {
      "displayName": "David Auger",
      "photoUrl": "https://lh3.googleusercontent.com/a-/AOh14GiHtpJKxbhjnqN59O73SiY_gvGeDS2NEUsE9V1YUQ=s64",
      "userId": "03825696780836238935"
     },
     "user_tz": -120
    },
    "id": "8LiHK-HuYcBf",
    "outputId": "0895047a-bf30-4db8-9b87-ddf2d9671341"
   },
   "outputs": [
    {
     "data": {
      "text/plain": [
       "{' ': 'j',\n",
       " '.': 'w',\n",
       " 'a': 'h',\n",
       " 'b': 'u',\n",
       " 'c': 'f',\n",
       " 'd': 's',\n",
       " 'e': 'd',\n",
       " 'f': 'q',\n",
       " 'g': 'b',\n",
       " 'h': 'o',\n",
       " 'i': '.',\n",
       " 'j': 'm',\n",
       " 'k': 'z',\n",
       " 'l': 'k',\n",
       " 'm': 'x',\n",
       " 'n': 'i',\n",
       " 'o': 'v',\n",
       " 'p': 'g',\n",
       " 'q': 't',\n",
       " 'r': 'e',\n",
       " 's': 'r',\n",
       " 't': 'c',\n",
       " 'u': 'p',\n",
       " 'v': 'a',\n",
       " 'w': 'n',\n",
       " 'x': ' ',\n",
       " 'y': 'l',\n",
       " 'z': 'y'}"
      ]
     },
     "execution_count": 134,
     "metadata": {},
     "output_type": "execute_result"
    }
   ],
   "source": [
    "table3"
   ]
  },
  {
   "cell_type": "code",
   "execution_count": 135,
   "metadata": {
    "executionInfo": {
     "elapsed": 313,
     "status": "ok",
     "timestamp": 1633353977515,
     "user": {
      "displayName": "David Auger",
      "photoUrl": "https://lh3.googleusercontent.com/a-/AOh14GiHtpJKxbhjnqN59O73SiY_gvGeDS2NEUsE9V1YUQ=s64",
      "userId": "03825696780836238935"
     },
     "user_tz": -120
    },
    "id": "O0--0T3HYc2C"
   },
   "outputs": [],
   "source": [
    "m3c = chiffre_substitution(m3, table3)"
   ]
  },
  {
   "cell_type": "code",
   "execution_count": 98,
   "metadata": {
    "colab": {
     "base_uri": "https://localhost:8080/",
     "height": 126
    },
    "executionInfo": {
     "elapsed": 29,
     "status": "ok",
     "timestamp": 1633352381361,
     "user": {
      "displayName": "David Auger",
      "photoUrl": "https://lh3.googleusercontent.com/a-/AOh14GiHtpJKxbhjnqN59O73SiY_gvGeDS2NEUsE9V1YUQ=s64",
      "userId": "03825696780836238935"
     },
     "user_tz": -120
    },
    "id": "7bhGXHkxYmsa",
    "outputId": "b60a405c-2701-4cba-8e7d-3d56f4cba3d2"
   },
   "outputs": [
    {
     "data": {
      "application/vnd.google.colaboratory.intrinsic+json": {
       "type": "string"
      },
      "text/plain": [
       "'xh.rjdijsdg.cjsdjfdccdjcdeedpejtpdjxdjfhprh.cjkj.sddjrdpkdjsdjkjovxxdjhjkhjmhxudjpi.tpdwjmjdch.rjudhpfvpgjxv.irjdqqehldjspjfhg.ch.idjkp.jxdxdjtpdjcvpcdrjkdrjhpcedrjgderviidrjsdjxvijdicvpehbdwjgheqv.rwjkdjrv.ewj.kjupah.cjgkprjsdjeopxjtpdjrhjcdcdjidjgvpah.cjdijgvecdewjdcjrdjxdcch.cjhjudpbkdejrdrja.dp jfohicrjuhfo.tpdrjvpjihpc.tpdrwjrhirjqh.edjhccdic.vijhje.dijsdjfdjtp.jrdjghrrh.cjshirjkdjghekv.ewjxh.rwjsjhpcedjqv.rwj.kjqh.rh.cjsviidejsdrjadeedrjhjcvpcjkdjxvisdjdcjqvefh.cjkdrjghpaedrjbdirjcedxukhicrjhjdfvpcdejsdrjo.rcv.edrjrhirjtpdpdji.jcdcdjvpjhjkjhffvxghbidejdijfovpewju.dijrvpadicjmjh.jdicdispja.uedejcvprjkdrjgkhifoderjsdjkhjxh.rvijhpjfohicjsdrjjjlvjovjovwjlvjovjovwjjjtp.javpkh.dicjkhjuvpcd.kkdjwjjjcvprjkdrjav.r.irjrjljxdcch.dicjhjcpdjcdcdwjfhejkhjgdpejkdrjchkviih.cjjjdcjfjdch.cjhjtp.jfe.deh.cjkdjgkprjqvecjgvpejda.cdejkdrjvurdeahc.virwjfjdrcjtpdwjshirjfdrjhffdrwjivcedjkvfhch.edjdch.cjcdee.ukdwj.kjqh.rh.cjcedxukdejkhjcdeedjrvprjrdrjfvpgrjsdjgv.ibjgvpejedfkhxdejkdjr.kdifdjjjvpju.dij.kjrdjxdcch.cjshirjpidjfvkdedjdqqevlhukdjghefdjtpjvijkp.jhsedrrh.cjpidjtpdrc.viwjjjvpjghefdjtpjvijidjkp.jdijhsedrrh.cjghrwjjjdcjtpj.kjdijfvifkph.cjtpdjkhjfvxghbi.djijdfvpch.cjghrjrvijo.rcv.edwj.kjijhpeh.cjghrjqhkkpjivijgkprjrjha.rdejsdjtp.ccdejkjhpudebdjhahicjtpj.kjqpcjhkkdjrdjfvpfodejdijc.cpuhicjwjivcdyjtpdjgedrtpdjcvpmvperjrdrjedf.crjdch.dicjqh.crjgvpejsviidejkhjfoh.ejsdjgvpkdwjfdjijdch.dicjtpdjgdish.rvirjhjkhjbehisdjadebpdwjfvpgrjsdjfvpcdhpwjfvxuhcrjfvegrjhjfvegrwjcdxgdcdrjdqqevlhukdrwjhadicpedrjcdiduedprdrjrpejkdrjvfdhirjsdrjsdp jxvisdrwjsjhgedrjrdrjgevgedrjs.edrwj.kjhah.cjfdech.idxdicjadfpjghex.jkdrjgkprjhcevfdrjbeds.irjtpdjkhjxdejh.cjmhxh.rjgvecdrjjjdcjkdjkhibhbdjsvicj.kjrdjrdeah.cjgvpejsdfe.edjcvpcdrjfdrjoveedperjdch.cjqh.cjgvpejdgvpahicdejsdjr.xgkdrjfhxghbihesrwjfvxxdjivrjohu.cpdrwjgkprjdifvedjgdpcjdcedjtpdjkdrjfe.xdrjxdxdrjsvicj.krjdfvpch.dicjkdjedf.cwjfdcjovxxdjivprjbkhfh.cjk.ccdehkdxdicjkdjrhibjshirjkdrjad.idrwjxvijgdedjedgdch.cjspjxhc.ijhpjrv.ejtpdjrhjgedrdifdjq.i.eh.cjghejep.idejkjhpudebdwjdcjtpdjivrjgkprjq.sdkdrjfk.dicrjq.i.eh.dicjghejrdjkhrrdejsjdcedjh.ir.juepchk.rdrjjjrhirjfvxgcdejtpj.krjediceh.dicjohu.cpdkkdxdicjfodyjdp jkdrjfodadp jode.rrdrjsdjcdeedpewjxh.rjmdjfev.eh.rjavkvic.derwjhpjfviceh.edwjtpdjfdrjdcehibdrjad.kkddrjivprjhcc.eh.dicjspjxvisdwjvijhah.cjgdpewjdcjgvpechicjvijgedih.cjbvpcjhjfdrjdxvc.virjgv.bihicdrwjhgedrjcvpcwjkdjfhg.ch.idjxdcch.cjpijgdpjsj.icdedcjshirjkhja.djxvivcvidjsdjkhjfhxghbidwjfdech.irjmdpidrjbdirjhqqdfch.dicjxdxdjsdjkjhsx.edewjs.rhicjtpdjfjdch.cjpijjjaeh.jkvpgjjwjjjpija.dp jxhervp.ijjwjpijsdjfdrjovxxdrjtp.jvicjqh.cjkjhibkdcdeedjr.jcdee.ukdjrpejkdrjxderw'"
      ]
     },
     "execution_count": 98,
     "metadata": {},
     "output_type": "execute_result"
    }
   ],
   "source": [
    "m3c"
   ]
  },
  {
   "cell_type": "code",
   "execution_count": 99,
   "metadata": {
    "colab": {
     "base_uri": "https://localhost:8080/"
    },
    "executionInfo": {
     "elapsed": 334,
     "status": "ok",
     "timestamp": 1633352384390,
     "user": {
      "displayName": "David Auger",
      "photoUrl": "https://lh3.googleusercontent.com/a-/AOh14GiHtpJKxbhjnqN59O73SiY_gvGeDS2NEUsE9V1YUQ=s64",
      "userId": "03825696780836238935"
     },
     "user_tz": -120
    },
    "id": "ZI_6SKWhYn4Z",
    "outputId": "f98bc2ff-6ad1-431a-888b-1e037ac45863"
   },
   "outputs": [
    {
     "name": "stdout",
     "output_type": "stream",
     "text": [
      "a 27\n",
      "b 22\n",
      "c 177\n",
      "d 339\n",
      "e 145\n",
      "f 71\n",
      "g 63\n",
      "h 183\n",
      "i 137\n",
      "j 492\n",
      "k 99\n",
      "l 6\n",
      "m 7\n",
      "n 0\n",
      "o 23\n",
      "p 135\n",
      "q 23\n",
      "r 179\n",
      "s 53\n",
      "t 29\n",
      "u 24\n",
      "v 118\n",
      "w 46\n",
      "x 55\n",
      "y 2\n",
      "z 0\n",
      "  5\n",
      ". 155\n"
     ]
    }
   ],
   "source": [
    "analyse_stat(m3c)"
   ]
  },
  {
   "cell_type": "code",
   "execution_count": 100,
   "metadata": {
    "colab": {
     "base_uri": "https://localhost:8080/",
     "height": 126
    },
    "executionInfo": {
     "elapsed": 345,
     "status": "ok",
     "timestamp": 1633352445196,
     "user": {
      "displayName": "David Auger",
      "photoUrl": "https://lh3.googleusercontent.com/a-/AOh14GiHtpJKxbhjnqN59O73SiY_gvGeDS2NEUsE9V1YUQ=s64",
      "userId": "03825696780836238935"
     },
     "user_tz": -120
    },
    "id": "19ojkin9YrBK",
    "outputId": "250d2418-4c77-4db8-c54a-57e130622a1d"
   },
   "outputs": [
    {
     "data": {
      "application/vnd.google.colaboratory.intrinsic+json": {
       "type": "string"
      },
      "text/plain": [
       "'xh.s ei seg.c se fecce ceeeepe tpe xe fhpsh.c k .see sepke se k ovxxe h kh mhxue pi.tpew m ech.s uehpfvpg xv.is eqqehle sp fhg.ch.ie kp. xexe tpe cvpces kes hpcees geesviies se xvi eicvpehbew gheqv.sw ke sv.ew .k upah.c gkps se eopx tpe sh cece ie gvpah.c ei gveceew ec se xecch.c h uepbkee ses a.ep  fohics uhfo.tpes vp ihpc.tpesw shis qh.ee hcceic.vi h e.ei se fe tp. se ghssh.c shis ke ghekv.ew xh.sw s hpcee qv.sw .k qh.sh.c sviiee ses aeeees h cvpc ke xvise ec qvefh.c kes ghpaees beis ceexukhics h efvpcee ses o.scv.ees shis tpepe i. cece vp h k hffvxghbiee ei fovpew u.ei svpaeic m h. eiceisp a.ueee cvps kes gkhifoees se kh xh.svi hp fohic ses   lv ov ovw lv ov ovw   tp. avpkh.eic kh uvpce.kke w   cvps kes av.s.is s l xecch.eic h cpe cecew fhe kh gepe kes chkviih.c   ec f ech.c h tp. fe.eeh.c ke gkps qvec gvpe ea.cee kes vuseeahc.visw f esc tpew shis fes hffesw ivcee kvfhch.ee ech.c ceee.ukew .k qh.sh.c ceexukee kh ceeee svps ses fvpgs se gv.ib gvpe eefkhxee ke s.keife   vp u.ei .k se xecch.c shis pie fvkeee eqqevlhuke ghefe tp vi kp. hseessh.c pie tpesc.viw   vp ghefe tp vi ie kp. ei hseessh.c ghsw   ec tp .k ei fvifkph.c tpe kh fvxghbi.e i efvpch.c ghs svi o.scv.eew .k i hpeh.c ghs qhkkp ivi gkps s ha.see se tp.ccee k hpueebe hahic tp .k qpc hkke se fvpfoee ei c.cpuhic w ivcey tpe geestpe cvpmvpes ses eef.cs ech.eic qh.cs gvpe sviiee kh foh.e se gvpkew fe i ech.eic tpe geish.svis h kh behise aeebpew fvpgs se fvpcehpw fvxuhcs fvegs h fvegsw cexgeces eqqevlhukesw haeicpees ceieueepses spe kes vfehis ses sep  xvisesw s hgees ses gevgees s.eesw .k hah.c feech.iexeic aefp ghex. kes gkps hcevfes bees.is tpe kh xee h.c mhxh.s gveces   ec ke khibhbe svic .k se seeah.c gvpe sefe.ee cvpces fes oveeepes ech.c qh.c gvpe egvpahicee se s.xgkes fhxghbihessw fvxxe ivs ohu.cpesw gkps eifvee gepc ecee tpe kes fe.xes xexes svic .ks efvpch.eic ke eef.cw fec ovxxe ivps bkhfh.c k.cceehkexeic ke shib shis kes ae.iesw xvi geee eegech.c sp xhc.i hp sv.e tpe sh geeseife q.i.eh.c ghe ep.iee k hpueebew ec tpe ivs gkps q.sekes fk.eics q.i.eh.eic ghe se khssee s ecee h.is. uepchk.ses   shis fvxgcee tp .ks eeiceh.eic ohu.cpekkexeic foey ep  kes foeaep  oee.sses se ceeeepew xh.s me fev.eh.s avkvic.eesw hp fviceh.eew tpe fes ecehibes ae.kkees ivps hcc.eh.eic sp xvisew vi hah.c gepew ec gvpechic vi geeih.c bvpc h fes exvc.vis gv.bihicesw hgees cvpcw ke fhg.ch.ie xecch.c pi gep s .iceeec shis kh a.e xvivcvie se kh fhxghbiew feech.is mepies beis hqqefch.eic xexe se k hsx.eeew s.shic tpe f ech.c pi   aeh. kvpg  w   pi a.ep  xhesvp.i  w pi se fes ovxxes tp. vic qh.c k hibkeceeee s. ceee.uke spe kes xeesw'"
      ]
     },
     "execution_count": 100,
     "metadata": {},
     "output_type": "execute_result"
    }
   ],
   "source": [
    "m3c1 = chiffre_substitution(m3c, {\"j\" : \" \", \"d\" : \"e\", \"r\" : \"s\" })\n",
    "m3c1"
   ]
  },
  {
   "cell_type": "code",
   "execution_count": 102,
   "metadata": {
    "colab": {
     "base_uri": "https://localhost:8080/"
    },
    "executionInfo": {
     "elapsed": 263,
     "status": "ok",
     "timestamp": 1633352542029,
     "user": {
      "displayName": "David Auger",
      "photoUrl": "https://lh3.googleusercontent.com/a-/AOh14GiHtpJKxbhjnqN59O73SiY_gvGeDS2NEUsE9V1YUQ=s64",
      "userId": "03825696780836238935"
     },
     "user_tz": -120
    },
    "id": "mLU-vqPAZGpR",
    "outputId": "e1b7cfd3-686b-451e-d624-faac3d815f8f"
   },
   "outputs": [
    {
     "data": {
      "text/plain": [
       "-1"
      ]
     },
     "execution_count": 102,
     "metadata": {},
     "output_type": "execute_result"
    }
   ],
   "source": [
    "m3c1.rfind(\"angleterre\")"
   ]
  },
  {
   "cell_type": "code",
   "execution_count": 109,
   "metadata": {
    "executionInfo": {
     "elapsed": 226,
     "status": "ok",
     "timestamp": 1633353145080,
     "user": {
      "displayName": "David Auger",
      "photoUrl": "https://lh3.googleusercontent.com/a-/AOh14GiHtpJKxbhjnqN59O73SiY_gvGeDS2NEUsE9V1YUQ=s64",
      "userId": "03825696780836238935"
     },
     "user_tz": -120
    },
    "id": "rifEh3YQZOMq"
   },
   "outputs": [],
   "source": [
    "def chiffre_vigenere(message, cle):\n",
    "    s = \"\"\n",
    "    position_m = { x : alphabet.index(x) for x in alphabet}\n",
    "    position_cle = [alphabet.index(x) for x in cle]\n",
    "    for i in range(len(message)):\n",
    "        j = position_m[message[i]] + position_cle[i % len(cle)] + 1\n",
    "        j = j % len(alphabet)\n",
    "        s += alphabet[j]\n",
    "    return s\n"
   ]
  },
  {
   "cell_type": "code",
   "execution_count": 112,
   "metadata": {
    "colab": {
     "base_uri": "https://localhost:8080/",
     "height": 35
    },
    "executionInfo": {
     "elapsed": 228,
     "status": "ok",
     "timestamp": 1633353169310,
     "user": {
      "displayName": "David Auger",
      "photoUrl": "https://lh3.googleusercontent.com/a-/AOh14GiHtpJKxbhjnqN59O73SiY_gvGeDS2NEUsE9V1YUQ=s64",
      "userId": "03825696780836238935"
     },
     "user_tz": -120
    },
    "id": "rd474_zLbex1",
    "outputId": "7f6bca13-b2ad-4ab3-90f2-c97a16a76a3e"
   },
   "outputs": [
    {
     "data": {
      "application/vnd.google.colaboratory.intrinsic+json": {
       "type": "string"
      },
      "text/plain": [
       "'babar'"
      ]
     },
     "execution_count": 112,
     "metadata": {},
     "output_type": "execute_result"
    }
   ],
   "source": [
    "chiffre_vigenere(\"cbcbs\", \"     \")"
   ]
  },
  {
   "cell_type": "code",
   "execution_count": 120,
   "metadata": {
    "executionInfo": {
     "elapsed": 324,
     "status": "ok",
     "timestamp": 1633353324733,
     "user": {
      "displayName": "David Auger",
      "photoUrl": "https://lh3.googleusercontent.com/a-/AOh14GiHtpJKxbhjnqN59O73SiY_gvGeDS2NEUsE9V1YUQ=s64",
      "userId": "03825696780836238935"
     },
     "user_tz": -120
    },
    "id": "wnW0zSE3bjKH"
   },
   "outputs": [],
   "source": [
    "m4 = preparation_texte(\"Cependant le Capitaine sortait par degrés de sa torpeur, sous l’influence de sa propre musique, et enfin il donna un grand coup de poing à la table. Nous connaissions tous ce signal, qui voulait dire : Silence ! Tout le monde se tut, excepté le docteur Livesey, qui continua à parler, de sa voix claire et douce, en tirant de temps à autre une bouffée de sa pipe.\")"
   ]
  },
  {
   "cell_type": "code",
   "execution_count": 121,
   "metadata": {
    "colab": {
     "base_uri": "https://localhost:8080/"
    },
    "executionInfo": {
     "elapsed": 8,
     "status": "ok",
     "timestamp": 1633353326502,
     "user": {
      "displayName": "David Auger",
      "photoUrl": "https://lh3.googleusercontent.com/a-/AOh14GiHtpJKxbhjnqN59O73SiY_gvGeDS2NEUsE9V1YUQ=s64",
      "userId": "03825696780836238935"
     },
     "user_tz": -120
    },
    "id": "peSrIkhfcB6V",
    "outputId": "aa1904db-b0c9-48a3-bc84-79d03e294db0"
   },
   "outputs": [
    {
     "name": "stdout",
     "output_type": "stream",
     "text": [
      "True\n"
     ]
    }
   ],
   "source": [
    "test_message_ok(m4)"
   ]
  },
  {
   "cell_type": "code",
   "execution_count": 122,
   "metadata": {
    "colab": {
     "base_uri": "https://localhost:8080/",
     "height": 54
    },
    "executionInfo": {
     "elapsed": 354,
     "status": "ok",
     "timestamp": 1633353331019,
     "user": {
      "displayName": "David Auger",
      "photoUrl": "https://lh3.googleusercontent.com/a-/AOh14GiHtpJKxbhjnqN59O73SiY_gvGeDS2NEUsE9V1YUQ=s64",
      "userId": "03825696780836238935"
     },
     "user_tz": -120
    },
    "id": "i5DAnAOrcETz",
    "outputId": "7c0e3cf3-1bb1-4368-cf11-5ef2bb78ab88"
   },
   "outputs": [
    {
     "data": {
      "application/vnd.google.colaboratory.intrinsic+json": {
       "type": "string"
      },
      "text/plain": [
       "'cependant le capitaine sortait par degres de sa torpeur. sous l influence de sa propre musique. et enfin il donna un grand coup de poing a la table. nous connaissions tous ce signal. qui voulait dire   silence . tout le monde se tut. excepte le docteur livesey. qui continua a parler. de sa voix claire et douce. en tirant de temps a autre une bouffee de sa pipe.'"
      ]
     },
     "execution_count": 122,
     "metadata": {},
     "output_type": "execute_result"
    }
   ],
   "source": [
    "m4"
   ]
  },
  {
   "cell_type": "code",
   "execution_count": 123,
   "metadata": {
    "colab": {
     "base_uri": "https://localhost:8080/",
     "height": 54
    },
    "executionInfo": {
     "elapsed": 348,
     "status": "ok",
     "timestamp": 1633353419076,
     "user": {
      "displayName": "David Auger",
      "photoUrl": "https://lh3.googleusercontent.com/a-/AOh14GiHtpJKxbhjnqN59O73SiY_gvGeDS2NEUsE9V1YUQ=s64",
      "userId": "03825696780836238935"
     },
     "user_tz": -120
    },
    "id": "So1IyDpYcexA",
    "outputId": "bc6264b9-b27b-4eca-de4d-b48daf5df6a3"
   },
   "outputs": [
    {
     "data": {
      "application/vnd.google.colaboratory.intrinsic+json": {
       "type": "string"
      },
      "text/plain": [
       "'ezhn.jppmsuserciaaooagtkxdzpkmsyoxnfz  synfzs.oegqkhngxoalgbee abfoz tpxyhrknuvsyductzsvgyxsnyimkgazfowtnkesmatactmwmmecgxhquhrtxnmvbkg hoe ctljprtbtfxgynehfwoofubgweegqnkhqknub woroajmrm.bweurfeskkyhmefkeywqknbtlxgznnzsvatsgtknmzhvusnjitrmyhzknfhwas eaeacsyt uszgonehfawthctuhbgenzjimjtaluhhuxztwuooegtyamjbwxyimkaama otgayyhfk.rlsjmghvkyhgttawgbtltgtxnmypaiaysf'"
      ]
     },
     "execution_count": 123,
     "metadata": {},
     "output_type": "execute_result"
    }
   ],
   "source": [
    "chiffre_vigenere(m4, 'butinfo')"
   ]
  },
  {
   "cell_type": "code",
   "execution_count": 127,
   "metadata": {
    "colab": {
     "base_uri": "https://localhost:8080/",
     "height": 35
    },
    "executionInfo": {
     "elapsed": 420,
     "status": "ok",
     "timestamp": 1633353600688,
     "user": {
      "displayName": "David Auger",
      "photoUrl": "https://lh3.googleusercontent.com/a-/AOh14GiHtpJKxbhjnqN59O73SiY_gvGeDS2NEUsE9V1YUQ=s64",
      "userId": "03825696780836238935"
     },
     "user_tz": -120
    },
    "id": "J3rJsnZ1c0aJ",
    "outputId": "0c7868ff-6f2d-4034-92a3-6aaa614d9b13"
   },
   "outputs": [
    {
     "data": {
      "application/vnd.google.colaboratory.intrinsic+json": {
       "type": "string"
      },
      "text/plain": [
       "'cbrspf cqnlmqbuqzmowzpjnshtigk k'"
      ]
     },
     "execution_count": 127,
     "metadata": {},
     "output_type": "execute_result"
    }
   ],
   "source": [
    "chiffre_vigenere(\"ali baba et les quarante voleurs\", 'britney')"
   ]
  },
  {
   "cell_type": "code",
   "execution_count": null,
   "metadata": {
    "id": "JNkutxvqdamp"
   },
   "outputs": [],
   "source": []
  }
 ],
 "metadata": {
  "colab": {
   "authorship_tag": "ABX9TyPqVrK57qWE4x7pWjfvKk4k",
   "collapsed_sections": [],
   "name": "mp2_crypto.ipynb",
   "provenance": []
  },
  "kernelspec": {
   "display_name": "Python 3",
   "language": "python",
   "name": "python3"
  },
  "language_info": {
   "codemirror_mode": {
    "name": "ipython",
    "version": 3
   },
   "file_extension": ".py",
   "mimetype": "text/x-python",
   "name": "python",
   "nbconvert_exporter": "python",
   "pygments_lexer": "ipython3",
   "version": "3.8.10"
  }
 },
 "nbformat": 4,
 "nbformat_minor": 1
}
