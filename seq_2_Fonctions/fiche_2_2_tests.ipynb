{
 "cells": [
  {
   "cell_type": "markdown",
   "metadata": {},
   "source": [
    "# Spécifications et Tests unitaires"
   ]
  },
  {
   "cell_type": "markdown",
   "metadata": {},
   "source": [
    "La **spécification** d'une fonction c'est un petit texte qui indique :  \n",
    "- le type de paramètres qu'elle prend en entrée\n",
    "- le travail qu'elle est censée effectuer\n",
    "- ce qu'elle renvoie en sortie"
   ]
  },
  {
   "cell_type": "markdown",
   "metadata": {},
   "source": [
    "Il est d'usage, en python, d'écrire la spécification de la fonction dans un commentaire multi-lignes, juste après le nom de la fonction."
   ]
  },
  {
   "cell_type": "code",
   "execution_count": 34,
   "metadata": {},
   "outputs": [],
   "source": [
    "def cube(x):\n",
    "    \"\"\"\n",
    "    Renvoie le cube d'un nombre.\n",
    "    \n",
    "    Parametres\n",
    "        x : nombre (int, float, etc)\n",
    "    \n",
    "    Retour\n",
    "        nombre, cube de x\n",
    "    \"\"\"\n",
    "    \n",
    "    return x**3"
   ]
  },
  {
   "cell_type": "code",
   "execution_count": 36,
   "metadata": {},
   "outputs": [
    {
     "name": "stdout",
     "output_type": "stream",
     "text": [
      "\n",
      "    Renvoie le cube d'un nombre.\n",
      "    \n",
      "    Parametres\n",
      "        x : nombre (int, float, etc)\n",
      "    \n",
      "    Retour\n",
      "        nombre, cube de x\n",
      "    \n"
     ]
    }
   ],
   "source": [
    "#cette spécification de la fonction ou docstring est lue par python et accessible comme une str\n",
    "print(cube.__doc__)"
   ]
  },
  {
   "cell_type": "code",
   "execution_count": 37,
   "metadata": {},
   "outputs": [
    {
     "name": "stdout",
     "output_type": "stream",
     "text": [
      "Help on function cube in module __main__:\n",
      "\n",
      "cube(x)\n",
      "    Renvoie le cube d'un nombre.\n",
      "    \n",
      "    Parametres\n",
      "        x : nombre (int, float, etc)\n",
      "    \n",
      "    Retour\n",
      "        nombre, cube de x\n",
      "\n"
     ]
    }
   ],
   "source": [
    "#on peut même appeler à l'aide, ce qui affiche la docstring aussi\n",
    "help(cube)"
   ]
  },
  {
   "cell_type": "markdown",
   "metadata": {},
   "source": [
    "Il est fondamental, quand on veut écrire une fonction, de respecter sa spécification. Il est aussi important, quand on fait un programme, de préciser un minimum la spécification d'une fonction sinon, on ne sait pas ce qu'on fait."
   ]
  },
  {
   "cell_type": "markdown",
   "metadata": {},
   "source": [
    "Une fonction est censée effectuer :  \n",
    "    0. sa spécification  \n",
    "    1. toute sa spécification  \n",
    "    2. rien que sa spécification  "
   ]
  },
  {
   "cell_type": "markdown",
   "metadata": {},
   "source": [
    "En particulier, une fonction :\n",
    "- ne fait pas des input ou des print si ce n'est pas dans la spécification\n",
    "- si elle calcule des résultats, elle les renvoie\n",
    "- elle ne va pas modifier sauvagement les paramètres qu'on lui donne (en particulier les listes) sauf si c'est son travail (une fonction d'insertion/suppression, par exemple)\n",
    "- n'utilise pas de variables globales, les paramètres servent à passer les valeurs sur lesquelles la fonction travaille."
   ]
  },
  {
   "cell_type": "markdown",
   "metadata": {},
   "source": [
    "<img src=\"https://cdn.pixabay.com/photo/2016/10/18/19/40/anatomy-1751201_960_720.png\" width=\"30\" align=left><div class=\"alert alert-block alert-info\"> **A COMPLETER APRES AVOIR TOUT LU CI-DESSUS**"
   ]
  },
  {
   "cell_type": "markdown",
   "metadata": {},
   "source": [
    "**Qu'est-ce que la spécification d'une fonction (résumez) ? :**  \n",
    "\n",
    "**Qu'est-ce qu'une docstring ? :**\n",
    "\n",
    "**Comment peut-on afficher la docstring d'une fonction ? :**\n",
    "\n",
    "**Une fonction devrait-elle effectuer des print ou des input ? :**\n",
    "\n",
    "**Une fonction devrait-elle modifier un paramètre qu'on lui passe, par exemple une liste  ? :**"
   ]
  },
  {
   "cell_type": "markdown",
   "metadata": {},
   "source": [
    "## Assertions"
   ]
  },
  {
   "cell_type": "markdown",
   "metadata": {},
   "source": [
    "L'instruction python `assert` permet de vérifier lors de l'éxecution d'un programme ou d'une fonction, qu'une condition est bien respectée, dans le but de tester et débuguer."
   ]
  },
  {
   "cell_type": "code",
   "execution_count": 6,
   "metadata": {},
   "outputs": [],
   "source": [
    "assert 2+2==4"
   ]
  },
  {
   "cell_type": "markdown",
   "metadata": {},
   "source": [
    "Si la condition est validée, rien ne se passe."
   ]
  },
  {
   "cell_type": "code",
   "execution_count": 8,
   "metadata": {},
   "outputs": [
    {
     "ename": "AssertionError",
     "evalue": "",
     "output_type": "error",
     "traceback": [
      "\u001b[0;31m---------------------------------------------------------------------------\u001b[0m",
      "\u001b[0;31mAssertionError\u001b[0m                            Traceback (most recent call last)",
      "\u001b[0;32m<ipython-input-8-e15ff9980201>\u001b[0m in \u001b[0;36m<module>\u001b[0;34m\u001b[0m\n\u001b[0;32m----> 1\u001b[0;31m \u001b[0;32massert\u001b[0m \u001b[0;36m2\u001b[0m\u001b[0;34m+\u001b[0m\u001b[0;36m2\u001b[0m\u001b[0;34m==\u001b[0m\u001b[0;36m5\u001b[0m\u001b[0;34m\u001b[0m\u001b[0m\n\u001b[0m",
      "\u001b[0;31mAssertionError\u001b[0m: "
     ]
    }
   ],
   "source": [
    "assert 2+2==5"
   ]
  },
  {
   "cell_type": "markdown",
   "metadata": {},
   "source": [
    "Si la condition n'est pas validée, l'assertion soulève une erreur et donc interrompt l'exécution. On peut voir ici une `AssertionError`."
   ]
  },
  {
   "cell_type": "code",
   "execution_count": 15,
   "metadata": {},
   "outputs": [
    {
     "ename": "AssertionError",
     "evalue": "la valeur de x (-12) n'est pas positive",
     "output_type": "error",
     "traceback": [
      "\u001b[0;31m---------------------------------------------------------------------------\u001b[0m",
      "\u001b[0;31mAssertionError\u001b[0m                            Traceback (most recent call last)",
      "\u001b[0;32m<ipython-input-15-3b00320c508c>\u001b[0m in \u001b[0;36m<module>\u001b[0;34m\u001b[0m\n\u001b[1;32m      1\u001b[0m \u001b[0mx\u001b[0m \u001b[0;34m=\u001b[0m \u001b[0;34m-\u001b[0m \u001b[0;36m12\u001b[0m\u001b[0;34m\u001b[0m\u001b[0m\n\u001b[0;32m----> 2\u001b[0;31m \u001b[0;32massert\u001b[0m \u001b[0mx\u001b[0m \u001b[0;34m>\u001b[0m \u001b[0;36m0\u001b[0m\u001b[0;34m,\u001b[0m \u001b[0;34m\"la valeur de x (\"\u001b[0m \u001b[0;34m+\u001b[0m \u001b[0mstr\u001b[0m\u001b[0;34m(\u001b[0m\u001b[0mx\u001b[0m\u001b[0;34m)\u001b[0m \u001b[0;34m+\u001b[0m \u001b[0;34m\") n'est pas positive\"\u001b[0m\u001b[0;34m\u001b[0m\u001b[0m\n\u001b[0m",
      "\u001b[0;31mAssertionError\u001b[0m: la valeur de x (-12) n'est pas positive"
     ]
    }
   ],
   "source": [
    "x = - 12\n",
    "assert x > 0, \"la valeur de x (\" + str(x) + \") n'est pas positive\""
   ]
  },
  {
   "cell_type": "markdown",
   "metadata": {},
   "source": [
    "Comme ci-dessus, on peut écrire une `str` après l'assertion, qui va s'afficher si l'assertion n'est pas respectée afin de nous donner davantage d'informations."
   ]
  },
  {
   "cell_type": "markdown",
   "metadata": {},
   "source": [
    "<img src=\"https://cdn.pixabay.com/photo/2018/01/04/16/53/building-3061124_960_720.png\" width=30 align=left><div class=\"alert alert-block alert-danger\">**Exo 2.0 - premier exemple**  "
   ]
  },
  {
   "cell_type": "markdown",
   "metadata": {},
   "source": [
    "Examinez bien le code ci-dessous.  \n",
    "La docstring ainsi que le test vous fournit tout ce qu'il faut savoir pour écrire la fonction.  \n",
    "A vous de compléter la fonction (effacez l'instruction `pass` ) pour que le test ne fasse plus d'erreur."
   ]
  },
  {
   "cell_type": "code",
   "execution_count": 40,
   "metadata": {},
   "outputs": [],
   "source": [
    "#fonction à compléter, le test est prêt\n",
    "def somme_valant_n(tab,n):\n",
    "    \"\"\"\n",
    "    détermine si le tableau contient deux entrées (indices différents) dont la somme fait n\n",
    "    considéré faux si le tableau est de taille 1 ou moins\n",
    "    \n",
    "    Parametres\n",
    "        tab: un tableau de nombres\n",
    "        n: un nombre\n",
    "    \n",
    "    Retour\n",
    "        bool\n",
    "    \"\"\"\n",
    "    pass\n",
    "\n",
    "def test_somme():\n",
    "    #trop petits\n",
    "    assert somme_valant_n([], 4) == False\n",
    "    assert somme_valant_n([1], 4) == False\n",
    "    #basiques\n",
    "    assert somme_valant_n([1,2], 3) == True\n",
    "    assert somme_valant_n([1,2], 4) == False\n",
    "    #deux solutions ou plus\n",
    "    assert somme_valant_n([5,2,3,1,6,3], 8) == True\n",
    "    assert somme_valant_n([0,2,0,2,2,0], 4) == True\n",
    "    #long sans solution\n",
    "    assert somme_valant_n(list(range(50)), 150) == False\n",
    "    #entrees identiques cases distinctes\n",
    "    assert somme_valant_n([0,3,3,0], 6) == True\n",
    "    #cases identiques\n",
    "    assert somme_valant_n([0,3,0], 6) == False"
   ]
  },
  {
   "cell_type": "code",
   "execution_count": 44,
   "metadata": {},
   "outputs": [
    {
     "ename": "AssertionError",
     "evalue": "",
     "output_type": "error",
     "traceback": [
      "\u001b[0;31m---------------------------------------------------------------------------\u001b[0m",
      "\u001b[0;31mAssertionError\u001b[0m                            Traceback (most recent call last)",
      "\u001b[0;32m<ipython-input-44-62391f1ec084>\u001b[0m in \u001b[0;36m<module>\u001b[0;34m\u001b[0m\n\u001b[0;32m----> 1\u001b[0;31m \u001b[0mtest_somme\u001b[0m\u001b[0;34m(\u001b[0m\u001b[0;34m)\u001b[0m\u001b[0;34m\u001b[0m\u001b[0m\n\u001b[0m",
      "\u001b[0;32m<ipython-input-40-9f45aaf07b6c>\u001b[0m in \u001b[0;36mtest_somme\u001b[0;34m()\u001b[0m\n\u001b[1;32m     16\u001b[0m \u001b[0;32mdef\u001b[0m \u001b[0mtest_somme\u001b[0m\u001b[0;34m(\u001b[0m\u001b[0;34m)\u001b[0m\u001b[0;34m:\u001b[0m\u001b[0;34m\u001b[0m\u001b[0m\n\u001b[1;32m     17\u001b[0m     \u001b[0;31m#trop petits\u001b[0m\u001b[0;34m\u001b[0m\u001b[0;34m\u001b[0m\u001b[0m\n\u001b[0;32m---> 18\u001b[0;31m     \u001b[0;32massert\u001b[0m \u001b[0msomme_valant_n\u001b[0m\u001b[0;34m(\u001b[0m\u001b[0;34m[\u001b[0m\u001b[0;34m]\u001b[0m\u001b[0;34m,\u001b[0m \u001b[0;36m4\u001b[0m\u001b[0;34m)\u001b[0m \u001b[0;34m==\u001b[0m \u001b[0;32mFalse\u001b[0m\u001b[0;34m\u001b[0m\u001b[0m\n\u001b[0m\u001b[1;32m     19\u001b[0m     \u001b[0;32massert\u001b[0m \u001b[0msomme_valant_n\u001b[0m\u001b[0;34m(\u001b[0m\u001b[0;34m[\u001b[0m\u001b[0;36m1\u001b[0m\u001b[0;34m]\u001b[0m\u001b[0;34m,\u001b[0m \u001b[0;36m4\u001b[0m\u001b[0;34m)\u001b[0m \u001b[0;34m==\u001b[0m \u001b[0;32mFalse\u001b[0m\u001b[0;34m\u001b[0m\u001b[0m\n\u001b[1;32m     20\u001b[0m     \u001b[0;31m#basiques\u001b[0m\u001b[0;34m\u001b[0m\u001b[0;34m\u001b[0m\u001b[0m\n",
      "\u001b[0;31mAssertionError\u001b[0m: "
     ]
    }
   ],
   "source": [
    "test_somme()"
   ]
  },
  {
   "cell_type": "markdown",
   "metadata": {},
   "source": [
    "<img src=\"https://cdn.pixabay.com/photo/2018/01/04/16/53/building-3061124_960_720.png\" width=30 align=left><div class=\"alert alert-block alert-danger\">**Exo 2.1 - à vous le test**  "
   ]
  },
  {
   "cell_type": "markdown",
   "metadata": {},
   "source": [
    "2.1.0 - A vous de compléter la fonction, sans utiliser les fonctions python `max` et `min` bien entendu."
   ]
  },
  {
   "cell_type": "code",
   "execution_count": 46,
   "metadata": {},
   "outputs": [],
   "source": [
    "def max_plus_min(tab):\n",
    "    \"\"\"\n",
    "    calcule la somme du minimum et du maximum du tableau, en un seul passage dans le tableau\n",
    "    (erreur si le tableau est vide)\n",
    "    \n",
    "    Parametres\n",
    "        tab: un tableau de nombres\n",
    "    \n",
    "    Retour\n",
    "        nombre\n",
    "    \"\"\"\n",
    "    pass   "
   ]
  },
  {
   "cell_type": "markdown",
   "metadata": {},
   "source": [
    "2.1.1 - complétez la fonction de test en pensant à essayer divers cas qui peuvent se produire, en utilisant des assertions.  \n",
    "Puis exécutez la fonction de test !"
   ]
  },
  {
   "cell_type": "code",
   "execution_count": null,
   "metadata": {},
   "outputs": [],
   "source": [
    "def test_max_plus_min():\n",
    "    pass"
   ]
  },
  {
   "cell_type": "markdown",
   "metadata": {},
   "source": [
    "2.1.2 - pour tester sur des autres cas, on peut comparer avec le résultat obtenu par `min(tab) + max(tab)`. On peut aussi utiliser la generation aléatoire de tableau. On procède ainsi :"
   ]
  },
  {
   "cell_type": "code",
   "execution_count": 50,
   "metadata": {},
   "outputs": [
    {
     "name": "stdout",
     "output_type": "stream",
     "text": [
      "[2, 64, 69, 87, 33, 100, 41, 9, 0, 76, 5, 69, 93, 74, 34, 55, 99, 99, 47, 81, 27, 30, 74, 88, 21, 59, 54, 59, 75, 60, 45, 39, 22, 15, 20, 42, 44, 56, 44, 72, 98, 98, 8, 40, 74, 25, 90, 37, 81, 51]\n",
      "100\n"
     ]
    }
   ],
   "source": [
    "import random\n",
    "t = [random.randint(0,100) for i in range(50)]\n",
    "print(t)\n",
    "print(max(t) + min(t))"
   ]
  },
  {
   "cell_type": "markdown",
   "metadata": {},
   "source": [
    "Utilisez ce principe pour générer des tableaux aléatoires de diverses tailles et tester à nouveau le résultat de votre fonction `max_plus_min`."
   ]
  },
  {
   "cell_type": "code",
   "execution_count": null,
   "metadata": {},
   "outputs": [],
   "source": [
    "def test_max_plus_min_random():\n",
    "    pass"
   ]
  },
  {
   "cell_type": "markdown",
   "metadata": {},
   "source": [
    "<img src=\"https://cdn.pixabay.com/photo/2018/01/04/16/53/building-3061124_960_720.png\" width=30 align=left><div class=\"alert alert-block alert-danger\">**Exo 2.2 - bissextile**  "
   ]
  },
  {
   "cell_type": "markdown",
   "metadata": {},
   "source": [
    "Maintenant, pour chacun des exercices :   \n",
    "\n",
    "0. donnez à votre fonction un nom intelligent et écrivez les spécifications suivies de `pass`\n",
    "1. écrivez **les tests avant la fonction** !\n",
    "2. écrivez enfin la fonction  et testez. \n",
    "\n",
    "C'est ce qu'on appelle le **développement guidé par les tests**.  \n",
    "N'oubliez pas de tester sur des cas limites, des cas petits, des cas moyens ou grands, essayez de prévoir les différents types d'erreurs qui pourraient se présenter."
   ]
  },
  {
   "cell_type": "markdown",
   "metadata": {},
   "source": [
    "Dans l'exercice **bissextile**, il s'agit de renvoyer un booléen indiquant si une année est bissextile. Pour rappel il s'agit des années qui sont multiples de 4, mais qui ne sont pas multiples de 100, ou alors qui sont multiples de 400."
   ]
  },
  {
   "cell_type": "code",
   "execution_count": null,
   "metadata": {},
   "outputs": [],
   "source": []
  },
  {
   "cell_type": "markdown",
   "metadata": {},
   "source": [
    "<img src=\"https://cdn.pixabay.com/photo/2018/01/04/16/53/building-3061124_960_720.png\" width=30 align=left><div class=\"alert alert-block alert-danger\">**Exo 2.3 - à demain**  "
   ]
  },
  {
   "cell_type": "markdown",
   "metadata": {},
   "source": [
    "Toujours en suivant le même principe de dev guidé par les tests, écrivez une fonction qui à partir d'une date sous la forme `[3,12,2017]`, va renvoyer la date du lendemain. Attention, il faut tenir compte des années bissextiles. Essayez de faire au plus efficace sans écrire 50 `if` à la suite !"
   ]
  },
  {
   "cell_type": "code",
   "execution_count": null,
   "metadata": {},
   "outputs": [],
   "source": []
  },
  {
   "cell_type": "markdown",
   "metadata": {},
   "source": [
    "<img src=\"https://cdn.pixabay.com/photo/2018/01/04/16/53/building-3061124_960_720.png\" width=30 align=left><div class=\"alert alert-block alert-danger\">**Exo 2.4 - combien de jours**  "
   ]
  },
  {
   "cell_type": "markdown",
   "metadata": {},
   "source": [
    "Combien de jours séparent une date 1 d'une date 2 ? A vous de faire une fonction qui répond à la question."
   ]
  },
  {
   "cell_type": "code",
   "execution_count": null,
   "metadata": {},
   "outputs": [],
   "source": []
  },
  {
   "cell_type": "markdown",
   "metadata": {},
   "source": [
    "<img src=\"https://cdn.pixabay.com/photo/2018/01/04/16/53/building-3061124_960_720.png\" width=30 align=left><div class=\"alert alert-block alert-danger\">**Exo 2.5 - rendez-vous**  "
   ]
  },
  {
   "cell_type": "markdown",
   "metadata": {},
   "source": [
    "Dans l'exercice **rendez-vous**, la fonction à écrire prend deux temps t1 et t2, en minutes, où deux personnes vont arriver à un rendez-vous (par exemple, on pourrait convenir que t1=122 signifie que la personne arrive à midi plus 122 minutes soit 14h02). Pour chaque personne, on donne également un temps d'attente a1 et a2 qui désigne le temps que chaque personne va attendre au lieu de rendez-vous avant de repartir. La fonction doit renvoyer un booléen indiquant si les deux personnes vont se rencontrer ou non.  \n",
    "Par exemple, pour t1=20, t2 = 40, si a1 = 30 alors ils vont se croiser, mais si a1 = 10 ça ne sera pas le cas. Attention, les valeurs de t1,t2, a1 et a2 peuvent être dans un ordre quelconque. Pensez à utiliser les fonctions natives `max`, `min`, `abs`."
   ]
  },
  {
   "cell_type": "code",
   "execution_count": null,
   "metadata": {},
   "outputs": [],
   "source": []
  },
  {
   "cell_type": "markdown",
   "metadata": {},
   "source": [
    "<img src=\"https://cdn.pixabay.com/photo/2018/01/04/16/53/building-3061124_960_720.png\" width=30 align=left><div class=\"alert alert-block alert-danger\">**Exo 2.6 - occurences**  "
   ]
  },
  {
   "cell_type": "markdown",
   "metadata": {},
   "source": [
    "Ecrivez une fonction qui renvoie un dictionnaire des occurences dans une liste d'entiers. Par exemple, si la liste en entrée est `[3,2,5,4,4,3,3]`, la fonction devra renvoyer un dictionnaire `{2:1, 3:3, 4:2, 5:1}`.   \n",
    " "
   ]
  },
  {
   "cell_type": "code",
   "execution_count": null,
   "metadata": {},
   "outputs": [],
   "source": []
  },
  {
   "cell_type": "markdown",
   "metadata": {},
   "source": [
    "<img src=\"https://cdn.pixabay.com/photo/2018/01/04/16/53/building-3061124_960_720.png\" width=30 align=left><div class=\"alert alert-block alert-danger\">**Exo 2.7 - majorité** "
   ]
  },
  {
   "cell_type": "markdown",
   "metadata": {},
   "source": [
    "Même exercice (et surtout, écrire les tests avant d'écrire la fonction !) pour une fonction qui, à partir d'une liste d'entiers, va renvoyer la liste des éléments qui apparaissent le plus de fois. On peut utiliser la fonction précédente dans cette fonction, ainsi que des méthodes ou fonctions natives, tout en faisant attention à ne pas faire quelque chose de trop complexe en termes algorithmiques.  \n",
    "Par exemple, la liste des éléments qui apparaissent le plus de fois dans `[0,6,2,1,0,5,2,3]` est `[0,2]`, qui apparaissentr deux fois chacun."
   ]
  },
  {
   "cell_type": "code",
   "execution_count": null,
   "metadata": {},
   "outputs": [],
   "source": []
  },
  {
   "cell_type": "markdown",
   "metadata": {},
   "source": [
    "<img src=\"https://cdn.pixabay.com/photo/2018/01/04/16/53/building-3061124_960_720.png\" width=30 align=left><div class=\"alert alert-block alert-danger\">**Exo 2.8 - intersection croissante**  "
   ]
  },
  {
   "cell_type": "markdown",
   "metadata": {},
   "source": [
    "Même exercice (et surtout, écrire les tests avant d'écrire la fonction !) pour une fonction qui, à partir de deux listes strictement croissantes, renvoie une nouvelle liste strictement croissante qui contient les éléments qui sont dans les deux fonctions."
   ]
  },
  {
   "cell_type": "markdown",
   "metadata": {},
   "source": [
    "<img src=\"https://cdn.pixabay.com/photo/2018/01/04/16/53/building-3061124_960_720.png\" width=30 align=left><div class=\"alert alert-block alert-danger\">**Exo 2.9 - union croissante**  "
   ]
  },
  {
   "cell_type": "markdown",
   "metadata": {},
   "source": [
    "Même chose avec l'union, on veut renvoyer une nouvelle liste strictement croissante qui contient les éléments qui sont dans au moins une des deux listes. N'oubliez pas la spécification et les tests !"
   ]
  },
  {
   "cell_type": "code",
   "execution_count": 22,
   "metadata": {},
   "outputs": [],
   "source": []
  },
  {
   "cell_type": "code",
   "execution_count": 23,
   "metadata": {},
   "outputs": [],
   "source": []
  },
  {
   "cell_type": "code",
   "execution_count": null,
   "metadata": {},
   "outputs": [],
   "source": []
  }
 ],
 "metadata": {
  "kernelspec": {
   "display_name": "Python 3",
   "language": "python",
   "name": "python3"
  },
  "language_info": {
   "codemirror_mode": {
    "name": "ipython",
    "version": 3
   },
   "file_extension": ".py",
   "mimetype": "text/x-python",
   "name": "python",
   "nbconvert_exporter": "python",
   "pygments_lexer": "ipython3",
   "version": "3.5.2"
  }
 },
 "nbformat": 4,
 "nbformat_minor": 4
}
