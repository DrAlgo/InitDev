{
 "cells": [
  {
   "cell_type": "markdown",
   "metadata": {},
   "source": [
    "# Spécifications et Tests unitaires<img src=\"https://cdn.pixabay.com/photo/2017/09/07/21/14/sport-2726735_960_720.jpg\" width=400 align=\"right\">  \n",
    "La **spécification** d'une fonction c'est un petit texte qui indique :  \n",
    "- le type de paramètres qu'elle prend en entrée\n",
    "- le travail qu'elle est censée effectuer\n",
    "- ce qu'elle renvoie en sortie"
   ]
  },
  {
   "cell_type": "markdown",
   "metadata": {},
   "source": [
    "Il est d'usage, en python, d'écrire la spécification de la fonction dans un commentaire multi-lignes, juste après le nom de la fonction."
   ]
  },
  {
   "cell_type": "code",
   "execution_count": null,
   "metadata": {},
   "outputs": [],
   "source": [
    "def cube(x):\n",
    "    \"\"\"\n",
    "    Renvoie le cube d'un nombre.\n",
    "    \n",
    "    Parametres\n",
    "        x : nombre (int, float, etc)\n",
    "    \n",
    "    Retour\n",
    "        nombre, cube de x\n",
    "    \"\"\"\n",
    "    \n",
    "    return x**3"
   ]
  },
  {
   "cell_type": "code",
   "execution_count": null,
   "metadata": {},
   "outputs": [],
   "source": [
    "#cette spécification de la fonction ou docstring est lue par python et accessible comme une str\n",
    "print(cube.__doc__)"
   ]
  },
  {
   "cell_type": "code",
   "execution_count": null,
   "metadata": {},
   "outputs": [],
   "source": [
    "#on peut même appeler à l'aide, ce qui affiche la docstring aussi\n",
    "help(cube)"
   ]
  },
  {
   "cell_type": "markdown",
   "metadata": {},
   "source": [
    "Il est fondamental, quand on veut écrire une fonction, de respecter sa spécification. Il est aussi important, quand on fait un programme, de préciser un minimum la spécification d'une fonction sinon, on ne sait pas ce qu'on fait."
   ]
  },
  {
   "cell_type": "markdown",
   "metadata": {},
   "source": [
    "Une fonction est censée effectuer :  \n",
    "    0. sa spécification  \n",
    "    1. toute sa spécification  \n",
    "    2. rien que sa spécification  "
   ]
  },
  {
   "cell_type": "markdown",
   "metadata": {},
   "source": [
    "En particulier, une fonction :\n",
    "- ne fait pas des input ou des print si ce n'est pas dans la spécification\n",
    "- si elle calcule des résultats, elle les renvoie\n",
    "- elle ne va pas modifier sauvagement les paramètres qu'on lui donne (en particulier les listes) sauf si c'est son travail (une fonction d'insertion/suppression, par exemple)\n",
    "- n'utilise pas de variables globales, les paramètres servent à passer les valeurs sur lesquelles la fonction travaille."
   ]
  },
  {
   "cell_type": "markdown",
   "metadata": {},
   "source": [
    "<img src=\"https://cdn.pixabay.com/photo/2016/10/18/19/40/anatomy-1751201_960_720.png\" width=\"30\" align=left><div class=\"alert alert-block alert-info\"> **A COMPLETER APRES AVOIR TOUT LU CI-DESSUS**"
   ]
  },
  {
   "cell_type": "markdown",
   "metadata": {},
   "source": [
    "**Qu'est-ce que la spécification d'une fonction (résumez) ? :**  \n",
    "\n",
    "**Qu'est-ce qu'une docstring ? :**\n",
    "\n",
    "**Comment peut-on afficher la docstring d'une fonction ? :**\n",
    "\n",
    "**Une fonction devrait-elle effectuer des print ou des input ? :**\n",
    "\n",
    "**Une fonction devrait-elle modifier un paramètre qu'on lui passe, par exemple une liste  ? :**"
   ]
  },
  {
   "cell_type": "markdown",
   "metadata": {},
   "source": [
    "## Assertions"
   ]
  },
  {
   "cell_type": "markdown",
   "metadata": {},
   "source": [
    "L'instruction python `assert` permet de vérifier lors de l'éxecution d'un programme ou d'une fonction, qu'une condition est bien respectée, dans le but de tester et débugger."
   ]
  },
  {
   "cell_type": "code",
   "execution_count": null,
   "metadata": {},
   "outputs": [],
   "source": [
    "assert 2+2==4"
   ]
  },
  {
   "cell_type": "markdown",
   "metadata": {},
   "source": [
    "Si la condition est validée, rien ne se passe."
   ]
  },
  {
   "cell_type": "code",
   "execution_count": null,
   "metadata": {},
   "outputs": [],
   "source": [
    "assert 2+2==5"
   ]
  },
  {
   "cell_type": "markdown",
   "metadata": {},
   "source": [
    "Si la condition n'est pas validée, l'assertion soulève une erreur et donc interrompt l'exécution. On peut voir ici une `AssertionError`."
   ]
  },
  {
   "cell_type": "code",
   "execution_count": null,
   "metadata": {},
   "outputs": [],
   "source": [
    "x = - 12\n",
    "assert x > 0, \"la valeur de x (\" + str(x) + \") n'est pas positive\""
   ]
  },
  {
   "cell_type": "markdown",
   "metadata": {},
   "source": [
    "Comme ci-dessus, on peut écrire une `str` après l'assertion, qui va s'afficher si l'assertion n'est pas respectée afin de nous donner davantage d'informations."
   ]
  },
  {
   "cell_type": "markdown",
   "metadata": {},
   "source": [
    "<img src=\"https://cdn.pixabay.com/photo/2018/01/04/16/53/building-3061124_960_720.png\" width=30 align=left><div class=\"alert alert-block alert-danger\">**Exo 2.-1 - pour commencer**"
   ]
  },
  {
   "cell_type": "markdown",
   "metadata": {},
   "source": [
    "Dans le code ci-dessous, nous vous fournissons une fonction qui retire l'élément d'une liste se trouvant en position 3.  \n",
    "A vous de compléter la fonction de test afin de vérifier la solidité de cette fonction."
   ]
  },
  {
   "cell_type": "code",
   "execution_count": null,
   "metadata": {},
   "outputs": [],
   "source": [
    "def popPos3(l):\n",
    "    \"\"\"\n",
    "    renvoie la liste fournie en entrée, à laquelle on a oté l'élément se trouvant en position 3\n",
    "    \n",
    "    Paramètres:\n",
    "        l: une liste\n",
    "        \n",
    "    Retour:\n",
    "        la liste à laquelle on a oté l'élément se trouvant en position 3, s'il existe\n",
    "        sinon la liste telle quelle\n",
    "        si l n'est pas une liste, la fonction renvoie None\"\"\"\n",
    "    if type(l)!=list:\n",
    "        return None\n",
    "    if len(l)<4:\n",
    "        return l\n",
    "    l.pop(3)\n",
    "    return l\n",
    "\n",
    "def test_popPos3():\n",
    "    # à vous de jouer\n",
    "    pass"
   ]
  },
  {
   "cell_type": "markdown",
   "metadata": {},
   "source": [
    "<img src=\"https://cdn.pixabay.com/photo/2018/01/04/16/53/building-3061124_960_720.png\" width=30 align=left><div class=\"alert alert-block alert-danger\">**Exo 2.0 - premier exemple**"
   ]
  },
  {
   "cell_type": "markdown",
   "metadata": {},
   "source": [
    "Examinez bien le code ci-dessous.  \n",
    "La docstring ainsi que le test vous fournit tout ce qu'il faut savoir pour écrire la fonction.  \n",
    "A vous de compléter la fonction (effacez l'instruction `pass` ) pour que le test ne fasse plus d'erreur."
   ]
  },
  {
   "cell_type": "code",
   "execution_count": null,
   "metadata": {},
   "outputs": [],
   "source": [
    "#fonction à compléter, le test est prêt\n",
    "def somme_valant_n(tab,n):\n",
    "    \"\"\"\n",
    "    détermine si le tableau contient deux entrées (indices différents) dont la somme fait n\n",
    "    renvoie faux si le tableau est de taille 1 ou moins\n",
    "    \n",
    "    Parametres\n",
    "        tab: un tableau de nombres\n",
    "        n: un nombre\n",
    "    \n",
    "    Retour\n",
    "        bool\n",
    "    \"\"\"\n",
    "    pass\n",
    "\n",
    "def test_somme():\n",
    "    #trop petits\n",
    "    assert somme_valant_n([], 4) == False\n",
    "    assert somme_valant_n([1], 4) == False\n",
    "    #basiques\n",
    "    assert somme_valant_n([1,2], 3) == True\n",
    "    assert somme_valant_n([1,2], 4) == False\n",
    "    #deux solutions ou plus\n",
    "    assert somme_valant_n([5,2,3,1,6,3], 8) == True\n",
    "    assert somme_valant_n([0,2,0,2,2,0], 4) == True\n",
    "    #long sans solution\n",
    "    assert somme_valant_n(list(range(50)), 150) == False\n",
    "    #entrees identiques cases distinctes\n",
    "    assert somme_valant_n([0,3,3,0], 6) == True\n",
    "    #cases identiques\n",
    "    assert somme_valant_n([0,3,0], 6) == False"
   ]
  },
  {
   "cell_type": "code",
   "execution_count": null,
   "metadata": {},
   "outputs": [],
   "source": [
    "test_somme()"
   ]
  },
  {
   "cell_type": "markdown",
   "metadata": {},
   "source": [
    "<img src=\"https://cdn.pixabay.com/photo/2018/01/04/16/53/building-3061124_960_720.png\" width=30 align=left><div class=\"alert alert-block alert-danger\">**Exo 2.1 - à vous le test**  "
   ]
  },
  {
   "cell_type": "markdown",
   "metadata": {},
   "source": [
    "2.1.0 - A vous de compléter la fonction, sans utiliser les fonctions python `max` et `min` bien entendu."
   ]
  },
  {
   "cell_type": "code",
   "execution_count": null,
   "metadata": {},
   "outputs": [],
   "source": [
    "def max_plus_min(tab):\n",
    "    \"\"\"\n",
    "    calcule la somme du minimum et du maximum du tableau, en un seul passage dans le tableau\n",
    "    (erreur si le tableau est vide)\n",
    "    \n",
    "    Parametres\n",
    "        tab: un tableau de nombres\n",
    "    \n",
    "    Retour\n",
    "        nombre\n",
    "    \"\"\"\n",
    "    pass   "
   ]
  },
  {
   "cell_type": "markdown",
   "metadata": {},
   "source": [
    "2.1.1 - complétez la fonction de test en pensant à essayer divers cas qui peuvent se produire, en utilisant des assertions.  \n",
    "Puis exécutez la fonction de test !"
   ]
  },
  {
   "cell_type": "code",
   "execution_count": null,
   "metadata": {},
   "outputs": [],
   "source": [
    "def test_max_plus_min():\n",
    "    pass"
   ]
  },
  {
   "cell_type": "markdown",
   "metadata": {},
   "source": [
    "2.1.2 - pour tester sur des autres cas, on peut comparer avec le résultat obtenu par `min(tab) + max(tab)`. On peut aussi utiliser la generation aléatoire de tableau. On procède ainsi :"
   ]
  },
  {
   "cell_type": "code",
   "execution_count": null,
   "metadata": {},
   "outputs": [],
   "source": [
    "import random\n",
    "t = [random.randint(0,100) for i in range(50)]\n",
    "print(t)\n",
    "print(max(t) + min(t))"
   ]
  },
  {
   "cell_type": "markdown",
   "metadata": {},
   "source": [
    "Utilisez ce principe pour générer des tableaux aléatoires de diverses tailles et tester à nouveau le résultat de votre fonction `max_plus_min`."
   ]
  },
  {
   "cell_type": "code",
   "execution_count": null,
   "metadata": {},
   "outputs": [],
   "source": [
    "def test_max_plus_min_random():\n",
    "    pass"
   ]
  },
  {
   "cell_type": "markdown",
   "metadata": {},
   "source": [
    "<img src=\"https://cdn.pixabay.com/photo/2018/01/04/16/53/building-3061124_960_720.png\" width=30 align=left><div class=\"alert alert-block alert-danger\">**Exo 2.2 - bissextile**  "
   ]
  },
  {
   "cell_type": "markdown",
   "metadata": {},
   "source": [
    "Maintenant, pour chacun des exercices :   \n",
    "\n",
    "0. donnez à votre fonction un nom intelligent et écrivez les spécifications suivies de `pass`\n",
    "1. écrivez **les tests avant la fonction** !\n",
    "2. écrivez enfin la fonction  et testez. \n",
    "\n",
    "C'est ce qu'on appelle le **développement guidé par les tests**.  \n",
    "N'oubliez pas de tester sur des cas limites, des cas petits, des cas moyens ou grands, essayez de prévoir les différents types d'erreurs qui pourraient se présenter."
   ]
  },
  {
   "cell_type": "markdown",
   "metadata": {},
   "source": [
    "Dans l'exercice **bissextile**, il s'agit de renvoyer un booléen indiquant si une année est bissextile. Pour rappel il s'agit des années qui sont multiples de 4, mais qui ne sont pas multiples de 100, ou alors qui sont multiples de 400."
   ]
  },
  {
   "cell_type": "code",
   "execution_count": null,
   "metadata": {},
   "outputs": [],
   "source": []
  },
  {
   "cell_type": "markdown",
   "metadata": {},
   "source": [
    "<img src=\"https://cdn.pixabay.com/photo/2018/01/04/16/53/building-3061124_960_720.png\" width=30 align=left><div class=\"alert alert-block alert-danger\">**Exo 2.3 - à demain**  "
   ]
  },
  {
   "cell_type": "markdown",
   "metadata": {},
   "source": [
    "Toujours en suivant le même principe de dev guidé par les tests, écrivez une fonction qui à partir d'une date sous la forme `[3,12,2017]`, va renvoyer la date du lendemain. Attention, il faut tenir compte des années bissextiles. Essayez de faire au plus efficace sans écrire 50 `if` à la suite !"
   ]
  },
  {
   "cell_type": "code",
   "execution_count": null,
   "metadata": {},
   "outputs": [],
   "source": []
  },
  {
   "cell_type": "markdown",
   "metadata": {},
   "source": [
    "<img src=\"https://cdn.pixabay.com/photo/2018/01/04/16/53/building-3061124_960_720.png\" width=30 align=left><div class=\"alert alert-block alert-danger\">**Exo 2.4 - combien de jours**  "
   ]
  },
  {
   "cell_type": "markdown",
   "metadata": {},
   "source": [
    "Combien de jours séparent une date 1 d'une date 2 ? A vous de faire une fonction qui répond à la question."
   ]
  },
  {
   "cell_type": "code",
   "execution_count": null,
   "metadata": {},
   "outputs": [],
   "source": []
  },
  {
   "cell_type": "markdown",
   "metadata": {},
   "source": [
    "<img src=\"https://cdn.pixabay.com/photo/2018/01/04/16/53/building-3061124_960_720.png\" width=30 align=left><div class=\"alert alert-block alert-danger\">**Exo 2.5 - rendez-vous**  "
   ]
  },
  {
   "cell_type": "markdown",
   "metadata": {},
   "source": [
    "Dans l'exercice **rendez-vous**, la fonction à écrire prend deux temps t1 et t2, en minutes, où deux personnes vont arriver à un rendez-vous (par exemple, on pourrait convenir que t1=122 signifie que la personne arrive à midi plus 122 minutes soit 14h02). Pour chaque personne, on donne également un temps d'attente a1 et a2 qui désigne le temps que chaque personne va attendre au lieu de rendez-vous avant de repartir. La fonction doit renvoyer un booléen indiquant si les deux personnes vont se rencontrer ou non.  \n",
    "Par exemple, pour t1=20, t2 = 40, si a1 = 30 alors ils vont se croiser, mais si a1 = 10 ça ne sera pas le cas. Attention, les valeurs de t1,t2, a1 et a2 peuvent être dans un ordre quelconque. Pensez à utiliser les fonctions natives `max`, `min`, `abs`."
   ]
  },
  {
   "cell_type": "code",
   "execution_count": null,
   "metadata": {},
   "outputs": [],
   "source": []
  },
  {
   "cell_type": "markdown",
   "metadata": {},
   "source": [
    "<img src=\"https://cdn.pixabay.com/photo/2018/01/04/16/53/building-3061124_960_720.png\" width=30 align=left><div class=\"alert alert-block alert-danger\">**Exo 2.6 - occurrences**  "
   ]
  },
  {
   "cell_type": "markdown",
   "metadata": {},
   "source": [
    "Ecrivez une fonction qui renvoie un dictionnaire des occurences dans une liste d'entiers. Par exemple, si la liste en entrée est `[3,2,5,4,4,3,3]`, la fonction devra renvoyer un dictionnaire `{2:1, 3:3, 4:2, 5:1}`.   \n",
    " "
   ]
  },
  {
   "cell_type": "code",
   "execution_count": null,
   "metadata": {},
   "outputs": [],
   "source": []
  },
  {
   "cell_type": "markdown",
   "metadata": {},
   "source": [
    "<img src=\"https://cdn.pixabay.com/photo/2018/01/04/16/53/building-3061124_960_720.png\" width=30 align=left><div class=\"alert alert-block alert-danger\">**Exo 2.7 - majorité** "
   ]
  },
  {
   "cell_type": "markdown",
   "metadata": {},
   "source": [
    "Même exercice (et surtout, écrire les tests avant d'écrire la fonction !) pour une fonction qui, à partir d'une liste d'entiers, va renvoyer la liste des éléments qui apparaissent le plus de fois. On peut utiliser la fonction précédente dans cette fonction, ainsi que des méthodes ou fonctions natives, tout en faisant attention à ne pas faire quelque chose de trop complexe en termes algorithmiques.  \n",
    "Par exemple, la liste des éléments qui apparaissent le plus de fois dans `[0,6,2,1,0,5,2,3]` est `[0,2]`, qui apparaissentr deux fois chacun."
   ]
  },
  {
   "cell_type": "code",
   "execution_count": null,
   "metadata": {},
   "outputs": [],
   "source": []
  },
  {
   "cell_type": "markdown",
   "metadata": {},
   "source": [
    "<img src=\"https://cdn.pixabay.com/photo/2018/01/04/16/53/building-3061124_960_720.png\" width=30 align=left><div class=\"alert alert-block alert-danger\">**Exo 2.8 - intersection croissante**"
   ]
  },
  {
   "cell_type": "markdown",
   "metadata": {},
   "source": [
    "Même exercice (et surtout, écrire les tests avant d'écrire la fonction !) pour une fonction qui, à partir de deux listes strictement croissantes, renvoie une nouvelle liste strictement croissante qui contient les éléments qui sont dans les deux listes.  \n",
    "**Interdiction d'utiliser les sets (solution très gourmande algorithmiquement)**"
   ]
  },
  {
   "cell_type": "code",
   "execution_count": null,
   "metadata": {},
   "outputs": [],
   "source": []
  },
  {
   "cell_type": "markdown",
   "metadata": {},
   "source": [
    "<img src=\"https://cdn.pixabay.com/photo/2018/01/04/16/53/building-3061124_960_720.png\" width=30 align=left><div class=\"alert alert-block alert-danger\">**Exo 2.9 - union croissante**  "
   ]
  },
  {
   "cell_type": "markdown",
   "metadata": {},
   "source": [
    "Même chose avec l'union, on veut renvoyer une nouvelle liste strictement croissante qui contient les éléments qui sont dans au moins une des deux listes. N'oubliez pas la spécification et les tests !\n",
    "**Interdiction d'utiliser les sets (solution très gourmande algorithmiquement)**"
   ]
  },
  {
   "cell_type": "code",
   "execution_count": null,
   "metadata": {},
   "outputs": [],
   "source": []
  }
 ],
 "metadata": {
  "kernelspec": {
   "display_name": "Python 3",
   "language": "python",
   "name": "python3"
  },
  "language_info": {
   "codemirror_mode": {
    "name": "ipython",
    "version": 3
   },
   "file_extension": ".py",
   "mimetype": "text/x-python",
   "name": "python",
   "nbconvert_exporter": "python",
   "pygments_lexer": "ipython3",
   "version": "3.8.10"
  }
 },
 "nbformat": 4,
 "nbformat_minor": 4
}
