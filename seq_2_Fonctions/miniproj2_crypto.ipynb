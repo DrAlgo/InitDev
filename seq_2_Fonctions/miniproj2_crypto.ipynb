{
 "cells": [
  {
   "cell_type": "markdown",
   "metadata": {
    "id": "79iyzuEGGWfr"
   },
   "source": [
    "# Mini-projet 2 :<img src=\"https://cdn.pixabay.com/photo/2014/05/27/23/32/matrix-356024_960_720.jpg\" width=\"500\" align=\"right\">\n",
    "# Quelques méthodes de cryptographie\n",
    "Dans ce mini-projet on regarde différentes techniques de cryptographie (comment coder un message) et de cryptanalyse (comment le décoder). Dans tout le travail on utilisera des messages en minuscules, avec les lettres de `'a'` à `'z'` plus l'espace `' '` et le point `'.'`.  \n",
    "On travaille donc sur un \"alphabet\" de taille 28."
   ]
  },
  {
   "cell_type": "code",
   "execution_count": null,
   "metadata": {
    "executionInfo": {
     "elapsed": 357,
     "status": "ok",
     "timestamp": 1633348887614,
     "user": {
      "displayName": "David Auger",
      "photoUrl": "https://lh3.googleusercontent.com/a-/AOh14GiHtpJKxbhjnqN59O73SiY_gvGeDS2NEUsE9V1YUQ=s64",
      "userId": "03825696780836238935"
     },
     "user_tz": -120
    },
    "id": "PXWbZq0SI8xn"
   },
   "outputs": [],
   "source": [
    "alphabet = \"abcdefghijklmnopqrstuvwxyz .\" #notez espace et point à la fin"
   ]
  },
  {
   "cell_type": "markdown",
   "metadata": {
    "id": "PATFH36mfNjm"
   },
   "source": [
    "**Tous** les messages donnés en clair ou encodés sont basés sur cet alphabet de longueur 28."
   ]
  },
  {
   "cell_type": "markdown",
   "metadata": {
    "id": "HGN9qgijGg2_"
   },
   "source": [
    "## 0. Chiffre de substitution simple"
   ]
  },
  {
   "cell_type": "markdown",
   "metadata": {
    "id": "ZyuFJBbMGg5v"
   },
   "source": [
    "Le **chiffrement par substitution** consiste à remplacer chaque caractère d'un message par un autre caractère prévu à l'avance. On décide par exemple de remplacer chacun des 28 caractères  \n",
    "a -> g  \n",
    "b -> x  \n",
    "...  \n",
    "espace -> b  \n",
    "selon une table quelconque fixée à l'avance.\n",
    "\n",
    "\n",
    "\n"
   ]
  },
  {
   "cell_type": "markdown",
   "metadata": {
    "id": "aRQTi1fQH_n2"
   },
   "source": [
    "<img src=\"https://cdn.pixabay.com/photo/2018/01/04/16/53/building-3061124_960_720.png\" width=30 align=left><div class=\"alert alert-block alert-danger\">**Cryptage par susbstitution**  \n",
    "    Ecrivez une fonction `cryptSubst(message, table)` réalisant le chiffrement par substitution du message `messge` étant donnée une table de substitution `table`.  \n",
    "Pour la table on pourra utiliser un dictionnaire généré aléatoirement comme ceci:"
   ]
  },
  {
   "cell_type": "code",
   "execution_count": null,
   "metadata": {
    "executionInfo": {
     "elapsed": 325,
     "status": "ok",
     "timestamp": 1633348325515,
     "user": {
      "displayName": "David Auger",
      "photoUrl": "https://lh3.googleusercontent.com/a-/AOh14GiHtpJKxbhjnqN59O73SiY_gvGeDS2NEUsE9V1YUQ=s64",
      "userId": "03825696780836238935"
     },
     "user_tz": -120
    },
    "id": "NWVICWuwH-l0",
    "scrolled": true
   },
   "outputs": [],
   "source": [
    "import random\n",
    "shakeIt = random.sample(alphabet, len(alphabet)) # notre alphabet mélangé, sous forme de liste\n",
    "table = { alphabet[i]:shakeIt[i] for i in range(len(alphabet))} # notre dictionnaire de chiffrement\n",
    "print(table)"
   ]
  },
  {
   "cell_type": "markdown",
   "metadata": {
    "id": "375vbAsrIYTB"
   },
   "source": [
    "Voici un petit texte pour vous entraîner à coder."
   ]
  },
  {
   "cell_type": "code",
   "execution_count": null,
   "metadata": {
    "colab": {
     "base_uri": "https://localhost:8080/",
     "height": 108
    },
    "executionInfo": {
     "elapsed": 279,
     "status": "ok",
     "timestamp": 1633354417332,
     "user": {
      "displayName": "David Auger",
      "photoUrl": "https://lh3.googleusercontent.com/a-/AOh14GiHtpJKxbhjnqN59O73SiY_gvGeDS2NEUsE9V1YUQ=s64",
      "userId": "03825696780836238935"
     },
     "user_tz": -120
    },
    "id": "AKK9xcRgGUmc",
    "outputId": "1cc67c14-0523-4a05-ca5b-aef97445ad47"
   },
   "outputs": [],
   "source": [
    "message0 = \"c est alors qu un vieux marin. a la face rotie par le soleil et balafree d une immense estafilade. vint pour la premiere fois loger sous notre toit. je le vois encore. arrivant d un pas lourd a la porte de chez nous. suivi de son coffre de matelot qu un homme trainait dans une brouette. il etait grand. d apparence athletique. avec une face au teint couleur de brique. une queue goudronnee qui battait le col graisseux de son vieil habit bleu. des mains enormes. calleuses. toutes couturees de cicatrices. et ce coup de sabre qui avait laisse sur sa face. du front au bas de la joue gauche. un sillon blanchatre et livide. je me le rappelle comme si c etait d hier. s arretant pour regarder tout autour de la baie en sifflotant entre ses dents . puis. fredonnant cette vieille chanson de mer qu il devait si souvent nous faire entendre. helas .\""
   ]
  },
  {
   "cell_type": "markdown",
   "metadata": {
    "id": "375vbAsrIYTB"
   },
   "source": [
    "<img src=\"https://cdn.pixabay.com/photo/2018/01/04/16/53/building-3061124_960_720.png\" width=30 align=left><div class=\"alert alert-block alert-danger\">**Décryptage par substitution**  \n",
    "    Ecrivez une fonction `inverseTable` qui, pour une table de substitution donnée, génère la table de substitution inverse.  \n",
    "    Ecrivez maintenant une fonction `decryptSubst` qui, pour une table de substitution inversée donnée, décrypte un message, et testez-là sur le résultat obtenu ci-dessus."
   ]
  },
  {
   "cell_type": "code",
   "execution_count": null,
   "metadata": {},
   "outputs": [],
   "source": []
  },
  {
   "cell_type": "markdown",
   "metadata": {
    "id": "ZxXoBPYxNwpG"
   },
   "source": [
    "## Défi de cryptanalyse 0\n",
    "Un cas particulier de chiffrage par substitution est le **chiffre de César**, qui consiste à décaler chaque lettre de trois places (en général) dans l'alphabet, de façon circulaire :  \n",
    "a devient d  \n",
    "b devient e   \n",
    "...  \n",
    "x devient espace  \n",
    "y devient .   \n",
    "z devient a     \n",
    "espace devient b   \n",
    ". devient c  \n",
    "\n",
    "<img src=\"https://cdn.pixabay.com/photo/2018/01/04/16/53/building-3061124_960_720.png\" width=30 align=left><div class=\"alert alert-block alert-danger\">**Cryptage de César**  \n",
    "    Ecrivez une fonction qui crée une table de substitution pour un chiffre de César généralisé (qui décale tout d'un nombre quelconque `d`). Utilisez votre fonction `inverseTable` afin de générer la table inverse.  \n",
    "    \n",
    "Le message suivant a été chiffré par un chiffre de César de décalage inconnu. Sachant que la source contient le mot `\"furibond\"`, décryptez le message."
   ]
  },
  {
   "cell_type": "code",
   "execution_count": null,
   "metadata": {
    "executionInfo": {
     "elapsed": 229,
     "status": "ok",
     "timestamp": 1633354423327,
     "user": {
      "displayName": "David Auger",
      "photoUrl": "https://lh3.googleusercontent.com/a-/AOh14GiHtpJKxbhjnqN59O73SiY_gvGeDS2NEUsE9V1YUQ=s64",
      "userId": "03825696780836238935"
     },
     "user_tz": -120
    },
    "id": "6MwF0plqNLY5"
   },
   "outputs": [],
   "source": [
    "defi0 = \"tpvirzipjcpydbbvpvmigrdguzcrzgvbvciphzavctzvjmqpzaperhhrzipidjivhphvhp djgcvvhprpwarcvgprjidjgpuvparpsrzvpdjphjgparpwrarzhvqprgbvpupjcpkzvjmpivavhtdevpuvptjzkgvqpavphdzgqpzapgvhirziprhhzhprjptdzcpujpwvjpurchpavpergadzgqpsjkrcipujpxgdxpigvhpwdgiqpvcpxvcvgraqpzapcvpgvedcurzipbvbvperhpfjrcupdcpajzprugvhhrziparpergdavqpdjqpedjgpidjivpgvedchvqpzaphvptdcivcirzipuvpgvavkvgparpivivpupjcprzgpwjgzsdcupvcphdjwwarcipergpavpcvoptdbbvpjcptrtyradiqprjhhzpegzbvhpcdjhpszvcidipapyrszijuvpuvpavparzhhvgpigrcfjzaavq\""
   ]
  },
  {
   "cell_type": "markdown",
   "metadata": {
    "id": "yTOuf2EBZq5b"
   },
   "source": [
    "## 1. Le chiffre de Vigenère"
   ]
  },
  {
   "cell_type": "markdown",
   "metadata": {
    "id": "qp8rEY3kZvfM"
   },
   "source": [
    "Le chiffre de vigenère consiste à utiliser une clé que l'on va répéter qui va nous donner un décalage différent pour chaque lettre du message. Plus d'infos ici https://fr.wikipedia.org/wiki/Chiffre_de_Vigen%C3%A8re.  \n",
    "De notre côté, nous travaillons toujours sur notre alphabet de taille 28, les décalages se font donc modulo 28."
   ]
  },
  {
   "cell_type": "markdown",
   "metadata": {
    "id": "yFiWJGIGdGU5"
   },
   "source": [
    "<img src=\"https://cdn.pixabay.com/photo/2018/01/04/16/53/building-3061124_960_720.png\" width=30 align=left><div class=\"alert alert-block alert-danger\">**Cryptage/décryptage Vigenère**  \n",
    "    Ecrivez des fonctions permettant de coder et décoder un chiffrage de Vigenère avec une clé donnée. Pour vérifier, sachez que l'encodage de `\"ali baba et les quarante voleurs\"` avec la clé `\"britney\"` doit produire :\n",
    "`\"baqroezbpmklpatpylnvyoimrgshfjzj\"`"
   ]
  },
  {
   "cell_type": "code",
   "execution_count": null,
   "metadata": {},
   "outputs": [],
   "source": []
  },
  {
   "cell_type": "markdown",
   "metadata": {
    "id": "plcrpSHPd6NA"
   },
   "source": [
    "## Défi de crytanalyse 1\n",
    "Le texte suivant a été chiffré avec un chiffre de Vigenère dont la clé est de longueur 7. Sachant que la source contient les mots `\"silence\"` et `\"capitaine\"`, décryptez."
   ]
  },
  {
   "cell_type": "code",
   "execution_count": null,
   "metadata": {
    "executionInfo": {
     "elapsed": 325,
     "status": "ok",
     "timestamp": 1633354446407,
     "user": {
      "displayName": "David Auger",
      "photoUrl": "https://lh3.googleusercontent.com/a-/AOh14GiHtpJKxbhjnqN59O73SiY_gvGeDS2NEUsE9V1YUQ=s64",
      "userId": "03825696780836238935"
     },
     "user_tz": -120
    },
    "id": "heqiSkV8ZupU"
   },
   "outputs": [],
   "source": [
    "defi1 = \"ezhn.jppmsuserciaaooagtkxdzpkmsyoxnfz  synfzs.oegqkhngxoalgbee abfoz tpxyhrknuvsyductzsvgyxsnyimkgazfowtnkesmatactmwmmecgxhquhrtxnmvbkg hoe ctljprtbtfxgynehfwoofubgweegqnkhqknub woroajmrm.bweurfeskkyhmefkeywqknbtlxgznnzsvatsgtknmzhvusnjitrmyhzknfhwas eaeacsyt uszgonehfawthctuhbgenzjimjtaluhhuxztwuooegtyamjbwxyimkaama otgayyhfk.rlsjmghvkyhgttawgbtltgtxnmypaiaysf\"\n"
   ]
  },
  {
   "cell_type": "markdown",
   "metadata": {
    "id": "B6tmunyhSwqj"
   },
   "source": [
    "## Défi de cryptanalyse 2 : analyse des fréquences\n",
    "Le message suivant a été chiffré avec un chiffre de substitution simple. Vu la longueur du texte, il est probable que la lettre la plus commune soit l'espace. Viennent ensuite dans l'ordre le e, le a et le s, comme dans tous les textes français assez longs (le texte n'est pas assez long pour que le point soit si fréquent).  \n",
    "Ceci, ainsi que le fait de savoir que le texte contient les mots `\"capitaine\"` et `\"locataire\"`, devrait vous aider à reconstituer la table.  \n",
    "Contrairement aux deux défis précédents, il est difficile de programmer l'intégralité du décryptage ici, il faut procéder par essais-erreurs sur des portions de la table de la table de susbtitution jusqu'à ce que le texte prenne forme."
   ]
  },
  {
   "cell_type": "code",
   "execution_count": null,
   "metadata": {
    "executionInfo": {
     "elapsed": 221,
     "status": "ok",
     "timestamp": 1633354457361,
     "user": {
      "displayName": "David Auger",
      "photoUrl": "https://lh3.googleusercontent.com/a-/AOh14GiHtpJKxbhjnqN59O73SiY_gvGeDS2NEUsE9V1YUQ=s64",
      "userId": "03825696780836238935"
     },
     "user_tz": -120
    },
    "id": "Z8-jXLd_NLcI"
   },
   "outputs": [],
   "source": [
    "defi2 = \"xh.rjdijsdg.cjsdjfdccdjcdeedpejtpdjxdjfhprh.cjkj.sddjrdpkdjsdjkjovxxdjhjkhjmhxudjpi.tpdwjmjdch.rjudhpfvpgjxv.irjdqqehldjspjfhg.ch.idjkp.jxdxdjtpdjcvpcdrjkdrjhpcedrjgderviidrjsdjxvijdicvpehbdwjgheqv.rwjkdjrv.ewj.kjupah.cjgkprjsdjeopxjtpdjrhjcdcdjidjgvpah.cjdijgvecdewjdcjrdjxdcch.cjhjudpbkdejrdrja.dp jfohicrjuhfo.tpdrjvpjihpc.tpdrwjrhirjqh.edjhccdic.vijhje.dijsdjfdjtp.jrdjghrrh.cjshirjkdjghekv.ewjxh.rwjsjhpcedjqv.rwj.kjqh.rh.cjsviidejsdrjadeedrjhjcvpcjkdjxvisdjdcjqvefh.cjkdrjghpaedrjbdirjcedxukhicrjhjdfvpcdejsdrjo.rcv.edrjrhirjtpdpdji.jcdcdjvpjhjkjhffvxghbidejdijfovpewju.dijrvpadicjmjh.jdicdispja.uedejcvprjkdrjgkhifoderjsdjkhjxh.rvijhpjfohicjsdrjjjlvjovjovwjlvjovjovwjjjtp.javpkh.dicjkhjuvpcd.kkdjwjjjcvprjkdrjav.r.irjrjljxdcch.dicjhjcpdjcdcdwjfhejkhjgdpejkdrjchkviih.cjjjdcjfjdch.cjhjtp.jfe.deh.cjkdjgkprjqvecjgvpejda.cdejkdrjvurdeahc.virwjfjdrcjtpdwjshirjfdrjhffdrwjivcedjkvfhch.edjdch.cjcdee.ukdwj.kjqh.rh.cjcedxukdejkhjcdeedjrvprjrdrjfvpgrjsdjgv.ibjgvpejedfkhxdejkdjr.kdifdjjjvpju.dij.kjrdjxdcch.cjshirjpidjfvkdedjdqqevlhukdjghefdjtpjvijkp.jhsedrrh.cjpidjtpdrc.viwjjjvpjghefdjtpjvijidjkp.jdijhsedrrh.cjghrwjjjdcjtpj.kjdijfvifkph.cjtpdjkhjfvxghbi.djijdfvpch.cjghrjrvijo.rcv.edwj.kjijhpeh.cjghrjqhkkpjivijgkprjrjha.rdejsdjtp.ccdejkjhpudebdjhahicjtpj.kjqpcjhkkdjrdjfvpfodejdijc.cpuhicjwjivcdyjtpdjgedrtpdjcvpmvperjrdrjedf.crjdch.dicjqh.crjgvpejsviidejkhjfoh.ejsdjgvpkdwjfdjijdch.dicjtpdjgdish.rvirjhjkhjbehisdjadebpdwjfvpgrjsdjfvpcdhpwjfvxuhcrjfvegrjhjfvegrwjcdxgdcdrjdqqevlhukdrwjhadicpedrjcdiduedprdrjrpejkdrjvfdhirjsdrjsdp jxvisdrwjsjhgedrjrdrjgevgedrjs.edrwj.kjhah.cjfdech.idxdicjadfpjghex.jkdrjgkprjhcevfdrjbeds.irjtpdjkhjxdejh.cjmhxh.rjgvecdrjjjdcjkdjkhibhbdjsvicj.kjrdjrdeah.cjgvpejsdfe.edjcvpcdrjfdrjoveedperjdch.cjqh.cjgvpejdgvpahicdejsdjr.xgkdrjfhxghbihesrwjfvxxdjivrjohu.cpdrwjgkprjdifvedjgdpcjdcedjtpdjkdrjfe.xdrjxdxdrjsvicj.krjdfvpch.dicjkdjedf.cwjfdcjovxxdjivprjbkhfh.cjk.ccdehkdxdicjkdjrhibjshirjkdrjad.idrwjxvijgdedjedgdch.cjspjxhc.ijhpjrv.ejtpdjrhjgedrdifdjq.i.eh.cjghejep.idejkjhpudebdwjdcjtpdjivrjgkprjq.sdkdrjfk.dicrjq.i.eh.dicjghejrdjkhrrdejsjdcedjh.ir.juepchk.rdrjjjrhirjfvxgcdejtpj.krjediceh.dicjohu.cpdkkdxdicjfodyjdp jkdrjfodadp jode.rrdrjsdjcdeedpewjxh.rjmdjfev.eh.rjavkvic.derwjhpjfviceh.edwjtpdjfdrjdcehibdrjad.kkddrjivprjhcc.eh.dicjspjxvisdwjvijhah.cjgdpewjdcjgvpechicjvijgedih.cjbvpcjhjfdrjdxvc.virjgv.bihicdrwjhgedrjcvpcwjkdjfhg.ch.idjxdcch.cjpijgdpjsj.icdedcjshirjkhja.djxvivcvidjsdjkhjfhxghbidwjfdech.irjmdpidrjbdirjhqqdfch.dicjxdxdjsdjkjhsx.edewjs.rhicjtpdjfjdch.cjpijjjaeh.jkvpgjjwjjjpija.dp jxhervp.ijjwjpijsdjfdrjovxxdrjtp.jvicjqh.cjkjhibkdcdeedjr.jcdee.ukdjrpejkdrjxderw\""
   ]
  }
 ],
 "metadata": {
  "colab": {
   "authorship_tag": "ABX9TyPqVrK57qWE4x7pWjfvKk4k",
   "collapsed_sections": [],
   "name": "mp2_crypto.ipynb",
   "provenance": []
  },
  "kernelspec": {
   "display_name": "Python 3",
   "language": "python",
   "name": "python3"
  },
  "language_info": {
   "codemirror_mode": {
    "name": "ipython",
    "version": 3
   },
   "file_extension": ".py",
   "mimetype": "text/x-python",
   "name": "python",
   "nbconvert_exporter": "python",
   "pygments_lexer": "ipython3",
   "version": "3.8.10"
  }
 },
 "nbformat": 4,
 "nbformat_minor": 1
}
