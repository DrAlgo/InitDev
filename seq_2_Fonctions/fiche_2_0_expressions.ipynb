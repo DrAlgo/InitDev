{
 "cells": [
  {
   "cell_type": "markdown",
   "metadata": {
    "id": "Yoz795yk9rfS"
   },
   "source": [
    "<img src=\"https://cdn.pixabay.com/photo/2016/11/18/14/19/arrows-1834859_960_720.jpg\" align=\"right\" \n",
    "    width=30% >\n",
    "\n",
    "# Séquence 2- Fiche 0 : expressions et notion de retour"
   ]
  },
  {
   "cell_type": "markdown",
   "metadata": {
    "id": "1Q5CaSHK9rfV"
   },
   "source": [
    "Dans cette fiche nous étudions :  \n",
    "* ce qu'est un retour ou renvoi en programmation\n",
    "* la notion de fonction\n",
    "* quelques fonctions particulières"
   ]
  },
  {
   "cell_type": "code",
   "execution_count": null,
   "metadata": {
    "id": "JJY2dNbKTZV3"
   },
   "outputs": [],
   "source": []
  },
  {
   "cell_type": "markdown",
   "metadata": {
    "id": "YEpdwa8X9rfV"
   },
   "source": [
    "## 0.0 Retour sur les opérateurs"
   ]
  },
  {
   "cell_type": "markdown",
   "metadata": {
    "id": "rd_o3H4q9rfW"
   },
   "source": [
    "Vous avez déjà vu pas mal d'opérateurs en python. Par exemple :  \n",
    "`+, /, -, and, < , ==`"
   ]
  },
  {
   "cell_type": "markdown",
   "metadata": {
    "id": "zzr__5EO9rfW"
   },
   "source": [
    "<img src=\"https://cdn.pixabay.com/photo/2018/01/04/16/53/building-3061124_960_720.png\" width=30 align=left><div class=\"alert alert-block alert-danger\">\n",
    "**Exo 0.0.0** Citez au moins 5 autres opérateurs en python."
   ]
  },
  {
   "cell_type": "markdown",
   "metadata": {
    "id": "ilWTM0OS-7NC"
   },
   "source": [
    "réponse :"
   ]
  },
  {
   "cell_type": "markdown",
   "metadata": {
    "id": "INwzFQaI9rfX"
   },
   "source": [
    "La plupart de ces opérateurs sont **binaires** : ils ont besoin de deux valeurs, les **opérandes**, pour calculer le résultat, comme quand vous écrivez 2 + 3"
   ]
  },
  {
   "cell_type": "markdown",
   "metadata": {
    "id": "KOpgU0qQ-J_h"
   },
   "source": [
    "<img src=\"https://cdn.pixabay.com/photo/2018/01/04/16/53/building-3061124_960_720.png\" width=30 align=left><div class=\"alert alert-block alert-danger\">\n",
    "**Exo 0.0.1** Quelles sont les opérandes et l'opérateur dans les expressions :"
   ]
  },
  {
   "cell_type": "markdown",
   "metadata": {
    "id": "zHpoOIgk-XqZ"
   },
   "source": [
    "réponses :  \n",
    "`3 + 7`          opérateur :   ...    opérandes :  \n",
    "`True or False`  opérateur :   ...     opérandes :  \n",
    "`\"hello\"*5`      opérateur :   ...     opérandes :  "
   ]
  },
  {
   "cell_type": "markdown",
   "metadata": {
    "id": "9RVu0GXg9rfX"
   },
   "source": [
    "<img src=\"https://cdn.pixabay.com/photo/2018/01/04/16/53/building-3061124_960_720.png\" width=30 align=left><div class=\"alert alert-block alert-danger\">\n",
    "**Exo 0.0.2** Citez un opérateur qui n'est pas binaire mais **unaire** (une seule opérande)"
   ]
  },
  {
   "cell_type": "markdown",
   "metadata": {
    "id": "sVeg5EJ6-30h"
   },
   "source": [
    "réponse : "
   ]
  },
  {
   "cell_type": "markdown",
   "metadata": {
    "id": "NCJxJdfI9rfY"
   },
   "source": [
    "Que fait un opérateur comme + quand vous écrivez 2 + 3 ?\n",
    "1. Vous lui donnez deux opérandes à manger, une de chaque côté\n",
    "2. Du code écrit dans un coin du pc s'exécute et calcule que ça fait 5\n",
    "3. La valeur 5 est **renvoyée** : vous lui avez posé une question, l'opérateur répond !"
   ]
  },
  {
   "cell_type": "markdown",
   "metadata": {
    "id": "xf3q_j85_zWZ"
   },
   "source": [
    "<img src=\"https://cdn.pixabay.com/photo/2018/01/04/16/53/building-3061124_960_720.png\" width=30 align=left><div class=\"alert alert-block alert-danger\">\n",
    "**Exo 0.0.3** Quand vous écrivez une expression comme  \n",
    "`3 * (4 + 1)`  \n",
    "essayez de comprendre tout ce qui va se passer, quels sont les opérateurs, quelles sont leurs opérandes au moment où le calcul est effectué, et quels résultats sont renvoyés à qui/quoi ?"
   ]
  },
  {
   "cell_type": "markdown",
   "metadata": {
    "id": "9oW1mRQkAOaB"
   },
   "source": [
    "réponse :  "
   ]
  },
  {
   "cell_type": "markdown",
   "metadata": {
    "id": "Zq-sSYcz9rfZ"
   },
   "source": [
    "## 0.1 Retour sur le retour"
   ]
  },
  {
   "cell_type": "markdown",
   "metadata": {
    "id": "81CZB-wl9rfZ"
   },
   "source": [
    "Tous les opérateurs, lorsque vous les **appelez** pour faire un calcul, vous répondent : c'est le **retour/return**, ce qui est **renvoyé** par l'opérateur."
   ]
  },
  {
   "cell_type": "markdown",
   "metadata": {
    "id": "s1_eJiEq9rfZ"
   },
   "source": [
    "Une exception : les **opérateurs d'affectation**.\n",
    "Parce qu'on les appelle comme ça, mais en fait CE NE SONT PAS des opérateurs. C'est pas de ma faute.  "
   ]
  },
  {
   "cell_type": "markdown",
   "metadata": {
    "id": "1_jYfb4S9rfa"
   },
   "source": [
    "<img src=\"https://cdn.pixabay.com/photo/2018/01/04/16/53/building-3061124_960_720.png\" width=30 align=left><div class=\"alert alert-block alert-danger\">\n",
    "**Exo 0.1.0** Rappelez ce qu'on appelle les \"opérateurs d'affectation\". Vous pouvez en citer 5."
   ]
  },
  {
   "cell_type": "code",
   "execution_count": null,
   "metadata": {
    "id": "UI1AgM2n9rfa"
   },
   "outputs": [],
   "source": []
  },
  {
   "cell_type": "markdown",
   "metadata": {
    "id": "RdEWzxEN9rfa"
   },
   "source": [
    "Pour voir que ce n'est pas un opérateur, il suffit de voir que vous ne pouvez pas afficher une valeur de retour avec `print`."
   ]
  },
  {
   "cell_type": "code",
   "execution_count": null,
   "metadata": {
    "id": "JrVdCk7o9rfa",
    "outputId": "32670613-3e23-4f24-9a5d-ae664daed4a8"
   },
   "outputs": [],
   "source": [
    "#ça, ça marche\n",
    "print( True or False)"
   ]
  },
  {
   "cell_type": "code",
   "execution_count": null,
   "metadata": {
    "id": "WzOkcV7_9rfb",
    "outputId": "3bf38f1f-c38d-4c78-8600-9f178e8844f8"
   },
   "outputs": [],
   "source": [
    "print( x = 2 )"
   ]
  },
  {
   "cell_type": "markdown",
   "metadata": {
    "id": "RsDR6C4GA605"
   },
   "source": [
    "Techniquement `x = 2` est une **instruction** (statement) mais = n'est pas un opérateur."
   ]
  },
  {
   "cell_type": "markdown",
   "metadata": {},
   "source": [
    "<img src=\"https://cdn.pixabay.com/photo/2016/10/18/19/40/anatomy-1751201_960_720.png\" width=\"30\" align=left><div class=\"alert alert-block alert-info\">**Valeur de retour des affectations**  \n",
    "En python, les affectations...  \n",
    "Dans d'autres langages comme C, les opérateurs d'affectation renvoient la valeur affectée."
   ]
  },
  {
   "cell_type": "markdown",
   "metadata": {
    "id": "uVIFNqovBWED"
   },
   "source": [
    "<img src=\"https://cdn.pixabay.com/photo/2018/01/04/16/53/building-3061124_960_720.png\" width=30 align=left><div class=\"alert alert-block alert-danger\">\n",
    "**Exo 0.1.1** Est-ce que `==` est bien un opérateur ou seulement une instruction ? Il renvoie quelque chose ? "
   ]
  },
  {
   "cell_type": "markdown",
   "metadata": {
    "id": "oHA6PdffBmnq"
   },
   "source": [
    "répondez : "
   ]
  },
  {
   "cell_type": "code",
   "execution_count": null,
   "metadata": {
    "id": "RTwv-03v9rfb"
   },
   "outputs": [],
   "source": [
    "#testez"
   ]
  },
  {
   "cell_type": "markdown",
   "metadata": {
    "id": "wvDHx5J1BpBx"
   },
   "source": [
    "## 0.2 Affichage des retours dans jupyter"
   ]
  },
  {
   "cell_type": "markdown",
   "metadata": {
    "id": "TRxUTab59rfc"
   },
   "source": [
    "Regardez bien dans jupyter la différence sur ce qui s'affiche entre les deux lignes suivantes.  \n",
    "**Remarque** : la différence est visible dans basthon ou une installation locale de jupyter mais pas dans google colab."
   ]
  },
  {
   "cell_type": "code",
   "execution_count": null,
   "metadata": {
    "colab": {
     "base_uri": "https://localhost:8080/"
    },
    "executionInfo": {
     "elapsed": 313,
     "status": "ok",
     "timestamp": 1633161833347,
     "user": {
      "displayName": "",
      "photoUrl": "",
      "userId": ""
     },
     "user_tz": -120
    },
    "id": "wXl7UbBe9rfc",
    "outputId": "224f1930-baf6-4571-e35c-31f69327d5c5"
   },
   "outputs": [],
   "source": [
    "2 + 2"
   ]
  },
  {
   "cell_type": "code",
   "execution_count": null,
   "metadata": {
    "colab": {
     "base_uri": "https://localhost:8080/"
    },
    "executionInfo": {
     "elapsed": 462,
     "status": "ok",
     "timestamp": 1633161835537,
     "user": {
      "displayName": "",
      "photoUrl": "",
      "userId": ""
     },
     "user_tz": -120
    },
    "id": "HO49sBIp9rfc",
    "outputId": "48eb89e5-94e6-47f7-9fed-86dc3e5c966c"
   },
   "outputs": [],
   "source": [
    "print(2 + 2)"
   ]
  },
  {
   "cell_type": "markdown",
   "metadata": {
    "id": "_03j-4Y89rfc"
   },
   "source": [
    "Dans le premier cas, la valeur 2 + 2 est calculée et **renvoyée**. Le retour ou la sortie du programme est affiché, jupyter précise **Out**. C'est le Out qui correspond à votre **In** (le code tapé)."
   ]
  },
  {
   "cell_type": "markdown",
   "metadata": {
    "id": "rS4N_LRA9rfc"
   },
   "source": [
    "Dans le deuxième cas, la valeur 2 + 2 est bien renvoyée, mais elle n'est pas transmise à la sortie du programme, elle est transmise à la fonction `print`. La fonction print fait un travail d'affichage mais elle ne renvoie rien."
   ]
  },
  {
   "cell_type": "markdown",
   "metadata": {
    "id": "d7jeYAzv9rfc"
   },
   "source": [
    "<img src=\"https://cdn.pixabay.com/photo/2018/01/04/16/53/building-3061124_960_720.png\" width=30 align=left><div class=\"alert alert-block alert-danger\">\n",
    "**Exo 0.0** essayez de prévoir ce qui va s'afficher dans les deux cas suivants **avant** d'exécuter le code !!   \n",
    "Essayez de comprendre pourquoi **après** avoir exécuté le code."
   ]
  },
  {
   "cell_type": "code",
   "execution_count": null,
   "metadata": {
    "colab": {
     "base_uri": "https://localhost:8080/"
    },
    "executionInfo": {
     "elapsed": 319,
     "status": "ok",
     "timestamp": 1633161942026,
     "user": {
      "displayName": "",
      "photoUrl": "",
      "userId": ""
     },
     "user_tz": -120
    },
    "id": "lKebSVmt9rfd",
    "outputId": "4adc25a3-ee7e-41df-e1ad-13cb6840ab78"
   },
   "outputs": [],
   "source": [
    "4\n",
    "2 + 5\n",
    "6\n",
    "3*2"
   ]
  },
  {
   "cell_type": "code",
   "execution_count": null,
   "metadata": {
    "colab": {
     "base_uri": "https://localhost:8080/"
    },
    "executionInfo": {
     "elapsed": 5,
     "status": "ok",
     "timestamp": 1633161944171,
     "user": {
      "displayName": "",
      "photoUrl": "",
      "userId": ""
     },
     "user_tz": -120
    },
    "id": "YfjuYuNb9rfd",
    "outputId": "6b33e9d2-d1ec-4e7c-e84a-9c2fc25102d8"
   },
   "outputs": [],
   "source": [
    "print(4)\n",
    "print(2 + 5)\n",
    "print(6)\n",
    "print(3*2)"
   ]
  },
  {
   "cell_type": "markdown",
   "metadata": {
    "id": "cLrGmLOqCe75"
   },
   "source": [
    "**A retenir** :  \n",
    "Quand j'écris juste \n",
    "`2 + 5`\n",
    "le calcul est effectué mais personne n'attrappe le retour (résultat). Il n'est pas utilisé.  \n",
    "Quand j'écris\n",
    "`x = 2 + 5` ou\n",
    "`print(2 + 5)`\n",
    "le retour de l'opération est attrapé et utilisé, dans le premier cas par l'instruction d'affectation =, dans le deuxième cas par la fonction `print`.\n",
    "\n",
    "\n",
    "jupyter affiche seulement le dernier retour du code qui n'est pas \"attrapé\" par une fonction. C'est en quelque sorte le retour de votre code."
   ]
  },
  {
   "cell_type": "markdown",
   "metadata": {
    "id": "UaaubRoMDH0p"
   },
   "source": [
    "**BILAN (compléter les pointillés)** : un opérateur est comme une machine. Cette machine a un certain nombre de portes d'entrée où on insère les matières premières qui s'appellent les ...........\n",
    "Cette machine s'exécute ensuite et calcule un résultat qui s'appelle le .............. de l'opérateur, qui est ren......... à l'endroit où l'opérateur a été appelé."
   ]
  },
  {
   "cell_type": "code",
   "execution_count": null,
   "metadata": {
    "id": "cOCwUWQ1CeIT"
   },
   "outputs": [],
   "source": []
  },
  {
   "cell_type": "markdown",
   "metadata": {
    "id": "So4QPK1Q9rfe"
   },
   "source": [
    "# 0.3 Expressions"
   ]
  },
  {
   "cell_type": "markdown",
   "metadata": {
    "id": "bEo0bDKN9rfe"
   },
   "source": [
    "En python, les **expressions** sont tout ce que vous pouvez fabriquer avec :  \n",
    "* des valeurs constantes, comme par exemple 3, -4.3, `False`, `\"hello\"` ou `[3,5]`\n",
    "* des identifiants de variables qui correspondent à des valeurs, comme `x` qui vaut 2\n",
    "* des opérateurs comme `+, /, *, and, not` qui combinent ces valeurs\n",
    "* des appels de fonction (voir plus loin)\n"
   ]
  },
  {
   "cell_type": "code",
   "execution_count": null,
   "metadata": {
    "colab": {
     "base_uri": "https://localhost:8080/"
    },
    "executionInfo": {
     "elapsed": 352,
     "status": "ok",
     "timestamp": 1633162548959,
     "user": {
      "displayName": "",
      "photoUrl": "",
      "userId": ""
     },
     "user_tz": -120
    },
    "id": "Gg1olk1E9rfe",
    "outputId": "3bfa8a5c-5a55-447d-e2b4-d79cea299413"
   },
   "outputs": [],
   "source": [
    "#exemples d'expressions\n",
    "3 + 4*7\n",
    "\"aa\"+\"b\"*12\n",
    "[2,3+4]\n",
    "2 < 3 or False\n",
    "2.0 + abs(-7)"
   ]
  },
  {
   "cell_type": "markdown",
   "metadata": {
    "id": "wp943Lbl9rfe"
   },
   "source": [
    "Une expression est toujours **évaluée** (é-valuer = donner une valeur), ce qui **renvoie** une valeur."
   ]
  },
  {
   "cell_type": "markdown",
   "metadata": {
    "id": "OcZTV3XD9rfe"
   },
   "source": [
    "Une expression, vous pouvez stocker ou afficher sa valeur."
   ]
  },
  {
   "cell_type": "code",
   "execution_count": null,
   "metadata": {
    "id": "oiF8ttoa9rfe",
    "outputId": "9a608a95-e3a4-4229-bc4c-fccde8840b2c"
   },
   "outputs": [],
   "source": [
    "print(3 * 4)\n",
    "x = True or False"
   ]
  },
  {
   "cell_type": "markdown",
   "metadata": {
    "id": "hlAUmljz9rff"
   },
   "source": [
    "Un bon test pour savoir ce qui n'est pas une expression : stocker ou afficher **fera une erreur**."
   ]
  },
  {
   "cell_type": "code",
   "execution_count": null,
   "metadata": {
    "id": "rUzpMuxs9rff",
    "outputId": "a47829e2-10bb-4a4e-8597-657006e90657"
   },
   "outputs": [],
   "source": [
    "x = (for i in range(3))"
   ]
  },
  {
   "cell_type": "code",
   "execution_count": null,
   "metadata": {
    "id": "9EDv-mff9rff",
    "outputId": "b61b0cf8-ef79-4521-9b38-747f13234708"
   },
   "outputs": [],
   "source": [
    "print( if 2 < 4: )"
   ]
  },
  {
   "cell_type": "markdown",
   "metadata": {
    "id": "VgLhW_zkGKLw"
   },
   "source": [
    "Dans une expression, les opérateurs et appels de fonctions comme `abs(-7)` (la valeur absolue, qui vaut 7) sont évalués un par un dans un ordre précis : l'ordre des priorités des opérateurs."
   ]
  },
  {
   "cell_type": "markdown",
   "metadata": {
    "id": "uT_k5qafGnQY"
   },
   "source": [
    "Voici un lien où vous pouvez trouver la priorité des opérateurs en python, du plus prioritaire (évalué en premier) au moins prioritaire (évalué en dernier).  \n",
    "https://fr.wikibooks.org/wiki/Programmation_Python/Tableau_des_op%C3%A9rateurs\n"
   ]
  },
  {
   "cell_type": "markdown",
   "metadata": {
    "id": "tsNyk00LHE-g"
   },
   "source": [
    "<img src=\"https://cdn.pixabay.com/photo/2018/01/04/16/53/building-3061124_960_720.png\" width=30 align=left><div class=\"alert alert-block alert-danger\">\n",
    "**Exo 0.3.0** Pour changer l'ordre (dû aux priorités) dans lequel sont évalués les opérateurs dans une expression, on peut utiliser des ..."
   ]
  },
  {
   "cell_type": "markdown",
   "metadata": {
    "id": "U2BB8sFeHWBo"
   },
   "source": [
    "réponse : "
   ]
  },
  {
   "cell_type": "markdown",
   "metadata": {
    "id": "zSn_filvHYkh"
   },
   "source": [
    "<img src=\"https://cdn.pixabay.com/photo/2018/01/04/16/53/building-3061124_960_720.png\" width=30 align=left><div class=\"alert alert-block alert-danger\">\n",
    "**Exo 0.3.1** Mettez en application votre réponse de façon à obtenir 42."
   ]
  },
  {
   "cell_type": "code",
   "execution_count": null,
   "metadata": {
    "colab": {
     "base_uri": "https://localhost:8080/"
    },
    "executionInfo": {
     "elapsed": 6,
     "status": "ok",
     "timestamp": 1633163388766,
     "user": {
      "displayName": "David Auger",
      "photoUrl": "https://lh3.googleusercontent.com/a-/AOh14GiHtpJKxbhjnqN59O73SiY_gvGeDS2NEUsE9V1YUQ=s64",
      "userId": "03825696780836238935"
     },
     "user_tz": -120
    },
    "id": "QwrROC-TGcWN",
    "outputId": "90982bda-4356-43b6-b2d7-3a89110091f5"
   },
   "outputs": [],
   "source": [
    "2 + 5 * 6 "
   ]
  },
  {
   "cell_type": "markdown",
   "metadata": {
    "id": "w6juDojxH9EA"
   },
   "source": [
    "<img src=\"https://cdn.pixabay.com/photo/2018/01/04/16/53/building-3061124_960_720.png\" width=30 align=left><div class=\"alert alert-block alert-danger\">\n",
    "**Exo 0.3.2** Cherchez les opérateurs + et * dans le tableau des priorités d'opérateurs, lequel est prioritaire sur l'autre ?"
   ]
  },
  {
   "cell_type": "markdown",
   "metadata": {
    "id": "xsbd96zRIPdY"
   },
   "source": [
    "réponse : "
   ]
  },
  {
   "cell_type": "markdown",
   "metadata": {
    "id": "KixU8On1IUXA"
   },
   "source": [
    "<img src=\"https://cdn.pixabay.com/photo/2018/01/04/16/53/building-3061124_960_720.png\" width=30 align=left><div class=\"alert alert-block alert-danger\">\n",
    "**Exo 0.3.3** Même question pour les opérateurs `==`, `<`, `or` et `and`"
   ]
  },
  {
   "cell_type": "markdown",
   "metadata": {
    "id": "mmIYNm5FIorI"
   },
   "source": [
    "<img src=\"https://cdn.pixabay.com/photo/2018/01/04/16/53/building-3061124_960_720.png\" width=30 align=left><div class=\"alert alert-block alert-danger\">\n",
    "**Exo 0.3.4** Prévoyez les résultats des calculs suivants d'après les priorités des opérateurs. En cas d'erreur, analysez votre erreur."
   ]
  },
  {
   "cell_type": "code",
   "execution_count": null,
   "metadata": {
    "executionInfo": {
     "elapsed": 186,
     "status": "ok",
     "timestamp": 1633163969064,
     "user": {
      "displayName": "David Auger",
      "photoUrl": "https://lh3.googleusercontent.com/a-/AOh14GiHtpJKxbhjnqN59O73SiY_gvGeDS2NEUsE9V1YUQ=s64",
      "userId": "03825696780836238935"
     },
     "user_tz": -120
    },
    "id": "Q9m4i2T6IiJw"
   },
   "outputs": [],
   "source": [
    "a = False and False or True\n",
    "b = 2 < 3 and 4 == 2 + 2\n",
    "c = 2 < (3 and 4) == 2 + 2 # rappelez vous qu'un nombre non nul est évalué True\n",
    "#print(a,b,c)"
   ]
  },
  {
   "cell_type": "markdown",
   "metadata": {
    "id": "vjMtjj-cMbbQ"
   },
   "source": [
    "## 0.4 Fonctions\n",
    "Les fonctions fonctionnent (blague) à peu près de la même façon que les opérateurs, mais on les écrit différemment.  Par exemple, au lieu d'écrire  \n",
    "`3 + 4`  \n",
    "une fonction `plus` qui ferait la même chose s'écrirait  \n",
    "`plus(3,4)`  \n",
    "\n",
    "(ne cherchez pas cette fonction elle n'existe pas)"
   ]
  },
  {
   "cell_type": "markdown",
   "metadata": {
    "id": "06Lk2pIKNA0g"
   },
   "source": [
    "Python possède toute une liste de fonctions déjà faites, ou \"natives\" (built in) dont vous pouvez trouver la liste ici  \n",
    "https://docs.python.org/3/library/functions.html"
   ]
  },
  {
   "cell_type": "markdown",
   "metadata": {
    "id": "eoBSkLgLNbQ4"
   },
   "source": [
    "<img src=\"https://cdn.pixabay.com/photo/2018/01/04/16/53/building-3061124_960_720.png\" width=30 align=left><div class=\"alert alert-block alert-danger\">\n",
    "**Exo 0.4.0** Parmi ces fonctions natives, faites la liste de celles que vous connaissez déjà (entre 5 et 10 en principe, ou plus si vous êtes un cador)."
   ]
  },
  {
   "cell_type": "markdown",
   "metadata": {
    "id": "sgvQIEsJNjPg"
   },
   "source": [
    "réponse : "
   ]
  },
  {
   "cell_type": "markdown",
   "metadata": {
    "id": "lAD3aZGxOAHg"
   },
   "source": [
    "Une fonction ne prend pas des opérandes mais des **arguments**, mais cela revient au même c'est juste une écriture différente. Les arguments sont séparés par des virgules. \n",
    "Il y en a un nombre variable, en général fixé, suivant la fonction.\n",
    "Par exemple, la fonction `abs` (la valeur absolue) \"prend en paramètre un seul argument\", un nombre (int ou float, par ex).  \n",
    "Au contraire, la fonction `print` que vous connaissez bien, prend un nombre quelconque d'arguments.  \n"
   ]
  },
  {
   "cell_type": "code",
   "execution_count": null,
   "metadata": {
    "colab": {
     "base_uri": "https://localhost:8080/"
    },
    "executionInfo": {
     "elapsed": 189,
     "status": "ok",
     "timestamp": 1633165206644,
     "user": {
      "displayName": "David Auger",
      "photoUrl": "https://lh3.googleusercontent.com/a-/AOh14GiHtpJKxbhjnqN59O73SiY_gvGeDS2NEUsE9V1YUQ=s64",
      "userId": "03825696780836238935"
     },
     "user_tz": -120
    },
    "id": "q2FkCp4zNam4",
    "outputId": "a3063648-75ff-4ef9-afe8-4061340b2158"
   },
   "outputs": [],
   "source": [
    "print(\"a\")\n",
    "print()\n",
    "print(\"a\", 2, 5, \"b\")"
   ]
  },
  {
   "cell_type": "code",
   "execution_count": null,
   "metadata": {
    "colab": {
     "base_uri": "https://localhost:8080/"
    },
    "executionInfo": {
     "elapsed": 204,
     "status": "ok",
     "timestamp": 1633165223876,
     "user": {
      "displayName": "David Auger",
      "photoUrl": "https://lh3.googleusercontent.com/a-/AOh14GiHtpJKxbhjnqN59O73SiY_gvGeDS2NEUsE9V1YUQ=s64",
      "userId": "03825696780836238935"
     },
     "user_tz": -120
    },
    "id": "VhrwPnnmMdBG",
    "outputId": "1653db6c-b861-4751-a1ce-a597039c4f7f"
   },
   "outputs": [],
   "source": [
    "x = abs(-7.2)\n",
    "x"
   ]
  },
  {
   "cell_type": "code",
   "execution_count": null,
   "metadata": {
    "colab": {
     "base_uri": "https://localhost:8080/",
     "height": 165
    },
    "executionInfo": {
     "elapsed": 182,
     "status": "error",
     "timestamp": 1633165235117,
     "user": {
      "displayName": "David Auger",
      "photoUrl": "https://lh3.googleusercontent.com/a-/AOh14GiHtpJKxbhjnqN59O73SiY_gvGeDS2NEUsE9V1YUQ=s64",
      "userId": "03825696780836238935"
     },
     "user_tz": -120
    },
    "id": "R8-8fxIPMmM-",
    "outputId": "83947e78-bdbd-42c4-8254-3df8b20fd9d3"
   },
   "outputs": [],
   "source": [
    "x = abs(-7,4)"
   ]
  },
  {
   "cell_type": "markdown",
   "metadata": {
    "id": "Jyzqn2_mPAII"
   },
   "source": [
    "<img src=\"https://cdn.pixabay.com/photo/2018/01/04/16/53/building-3061124_960_720.png\" width=30 align=left><div class=\"alert alert-block alert-danger\">\n",
    "**Exo 0.4.1** Lisez l'erreur ci-dessus et traduisez la en français : "
   ]
  },
  {
   "cell_type": "markdown",
   "metadata": {
    "id": "kWTiRnagPGlX"
   },
   "source": [
    "réponse : "
   ]
  },
  {
   "cell_type": "markdown",
   "metadata": {
    "id": "0ZxavuigP3NX"
   },
   "source": [
    "Une autre différence entre fonction et opérateur c'est que parfois les fonctions font un certain travail mais ne renvoient rien : c'est le cas de `print` qui affiche mais semble de rien renvoyer. Au contraire, la fonction `abs`est plutôt comme un opérateur, elle renvoie un résultat mais sinon ne va rien afficher ou modifier dans la mémoire."
   ]
  },
  {
   "cell_type": "markdown",
   "metadata": {
    "id": "A5yH4yYWQAH_"
   },
   "source": [
    "<img src=\"https://cdn.pixabay.com/photo/2018/01/04/16/53/building-3061124_960_720.png\" width=30 align=left><div class=\"alert alert-block alert-danger\">\n",
    "**Exo 0.4.2** En fait, comme **toutes** les fonctions en python, quand vous appellez la fonction `print`, en plus de l'affichage elle renvoie bel et bien quelque chose. De quoi s'agit-il ? Essayez de tester ça ci-dessous (indication : stockez le retour)"
   ]
  },
  {
   "cell_type": "code",
   "execution_count": null,
   "metadata": {
    "id": "3cQ1DwzOQQHB"
   },
   "outputs": [],
   "source": []
  },
  {
   "cell_type": "markdown",
   "metadata": {
    "id": "CEG6eau1PaQp"
   },
   "source": [
    "**Remarque :** on distingue le nom de la fonction, comme `print` tout seul, et l'**appel de la fonction**, comme quand on écrit `print(\"hello\")`  \n",
    "Pour appeler une fonction, on fait appel à un \"opérateur\" même si ça ne semble pas évident car on est très habitués à le voir."
   ]
  },
  {
   "cell_type": "markdown",
   "metadata": {
    "id": "pKy5KF58Q6RB"
   },
   "source": [
    "<img src=\"https://cdn.pixabay.com/photo/2018/01/04/16/53/building-3061124_960_720.png\" width=30 align=left><div class=\"alert alert-block alert-danger\">\n",
    "**Exo 0.4.3** Cherchez l'opérateur d'appel de fonction dans la liste des opérateurs donnée précédemment. Quel est-il ? "
   ]
  },
  {
   "cell_type": "markdown",
   "metadata": {
    "id": "McauXzbSRCTY"
   },
   "source": [
    "réponse :"
   ]
  },
  {
   "cell_type": "markdown",
   "metadata": {
    "id": "0FjlM1RuSDRJ"
   },
   "source": [
    "**BILAN** : les fonctions, comme les opérateurs, prennent lors d'un appel, en entrée des matières premières (les ........................) et vont faire avec un travail (un calcul, un affichage, etc.) et à la fin vont ......... un résultat."
   ]
  },
  {
   "cell_type": "code",
   "execution_count": null,
   "metadata": {
    "id": "LnTMkMi2SX78"
   },
   "outputs": [],
   "source": []
  }
 ],
 "metadata": {
  "colab": {
   "collapsed_sections": [],
   "name": "Copie de fiche_2_0_expressions.ipynb",
   "provenance": [
    {
     "file_id": "https://github.com/DrAlgo/InitDev/blob/main/seq_2_Fonctions/fiche_2_0_expressions.ipynb",
     "timestamp": 1633162598976
    }
   ]
  },
  "kernelspec": {
   "display_name": "Python 3",
   "language": "python",
   "name": "python3"
  },
  "language_info": {
   "codemirror_mode": {
    "name": "ipython",
    "version": 3
   },
   "file_extension": ".py",
   "mimetype": "text/x-python",
   "name": "python",
   "nbconvert_exporter": "python",
   "pygments_lexer": "ipython3",
   "version": "3.8.10"
  }
 },
 "nbformat": 4,
 "nbformat_minor": 1
}
