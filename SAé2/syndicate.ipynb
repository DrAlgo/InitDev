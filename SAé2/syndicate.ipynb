{
 "cells": [
  {
   "cell_type": "markdown",
   "metadata": {
    "id": "V669gXKWqXBt"
   },
   "source": [
    "# SYnDiCATE\n",
    "## SAÉ 2.0 <img src=\"https://cdn.pixabay.com/photo/2016/11/30/09/27/hacker-1872291_960_720.jpg\" width=550 align=right>"
   ]
  },
  {
   "cell_type": "markdown",
   "metadata": {
    "id": "dAhpVo8zorEe"
   },
   "source": [
    "**Objectif général**  \n",
    "\n",
    "Nous sommes une organisation secrète internationale d’activistes \"white hackers\" qui luttons pour la liberté.  \n",
    "\n",
    "Nous avons écrit un texte, le MANIFESTO, qui décrit notre organisation, ses idées, ses buts, ses méthodes, ses objectifs. Jusqu’au moment où nous révélerons massivement notre existence au monde,\n",
    "\n",
    "**le manifesto NE DOIT PAS tomber aux mains de l’ennemi.**  \n",
    "\n",
    "\n",
    "Pour cette raison, le texte ne sera intégralement disponible sur aucune machine de l’organisation. A la place, il sera fragmenté en plusieurs dizaines de milliers de morceaux répartis aléatoirement sur autant de machines dans le monde.   \n",
    "\n",
    "Pour gérer ce système nous avons besoin d'un logiciel puissant : le **SYnDICATE** ou SYstème DIstribué de ChAinage TExtuel.\n",
    "\n",
    "Beaucoup de nos membres sont issus de vos rangs aussi nous proposons aux étudiants du BUT INFO de participer à l'élaboration du syndicate. Effectuez un bon travail et nous considérerons votre recrutement dans l'organisation.\n",
    "\n",
    "Le but de cette SAÉ est donc d’étudier des fonctionnalités permettant de manipuler un texte réparti, sans jamais, A AUCUN MOMENT, disposer de l’intégralité du texte.  \n",
    "\n",
    "Il en va de notre survie.\n",
    "\n",
    "Il en va de l’avenir du monde.\n"
   ]
  },
  {
   "cell_type": "markdown",
   "metadata": {
    "id": "CDp6bXtTGjg3"
   },
   "source": [
    "## Travail et rendu\n",
    "\n",
    "Vous travaillerez en binôme, à même ce  fichier jupyter. Vous pouvez travailler sur une installation locale, sur basthon ou bien sur google colab (méthode recommandée). Nous fournissons les codes pour charger le fichier sur google colab ou sur une installation locale.\n",
    "\n",
    "Toutes les modalités de codage de la SAE précédente s'appliquent toujours (nommage des variables, commentaires, spécifications des fonctions). Vous êtes libres d'apporter les modifications souhaitées au code fourni, à partir du moment où **tout le code peut s'exécuter sans erreur** dans votre rendu. Vous êtes également libres d'apporter des modifications et d'ajouter vos idées.\n",
    "\n",
    "Vous rendrez uniquement le fichier *syndicate.ipynb* en le renommant sous la forme *NOM1_NOM2.ipynb*. Les compétences évaluées sont les mêmes que pour la SAÉ1. \n",
    "\n",
    "La date précise de rendu vous sera communiquée via discord d'ici quelques jours.\n"
   ]
  },
  {
   "cell_type": "markdown",
   "metadata": {
    "id": "P9UHcBzepdX7"
   },
   "source": [
    "\n",
    "\n",
    "## Fonctionnement général\n",
    "\n",
    "Dans cette SAE, on ne manipulera pas le vrai manifesto mais un texte de substitution afin de créer le système. Ce texte a déjà été découpé en tronçons de 1 à 20 mots destinés à être répartis sur des machines. Le fichier *manifesto.txt* contient sur chaque ligne des données à stocker sur une machine. Le fichier *manifesto_short.txt* peut être utile dans la partie 2 si vous travaillez sur google colab car vous pouvez manquer de mémoire vive.\n",
    "\n",
    "### Travail sous Basthon ou sur un serveur local \n",
    "Sous Basthon, il vous faut au préalable charger le fichier que vous souhaitez lire, en utilisant le bouton [![Image](https://i.goopics.net/rv9meb.png)](https://goopics.net/i/rv9meb)\n",
    "Sélectionnez `manifesto.txt` est c'est bon: votre fichier est disponible dans basthon, comme s'il était dans votre répertoire local."
   ]
  },
  {
   "cell_type": "code",
   "execution_count": null,
   "metadata": {
    "executionInfo": {
     "elapsed": 40,
     "status": "aborted",
     "timestamp": 1639223396982,
     "user": {
      "displayName": "David Auger",
      "photoUrl": "https://lh3.googleusercontent.com/a-/AOh14GiHtpJKxbhjnqN59O73SiY_gvGeDS2NEUsE9V1YUQ=s64",
      "userId": "03825696780836238935"
     },
     "user_tz": -60
    },
    "id": "dm2U_Ap3JFPC"
   },
   "outputs": [],
   "source": [
    "#code à utiliser pour un notebook basthon ou une installation locale\n",
    "def charger_manifesto(nom_fichier = \"manifesto.txt\"):\n",
    "    \"\"\"charge le fichier dont le nom est donné en paramètre\n",
    "    le fichier doit se trouver dans le même répertoire\n",
    "    renvoie une liste de str qui sont les lignes du fichier\n",
    "    \"\"\"\n",
    "    f = open(nom_fichier)\n",
    "    l = f.readlines()\n",
    "    f.close()\n",
    "    return [line.strip() for line in l]\n",
    "\n",
    "lignes = charger_manifesto()"
   ]
  },
  {
   "cell_type": "markdown",
   "metadata": {},
   "source": [
    "### Travail sous Google Colab"
   ]
  },
  {
   "cell_type": "code",
   "execution_count": null,
   "metadata": {
    "executionInfo": {
     "elapsed": 19,
     "status": "ok",
     "timestamp": 1639223497442,
     "user": {
      "displayName": "David Auger",
      "photoUrl": "https://lh3.googleusercontent.com/a-/AOh14GiHtpJKxbhjnqN59O73SiY_gvGeDS2NEUsE9V1YUQ=s64",
      "userId": "03825696780836238935"
     },
     "user_tz": -60
    },
    "id": "oIim5XhVtiVs"
   },
   "outputs": [],
   "source": [
    "#code à utiliser sur google colab\n",
    "from google.colab import files \n",
    "import io\n",
    "\n",
    "def charger_manifesto_colab(nom_fichier = \"manifesto.txt\"):\n",
    "    \"\"\"charge le fichier dont le nom est donné en paramètre sur google colab\n",
    "    à l'exécution cliquez sur \"choose file\" et choisissez le bon fichier (par défaut manifesto.txt)\n",
    "    renvoie une liste de str qui sont les lignes du fichier\n",
    "    \"\"\"\n",
    "\n",
    "    uploaded = files.upload()\n",
    "    return uploaded[nom_fichier].decode(\"utf-8\").splitlines()\n",
    "\n",
    "\n",
    "lignes = charger_manifesto_colab()"
   ]
  },
  {
   "cell_type": "markdown",
   "metadata": {
    "id": "XU_F9V1iui4Q"
   },
   "source": [
    "### Extraction (depuis Basthon, serveur local ou Colab)\n",
    "On extrait un tableau qui contient les lignes du texte, et on affiche les 20 premières pour que vous voyiez à quoi ça ressemble."
   ]
  },
  {
   "cell_type": "code",
   "execution_count": null,
   "metadata": {
    "executionInfo": {
     "elapsed": 41,
     "status": "aborted",
     "timestamp": 1639223396985,
     "user": {
      "displayName": "David Auger",
      "photoUrl": "https://lh3.googleusercontent.com/a-/AOh14GiHtpJKxbhjnqN59O73SiY_gvGeDS2NEUsE9V1YUQ=s64",
      "userId": "03825696780836238935"
     },
     "user_tz": -60
    },
    "id": "iR5HHoMMuEUF"
   },
   "outputs": [],
   "source": [
    "print(\"nombre de lignes :\", len(lignes) )\n",
    "print(\"20 premières lignes:\\n\")\n",
    "for l in lignes[:20]:\n",
    "    print(l)"
   ]
  },
  {
   "cell_type": "markdown",
   "metadata": {
    "id": "xLdN8Forxdyx"
   },
   "source": [
    "Ce fichier de presque 10000 lignes (pour la version longue) contient sur sa première ligne l'adresse IP fictive d'une machine appelée FIRST. C'est l'adresse IP de la machine d'accès au réseau secret syndicate.\n",
    "\n",
    "Ensuite, chaque ligne à partir de la troisième contient : \n",
    "- l'adresse IP d'une machine\n",
    "- sa cargaison (un morceau de phrase) = l'information stockée sur cette machine\n",
    "- l'adresse IP de la machine suivante\n",
    "\n",
    "Ainsi, les machines forme une **liste chaînée** : on a une machine de départ et chaque machine connait l'adresse de la suivante. La dernière machine de la chaîne indique \"LAST\" pour l'adresse ip de la machine suivante (cherchez-la dans le texte !)"
   ]
  },
  {
   "cell_type": "markdown",
   "metadata": {
    "id": "GFtrRdfqyCk4"
   },
   "source": [
    "# Partie 0 : Fonctionnement centralisé (non sécurisé) -- algorithmes itératifs\n",
    "\n",
    "Dans cette partie, nous utiliserons des algorithmes itératifs, exécutés depuis une machine qui centralise toutes les connaissances sur le réseau. A terme nous procéderons autrement mais nous allons écrire des fonctions qui pourront être utiles pour le test et la création du réseau.\n",
    "\n",
    "Il va de soi que l'existence même de ce fichier *manifesto.txt* est problématique du point de vue de notre objectif et qu'il ne sert ici qu'à concevoir le système et à s'entraîner sur sa manipulation. À terme, la seule façon d'obtenir des informations sur le texte sera de procéder de façon sécurisée, de façon **chaînée**.\n",
    "\n",
    "Néanmoins, pour se familiariser avec le fonctionnement, dans cette partie nous allons créer un annuaire des machines qui permettra d'accéder directement à toutes les machines.\n",
    "\n",
    "Mais tout d'abord, nous créons une classe pour représenter les machines. Pour l'instant, seule la première méthode `init` est importante, c'est celle où on crée la machine et on lui attribue les trois champs."
   ]
  },
  {
   "cell_type": "code",
   "execution_count": null,
   "metadata": {
    "executionInfo": {
     "elapsed": 808,
     "status": "ok",
     "timestamp": 1639223514274,
     "user": {
      "displayName": "David Auger",
      "photoUrl": "https://lh3.googleusercontent.com/a-/AOh14GiHtpJKxbhjnqN59O73SiY_gvGeDS2NEUsE9V1YUQ=s64",
      "userId": "03825696780836238935"
     },
     "user_tz": -60
    },
    "id": "kWlk6Rh-yoAF"
   },
   "outputs": [],
   "source": [
    "class Machine:\n",
    "    \"\"\"\n",
    "    permet de stocker les informations d'une machine\n",
    "    \"\"\"\n",
    "    def __init__(self, ip, cargo, next_ip):\n",
    "        self.ip = ip              #str: ip de cette machine\n",
    "        self.cargo = cargo        #str: informations stockées\n",
    "        self.next_ip = next_ip    #str : ip de la machine suivante\n",
    "\n",
    "    \n",
    "    def executer(self, fx, arguments):\n",
    "        \"\"\"\n",
    "        utilisé à partir de la partie 2 -- ignorer pour l'instant\n",
    "        \"\"\"\n",
    "        return fx(self, *arguments)\n"
   ]
  },
  {
   "cell_type": "markdown",
   "metadata": {
    "id": "oazNYg3zzNNW"
   },
   "source": [
    "Exemple : on crée un objet de la classe Machine, et on affiche ses informations ensuite. La méthode `init` est appelée indirectement, en fait on utilise le nom de la classe `Machine`pour créer un objet."
   ]
  },
  {
   "cell_type": "code",
   "execution_count": null,
   "metadata": {
    "executionInfo": {
     "elapsed": 44,
     "status": "aborted",
     "timestamp": 1639223396989,
     "user": {
      "displayName": "David Auger",
      "photoUrl": "https://lh3.googleusercontent.com/a-/AOh14GiHtpJKxbhjnqN59O73SiY_gvGeDS2NEUsE9V1YUQ=s64",
      "userId": "03825696780836238935"
     },
     "user_tz": -60
    },
    "id": "-KzpSy2bzMET"
   },
   "outputs": [],
   "source": [
    "m1 = Machine(\"103.345.232.345\", \"salut je suis un exemple de machine\", \"345.765.234.654\")\n",
    "#la machine m1 a été créée, elle possède trois \"champs\"\n",
    "print(\"ip de la machine :\",m1.ip)\n",
    "print(\"cargaison (données stockées) :\", m1.cargo)\n",
    "print(\"ip de la machine suivante : \",m1.next_ip)"
   ]
  },
  {
   "cell_type": "markdown",
   "metadata": {
    "id": "Np3iDY52zqy4"
   },
   "source": [
    "On vous donne maintenant une classe `IP_table`. On créera un unique objet de cette classe  qui simulera en quelque sorte le réseau internet pour envoyer des messages aux machines ou depuis les machines.  \n",
    "Lors de la création, on donne le tableau des lignes du manifesto -- ces lignes vont être analysées (on partle de *parsing* en anglais) et les machines correspondantes créées et stockées. Vous n'avez pas forcément besoin de comprendre le détail du code ici."
   ]
  },
  {
   "cell_type": "code",
   "execution_count": null,
   "metadata": {
    "executionInfo": {
     "elapsed": 385,
     "status": "ok",
     "timestamp": 1639223660023,
     "user": {
      "displayName": "David Auger",
      "photoUrl": "https://lh3.googleusercontent.com/a-/AOh14GiHtpJKxbhjnqN59O73SiY_gvGeDS2NEUsE9V1YUQ=s64",
      "userId": "03825696780836238935"
     },
     "user_tz": -60
    },
    "id": "6wt7aCpDzpuT"
   },
   "outputs": [],
   "source": [
    "class IP_table:\n",
    "    \"\"\"permet de stocker l'ensemble des machines indexées par IP\"\"\"\n",
    "\n",
    "    def __init__(self, tab_lignes):\n",
    "        \"\"\"\n",
    "        crée la IP_table à partir du tableau des lignes décrivant les machines\n",
    "        \"\"\"\n",
    "        self.table = self.charger_machines(tab_lignes)\n",
    "\n",
    "\n",
    "    def charger_machines(self, tab_lignes):\n",
    "        \"\"\"\n",
    "        crée un dictionnaire de machines à partir du tableau des lignes décrivant les machines\n",
    "        \"\"\"\n",
    "        n = len(tab_lignes)\n",
    "        first = tab_lignes[0].split('#')[1].strip() #on découpe la première ligne et on récupère l'adresse first\n",
    "        table = {}\n",
    "\n",
    "        for l in tab_lignes[2:]:\n",
    "            ip, cargo, ip_next = l.split('#')[:3] \n",
    "            table[ip] = Machine(ip, cargo, ip_next)  #on découpe la ligne\n",
    "\n",
    "        table['FIRST'] = table[first]\n",
    "        del table[first]\n",
    "        return table\n",
    "\n",
    "    def get_machine(self, ip):\n",
    "        \"\"\"renvoie la machine qui a une ip donnée\"\"\"\n",
    "        if ip in self.table:\n",
    "            return self.table[ip]\n",
    " "
   ]
  },
  {
   "cell_type": "markdown",
   "metadata": {
    "id": "E1IYdBpY1Ju7"
   },
   "source": [
    "Pour utiliser cette classe, on a juste à créer un objet de la classe `IP_table` (ci-dessous nommé `ip_table` en minuscules) et ensuite on appelle sa méthode *get_machine*."
   ]
  },
  {
   "cell_type": "code",
   "execution_count": null,
   "metadata": {
    "executionInfo": {
     "elapsed": 44,
     "status": "aborted",
     "timestamp": 1639223396991,
     "user": {
      "displayName": "David Auger",
      "photoUrl": "https://lh3.googleusercontent.com/a-/AOh14GiHtpJKxbhjnqN59O73SiY_gvGeDS2NEUsE9V1YUQ=s64",
      "userId": "03825696780836238935"
     },
     "user_tz": -60
    },
    "id": "4K0uItFs1XTY"
   },
   "outputs": [],
   "source": [
    "ip_table = IP_table(lignes)\n",
    "f = ip_table.get_machine('FIRST')\n",
    "print(f.cargo)"
   ]
  },
  {
   "cell_type": "markdown",
   "metadata": {
    "id": "wzWeEnoB1968"
   },
   "source": [
    "Il semble que la première machine ne contienne que le mot \"PART\". Récupérons l'adresse ip de la machine suivante et affichons, puis recommençons sur quelques machines."
   ]
  },
  {
   "cell_type": "code",
   "execution_count": null,
   "metadata": {
    "executionInfo": {
     "elapsed": 45,
     "status": "aborted",
     "timestamp": 1639223396992,
     "user": {
      "displayName": "David Auger",
      "photoUrl": "https://lh3.googleusercontent.com/a-/AOh14GiHtpJKxbhjnqN59O73SiY_gvGeDS2NEUsE9V1YUQ=s64",
      "userId": "03825696780836238935"
     },
     "user_tz": -60
    },
    "id": "clJTftOj14LO"
   },
   "outputs": [],
   "source": [
    "print(f.cargo, end = ' ')\n",
    "m1 = ip_table.get_machine(f.next_ip)\n",
    "print(m1.cargo, end = ' ')\n",
    "m2 = ip_table.get_machine(m1.next_ip)\n",
    "print(m2.cargo, end = ' ')"
   ]
  },
  {
   "cell_type": "markdown",
   "metadata": {
    "id": "EJkDf2RT2is7"
   },
   "source": [
    "Pas mal, on a réussi à afficher la première phrase. Mais c'est quand même un peu laborieux. Ha mais au fait au lieu de répéter du code on peut faire une boucle non ?\n",
    "\n",
    "**TODO** Effectuez une boucle afin d'afficher le contenu des 100 premières machines."
   ]
  },
  {
   "cell_type": "code",
   "execution_count": null,
   "metadata": {
    "executionInfo": {
     "elapsed": 45,
     "status": "aborted",
     "timestamp": 1639223396993,
     "user": {
      "displayName": "David Auger",
      "photoUrl": "https://lh3.googleusercontent.com/a-/AOh14GiHtpJKxbhjnqN59O73SiY_gvGeDS2NEUsE9V1YUQ=s64",
      "userId": "03825696780836238935"
     },
     "user_tz": -60
    },
    "id": "6oiv_umS2hg-"
   },
   "outputs": [],
   "source": [
    "#soluce\n",
    "ip =  'FIRST'\n",
    "for _ in range(100):\n",
    "    m = ip_table.get_machine(ip)\n",
    "    print(m.cargo, end = ' ')\n",
    "    ip = m.next_ip\n"
   ]
  },
  {
   "cell_type": "markdown",
   "metadata": {
    "id": "79I5bpa13Qem"
   },
   "source": [
    "**TODO** Maintenant, affichez carrément le texte complet. La dernière machine de la chaîne a un champ *ip_next* qui vaut \"LAST\", ce qui permet de s'arrêter."
   ]
  },
  {
   "cell_type": "code",
   "execution_count": null,
   "metadata": {
    "executionInfo": {
     "elapsed": 46,
     "status": "aborted",
     "timestamp": 1639223396994,
     "user": {
      "displayName": "David Auger",
      "photoUrl": "https://lh3.googleusercontent.com/a-/AOh14GiHtpJKxbhjnqN59O73SiY_gvGeDS2NEUsE9V1YUQ=s64",
      "userId": "03825696780836238935"
     },
     "user_tz": -60
    },
    "id": "rNNuWggG3iBo"
   },
   "outputs": [],
   "source": [
    "#soluce\n",
    "ip =  'FIRST'\n",
    "while ip != 'LAST':\n",
    "    m = ip_table.get_machine(ip)\n",
    "    print(m.cargo, end = ' ')\n",
    "    ip = m.next_ip"
   ]
  },
  {
   "cell_type": "markdown",
   "metadata": {
    "id": "2_PKDq6q4YCy"
   },
   "source": [
    "En fait, tout ne s'affiche pas ici car le texte est trop long.\n",
    "\n",
    "**TODO** Utilisez le code précédent afin de compléter la fonction suivante. Il faut ajouter une espace entre les morceaux de texte pour avoir une chaîne propre."
   ]
  },
  {
   "cell_type": "code",
   "execution_count": null,
   "metadata": {
    "executionInfo": {
     "elapsed": 47,
     "status": "aborted",
     "timestamp": 1639223396996,
     "user": {
      "displayName": "David Auger",
      "photoUrl": "https://lh3.googleusercontent.com/a-/AOh14GiHtpJKxbhjnqN59O73SiY_gvGeDS2NEUsE9V1YUQ=s64",
      "userId": "03825696780836238935"
     },
     "user_tz": -60
    },
    "id": "AZnrfNOT4kr1"
   },
   "outputs": [],
   "source": [
    "def str_texte_complet(ip_table):\n",
    "    \"\"\"renvoie une str qui contient le texte complet (pas de print)\"\"\"\n",
    "    pass\n"
   ]
  },
  {
   "cell_type": "markdown",
   "metadata": {
    "id": "mAlU187X5afa"
   },
   "source": [
    "Pour vérifier : en ajoutant un espace après chaque morceau de texte (même le dernier, pour simplifier), la longueur totale de la chaîne obtenue est de 585273."
   ]
  },
  {
   "cell_type": "code",
   "execution_count": null,
   "metadata": {
    "executionInfo": {
     "elapsed": 47,
     "status": "aborted",
     "timestamp": 1639223396997,
     "user": {
      "displayName": "David Auger",
      "photoUrl": "https://lh3.googleusercontent.com/a-/AOh14GiHtpJKxbhjnqN59O73SiY_gvGeDS2NEUsE9V1YUQ=s64",
      "userId": "03825696780836238935"
     },
     "user_tz": -60
    },
    "id": "oNBkHyYT41GH"
   },
   "outputs": [],
   "source": [
    "#soluce\n",
    "def str_texte_complet(ip_table):\n",
    "    \"\"\"renvoie une str qui contient le texte complet  (pas de print)\"\"\"\n",
    "    s = \"\"\n",
    "    ip =  'FIRST'\n",
    "    while ip != 'LAST':\n",
    "        m = ip_table.get_machine(ip)\n",
    "        s += m.cargo + \" \"\n",
    "        ip = m.next_ip\n",
    "    return s\n",
    "print(len(str_texte_complet(ip_table)))"
   ]
  },
  {
   "cell_type": "markdown",
   "metadata": {
    "id": "wG-zxlHy7yjt"
   },
   "source": [
    "**TODO** Sur le même principe, réalisez une fonction qui renvoie le nombre de machines dont la cargaison contient un mot donné. Il est important de procéder de machine en machine, sans chercher à stocker une liste des machines dans l'ordre. Passez toujours `ip_table`en paramètre.\n",
    "\n",
    "Nous vous laissons trouver comment utiliser une instruction python simple pour savoir si une str contient un mot.\n",
    "\n",
    "Pour vérifier : il y a 25 machines dont la cargaison contient le mot 'cold'."
   ]
  },
  {
   "cell_type": "code",
   "execution_count": null,
   "metadata": {
    "executionInfo": {
     "elapsed": 333,
     "status": "ok",
     "timestamp": 1639223550689,
     "user": {
      "displayName": "David Auger",
      "photoUrl": "https://lh3.googleusercontent.com/a-/AOh14GiHtpJKxbhjnqN59O73SiY_gvGeDS2NEUsE9V1YUQ=s64",
      "userId": "03825696780836238935"
     },
     "user_tz": -60
    },
    "id": "K8YnnZbF8TZJ"
   },
   "outputs": [],
   "source": [
    "#soluce\n",
    "def nb_cargo_avec_mot(ip_table, mot):\n",
    "    \"\"\"renvoie une str qui contient le texte complet  (pas de print)\"\"\"\n",
    "    nb = 0\n",
    "    ip =  'FIRST'\n",
    "    while ip != 'LAST':\n",
    "        m = ip_table.get_machine(ip)\n",
    "        if mot in m.cargo:\n",
    "            nb += 1\n",
    "        ip = m.next_ip\n",
    "    return nb\n"
   ]
  },
  {
   "cell_type": "code",
   "execution_count": null,
   "metadata": {
    "id": "Z_0xAV00Vme4"
   },
   "outputs": [],
   "source": [
    "print(nb_cargo_avec_mot(ip_table, \"cold\"))"
   ]
  },
  {
   "cell_type": "markdown",
   "metadata": {
    "id": "DqP2ZnHF50R_"
   },
   "source": [
    "**Remarque** Dans le but d'étudier comment le réseau secret pourrait être réalisé, on s'interdit de réaliser une structure extérieure comme un tableau qui contiendrait la totalité des machines dans l'ordre, et on s'oblige à passer de machine en machine, toujours par ip_table. On va aussi **s'interdire de reconstituer le texte entier**.\n",
    "\n",
    "**TODO** Ecrivez maintenant une fonction qui compte le nombre total de lettres dans le texte complet, mais sans le reconstituer. N'oubliez pas de compter un espace après chaque cargaison pour un résultat cohérent."
   ]
  },
  {
   "cell_type": "code",
   "execution_count": null,
   "metadata": {
    "executionInfo": {
     "elapsed": 397,
     "status": "aborted",
     "timestamp": 1639223397349,
     "user": {
      "displayName": "David Auger",
      "photoUrl": "https://lh3.googleusercontent.com/a-/AOh14GiHtpJKxbhjnqN59O73SiY_gvGeDS2NEUsE9V1YUQ=s64",
      "userId": "03825696780836238935"
     },
     "user_tz": -60
    },
    "id": "kb-X626L6tsI"
   },
   "outputs": [],
   "source": [
    "def longueur_texte(ip_table):\n",
    "    pass"
   ]
  },
  {
   "cell_type": "markdown",
   "metadata": {
    "id": "gKJZJiKa6zt_"
   },
   "source": [
    "**TODO** idem mais maintenant on compte les mots. Les méthodes standards de la classe **str** peuvent être utiles."
   ]
  },
  {
   "cell_type": "code",
   "execution_count": null,
   "metadata": {
    "executionInfo": {
     "elapsed": 398,
     "status": "aborted",
     "timestamp": 1639223397351,
     "user": {
      "displayName": "David Auger",
      "photoUrl": "https://lh3.googleusercontent.com/a-/AOh14GiHtpJKxbhjnqN59O73SiY_gvGeDS2NEUsE9V1YUQ=s64",
      "userId": "03825696780836238935"
     },
     "user_tz": -60
    },
    "id": "eVA2COkBOnZB"
   },
   "outputs": [],
   "source": []
  },
  {
   "cell_type": "markdown",
   "metadata": {
    "id": "soQfkrsr7Hzs"
   },
   "source": [
    "**TODO** écrivez maintenant une fonction qui renvoie le plus long mot du texte entier, toujours en procédant de machine en machine et sans reconstituer le texte entier ! En cas d'égalité de longueur, renvoyez le premier."
   ]
  },
  {
   "cell_type": "code",
   "execution_count": null,
   "metadata": {
    "executionInfo": {
     "elapsed": 398,
     "status": "aborted",
     "timestamp": 1639223397352,
     "user": {
      "displayName": "David Auger",
      "photoUrl": "https://lh3.googleusercontent.com/a-/AOh14GiHtpJKxbhjnqN59O73SiY_gvGeDS2NEUsE9V1YUQ=s64",
      "userId": "03825696780836238935"
     },
     "user_tz": -60
    },
    "id": "6CEILYCwOupE"
   },
   "outputs": [],
   "source": []
  },
  {
   "cell_type": "markdown",
   "metadata": {
    "id": "c1P3PO6o7bZk"
   },
   "source": [
    "**TODO**  écrivez une fonction qui remplace chaque occurence d'un mot dans le texte entier, par un autre mot donné. Par exemple, remplacez toutes les occurences de \"cold\" par \"hot\", ça réchauffe.\n",
    "NB : pour faire cela vous pouvez modifier directement m.cargo pour chaque machine m concernée."
   ]
  },
  {
   "cell_type": "code",
   "execution_count": null,
   "metadata": {
    "executionInfo": {
     "elapsed": 398,
     "status": "aborted",
     "timestamp": 1639223397353,
     "user": {
      "displayName": "David Auger",
      "photoUrl": "https://lh3.googleusercontent.com/a-/AOh14GiHtpJKxbhjnqN59O73SiY_gvGeDS2NEUsE9V1YUQ=s64",
      "userId": "03825696780836238935"
     },
     "user_tz": -60
    },
    "id": "o_oNOhZFO2LN"
   },
   "outputs": [],
   "source": []
  },
  {
   "cell_type": "markdown",
   "metadata": {
    "id": "oYAN3hqy7bqE"
   },
   "source": [
    "**TODO**  A la fin du texte, on voudrait ajouter quelques phrases.\n",
    "Ecrivez une fonction qui va ajouter une nouvelle machine, avec une IP donnée, à la fin de la liste chaînée des machines. Pour créer la machine, procédez comme expliqué au début de ce document, et mettez à jour ip_table.table qui est un dictionnaire. Pour vérifier, réutilisez les fonctions précédentes sur ce texte mis à jour."
   ]
  },
  {
   "cell_type": "code",
   "execution_count": null,
   "metadata": {
    "executionInfo": {
     "elapsed": 399,
     "status": "aborted",
     "timestamp": 1639223397355,
     "user": {
      "displayName": "David Auger",
      "photoUrl": "https://lh3.googleusercontent.com/a-/AOh14GiHtpJKxbhjnqN59O73SiY_gvGeDS2NEUsE9V1YUQ=s64",
      "userId": "03825696780836238935"
     },
     "user_tz": -60
    },
    "id": "hE41MnxxO-D3"
   },
   "outputs": [],
   "source": []
  },
  {
   "cell_type": "markdown",
   "metadata": {
    "id": "SNukhy3I_0CH"
   },
   "source": [
    "**TODO** Ecrivez maintenant une fonction semblable, mais qui insère une nouvelle machine avec un texte donné\n",
    "**juste après** la première machine qui contient un mot donné (par exemple, insérer une machine avec le texte \"bla bla bla\"\n",
    "après la première machine dont la cargaison contient le mot \"horse\"). Testez. Si aucune machine ne contient ce mot, la fonction ne fait rien."
   ]
  },
  {
   "cell_type": "code",
   "execution_count": null,
   "metadata": {
    "executionInfo": {
     "elapsed": 398,
     "status": "aborted",
     "timestamp": 1639223397355,
     "user": {
      "displayName": "David Auger",
      "photoUrl": "https://lh3.googleusercontent.com/a-/AOh14GiHtpJKxbhjnqN59O73SiY_gvGeDS2NEUsE9V1YUQ=s64",
      "userId": "03825696780836238935"
     },
     "user_tz": -60
    },
    "id": "7pDLlXJjPIOD"
   },
   "outputs": [],
   "source": []
  },
  {
   "cell_type": "markdown",
   "metadata": {
    "id": "xYU1Y6OpPJeR"
   },
   "source": [
    "**TODO** Vous pensez à d'autres fonctions de ce type qui pourraient être utiles ? Des modifications, insertions, suppressions, etc. Codez ce que vous voulez ci-dessous."
   ]
  },
  {
   "cell_type": "code",
   "execution_count": null,
   "metadata": {},
   "outputs": [],
   "source": []
  },
  {
   "cell_type": "markdown",
   "metadata": {
    "id": "1hHHlBFo_13s"
   },
   "source": [
    "## Partie 1 : vers un système sécurisé"
   ]
  },
  {
   "cell_type": "markdown",
   "metadata": {
    "id": "Xxb2DcmmAZlo"
   },
   "source": [
    "Dans la partie I, le fonctionnement du système est centralisé, avec des fonctions qui peuvent obtenir directement les informations de chaque machine.\n",
    "Ceci est à proscrire dans le cadre du système sécurisé que nous voulons construire. Aussi, on va s'interdire, pour une machine m, d'exécuter une fonction sur m qui va directement chercher les informations de la machine. Une machine extérieure ne doit pas pouvoir demander directement ̀̀`m.cargo` ou `m.next_ip` à une machine m.\n",
    "\n",
    "A la place, on va demander à la machine m d'executer une fonction f sur elle-même. La différence est que la personne qui possède la machine m peut examiner le code, l'analyser et décider de l'exécuter ou non, de transmettre les informations ou non. Ce processus est plus long mais c'est un premier pas vers la sécurité.\n",
    "\n",
    "Demander à une machine d'exécuter une fonction sur elle-même se fait se fait par l'intermédiaire de la fonction suivante."
   ]
  },
  {
   "cell_type": "code",
   "execution_count": null,
   "metadata": {
    "executionInfo": {
     "elapsed": 599,
     "status": "ok",
     "timestamp": 1639223566523,
     "user": {
      "displayName": "David Auger",
      "photoUrl": "https://lh3.googleusercontent.com/a-/AOh14GiHtpJKxbhjnqN59O73SiY_gvGeDS2NEUsE9V1YUQ=s64",
      "userId": "03825696780836238935"
     },
     "user_tz": -60
    },
    "id": "Q-icMsrnACdD"
   },
   "outputs": [],
   "source": [
    "def demande_execution(ip_table, ip_machine, fx, arguments):\n",
    "    \"\"\"\n",
    "    demande à la machine d'IP 'ip_machine' d'exécuter la fonction 'fx'\n",
    "    sur la liste des arguments donnée, et de renvoyer le résultat.\n",
    "    fx est une fonction de signature fx(machine, arg1, arg2, ...)\n",
    "    machine represente la machine sur laquelle la fonction est appelée\n",
    "    arg1, arg2... correspondent à la liste arguments\n",
    "    \"\"\"\n",
    "    return ip_table.get_machine(ip_machine).executer(fx,arguments)"
   ]
  },
  {
   "cell_type": "markdown",
   "metadata": {
    "id": "YTy_pqzZDypT"
   },
   "source": [
    "Faites attention au fait que le premier argument de la fonction sera toujours machine, qui représente la machine qui exécute la fonction (elle exécute la fonction sur elle-même et la fonction peut lui demander des informations). Pour vous aider à comprendre, voici un exemple de fonction que l'on demande à la machine FIRST d'exécuter sur elle-même."
   ]
  },
  {
   "cell_type": "code",
   "execution_count": null,
   "metadata": {
    "executionInfo": {
     "elapsed": 399,
     "status": "aborted",
     "timestamp": 1639223397357,
     "user": {
      "displayName": "David Auger",
      "photoUrl": "https://lh3.googleusercontent.com/a-/AOh14GiHtpJKxbhjnqN59O73SiY_gvGeDS2NEUsE9V1YUQ=s64",
      "userId": "03825696780836238935"
     },
     "user_tz": -60
    },
    "id": "MZwQypur_-4y"
   },
   "outputs": [],
   "source": [
    "def fx_demo(machine, truc1, truc2):\n",
    "    \"\"\"la machine va afficher sa cargaison et les chaînes truc1 et truc2\n",
    "    elle va renvoyer l'ip de la machine suivante\"\"\"\n",
    "    print(machine.cargo)\n",
    "    print(truc1)\n",
    "    print(truc2)\n",
    "    return machine.next_ip\n",
    "\n",
    "#on demande à la machine FIRST d'exécuter la fonction sur elle-même\n",
    "demande_execution(ip_table, 'FIRST', fx_demo, [\"mot1\", \"mot2\"])"
   ]
  },
  {
   "cell_type": "markdown",
   "metadata": {
    "id": "J0N4pH7KFN8R"
   },
   "source": [
    "Avec ce nouveau point de vue, si notre système veut demander à une machine l'ip de la machine suivante, il ne peut plus écrire directement `ipnext = m.next_ip`. Il doit envoyer à la machine une demande d'exécution d'une fonction qui renvoie l'adresse. Par exemple de la façon suivante :"
   ]
  },
  {
   "cell_type": "code",
   "execution_count": null,
   "metadata": {
    "executionInfo": {
     "elapsed": 366,
     "status": "ok",
     "timestamp": 1639224318196,
     "user": {
      "displayName": "David Auger",
      "photoUrl": "https://lh3.googleusercontent.com/a-/AOh14GiHtpJKxbhjnqN59O73SiY_gvGeDS2NEUsE9V1YUQ=s64",
      "userId": "03825696780836238935"
     },
     "user_tz": -60
    },
    "id": "8zaNZBU0FX34"
   },
   "outputs": [],
   "source": [
    "def get_ip_next(machine):\n",
    "    \"\"\"renvoie l'adresse nip de la machine suivante\"\"\"\n",
    "    return machine.next_ip\n"
   ]
  },
  {
   "cell_type": "code",
   "execution_count": null,
   "metadata": {
    "id": "Tqxe8Y5CYgiq"
   },
   "outputs": [],
   "source": [
    "\n",
    "#on demande à la machine FIRST l'adresse de la machine suvante    \n",
    "ipn = demande_execution(ip_table, 'FIRST', get_ip_next, [])\n",
    "print(ipn)"
   ]
  },
  {
   "cell_type": "markdown",
   "metadata": {
    "id": "3By4eIfJD97Q"
   },
   "source": [
    "**TODO** Refaites quelques fonctions de votre choix (par exemple comptage de lettres, remplacement des mots) dans ce nouveau cadre.\n",
    "A chaque fois, il faut écrire la fonction principale, dont le paramètre est juste ip_table, et la fonction que l'on va demander à chaque machine d'exécuter. Le fonctionnement est semblable à la partie précédente (c'est toujours itératif et centralisé), la seule différence est dans la façon d'accéder aux données des machines."
   ]
  },
  {
   "cell_type": "code",
   "execution_count": null,
   "metadata": {
    "executionInfo": {
     "elapsed": 312,
     "status": "ok",
     "timestamp": 1639224287425,
     "user": {
      "displayName": "David Auger",
      "photoUrl": "https://lh3.googleusercontent.com/a-/AOh14GiHtpJKxbhjnqN59O73SiY_gvGeDS2NEUsE9V1YUQ=s64",
      "userId": "03825696780836238935"
     },
     "user_tz": -60
    },
    "id": "M3VcNUMcD767"
   },
   "outputs": [],
   "source": [
    "\n",
    "#soluce\n",
    "def nb_lettres_machine(machine):\n",
    "    return len(machine.cargo) + 1\n",
    "\n",
    "def nb_lettres(ip_table):\n",
    "    nb = 0\n",
    "    ip =  'FIRST'\n",
    "    while ip != 'LAST':\n",
    "\n",
    "        nb += demande_execution(ip_table, ip, nb_lettres_machine,[])\n",
    "        ip = demande_execution(ip_table, ip, get_ip_next, [])\n",
    "    return nb\n",
    "#print(nb_lettres(ip_table))\n"
   ]
  },
  {
   "cell_type": "markdown",
   "metadata": {
    "id": "DKRN_GMnoxbq"
   },
   "source": [
    "## Partie 2 : Fonctionnement sécurisé en chaîne\n",
    "\n",
    "**Remarque** Pour cette partie, il peut être préférable d'utiliser le fichier *manifesto_short.txt* et de relever un peu les limites de la pile de récursivité de python. Si vous rencontrez des difficultés et que le système crashe, redemarrez le kernel, ne chargez pas le manifesto, gardez la mémoire pour le manifesto_short chargé ci-dessous. Il faut réexécuter les cellules comportant les définitions des classes et des fonctions utilisées.\n"
   ]
  },
  {
   "cell_type": "code",
   "execution_count": null,
   "metadata": {
    "executionInfo": {
     "elapsed": 324,
     "status": "ok",
     "timestamp": 1639223581194,
     "user": {
      "displayName": "David Auger",
      "photoUrl": "https://lh3.googleusercontent.com/a-/AOh14GiHtpJKxbhjnqN59O73SiY_gvGeDS2NEUsE9V1YUQ=s64",
      "userId": "03825696780836238935"
     },
     "user_tz": -60
    },
    "id": "jKQX8bSFSHV1"
   },
   "outputs": [],
   "source": [
    "#pour éviter les erreurs sur la profondeur de récursion, on exécute ceci :\n",
    "import sys\n",
    "sys.setrecursionlimit(50000)"
   ]
  },
  {
   "cell_type": "code",
   "execution_count": null,
   "metadata": {
    "colab": {
     "base_uri": "https://localhost:8080/",
     "height": 73,
     "resources": {
      "http://localhost:8080/nbextensions/google.colab/files.js": {
       "data": "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",
       "headers": [
        [
         "content-type",
         "application/javascript"
        ]
       ],
       "ok": true,
       "status": 200,
       "status_text": ""
      }
     }
    },
    "executionInfo": {
     "elapsed": 6777,
     "status": "ok",
     "timestamp": 1639223589296,
     "user": {
      "displayName": "David Auger",
      "photoUrl": "https://lh3.googleusercontent.com/a-/AOh14GiHtpJKxbhjnqN59O73SiY_gvGeDS2NEUsE9V1YUQ=s64",
      "userId": "03825696780836238935"
     },
     "user_tz": -60
    },
    "id": "eK4OpG96SOPw",
    "outputId": "d083c31d-96ae-4bcf-fe37-557f35139d3c"
   },
   "outputs": [],
   "source": [
    "#sur colab\n",
    "lignes2 = charger_manifesto_colab('manifesto_short.txt')"
   ]
  },
  {
   "cell_type": "code",
   "execution_count": null,
   "metadata": {
    "executionInfo": {
     "elapsed": 404,
     "status": "ok",
     "timestamp": 1639223680068,
     "user": {
      "displayName": "David Auger",
      "photoUrl": "https://lh3.googleusercontent.com/a-/AOh14GiHtpJKxbhjnqN59O73SiY_gvGeDS2NEUsE9V1YUQ=s64",
      "userId": "03825696780836238935"
     },
     "user_tz": -60
    },
    "id": "-fu82Z7xTBtC"
   },
   "outputs": [],
   "source": [
    "ip_table2 = IP_table(lignes2)"
   ]
  },
  {
   "cell_type": "markdown",
   "metadata": {
    "id": "H8u1HiiItTF8"
   },
   "source": [
    "**Protocole SYNDICATE : système sécurisé décentralisé**  \n",
    "A partir de maintenant, on va plus loin dans la sécurité. On suppose que chaque\n",
    "machine ne répondra qu'aux demandes d'éxécution de la machine précédente. Pour cela, chaque machine possèdera un mot de passe permettant de demander à\n",
    "la machine suivante d'exécuter une fonction, mais elle ne transmettra jamais ce mot de passe à personne.\n",
    "\n",
    "En pratique, on ne va pas simuler ce mot de passe, mais on va écrire des codes où seulement la machine précédente a le droit de faire une demande d'exécution sur la machine suivante.\n",
    "\n",
    "Ainsi, personne ne connaît les adresses des machines dans l'ordre. La table `ip_table` connaît les adresses de nombreuses machines (et en réalité il y aurait d'autres machines n'ayant rien à voir avec notre réseau) mais ne sait pas précisément quelles sont les machines du réseau ni dans quelle ordre elles sont chaînées, à l'exception de la machine FIRST."
   ]
  },
  {
   "cell_type": "markdown",
   "metadata": {
    "id": "Mzxp16CFW1fj"
   },
   "source": [
    "**Un exemple**\n",
    "\n",
    "On compte le nombre des lettres total du système, de façon récursive. On écrit une fonction que l'on demandera à chaque machine d'exécuter. Cette fonction va demander à la machine suivante le nombre de lettres à partir d'elle, et ajouter le nombre de lettres de la machine courante. Pour simplifier l'écriture, on passe ip_table2 en paramètre global."
   ]
  },
  {
   "cell_type": "code",
   "execution_count": null,
   "metadata": {
    "executionInfo": {
     "elapsed": 525,
     "status": "ok",
     "timestamp": 1639224355216,
     "user": {
      "displayName": "David Auger",
      "photoUrl": "https://lh3.googleusercontent.com/a-/AOh14GiHtpJKxbhjnqN59O73SiY_gvGeDS2NEUsE9V1YUQ=s64",
      "userId": "03825696780836238935"
     },
     "user_tz": -60
    },
    "id": "PIcJsHi2H-fj"
   },
   "outputs": [],
   "source": [
    "def total_lettres(machine) :\n",
    "    \"\"\"renvoie le nombre total de lettres dans toutes les cargaisons à partir de la machine donnée\"\"\"\n",
    "    if machine.next_ip == 'LAST':\n",
    "        lettres_suivantes = 0\n",
    "    else:\n",
    "        lettres_suivantes = demande_execution(ip_table2, machine.next_ip, total_lettres, [])\n",
    "    return lettres_suivantes + len(machine.cargo) + 1\n",
    "\n",
    "def nb_lettres_total_recursif(ip_table):\n",
    "    \"\"\"affiche le nombre total de lettres à partir de first\"\"\"\n",
    "    return demande_execution(ip_table, 'FIRST', total_lettres, [])"
   ]
  },
  {
   "cell_type": "markdown",
   "metadata": {
    "id": "n9YISKLOoeBy"
   },
   "source": [
    "        "
   ]
  },
  {
   "cell_type": "code",
   "execution_count": null,
   "metadata": {
    "colab": {
     "base_uri": "https://localhost:8080/"
    },
    "executionInfo": {
     "elapsed": 353,
     "status": "ok",
     "timestamp": 1639224357300,
     "user": {
      "displayName": "David Auger",
      "photoUrl": "https://lh3.googleusercontent.com/a-/AOh14GiHtpJKxbhjnqN59O73SiY_gvGeDS2NEUsE9V1YUQ=s64",
      "userId": "03825696780836238935"
     },
     "user_tz": -60
    },
    "id": "9u9APz6DXthx",
    "outputId": "a4f543f4-2233-426c-e82b-a2c9f2df6b59"
   },
   "outputs": [],
   "source": [
    "print(nb_lettres_total_recursif(ip_table2))\n",
    "#verification\n",
    "print(nb_lettres(ip_table2))"
   ]
  },
  {
   "cell_type": "markdown",
   "metadata": {
    "id": "Re-704MEYwPf"
   },
   "source": [
    "**TODO** En suivant le protocole SYNDICATE, réécrivez certaines des fonctions précédentes de votre choix de façon récursive et sécurisée.\n",
    "\n",
    "A ce point, vous êtes libres d'apporter  les modifications de votre choix au code, de façon à l'améliorer, le sécuriser, avoir une simulation plus réaliste (par exemple, implémenter les mots de passe ?). Si les modifications sont trop importantes, redéfinissez les classes et fonctions utilisées dans une partie à part."
   ]
  },
  {
   "cell_type": "code",
   "execution_count": null,
   "metadata": {
    "id": "u8nOgVK1ZRVI"
   },
   "outputs": [],
   "source": []
  }
 ],
 "metadata": {
  "colab": {
   "authorship_tag": "ABX9TyN9qxsLA3HCYr3cSIUjTRgo",
   "collapsed_sections": [],
   "name": "syndicate.ipynb",
   "provenance": []
  },
  "kernelspec": {
   "display_name": "Python 3",
   "language": "python",
   "name": "python3"
  },
  "language_info": {
   "codemirror_mode": {
    "name": "ipython",
    "version": 3
   },
   "file_extension": ".py",
   "mimetype": "text/x-python",
   "name": "python",
   "nbconvert_exporter": "python",
   "pygments_lexer": "ipython3",
   "version": "3.8.10"
  }
 },
 "nbformat": 4,
 "nbformat_minor": 1
}
